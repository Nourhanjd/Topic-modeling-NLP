{
  "nbformat": 4,
  "nbformat_minor": 0,
  "metadata": {
    "colab": {
      "provenance": []
    },
    "kernelspec": {
      "name": "python3",
      "display_name": "Python 3"
    },
    "language_info": {
      "name": "python"
    },
    "widgets": {
      "application/vnd.jupyter.widget-state+json": {
        "3efccf659c1e418fad1dfd068110c727": {
          "model_module": "@jupyter-widgets/controls",
          "model_name": "HBoxModel",
          "model_module_version": "1.5.0",
          "state": {
            "_dom_classes": [],
            "_model_module": "@jupyter-widgets/controls",
            "_model_module_version": "1.5.0",
            "_model_name": "HBoxModel",
            "_view_count": null,
            "_view_module": "@jupyter-widgets/controls",
            "_view_module_version": "1.5.0",
            "_view_name": "HBoxView",
            "box_style": "",
            "children": [
              "IPY_MODEL_cdd3c21140a2419fb96d01dd30bcf603",
              "IPY_MODEL_98d25ac04600479da28265c603a4d4fe",
              "IPY_MODEL_4c4534f658364c6f8ba5ad04e5839c25"
            ],
            "layout": "IPY_MODEL_191cb050c57d446ea629a6be8f17efbb"
          }
        },
        "cdd3c21140a2419fb96d01dd30bcf603": {
          "model_module": "@jupyter-widgets/controls",
          "model_name": "HTMLModel",
          "model_module_version": "1.5.0",
          "state": {
            "_dom_classes": [],
            "_model_module": "@jupyter-widgets/controls",
            "_model_module_version": "1.5.0",
            "_model_name": "HTMLModel",
            "_view_count": null,
            "_view_module": "@jupyter-widgets/controls",
            "_view_module_version": "1.5.0",
            "_view_name": "HTMLView",
            "description": "",
            "description_tooltip": null,
            "layout": "IPY_MODEL_83e36f8f19074a96bce2833b3d7e5b48",
            "placeholder": "​",
            "style": "IPY_MODEL_506320486ab34ce4be629f7283af03f3",
            "value": "Downloading readme: 100%"
          }
        },
        "98d25ac04600479da28265c603a4d4fe": {
          "model_module": "@jupyter-widgets/controls",
          "model_name": "FloatProgressModel",
          "model_module_version": "1.5.0",
          "state": {
            "_dom_classes": [],
            "_model_module": "@jupyter-widgets/controls",
            "_model_module_version": "1.5.0",
            "_model_name": "FloatProgressModel",
            "_view_count": null,
            "_view_module": "@jupyter-widgets/controls",
            "_view_module_version": "1.5.0",
            "_view_name": "ProgressView",
            "bar_style": "success",
            "description": "",
            "description_tooltip": null,
            "layout": "IPY_MODEL_b7f5f7c82bb541afb145dea074740b09",
            "max": 4918,
            "min": 0,
            "orientation": "horizontal",
            "style": "IPY_MODEL_1820bd49d312428b8bfdacb4406f0914",
            "value": 4918
          }
        },
        "4c4534f658364c6f8ba5ad04e5839c25": {
          "model_module": "@jupyter-widgets/controls",
          "model_name": "HTMLModel",
          "model_module_version": "1.5.0",
          "state": {
            "_dom_classes": [],
            "_model_module": "@jupyter-widgets/controls",
            "_model_module_version": "1.5.0",
            "_model_name": "HTMLModel",
            "_view_count": null,
            "_view_module": "@jupyter-widgets/controls",
            "_view_module_version": "1.5.0",
            "_view_name": "HTMLView",
            "description": "",
            "description_tooltip": null,
            "layout": "IPY_MODEL_75668f6028f847c1a5c8891240299ecb",
            "placeholder": "​",
            "style": "IPY_MODEL_fb0dc8acfccc4b55aff7c385b8b4a30d",
            "value": " 4.92k/4.92k [00:00&lt;00:00, 186kB/s]"
          }
        },
        "191cb050c57d446ea629a6be8f17efbb": {
          "model_module": "@jupyter-widgets/base",
          "model_name": "LayoutModel",
          "model_module_version": "1.2.0",
          "state": {
            "_model_module": "@jupyter-widgets/base",
            "_model_module_version": "1.2.0",
            "_model_name": "LayoutModel",
            "_view_count": null,
            "_view_module": "@jupyter-widgets/base",
            "_view_module_version": "1.2.0",
            "_view_name": "LayoutView",
            "align_content": null,
            "align_items": null,
            "align_self": null,
            "border": null,
            "bottom": null,
            "display": null,
            "flex": null,
            "flex_flow": null,
            "grid_area": null,
            "grid_auto_columns": null,
            "grid_auto_flow": null,
            "grid_auto_rows": null,
            "grid_column": null,
            "grid_gap": null,
            "grid_row": null,
            "grid_template_areas": null,
            "grid_template_columns": null,
            "grid_template_rows": null,
            "height": null,
            "justify_content": null,
            "justify_items": null,
            "left": null,
            "margin": null,
            "max_height": null,
            "max_width": null,
            "min_height": null,
            "min_width": null,
            "object_fit": null,
            "object_position": null,
            "order": null,
            "overflow": null,
            "overflow_x": null,
            "overflow_y": null,
            "padding": null,
            "right": null,
            "top": null,
            "visibility": null,
            "width": null
          }
        },
        "83e36f8f19074a96bce2833b3d7e5b48": {
          "model_module": "@jupyter-widgets/base",
          "model_name": "LayoutModel",
          "model_module_version": "1.2.0",
          "state": {
            "_model_module": "@jupyter-widgets/base",
            "_model_module_version": "1.2.0",
            "_model_name": "LayoutModel",
            "_view_count": null,
            "_view_module": "@jupyter-widgets/base",
            "_view_module_version": "1.2.0",
            "_view_name": "LayoutView",
            "align_content": null,
            "align_items": null,
            "align_self": null,
            "border": null,
            "bottom": null,
            "display": null,
            "flex": null,
            "flex_flow": null,
            "grid_area": null,
            "grid_auto_columns": null,
            "grid_auto_flow": null,
            "grid_auto_rows": null,
            "grid_column": null,
            "grid_gap": null,
            "grid_row": null,
            "grid_template_areas": null,
            "grid_template_columns": null,
            "grid_template_rows": null,
            "height": null,
            "justify_content": null,
            "justify_items": null,
            "left": null,
            "margin": null,
            "max_height": null,
            "max_width": null,
            "min_height": null,
            "min_width": null,
            "object_fit": null,
            "object_position": null,
            "order": null,
            "overflow": null,
            "overflow_x": null,
            "overflow_y": null,
            "padding": null,
            "right": null,
            "top": null,
            "visibility": null,
            "width": null
          }
        },
        "506320486ab34ce4be629f7283af03f3": {
          "model_module": "@jupyter-widgets/controls",
          "model_name": "DescriptionStyleModel",
          "model_module_version": "1.5.0",
          "state": {
            "_model_module": "@jupyter-widgets/controls",
            "_model_module_version": "1.5.0",
            "_model_name": "DescriptionStyleModel",
            "_view_count": null,
            "_view_module": "@jupyter-widgets/base",
            "_view_module_version": "1.2.0",
            "_view_name": "StyleView",
            "description_width": ""
          }
        },
        "b7f5f7c82bb541afb145dea074740b09": {
          "model_module": "@jupyter-widgets/base",
          "model_name": "LayoutModel",
          "model_module_version": "1.2.0",
          "state": {
            "_model_module": "@jupyter-widgets/base",
            "_model_module_version": "1.2.0",
            "_model_name": "LayoutModel",
            "_view_count": null,
            "_view_module": "@jupyter-widgets/base",
            "_view_module_version": "1.2.0",
            "_view_name": "LayoutView",
            "align_content": null,
            "align_items": null,
            "align_self": null,
            "border": null,
            "bottom": null,
            "display": null,
            "flex": null,
            "flex_flow": null,
            "grid_area": null,
            "grid_auto_columns": null,
            "grid_auto_flow": null,
            "grid_auto_rows": null,
            "grid_column": null,
            "grid_gap": null,
            "grid_row": null,
            "grid_template_areas": null,
            "grid_template_columns": null,
            "grid_template_rows": null,
            "height": null,
            "justify_content": null,
            "justify_items": null,
            "left": null,
            "margin": null,
            "max_height": null,
            "max_width": null,
            "min_height": null,
            "min_width": null,
            "object_fit": null,
            "object_position": null,
            "order": null,
            "overflow": null,
            "overflow_x": null,
            "overflow_y": null,
            "padding": null,
            "right": null,
            "top": null,
            "visibility": null,
            "width": null
          }
        },
        "1820bd49d312428b8bfdacb4406f0914": {
          "model_module": "@jupyter-widgets/controls",
          "model_name": "ProgressStyleModel",
          "model_module_version": "1.5.0",
          "state": {
            "_model_module": "@jupyter-widgets/controls",
            "_model_module_version": "1.5.0",
            "_model_name": "ProgressStyleModel",
            "_view_count": null,
            "_view_module": "@jupyter-widgets/base",
            "_view_module_version": "1.2.0",
            "_view_name": "StyleView",
            "bar_color": null,
            "description_width": ""
          }
        },
        "75668f6028f847c1a5c8891240299ecb": {
          "model_module": "@jupyter-widgets/base",
          "model_name": "LayoutModel",
          "model_module_version": "1.2.0",
          "state": {
            "_model_module": "@jupyter-widgets/base",
            "_model_module_version": "1.2.0",
            "_model_name": "LayoutModel",
            "_view_count": null,
            "_view_module": "@jupyter-widgets/base",
            "_view_module_version": "1.2.0",
            "_view_name": "LayoutView",
            "align_content": null,
            "align_items": null,
            "align_self": null,
            "border": null,
            "bottom": null,
            "display": null,
            "flex": null,
            "flex_flow": null,
            "grid_area": null,
            "grid_auto_columns": null,
            "grid_auto_flow": null,
            "grid_auto_rows": null,
            "grid_column": null,
            "grid_gap": null,
            "grid_row": null,
            "grid_template_areas": null,
            "grid_template_columns": null,
            "grid_template_rows": null,
            "height": null,
            "justify_content": null,
            "justify_items": null,
            "left": null,
            "margin": null,
            "max_height": null,
            "max_width": null,
            "min_height": null,
            "min_width": null,
            "object_fit": null,
            "object_position": null,
            "order": null,
            "overflow": null,
            "overflow_x": null,
            "overflow_y": null,
            "padding": null,
            "right": null,
            "top": null,
            "visibility": null,
            "width": null
          }
        },
        "fb0dc8acfccc4b55aff7c385b8b4a30d": {
          "model_module": "@jupyter-widgets/controls",
          "model_name": "DescriptionStyleModel",
          "model_module_version": "1.5.0",
          "state": {
            "_model_module": "@jupyter-widgets/controls",
            "_model_module_version": "1.5.0",
            "_model_name": "DescriptionStyleModel",
            "_view_count": null,
            "_view_module": "@jupyter-widgets/base",
            "_view_module_version": "1.2.0",
            "_view_name": "StyleView",
            "description_width": ""
          }
        },
        "cb539f0ed7044c88825d04262f8f967a": {
          "model_module": "@jupyter-widgets/controls",
          "model_name": "HBoxModel",
          "model_module_version": "1.5.0",
          "state": {
            "_dom_classes": [],
            "_model_module": "@jupyter-widgets/controls",
            "_model_module_version": "1.5.0",
            "_model_name": "HBoxModel",
            "_view_count": null,
            "_view_module": "@jupyter-widgets/controls",
            "_view_module_version": "1.5.0",
            "_view_name": "HBoxView",
            "box_style": "",
            "children": [
              "IPY_MODEL_b609d4e0a649454c867faa21506a8022",
              "IPY_MODEL_19ba08704e4d435792c18344dcd3e3ea",
              "IPY_MODEL_6af901f86bd34993acf8eb368a87251e"
            ],
            "layout": "IPY_MODEL_b3b66db3dbb044469589fd08d17f86df"
          }
        },
        "b609d4e0a649454c867faa21506a8022": {
          "model_module": "@jupyter-widgets/controls",
          "model_name": "HTMLModel",
          "model_module_version": "1.5.0",
          "state": {
            "_dom_classes": [],
            "_model_module": "@jupyter-widgets/controls",
            "_model_module_version": "1.5.0",
            "_model_name": "HTMLModel",
            "_view_count": null,
            "_view_module": "@jupyter-widgets/controls",
            "_view_module_version": "1.5.0",
            "_view_name": "HTMLView",
            "description": "",
            "description_tooltip": null,
            "layout": "IPY_MODEL_d652dfaa6d3240b29cb1f630d058ca74",
            "placeholder": "​",
            "style": "IPY_MODEL_b3b2acead67f461098dedf0677ef4e18",
            "value": "Downloading data: 100%"
          }
        },
        "19ba08704e4d435792c18344dcd3e3ea": {
          "model_module": "@jupyter-widgets/controls",
          "model_name": "FloatProgressModel",
          "model_module_version": "1.5.0",
          "state": {
            "_dom_classes": [],
            "_model_module": "@jupyter-widgets/controls",
            "_model_module_version": "1.5.0",
            "_model_name": "FloatProgressModel",
            "_view_count": null,
            "_view_module": "@jupyter-widgets/controls",
            "_view_module_version": "1.5.0",
            "_view_name": "ProgressView",
            "bar_style": "success",
            "description": "",
            "description_tooltip": null,
            "layout": "IPY_MODEL_6637e533e1a84dd8a4eb258e7763f258",
            "max": 4129977,
            "min": 0,
            "orientation": "horizontal",
            "style": "IPY_MODEL_46738fffbfa94394a10767e283001229",
            "value": 4129977
          }
        },
        "6af901f86bd34993acf8eb368a87251e": {
          "model_module": "@jupyter-widgets/controls",
          "model_name": "HTMLModel",
          "model_module_version": "1.5.0",
          "state": {
            "_dom_classes": [],
            "_model_module": "@jupyter-widgets/controls",
            "_model_module_version": "1.5.0",
            "_model_name": "HTMLModel",
            "_view_count": null,
            "_view_module": "@jupyter-widgets/controls",
            "_view_module_version": "1.5.0",
            "_view_name": "HTMLView",
            "description": "",
            "description_tooltip": null,
            "layout": "IPY_MODEL_35fd9256f78a4c7ea49f2568fcbb700e",
            "placeholder": "​",
            "style": "IPY_MODEL_c9dfad027e6c438798a4e1464aca8343",
            "value": " 4.13M/4.13M [00:00&lt;00:00, 13.9MB/s]"
          }
        },
        "b3b66db3dbb044469589fd08d17f86df": {
          "model_module": "@jupyter-widgets/base",
          "model_name": "LayoutModel",
          "model_module_version": "1.2.0",
          "state": {
            "_model_module": "@jupyter-widgets/base",
            "_model_module_version": "1.2.0",
            "_model_name": "LayoutModel",
            "_view_count": null,
            "_view_module": "@jupyter-widgets/base",
            "_view_module_version": "1.2.0",
            "_view_name": "LayoutView",
            "align_content": null,
            "align_items": null,
            "align_self": null,
            "border": null,
            "bottom": null,
            "display": null,
            "flex": null,
            "flex_flow": null,
            "grid_area": null,
            "grid_auto_columns": null,
            "grid_auto_flow": null,
            "grid_auto_rows": null,
            "grid_column": null,
            "grid_gap": null,
            "grid_row": null,
            "grid_template_areas": null,
            "grid_template_columns": null,
            "grid_template_rows": null,
            "height": null,
            "justify_content": null,
            "justify_items": null,
            "left": null,
            "margin": null,
            "max_height": null,
            "max_width": null,
            "min_height": null,
            "min_width": null,
            "object_fit": null,
            "object_position": null,
            "order": null,
            "overflow": null,
            "overflow_x": null,
            "overflow_y": null,
            "padding": null,
            "right": null,
            "top": null,
            "visibility": null,
            "width": null
          }
        },
        "d652dfaa6d3240b29cb1f630d058ca74": {
          "model_module": "@jupyter-widgets/base",
          "model_name": "LayoutModel",
          "model_module_version": "1.2.0",
          "state": {
            "_model_module": "@jupyter-widgets/base",
            "_model_module_version": "1.2.0",
            "_model_name": "LayoutModel",
            "_view_count": null,
            "_view_module": "@jupyter-widgets/base",
            "_view_module_version": "1.2.0",
            "_view_name": "LayoutView",
            "align_content": null,
            "align_items": null,
            "align_self": null,
            "border": null,
            "bottom": null,
            "display": null,
            "flex": null,
            "flex_flow": null,
            "grid_area": null,
            "grid_auto_columns": null,
            "grid_auto_flow": null,
            "grid_auto_rows": null,
            "grid_column": null,
            "grid_gap": null,
            "grid_row": null,
            "grid_template_areas": null,
            "grid_template_columns": null,
            "grid_template_rows": null,
            "height": null,
            "justify_content": null,
            "justify_items": null,
            "left": null,
            "margin": null,
            "max_height": null,
            "max_width": null,
            "min_height": null,
            "min_width": null,
            "object_fit": null,
            "object_position": null,
            "order": null,
            "overflow": null,
            "overflow_x": null,
            "overflow_y": null,
            "padding": null,
            "right": null,
            "top": null,
            "visibility": null,
            "width": null
          }
        },
        "b3b2acead67f461098dedf0677ef4e18": {
          "model_module": "@jupyter-widgets/controls",
          "model_name": "DescriptionStyleModel",
          "model_module_version": "1.5.0",
          "state": {
            "_model_module": "@jupyter-widgets/controls",
            "_model_module_version": "1.5.0",
            "_model_name": "DescriptionStyleModel",
            "_view_count": null,
            "_view_module": "@jupyter-widgets/base",
            "_view_module_version": "1.2.0",
            "_view_name": "StyleView",
            "description_width": ""
          }
        },
        "6637e533e1a84dd8a4eb258e7763f258": {
          "model_module": "@jupyter-widgets/base",
          "model_name": "LayoutModel",
          "model_module_version": "1.2.0",
          "state": {
            "_model_module": "@jupyter-widgets/base",
            "_model_module_version": "1.2.0",
            "_model_name": "LayoutModel",
            "_view_count": null,
            "_view_module": "@jupyter-widgets/base",
            "_view_module_version": "1.2.0",
            "_view_name": "LayoutView",
            "align_content": null,
            "align_items": null,
            "align_self": null,
            "border": null,
            "bottom": null,
            "display": null,
            "flex": null,
            "flex_flow": null,
            "grid_area": null,
            "grid_auto_columns": null,
            "grid_auto_flow": null,
            "grid_auto_rows": null,
            "grid_column": null,
            "grid_gap": null,
            "grid_row": null,
            "grid_template_areas": null,
            "grid_template_columns": null,
            "grid_template_rows": null,
            "height": null,
            "justify_content": null,
            "justify_items": null,
            "left": null,
            "margin": null,
            "max_height": null,
            "max_width": null,
            "min_height": null,
            "min_width": null,
            "object_fit": null,
            "object_position": null,
            "order": null,
            "overflow": null,
            "overflow_x": null,
            "overflow_y": null,
            "padding": null,
            "right": null,
            "top": null,
            "visibility": null,
            "width": null
          }
        },
        "46738fffbfa94394a10767e283001229": {
          "model_module": "@jupyter-widgets/controls",
          "model_name": "ProgressStyleModel",
          "model_module_version": "1.5.0",
          "state": {
            "_model_module": "@jupyter-widgets/controls",
            "_model_module_version": "1.5.0",
            "_model_name": "ProgressStyleModel",
            "_view_count": null,
            "_view_module": "@jupyter-widgets/base",
            "_view_module_version": "1.2.0",
            "_view_name": "StyleView",
            "bar_color": null,
            "description_width": ""
          }
        },
        "35fd9256f78a4c7ea49f2568fcbb700e": {
          "model_module": "@jupyter-widgets/base",
          "model_name": "LayoutModel",
          "model_module_version": "1.2.0",
          "state": {
            "_model_module": "@jupyter-widgets/base",
            "_model_module_version": "1.2.0",
            "_model_name": "LayoutModel",
            "_view_count": null,
            "_view_module": "@jupyter-widgets/base",
            "_view_module_version": "1.2.0",
            "_view_name": "LayoutView",
            "align_content": null,
            "align_items": null,
            "align_self": null,
            "border": null,
            "bottom": null,
            "display": null,
            "flex": null,
            "flex_flow": null,
            "grid_area": null,
            "grid_auto_columns": null,
            "grid_auto_flow": null,
            "grid_auto_rows": null,
            "grid_column": null,
            "grid_gap": null,
            "grid_row": null,
            "grid_template_areas": null,
            "grid_template_columns": null,
            "grid_template_rows": null,
            "height": null,
            "justify_content": null,
            "justify_items": null,
            "left": null,
            "margin": null,
            "max_height": null,
            "max_width": null,
            "min_height": null,
            "min_width": null,
            "object_fit": null,
            "object_position": null,
            "order": null,
            "overflow": null,
            "overflow_x": null,
            "overflow_y": null,
            "padding": null,
            "right": null,
            "top": null,
            "visibility": null,
            "width": null
          }
        },
        "c9dfad027e6c438798a4e1464aca8343": {
          "model_module": "@jupyter-widgets/controls",
          "model_name": "DescriptionStyleModel",
          "model_module_version": "1.5.0",
          "state": {
            "_model_module": "@jupyter-widgets/controls",
            "_model_module_version": "1.5.0",
            "_model_name": "DescriptionStyleModel",
            "_view_count": null,
            "_view_module": "@jupyter-widgets/base",
            "_view_module_version": "1.2.0",
            "_view_name": "StyleView",
            "description_width": ""
          }
        },
        "d74e25feb35f46b18fca1d9fa1bea19f": {
          "model_module": "@jupyter-widgets/controls",
          "model_name": "HBoxModel",
          "model_module_version": "1.5.0",
          "state": {
            "_dom_classes": [],
            "_model_module": "@jupyter-widgets/controls",
            "_model_module_version": "1.5.0",
            "_model_name": "HBoxModel",
            "_view_count": null,
            "_view_module": "@jupyter-widgets/controls",
            "_view_module_version": "1.5.0",
            "_view_name": "HBoxView",
            "box_style": "",
            "children": [
              "IPY_MODEL_c32e5eb5b252431b8f619ce8377019a6",
              "IPY_MODEL_eeeb2979c65247a1aa6ace749c06f78b",
              "IPY_MODEL_fa570998ec634e5e8128323fc6e4f792"
            ],
            "layout": "IPY_MODEL_e67a713e707b4af0bb4cc7ac17301593"
          }
        },
        "c32e5eb5b252431b8f619ce8377019a6": {
          "model_module": "@jupyter-widgets/controls",
          "model_name": "HTMLModel",
          "model_module_version": "1.5.0",
          "state": {
            "_dom_classes": [],
            "_model_module": "@jupyter-widgets/controls",
            "_model_module_version": "1.5.0",
            "_model_name": "HTMLModel",
            "_view_count": null,
            "_view_module": "@jupyter-widgets/controls",
            "_view_module_version": "1.5.0",
            "_view_name": "HTMLView",
            "description": "",
            "description_tooltip": null,
            "layout": "IPY_MODEL_7476e859082f47af8dd6e0e25760ab16",
            "placeholder": "​",
            "style": "IPY_MODEL_74b791765bc1416c87547a1b1151c6d5",
            "value": "Generating train split: 100%"
          }
        },
        "eeeb2979c65247a1aa6ace749c06f78b": {
          "model_module": "@jupyter-widgets/controls",
          "model_name": "FloatProgressModel",
          "model_module_version": "1.5.0",
          "state": {
            "_dom_classes": [],
            "_model_module": "@jupyter-widgets/controls",
            "_model_module_version": "1.5.0",
            "_model_name": "FloatProgressModel",
            "_view_count": null,
            "_view_module": "@jupyter-widgets/controls",
            "_view_module_version": "1.5.0",
            "_view_name": "ProgressView",
            "bar_style": "success",
            "description": "",
            "description_tooltip": null,
            "layout": "IPY_MODEL_df0b374482bb43e48de69e5bfbb61939",
            "max": 2775,
            "min": 0,
            "orientation": "horizontal",
            "style": "IPY_MODEL_5a25b049a0984310874dd64fedbfd364",
            "value": 2775
          }
        },
        "fa570998ec634e5e8128323fc6e4f792": {
          "model_module": "@jupyter-widgets/controls",
          "model_name": "HTMLModel",
          "model_module_version": "1.5.0",
          "state": {
            "_dom_classes": [],
            "_model_module": "@jupyter-widgets/controls",
            "_model_module_version": "1.5.0",
            "_model_name": "HTMLModel",
            "_view_count": null,
            "_view_module": "@jupyter-widgets/controls",
            "_view_module_version": "1.5.0",
            "_view_name": "HTMLView",
            "description": "",
            "description_tooltip": null,
            "layout": "IPY_MODEL_709f2e6632a94345868c1c44e3610a6e",
            "placeholder": "​",
            "style": "IPY_MODEL_92aee9069f7048dcad59991ebcb2cf9e",
            "value": " 2775/2775 [00:00&lt;00:00, 15009.33 examples/s]"
          }
        },
        "e67a713e707b4af0bb4cc7ac17301593": {
          "model_module": "@jupyter-widgets/base",
          "model_name": "LayoutModel",
          "model_module_version": "1.2.0",
          "state": {
            "_model_module": "@jupyter-widgets/base",
            "_model_module_version": "1.2.0",
            "_model_name": "LayoutModel",
            "_view_count": null,
            "_view_module": "@jupyter-widgets/base",
            "_view_module_version": "1.2.0",
            "_view_name": "LayoutView",
            "align_content": null,
            "align_items": null,
            "align_self": null,
            "border": null,
            "bottom": null,
            "display": null,
            "flex": null,
            "flex_flow": null,
            "grid_area": null,
            "grid_auto_columns": null,
            "grid_auto_flow": null,
            "grid_auto_rows": null,
            "grid_column": null,
            "grid_gap": null,
            "grid_row": null,
            "grid_template_areas": null,
            "grid_template_columns": null,
            "grid_template_rows": null,
            "height": null,
            "justify_content": null,
            "justify_items": null,
            "left": null,
            "margin": null,
            "max_height": null,
            "max_width": null,
            "min_height": null,
            "min_width": null,
            "object_fit": null,
            "object_position": null,
            "order": null,
            "overflow": null,
            "overflow_x": null,
            "overflow_y": null,
            "padding": null,
            "right": null,
            "top": null,
            "visibility": null,
            "width": null
          }
        },
        "7476e859082f47af8dd6e0e25760ab16": {
          "model_module": "@jupyter-widgets/base",
          "model_name": "LayoutModel",
          "model_module_version": "1.2.0",
          "state": {
            "_model_module": "@jupyter-widgets/base",
            "_model_module_version": "1.2.0",
            "_model_name": "LayoutModel",
            "_view_count": null,
            "_view_module": "@jupyter-widgets/base",
            "_view_module_version": "1.2.0",
            "_view_name": "LayoutView",
            "align_content": null,
            "align_items": null,
            "align_self": null,
            "border": null,
            "bottom": null,
            "display": null,
            "flex": null,
            "flex_flow": null,
            "grid_area": null,
            "grid_auto_columns": null,
            "grid_auto_flow": null,
            "grid_auto_rows": null,
            "grid_column": null,
            "grid_gap": null,
            "grid_row": null,
            "grid_template_areas": null,
            "grid_template_columns": null,
            "grid_template_rows": null,
            "height": null,
            "justify_content": null,
            "justify_items": null,
            "left": null,
            "margin": null,
            "max_height": null,
            "max_width": null,
            "min_height": null,
            "min_width": null,
            "object_fit": null,
            "object_position": null,
            "order": null,
            "overflow": null,
            "overflow_x": null,
            "overflow_y": null,
            "padding": null,
            "right": null,
            "top": null,
            "visibility": null,
            "width": null
          }
        },
        "74b791765bc1416c87547a1b1151c6d5": {
          "model_module": "@jupyter-widgets/controls",
          "model_name": "DescriptionStyleModel",
          "model_module_version": "1.5.0",
          "state": {
            "_model_module": "@jupyter-widgets/controls",
            "_model_module_version": "1.5.0",
            "_model_name": "DescriptionStyleModel",
            "_view_count": null,
            "_view_module": "@jupyter-widgets/base",
            "_view_module_version": "1.2.0",
            "_view_name": "StyleView",
            "description_width": ""
          }
        },
        "df0b374482bb43e48de69e5bfbb61939": {
          "model_module": "@jupyter-widgets/base",
          "model_name": "LayoutModel",
          "model_module_version": "1.2.0",
          "state": {
            "_model_module": "@jupyter-widgets/base",
            "_model_module_version": "1.2.0",
            "_model_name": "LayoutModel",
            "_view_count": null,
            "_view_module": "@jupyter-widgets/base",
            "_view_module_version": "1.2.0",
            "_view_name": "LayoutView",
            "align_content": null,
            "align_items": null,
            "align_self": null,
            "border": null,
            "bottom": null,
            "display": null,
            "flex": null,
            "flex_flow": null,
            "grid_area": null,
            "grid_auto_columns": null,
            "grid_auto_flow": null,
            "grid_auto_rows": null,
            "grid_column": null,
            "grid_gap": null,
            "grid_row": null,
            "grid_template_areas": null,
            "grid_template_columns": null,
            "grid_template_rows": null,
            "height": null,
            "justify_content": null,
            "justify_items": null,
            "left": null,
            "margin": null,
            "max_height": null,
            "max_width": null,
            "min_height": null,
            "min_width": null,
            "object_fit": null,
            "object_position": null,
            "order": null,
            "overflow": null,
            "overflow_x": null,
            "overflow_y": null,
            "padding": null,
            "right": null,
            "top": null,
            "visibility": null,
            "width": null
          }
        },
        "5a25b049a0984310874dd64fedbfd364": {
          "model_module": "@jupyter-widgets/controls",
          "model_name": "ProgressStyleModel",
          "model_module_version": "1.5.0",
          "state": {
            "_model_module": "@jupyter-widgets/controls",
            "_model_module_version": "1.5.0",
            "_model_name": "ProgressStyleModel",
            "_view_count": null,
            "_view_module": "@jupyter-widgets/base",
            "_view_module_version": "1.2.0",
            "_view_name": "StyleView",
            "bar_color": null,
            "description_width": ""
          }
        },
        "709f2e6632a94345868c1c44e3610a6e": {
          "model_module": "@jupyter-widgets/base",
          "model_name": "LayoutModel",
          "model_module_version": "1.2.0",
          "state": {
            "_model_module": "@jupyter-widgets/base",
            "_model_module_version": "1.2.0",
            "_model_name": "LayoutModel",
            "_view_count": null,
            "_view_module": "@jupyter-widgets/base",
            "_view_module_version": "1.2.0",
            "_view_name": "LayoutView",
            "align_content": null,
            "align_items": null,
            "align_self": null,
            "border": null,
            "bottom": null,
            "display": null,
            "flex": null,
            "flex_flow": null,
            "grid_area": null,
            "grid_auto_columns": null,
            "grid_auto_flow": null,
            "grid_auto_rows": null,
            "grid_column": null,
            "grid_gap": null,
            "grid_row": null,
            "grid_template_areas": null,
            "grid_template_columns": null,
            "grid_template_rows": null,
            "height": null,
            "justify_content": null,
            "justify_items": null,
            "left": null,
            "margin": null,
            "max_height": null,
            "max_width": null,
            "min_height": null,
            "min_width": null,
            "object_fit": null,
            "object_position": null,
            "order": null,
            "overflow": null,
            "overflow_x": null,
            "overflow_y": null,
            "padding": null,
            "right": null,
            "top": null,
            "visibility": null,
            "width": null
          }
        },
        "92aee9069f7048dcad59991ebcb2cf9e": {
          "model_module": "@jupyter-widgets/controls",
          "model_name": "DescriptionStyleModel",
          "model_module_version": "1.5.0",
          "state": {
            "_model_module": "@jupyter-widgets/controls",
            "_model_module_version": "1.5.0",
            "_model_name": "DescriptionStyleModel",
            "_view_count": null,
            "_view_module": "@jupyter-widgets/base",
            "_view_module_version": "1.2.0",
            "_view_name": "StyleView",
            "description_width": ""
          }
        }
      }
    }
  },
  "cells": [
    {
      "cell_type": "markdown",
      "source": [
        "#Topic Modeling models evaluation, based on speed and output evaluation metrics"
      ],
      "metadata": {
        "id": "fRSrqZonsa2V"
      }
    },
    {
      "cell_type": "code",
      "execution_count": null,
      "metadata": {
        "id": "rrYWsla8vJ8I",
        "colab": {
          "base_uri": "https://localhost:8080/"
        },
        "outputId": "37e596ee-8922-4ac1-95b5-23470745bb84"
      },
      "outputs": [
        {
          "output_type": "stream",
          "name": "stdout",
          "text": [
            "Collecting datasets\n",
            "  Downloading datasets-2.19.0-py3-none-any.whl (542 kB)\n",
            "\u001b[2K     \u001b[90m━━━━━━━━━━━━━━━━━━━━━━━━━━━━━━━━━━━━━━━━\u001b[0m \u001b[32m542.0/542.0 kB\u001b[0m \u001b[31m3.6 MB/s\u001b[0m eta \u001b[36m0:00:00\u001b[0m\n",
            "\u001b[?25hRequirement already satisfied: filelock in /usr/local/lib/python3.10/dist-packages (from datasets) (3.13.4)\n",
            "Requirement already satisfied: numpy>=1.17 in /usr/local/lib/python3.10/dist-packages (from datasets) (1.25.2)\n",
            "Requirement already satisfied: pyarrow>=12.0.0 in /usr/local/lib/python3.10/dist-packages (from datasets) (14.0.2)\n",
            "Requirement already satisfied: pyarrow-hotfix in /usr/local/lib/python3.10/dist-packages (from datasets) (0.6)\n",
            "Collecting dill<0.3.9,>=0.3.0 (from datasets)\n",
            "  Downloading dill-0.3.8-py3-none-any.whl (116 kB)\n",
            "\u001b[2K     \u001b[90m━━━━━━━━━━━━━━━━━━━━━━━━━━━━━━━━━━━━━━━━\u001b[0m \u001b[32m116.3/116.3 kB\u001b[0m \u001b[31m10.4 MB/s\u001b[0m eta \u001b[36m0:00:00\u001b[0m\n",
            "\u001b[?25hRequirement already satisfied: pandas in /usr/local/lib/python3.10/dist-packages (from datasets) (2.0.3)\n",
            "Requirement already satisfied: requests>=2.19.0 in /usr/local/lib/python3.10/dist-packages (from datasets) (2.31.0)\n",
            "Requirement already satisfied: tqdm>=4.62.1 in /usr/local/lib/python3.10/dist-packages (from datasets) (4.66.2)\n",
            "Collecting xxhash (from datasets)\n",
            "  Downloading xxhash-3.4.1-cp310-cp310-manylinux_2_17_x86_64.manylinux2014_x86_64.whl (194 kB)\n",
            "\u001b[2K     \u001b[90m━━━━━━━━━━━━━━━━━━━━━━━━━━━━━━━━━━━━━━━━\u001b[0m \u001b[32m194.1/194.1 kB\u001b[0m \u001b[31m16.5 MB/s\u001b[0m eta \u001b[36m0:00:00\u001b[0m\n",
            "\u001b[?25hCollecting multiprocess (from datasets)\n",
            "  Downloading multiprocess-0.70.16-py310-none-any.whl (134 kB)\n",
            "\u001b[2K     \u001b[90m━━━━━━━━━━━━━━━━━━━━━━━━━━━━━━━━━━━━━━━━\u001b[0m \u001b[32m134.8/134.8 kB\u001b[0m \u001b[31m12.5 MB/s\u001b[0m eta \u001b[36m0:00:00\u001b[0m\n",
            "\u001b[?25hRequirement already satisfied: fsspec[http]<=2024.3.1,>=2023.1.0 in /usr/local/lib/python3.10/dist-packages (from datasets) (2023.6.0)\n",
            "Requirement already satisfied: aiohttp in /usr/local/lib/python3.10/dist-packages (from datasets) (3.9.5)\n",
            "Collecting huggingface-hub>=0.21.2 (from datasets)\n",
            "  Downloading huggingface_hub-0.22.2-py3-none-any.whl (388 kB)\n",
            "\u001b[2K     \u001b[90m━━━━━━━━━━━━━━━━━━━━━━━━━━━━━━━━━━━━━━━━\u001b[0m \u001b[32m388.9/388.9 kB\u001b[0m \u001b[31m26.8 MB/s\u001b[0m eta \u001b[36m0:00:00\u001b[0m\n",
            "\u001b[?25hRequirement already satisfied: packaging in /usr/local/lib/python3.10/dist-packages (from datasets) (24.0)\n",
            "Requirement already satisfied: pyyaml>=5.1 in /usr/local/lib/python3.10/dist-packages (from datasets) (6.0.1)\n",
            "Requirement already satisfied: aiosignal>=1.1.2 in /usr/local/lib/python3.10/dist-packages (from aiohttp->datasets) (1.3.1)\n",
            "Requirement already satisfied: attrs>=17.3.0 in /usr/local/lib/python3.10/dist-packages (from aiohttp->datasets) (23.2.0)\n",
            "Requirement already satisfied: frozenlist>=1.1.1 in /usr/local/lib/python3.10/dist-packages (from aiohttp->datasets) (1.4.1)\n",
            "Requirement already satisfied: multidict<7.0,>=4.5 in /usr/local/lib/python3.10/dist-packages (from aiohttp->datasets) (6.0.5)\n",
            "Requirement already satisfied: yarl<2.0,>=1.0 in /usr/local/lib/python3.10/dist-packages (from aiohttp->datasets) (1.9.4)\n",
            "Requirement already satisfied: async-timeout<5.0,>=4.0 in /usr/local/lib/python3.10/dist-packages (from aiohttp->datasets) (4.0.3)\n",
            "Requirement already satisfied: typing-extensions>=3.7.4.3 in /usr/local/lib/python3.10/dist-packages (from huggingface-hub>=0.21.2->datasets) (4.11.0)\n",
            "Requirement already satisfied: charset-normalizer<4,>=2 in /usr/local/lib/python3.10/dist-packages (from requests>=2.19.0->datasets) (3.3.2)\n",
            "Requirement already satisfied: idna<4,>=2.5 in /usr/local/lib/python3.10/dist-packages (from requests>=2.19.0->datasets) (3.7)\n",
            "Requirement already satisfied: urllib3<3,>=1.21.1 in /usr/local/lib/python3.10/dist-packages (from requests>=2.19.0->datasets) (2.0.7)\n",
            "Requirement already satisfied: certifi>=2017.4.17 in /usr/local/lib/python3.10/dist-packages (from requests>=2.19.0->datasets) (2024.2.2)\n",
            "Requirement already satisfied: python-dateutil>=2.8.2 in /usr/local/lib/python3.10/dist-packages (from pandas->datasets) (2.8.2)\n",
            "Requirement already satisfied: pytz>=2020.1 in /usr/local/lib/python3.10/dist-packages (from pandas->datasets) (2023.4)\n",
            "Requirement already satisfied: tzdata>=2022.1 in /usr/local/lib/python3.10/dist-packages (from pandas->datasets) (2024.1)\n",
            "Requirement already satisfied: six>=1.5 in /usr/local/lib/python3.10/dist-packages (from python-dateutil>=2.8.2->pandas->datasets) (1.16.0)\n",
            "Installing collected packages: xxhash, dill, multiprocess, huggingface-hub, datasets\n",
            "  Attempting uninstall: huggingface-hub\n",
            "    Found existing installation: huggingface-hub 0.20.3\n",
            "    Uninstalling huggingface-hub-0.20.3:\n",
            "      Successfully uninstalled huggingface-hub-0.20.3\n",
            "Successfully installed datasets-2.19.0 dill-0.3.8 huggingface-hub-0.22.2 multiprocess-0.70.16 xxhash-3.4.1\n",
            "Requirement already satisfied: datasets in /usr/local/lib/python3.10/dist-packages (2.19.0)\n",
            "Requirement already satisfied: filelock in /usr/local/lib/python3.10/dist-packages (from datasets) (3.13.4)\n",
            "Requirement already satisfied: numpy>=1.17 in /usr/local/lib/python3.10/dist-packages (from datasets) (1.25.2)\n",
            "Requirement already satisfied: pyarrow>=12.0.0 in /usr/local/lib/python3.10/dist-packages (from datasets) (14.0.2)\n",
            "Requirement already satisfied: pyarrow-hotfix in /usr/local/lib/python3.10/dist-packages (from datasets) (0.6)\n",
            "Requirement already satisfied: dill<0.3.9,>=0.3.0 in /usr/local/lib/python3.10/dist-packages (from datasets) (0.3.8)\n",
            "Requirement already satisfied: pandas in /usr/local/lib/python3.10/dist-packages (from datasets) (2.0.3)\n",
            "Requirement already satisfied: requests>=2.19.0 in /usr/local/lib/python3.10/dist-packages (from datasets) (2.31.0)\n",
            "Requirement already satisfied: tqdm>=4.62.1 in /usr/local/lib/python3.10/dist-packages (from datasets) (4.66.2)\n",
            "Requirement already satisfied: xxhash in /usr/local/lib/python3.10/dist-packages (from datasets) (3.4.1)\n",
            "Requirement already satisfied: multiprocess in /usr/local/lib/python3.10/dist-packages (from datasets) (0.70.16)\n",
            "Requirement already satisfied: fsspec[http]<=2024.3.1,>=2023.1.0 in /usr/local/lib/python3.10/dist-packages (from datasets) (2023.6.0)\n",
            "Requirement already satisfied: aiohttp in /usr/local/lib/python3.10/dist-packages (from datasets) (3.9.5)\n",
            "Requirement already satisfied: huggingface-hub>=0.21.2 in /usr/local/lib/python3.10/dist-packages (from datasets) (0.22.2)\n",
            "Requirement already satisfied: packaging in /usr/local/lib/python3.10/dist-packages (from datasets) (24.0)\n",
            "Requirement already satisfied: pyyaml>=5.1 in /usr/local/lib/python3.10/dist-packages (from datasets) (6.0.1)\n",
            "Requirement already satisfied: aiosignal>=1.1.2 in /usr/local/lib/python3.10/dist-packages (from aiohttp->datasets) (1.3.1)\n",
            "Requirement already satisfied: attrs>=17.3.0 in /usr/local/lib/python3.10/dist-packages (from aiohttp->datasets) (23.2.0)\n",
            "Requirement already satisfied: frozenlist>=1.1.1 in /usr/local/lib/python3.10/dist-packages (from aiohttp->datasets) (1.4.1)\n",
            "Requirement already satisfied: multidict<7.0,>=4.5 in /usr/local/lib/python3.10/dist-packages (from aiohttp->datasets) (6.0.5)\n",
            "Requirement already satisfied: yarl<2.0,>=1.0 in /usr/local/lib/python3.10/dist-packages (from aiohttp->datasets) (1.9.4)\n",
            "Requirement already satisfied: async-timeout<5.0,>=4.0 in /usr/local/lib/python3.10/dist-packages (from aiohttp->datasets) (4.0.3)\n",
            "Requirement already satisfied: typing-extensions>=3.7.4.3 in /usr/local/lib/python3.10/dist-packages (from huggingface-hub>=0.21.2->datasets) (4.11.0)\n",
            "Requirement already satisfied: charset-normalizer<4,>=2 in /usr/local/lib/python3.10/dist-packages (from requests>=2.19.0->datasets) (3.3.2)\n",
            "Requirement already satisfied: idna<4,>=2.5 in /usr/local/lib/python3.10/dist-packages (from requests>=2.19.0->datasets) (3.7)\n",
            "Requirement already satisfied: urllib3<3,>=1.21.1 in /usr/local/lib/python3.10/dist-packages (from requests>=2.19.0->datasets) (2.0.7)\n",
            "Requirement already satisfied: certifi>=2017.4.17 in /usr/local/lib/python3.10/dist-packages (from requests>=2.19.0->datasets) (2024.2.2)\n",
            "Requirement already satisfied: python-dateutil>=2.8.2 in /usr/local/lib/python3.10/dist-packages (from pandas->datasets) (2.8.2)\n",
            "Requirement already satisfied: pytz>=2020.1 in /usr/local/lib/python3.10/dist-packages (from pandas->datasets) (2023.4)\n",
            "Requirement already satisfied: tzdata>=2022.1 in /usr/local/lib/python3.10/dist-packages (from pandas->datasets) (2024.1)\n",
            "Requirement already satisfied: six>=1.5 in /usr/local/lib/python3.10/dist-packages (from python-dateutil>=2.8.2->pandas->datasets) (1.16.0)\n"
          ]
        }
      ],
      "source": [
        "!pip install datasets\n",
        "!pip install --upgrade datasets\n",
        "\n"
      ]
    },
    {
      "cell_type": "code",
      "source": [
        "from datasets import load_dataset\n",
        "\n",
        "dataset = load_dataset(\"nbertagnolli/counsel-chat\")\n"
      ],
      "metadata": {
        "colab": {
          "base_uri": "https://localhost:8080/",
          "height": 281,
          "referenced_widgets": [
            "3efccf659c1e418fad1dfd068110c727",
            "cdd3c21140a2419fb96d01dd30bcf603",
            "98d25ac04600479da28265c603a4d4fe",
            "4c4534f658364c6f8ba5ad04e5839c25",
            "191cb050c57d446ea629a6be8f17efbb",
            "83e36f8f19074a96bce2833b3d7e5b48",
            "506320486ab34ce4be629f7283af03f3",
            "b7f5f7c82bb541afb145dea074740b09",
            "1820bd49d312428b8bfdacb4406f0914",
            "75668f6028f847c1a5c8891240299ecb",
            "fb0dc8acfccc4b55aff7c385b8b4a30d",
            "cb539f0ed7044c88825d04262f8f967a",
            "b609d4e0a649454c867faa21506a8022",
            "19ba08704e4d435792c18344dcd3e3ea",
            "6af901f86bd34993acf8eb368a87251e",
            "b3b66db3dbb044469589fd08d17f86df",
            "d652dfaa6d3240b29cb1f630d058ca74",
            "b3b2acead67f461098dedf0677ef4e18",
            "6637e533e1a84dd8a4eb258e7763f258",
            "46738fffbfa94394a10767e283001229",
            "35fd9256f78a4c7ea49f2568fcbb700e",
            "c9dfad027e6c438798a4e1464aca8343",
            "d74e25feb35f46b18fca1d9fa1bea19f",
            "c32e5eb5b252431b8f619ce8377019a6",
            "eeeb2979c65247a1aa6ace749c06f78b",
            "fa570998ec634e5e8128323fc6e4f792",
            "e67a713e707b4af0bb4cc7ac17301593",
            "7476e859082f47af8dd6e0e25760ab16",
            "74b791765bc1416c87547a1b1151c6d5",
            "df0b374482bb43e48de69e5bfbb61939",
            "5a25b049a0984310874dd64fedbfd364",
            "709f2e6632a94345868c1c44e3610a6e",
            "92aee9069f7048dcad59991ebcb2cf9e"
          ]
        },
        "id": "W_uIwEs_wA31",
        "outputId": "4c438009-7c9a-4c9a-9335-adf42256db90"
      },
      "execution_count": null,
      "outputs": [
        {
          "output_type": "stream",
          "name": "stderr",
          "text": [
            "/usr/local/lib/python3.10/dist-packages/huggingface_hub/utils/_token.py:89: UserWarning: \n",
            "The secret `HF_TOKEN` does not exist in your Colab secrets.\n",
            "To authenticate with the Hugging Face Hub, create a token in your settings tab (https://huggingface.co/settings/tokens), set it as secret in your Google Colab and restart your session.\n",
            "You will be able to reuse this secret in all of your notebooks.\n",
            "Please note that authentication is recommended but still optional to access public models or datasets.\n",
            "  warnings.warn(\n"
          ]
        },
        {
          "output_type": "display_data",
          "data": {
            "text/plain": [
              "Downloading readme:   0%|          | 0.00/4.92k [00:00<?, ?B/s]"
            ],
            "application/vnd.jupyter.widget-view+json": {
              "version_major": 2,
              "version_minor": 0,
              "model_id": "3efccf659c1e418fad1dfd068110c727"
            }
          },
          "metadata": {}
        },
        {
          "output_type": "stream",
          "name": "stderr",
          "text": [
            "Repo card metadata block was not found. Setting CardData to empty.\n",
            "WARNING:huggingface_hub.repocard:Repo card metadata block was not found. Setting CardData to empty.\n"
          ]
        },
        {
          "output_type": "display_data",
          "data": {
            "text/plain": [
              "Downloading data:   0%|          | 0.00/4.13M [00:00<?, ?B/s]"
            ],
            "application/vnd.jupyter.widget-view+json": {
              "version_major": 2,
              "version_minor": 0,
              "model_id": "cb539f0ed7044c88825d04262f8f967a"
            }
          },
          "metadata": {}
        },
        {
          "output_type": "display_data",
          "data": {
            "text/plain": [
              "Generating train split:   0%|          | 0/2775 [00:00<?, ? examples/s]"
            ],
            "application/vnd.jupyter.widget-view+json": {
              "version_major": 2,
              "version_minor": 0,
              "model_id": "d74e25feb35f46b18fca1d9fa1bea19f"
            }
          },
          "metadata": {}
        }
      ]
    },
    {
      "cell_type": "code",
      "source": [
        "df = dataset[\"train\"].to_pandas()\n",
        "answer_text = df[\"answerText\"]\n",
        "question_text = df[\"questionText\"]\n",
        "\n",
        "print(\"Some first answers : \")\n",
        "print(answer_text.head())\n",
        "\n",
        "print(\"Some first questions : \")\n",
        "print(question_text.head())\n"
      ],
      "metadata": {
        "id": "nJNHNPIzxhsz",
        "colab": {
          "base_uri": "https://localhost:8080/"
        },
        "outputId": "1c1f95c7-e476-4452-a42c-4526bb342fe9"
      },
      "execution_count": null,
      "outputs": [
        {
          "output_type": "stream",
          "name": "stdout",
          "text": [
            "Some first answers : \n",
            "0    It is very common for people to have multiple ...\n",
            "1    I've never heard of someone having \"too many i...\n",
            "2    Absolutely not.  I strongly recommending worki...\n",
            "3    Let me start by saying there are never too man...\n",
            "4    I just want to acknowledge you for the courage...\n",
            "Name: answerText, dtype: object\n",
            "Some first questions : \n",
            "0    I have so many issues to address. I have a his...\n",
            "1    I have so many issues to address. I have a his...\n",
            "2    I have so many issues to address. I have a his...\n",
            "3    I have so many issues to address. I have a his...\n",
            "4    I have so many issues to address. I have a his...\n",
            "Name: questionText, dtype: object\n"
          ]
        }
      ]
    },
    {
      "cell_type": "code",
      "source": [
        "#Checking for missing values in each column\n",
        "miss_answer = answer_text.isnull()\n",
        "print(\"Number of missing values in the answer column is : \", miss_answer.sum())\n",
        "\n",
        "miss_quest = question_text.isnull()\n",
        "print(\"Number of missing values in the question column is : \", miss_quest.sum())\n"
      ],
      "metadata": {
        "colab": {
          "base_uri": "https://localhost:8080/"
        },
        "id": "2toFvI9i4GR9",
        "outputId": "ede390da-b4fc-4c43-c39d-46e0fb297e94"
      },
      "execution_count": null,
      "outputs": [
        {
          "output_type": "stream",
          "name": "stdout",
          "text": [
            "Number of missing values in the answer column is :  26\n",
            "Number of missing values in the question column is :  139\n"
          ]
        }
      ]
    },
    {
      "cell_type": "code",
      "source": [
        "#removing missing values :\n",
        "df_no_missing_values = df.dropna(subset=[\"questionText\",\"answerText\"])\n",
        "cleaned_new_answertext = df_no_missing_values[\"answerText\"]\n",
        "cleaned_new_questionText = df_no_missing_values[\"questionText\"]\n",
        "\n",
        "print(\"checking :\",cleaned_new_answertext.isnull().sum() )\n",
        "print(\"checking :\",cleaned_new_questionText.isnull().sum() )\n"
      ],
      "metadata": {
        "id": "MjbcCAQJ55ws",
        "colab": {
          "base_uri": "https://localhost:8080/"
        },
        "outputId": "43c1e2e9-4dae-41fc-a452-a93579b646cf"
      },
      "execution_count": null,
      "outputs": [
        {
          "output_type": "stream",
          "name": "stdout",
          "text": [
            "checking : 0\n",
            "checking : 0\n"
          ]
        }
      ]
    },
    {
      "cell_type": "code",
      "source": [
        "type(answer_text)\n",
        "!pip install langdetect"
      ],
      "metadata": {
        "colab": {
          "base_uri": "https://localhost:8080/"
        },
        "id": "VN84pPlT5y15",
        "outputId": "8dcd6b3d-e643-4dca-9535-2aaae17d79f4"
      },
      "execution_count": null,
      "outputs": [
        {
          "output_type": "stream",
          "name": "stdout",
          "text": [
            "Collecting langdetect\n",
            "  Downloading langdetect-1.0.9.tar.gz (981 kB)\n",
            "\u001b[2K     \u001b[90m━━━━━━━━━━━━━━━━━━━━━━━━━━━━━━━━━━━━━━━━\u001b[0m \u001b[32m981.5/981.5 kB\u001b[0m \u001b[31m6.0 MB/s\u001b[0m eta \u001b[36m0:00:00\u001b[0m\n",
            "\u001b[?25h  Preparing metadata (setup.py) ... \u001b[?25l\u001b[?25hdone\n",
            "Requirement already satisfied: six in /usr/local/lib/python3.10/dist-packages (from langdetect) (1.16.0)\n",
            "Building wheels for collected packages: langdetect\n",
            "  Building wheel for langdetect (setup.py) ... \u001b[?25l\u001b[?25hdone\n",
            "  Created wheel for langdetect: filename=langdetect-1.0.9-py3-none-any.whl size=993227 sha256=bdf292ad7a8c8e9e98ca06dead06f59179711cdea36b80139bbf45c0fc0fe931\n",
            "  Stored in directory: /root/.cache/pip/wheels/95/03/7d/59ea870c70ce4e5a370638b5462a7711ab78fba2f655d05106\n",
            "Successfully built langdetect\n",
            "Installing collected packages: langdetect\n",
            "Successfully installed langdetect-1.0.9\n"
          ]
        }
      ]
    },
    {
      "cell_type": "code",
      "source": [
        "import pandas as pd\n",
        "from langdetect import detect\n",
        "\n",
        "# Assuming 'df' is your DataFrame and 'text_column' is the column containing text data\n",
        "for index, row in df_no_missing_values.iterrows():\n",
        "    text = row['answerText']\n",
        "    try:\n",
        "        lang = detect(text)\n",
        "        if lang != 'en':\n",
        "            # Remove or filter non-English texts\n",
        "            df.drop(index, inplace=True)\n",
        "    except:\n",
        "        # Handle exceptions if any\n",
        "        pass\n",
        "\n",
        "cleaned_new_answertext = df_no_missing_values[\"answerText\"]\n",
        "cleaned_new_questionText = df_no_missing_values[\"questionText\"]"
      ],
      "metadata": {
        "id": "TyxnuaEqfZkJ"
      },
      "execution_count": null,
      "outputs": []
    },
    {
      "cell_type": "code",
      "source": [
        "print(len(df_no_missing_values[\"answerText\"]),len(cleaned_new_answertext))\n"
      ],
      "metadata": {
        "colab": {
          "base_uri": "https://localhost:8080/"
        },
        "id": "imAumW6-lJAC",
        "outputId": "47a28aea-8ac2-48a1-efce-f5fc8a7fabc5"
      },
      "execution_count": null,
      "outputs": [
        {
          "output_type": "stream",
          "name": "stdout",
          "text": [
            "2612 2612\n"
          ]
        },
        {
          "output_type": "stream",
          "name": "stderr",
          "text": [
            "/usr/local/lib/python3.10/dist-packages/ipykernel/ipkernel.py:283: DeprecationWarning: `should_run_async` will not call `transform_cell` automatically in the future. Please pass the result to `transformed_cell` argument and any exception that happen during thetransform in `preprocessing_exc_tuple` in IPython 7.17 and above.\n",
            "  and should_run_async(code)\n"
          ]
        }
      ]
    },
    {
      "cell_type": "markdown",
      "source": [
        "#Spacy"
      ],
      "metadata": {
        "id": "cjcs2DEzfa32"
      }
    },
    {
      "cell_type": "code",
      "source": [
        "#Preprocessing steps using spaCy\n",
        "import spacy\n",
        "\n",
        "# Load English tokenizer, tagger, parser, NER, and word vectors\n",
        "nlp = spacy.load(\"en_core_web_sm\")\n",
        "\n",
        "def preprocess(text):\n",
        "    # Parse the text using spaCy\n",
        "    doc = nlp(text)\n",
        "\n",
        "    stopwords = nlp.Defaults.stop_words\n",
        "\n",
        "    # Lemmatization for adjectives and nouns\n",
        "    lemmatized_tokens = [token.lemma_ for token in doc if token.pos_ in ['ADJ', 'NOUN'] and token.text not in stopwords and not token.is_punct]\n",
        "\n",
        "    return lemmatized_tokens\n",
        "\n",
        "final_text = []\n",
        "for text in cleaned_new_answertext:\n",
        "    text_final = preprocess(text)\n",
        "    final_text.append(text_final)\n",
        "\n",
        "print(final_text[0:3])\n",
        "print(len(final_text))"
      ],
      "metadata": {
        "id": "1TAbZDLg5y5M",
        "colab": {
          "base_uri": "https://localhost:8080/"
        },
        "outputId": "f0c85b5b-7f59-4c97-b039-d8b065d86aae"
      },
      "execution_count": null,
      "outputs": [
        {
          "output_type": "stream",
          "name": "stdout",
          "text": [
            "[['common', 'people', 'multiple', 'issue', 'address', 'counseling', 'client', 'question', 'exploration', 'underlying', 'fear', 'therapist', 'ring', 'true', 'people', 'problem', 'life', 'people', 'numerous', 'significant', 'stressor', 'life', 'life', 'complicated', 'therapist', 'ready', 'equipped', 'issue', 'small', 'large', 'client', 'session', 'Most', 'therapist', 'couple', 'session', 'issue', 'issue', 'distress', 'issue', 'counseling', 'issue', 'counseling'], ['issue', 'therapy', 'effective', 'competent', 'therapist', 'root', 'cause', 'problem', 'underlying', 'issue', 'symptom', 'example', 'history', 'sexual', 'trauma', 'sleep', 'disturbance', 'depression', 'anxiety', 'low', 'self', 'worth', 'trauma', 'client', 'unresolved', 'trauma', 'negative', 'core', 'belief', 'response', 'trauma', 'negative', 'belief', 'self', 'esteem', 'feeling', 'self', 'worth'], ['issue', 'need', 'time', 'therapy', 'smart', 'goal', 'objective', 'goal', 'survivor', 'victim', 'good']]\n",
            "2612\n"
          ]
        }
      ]
    },
    {
      "cell_type": "markdown",
      "source": [
        "#Topic modeling algorithms application\n"
      ],
      "metadata": {
        "id": "Sdxe7SyfBzag"
      }
    },
    {
      "cell_type": "markdown",
      "source": [
        "**Evaluation metrics :**"
      ],
      "metadata": {
        "id": "IpWa3OWDyj5B"
      }
    },
    {
      "cell_type": "code",
      "source": [
        "#Calculating the coherence  :\n",
        "def get_coherence(topics, documents):\n",
        "\n",
        "    id2word = corpora.Dictionary(documents)\n",
        "    cm = CoherenceModel(topics=topics,\n",
        "                        texts=documents,\n",
        "                        dictionary=id2word,\n",
        "                        coherence='c_v')\n",
        "\n",
        "    return cm.get_coherence()\n",
        "\n",
        "\n",
        "# Calculating Coherence for evaluation :\n",
        "from gensim.models import CoherenceModel\n",
        "def coherence_score(lda_model, tf_vectorizer, texts):\n",
        "    coherence_model = CoherenceModel(model=lda_model, texts=texts, dictionary=tf_vectorizer, coherence='c_v')\n",
        "    coherence_score = coherence_model.get_coherence()\n",
        "    return coherence_score\n",
        "\n",
        "\n",
        "\n"
      ],
      "metadata": {
        "id": "pPhDVJ2c0RNS",
        "colab": {
          "base_uri": "https://localhost:8080/"
        },
        "outputId": "89e35453-df1f-4555-8866-47fa924fb7b5"
      },
      "execution_count": null,
      "outputs": [
        {
          "output_type": "stream",
          "name": "stderr",
          "text": [
            "/usr/local/lib/python3.10/dist-packages/ipykernel/ipkernel.py:283: DeprecationWarning: `should_run_async` will not call `transform_cell` automatically in the future. Please pass the result to `transformed_cell` argument and any exception that happen during thetransform in `preprocessing_exc_tuple` in IPython 7.17 and above.\n",
            "  and should_run_async(code)\n"
          ]
        }
      ]
    },
    {
      "cell_type": "markdown",
      "source": [
        "So we will start with LDA algorithm where it is commonly applied on the BOW of each document."
      ],
      "metadata": {
        "id": "owaN3_K3CPu-"
      }
    },
    {
      "cell_type": "markdown",
      "source": [
        "\n",
        "**LDA with BoW using scikit-learn**\n"
      ],
      "metadata": {
        "id": "eMQV1hrHDPIN"
      }
    },
    {
      "cell_type": "code",
      "source": [
        "#!pip install --upgrade scikit-learn\n",
        "from sklearn.feature_extraction.text import CountVectorizer, TfidfVectorizer\n",
        "from sklearn.decomposition import LatentDirichletAllocation\n",
        "\n",
        "import pandas as pd\n",
        "\n",
        "# Convert the list of tokens back to text\n",
        "final_text_joined = [' '.join(tokens) for tokens in final_text]\n",
        "tf_vectorizer = CountVectorizer(max_df=0.95, min_df=2, stop_words='english')\n",
        "tf = tf_vectorizer.fit_transform(final_text_joined)\n",
        "#max_df=0.95 -> terms appearing in more than 95% of the documents will be ignored.\n",
        "#min_df=2 -> terms must appear in at least 2 documents to be considered.\n",
        "\n",
        "#Fit the LDA model\n",
        "\n",
        "lda_model = LatentDirichletAllocation(n_components=10, max_iter=50, learning_method='online', learning_offset=50.,random_state=0).fit(tf)\n",
        "\n",
        "def display_topics(lda_model, tf_vectorizer):\n",
        "    feature_names = tf_vectorizer.get_feature_names_out()\n",
        "    topic_dict = {}\n",
        "    for topic_idx, topic in enumerate(lda_model.components_):\n",
        "        topic_words = [feature_names[i] for i in topic.argsort()[::-1]]\n",
        "        topic_dict[\"Topic %d\" % (topic_idx)] = topic_words\n",
        "    return pd.DataFrame(topic_dict)\n",
        "\n",
        "topicsLDA1 = display_topics(lda_model, tf_vectorizer)\n",
        "\n",
        "print(topicsLDA1)\n",
        "\n"
      ],
      "metadata": {
        "id": "4IDpbtpAkC3t",
        "colab": {
          "base_uri": "https://localhost:8080/"
        },
        "outputId": "f0e466ae-059a-461e-e3a5-56976ad159b5"
      },
      "execution_count": null,
      "outputs": [
        {
          "output_type": "stream",
          "name": "stdout",
          "text": [
            "           Topic 0        Topic 1       Topic 2      Topic 3     Topic 4  \\\n",
            "0             boss      workplace  relationship        dream     meeting   \n",
            "1     dissociation         proper          time        sleep         law   \n",
            "2       psychopath       employee           way    nightmare       legal   \n",
            "3          craving  inappropriate          good     drinking      letter   \n",
            "4         syndrome         tissue        people   infidelity     ethical   \n",
            "...            ...            ...           ...          ...         ...   \n",
            "3389     crippling        cutting  wordsection1        padre      boring   \n",
            "3390           hay        breathe     signature     upheaval  comentario   \n",
            "3391     reenfocar      inventory           mso  physicality       crack   \n",
            "3392   dependiendo         estado         latin   pagination      throat   \n",
            "3393          nose           dull  compensation     fighting    resident   \n",
            "\n",
            "          Topic 5     Topic 6     Topic 7     Topic 8      Topic 9  \n",
            "0          circle         que         sex      gender    therapist  \n",
            "1            card       puede      sexual      animal      therapy  \n",
            "2         smoking         son         man      winter       client  \n",
            "3          critic        pero       woman     program    counselor  \n",
            "4       cigarette         por        font        folk   counseling  \n",
            "...           ...         ...         ...         ...          ...  \n",
            "3389  motivacione  loneliness      nuevas       judge  philosopher  \n",
            "3390   admiration      bubble       salir  equivalent   expressive  \n",
            "3391       tengas       audio      rhythm  attractive      seizure  \n",
            "3392      mindset   remainder  condolence   nonsexual      posible  \n",
            "3393      hermano       court       hyper       motor      arguing  \n",
            "\n",
            "[3394 rows x 10 columns]\n"
          ]
        }
      ]
    },
    {
      "cell_type": "code",
      "source": [
        "import numpy as np\n",
        "log_likelihood = lda_model.score(tf)\n",
        "\n",
        "# Calculate perplexity\n",
        "perplexity1 = np.exp(-log_likelihood / tf.shape[0])\n",
        "print(\"preplexity is \",perplexity1)\n",
        "#def coherence_score(lda_model, tf_vectorizer, texts)"
      ],
      "metadata": {
        "colab": {
          "base_uri": "https://localhost:8080/"
        },
        "id": "MleB3re0AaVU",
        "outputId": "ff1fb690-197c-4409-f402-793365b80558"
      },
      "execution_count": null,
      "outputs": [
        {
          "output_type": "stream",
          "name": "stdout",
          "text": [
            "preplexity is  3.313950559679351e+109\n"
          ]
        }
      ]
    },
    {
      "cell_type": "code",
      "source": [
        "!pip install tmtoolkit"
      ],
      "metadata": {
        "colab": {
          "base_uri": "https://localhost:8080/"
        },
        "id": "Cy3R6vMVVZvR",
        "outputId": "64bb809b-34b7-4f27-842d-f2bf51d09cb3"
      },
      "execution_count": null,
      "outputs": [
        {
          "output_type": "stream",
          "name": "stdout",
          "text": [
            "Collecting tmtoolkit\n",
            "  Downloading tmtoolkit-0.12.0-py3-none-any.whl (10.5 MB)\n",
            "\u001b[2K     \u001b[90m━━━━━━━━━━━━━━━━━━━━━━━━━━━━━━━━━━━━━━━━\u001b[0m \u001b[32m10.5/10.5 MB\u001b[0m \u001b[31m23.2 MB/s\u001b[0m eta \u001b[36m0:00:00\u001b[0m\n",
            "\u001b[?25hRequirement already satisfied: numpy<2.0,>=1.23.0 in /usr/local/lib/python3.10/dist-packages (from tmtoolkit) (1.25.2)\n",
            "Requirement already satisfied: scipy<2.0,>=1.7.0 in /usr/local/lib/python3.10/dist-packages (from tmtoolkit) (1.11.4)\n",
            "Collecting globre<0.2,>=0.1.5 (from tmtoolkit)\n",
            "  Downloading globre-0.1.5.tar.gz (20 kB)\n",
            "  Preparing metadata (setup.py) ... \u001b[?25l\u001b[?25hdone\n",
            "Requirement already satisfied: pandas<3.0,>=1.4.0 in /usr/local/lib/python3.10/dist-packages (from tmtoolkit) (2.0.3)\n",
            "Requirement already satisfied: xlrd>=2.0.0 in /usr/local/lib/python3.10/dist-packages (from tmtoolkit) (2.0.1)\n",
            "Requirement already satisfied: openpyxl<4.0,>=3.0.0 in /usr/local/lib/python3.10/dist-packages (from tmtoolkit) (3.1.2)\n",
            "Requirement already satisfied: matplotlib<4.0,>=3.5.0 in /usr/local/lib/python3.10/dist-packages (from tmtoolkit) (3.7.1)\n",
            "Requirement already satisfied: bidict<1.0,>=0.21.0 in /usr/local/lib/python3.10/dist-packages (from tmtoolkit) (0.23.1)\n",
            "Requirement already satisfied: wheel<1.0,>=0.40 in /usr/local/lib/python3.10/dist-packages (from tmtoolkit) (0.43.0)\n",
            "Requirement already satisfied: contourpy>=1.0.1 in /usr/local/lib/python3.10/dist-packages (from matplotlib<4.0,>=3.5.0->tmtoolkit) (1.2.1)\n",
            "Requirement already satisfied: cycler>=0.10 in /usr/local/lib/python3.10/dist-packages (from matplotlib<4.0,>=3.5.0->tmtoolkit) (0.12.1)\n",
            "Requirement already satisfied: fonttools>=4.22.0 in /usr/local/lib/python3.10/dist-packages (from matplotlib<4.0,>=3.5.0->tmtoolkit) (4.51.0)\n",
            "Requirement already satisfied: kiwisolver>=1.0.1 in /usr/local/lib/python3.10/dist-packages (from matplotlib<4.0,>=3.5.0->tmtoolkit) (1.4.5)\n",
            "Requirement already satisfied: packaging>=20.0 in /usr/local/lib/python3.10/dist-packages (from matplotlib<4.0,>=3.5.0->tmtoolkit) (24.0)\n",
            "Requirement already satisfied: pillow>=6.2.0 in /usr/local/lib/python3.10/dist-packages (from matplotlib<4.0,>=3.5.0->tmtoolkit) (9.4.0)\n",
            "Requirement already satisfied: pyparsing>=2.3.1 in /usr/local/lib/python3.10/dist-packages (from matplotlib<4.0,>=3.5.0->tmtoolkit) (3.1.2)\n",
            "Requirement already satisfied: python-dateutil>=2.7 in /usr/local/lib/python3.10/dist-packages (from matplotlib<4.0,>=3.5.0->tmtoolkit) (2.8.2)\n",
            "Requirement already satisfied: et-xmlfile in /usr/local/lib/python3.10/dist-packages (from openpyxl<4.0,>=3.0.0->tmtoolkit) (1.1.0)\n",
            "Requirement already satisfied: pytz>=2020.1 in /usr/local/lib/python3.10/dist-packages (from pandas<3.0,>=1.4.0->tmtoolkit) (2023.4)\n",
            "Requirement already satisfied: tzdata>=2022.1 in /usr/local/lib/python3.10/dist-packages (from pandas<3.0,>=1.4.0->tmtoolkit) (2024.1)\n",
            "Requirement already satisfied: six>=1.5 in /usr/local/lib/python3.10/dist-packages (from python-dateutil>=2.7->matplotlib<4.0,>=3.5.0->tmtoolkit) (1.16.0)\n",
            "Building wheels for collected packages: globre\n",
            "  Building wheel for globre (setup.py) ... \u001b[?25l\u001b[?25hdone\n",
            "  Created wheel for globre: filename=globre-0.1.5-py3-none-any.whl size=19546 sha256=d9f2dec0577b5c9fa4286aa372e7713bafdaea70c70f3bc3dc7f3faff4c45508\n",
            "  Stored in directory: /root/.cache/pip/wheels/e6/c5/26/0d27e07d567b3b4e63a618efff19a2cdbab636ac1295d20206\n",
            "Successfully built globre\n",
            "Installing collected packages: globre, tmtoolkit\n",
            "Successfully installed globre-0.1.5 tmtoolkit-0.12.0\n"
          ]
        }
      ]
    },
    {
      "cell_type": "code",
      "source": [
        "import tmtoolkit\n",
        "\n",
        "vocaby = np.array(tf_vectorizer.get_feature_names_out())\n",
        "\n",
        "coherence = tmtoolkit.topicmod.evaluate.metric_coherence_gensim(measure='c_v',\n",
        "                        top_n=10,\n",
        "                        topic_word_distrib=lda_model.components_,\n",
        "                        dtm=tf,\n",
        "                        vocab=vocaby,\n",
        "                        texts=final_text)\n",
        "np.mean(coherence)"
      ],
      "metadata": {
        "colab": {
          "base_uri": "https://localhost:8080/"
        },
        "id": "VVcFs1su7RXM",
        "outputId": "ccfc8bc2-318d-4b3c-8a49-a53b583f420f"
      },
      "execution_count": null,
      "outputs": [
        {
          "output_type": "execute_result",
          "data": {
            "text/plain": [
              "0.483968623590307"
            ]
          },
          "metadata": {},
          "execution_count": 30
        }
      ]
    },
    {
      "cell_type": "code",
      "source": [
        "from gensim.models.ldamodel import LdaModel\n",
        "from gensim.corpora import Dictionary\n",
        "\n",
        "dictionary1 = Dictionary(final_text)\n",
        "corpus1 = [dictionary1.doc2bow(text) for text in final_text]\n",
        "\n",
        "# we chAnged the chunksize and the number of passes to get more accurate rresults\n",
        "\n",
        "lda_model1 = LdaModel(corpus=corpus1, id2word=dictionary1, num_topics=10,chunksize=250, passes=50)\n",
        "\n",
        "# Print the topics\n",
        "for idx, topic in lda_model1.print_topics(-1):\n",
        "    print(f'Topic: {idx} \\nWords: {topic}\\n')"
      ],
      "metadata": {
        "colab": {
          "base_uri": "https://localhost:8080/"
        },
        "id": "2aoahUUI9Z1A",
        "outputId": "7032e8b9-d12b-4aa7-e398-e39235c0c972"
      },
      "execution_count": null,
      "outputs": [
        {
          "output_type": "stream",
          "name": "stdout",
          "text": [
            "Topic: 0 \n",
            "Words: 0.055*\"therapist\" + 0.033*\"therapy\" + 0.026*\"client\" + 0.025*\"counselor\" + 0.018*\"good\" + 0.018*\"counseling\" + 0.015*\"issue\" + 0.014*\"session\" + 0.013*\"emotion\" + 0.013*\"time\"\n",
            "\n",
            "Topic: 1 \n",
            "Words: 0.020*\"que\" + 0.015*\"harm\" + 0.014*\"puede\" + 0.013*\"consequence\" + 0.011*\"o\" + 0.009*\"medium\" + 0.008*\"pero\" + 0.008*\"animal\" + 0.008*\"fee\" + 0.007*\"culture\"\n",
            "\n",
            "Topic: 2 \n",
            "Words: 0.058*\"topic\" + 0.050*\"wish\" + 0.026*\"secure\" + 0.021*\"wise\" + 0.020*\"legal\" + 0.018*\"image\" + 0.015*\"side\" + 0.015*\"clarity\" + 0.013*\"paperwork\" + 0.011*\"critic\"\n",
            "\n",
            "Topic: 3 \n",
            "Words: 0.031*\"thing\" + 0.029*\"thought\" + 0.026*\"people\" + 0.025*\"time\" + 0.023*\"life\" + 0.020*\"way\" + 0.019*\"anxiety\" + 0.016*\"feeling\" + 0.014*\"fear\" + 0.012*\"self\"\n",
            "\n",
            "Topic: 4 \n",
            "Words: 0.037*\"child\" + 0.033*\"parent\" + 0.025*\"family\" + 0.023*\"support\" + 0.018*\"mom\" + 0.015*\"daughter\" + 0.014*\"group\" + 0.014*\"good\" + 0.014*\"school\" + 0.013*\"situation\"\n",
            "\n",
            "Topic: 5 \n",
            "Words: 0.053*\"husband\" + 0.051*\"marriage\" + 0.029*\"woman\" + 0.023*\"man\" + 0.022*\"okay\" + 0.018*\"decision\" + 0.018*\"dynamic\" + 0.017*\"power\" + 0.014*\"friendship\" + 0.013*\"love\"\n",
            "\n",
            "Topic: 6 \n",
            "Words: 0.040*\"font\" + 0.026*\"dream\" + 0.021*\"family\" + 0.017*\"crying\" + 0.015*\"nightmare\" + 0.015*\"mistake\" + 0.015*\"private\" + 0.014*\"fault\" + 0.014*\"theme\" + 0.014*\"teen\"\n",
            "\n",
            "Topic: 7 \n",
            "Words: 0.069*\"relationship\" + 0.032*\"way\" + 0.028*\"person\" + 0.027*\"good\" + 0.026*\"time\" + 0.020*\"partner\" + 0.018*\"people\" + 0.018*\"question\" + 0.016*\"life\" + 0.014*\"feeling\"\n",
            "\n",
            "Topic: 8 \n",
            "Words: 0.042*\"sexual\" + 0.042*\"sex\" + 0.024*\"wife\" + 0.020*\"pain\" + 0.015*\"upset\" + 0.015*\"man\" + 0.015*\"physical\" + 0.014*\"boundary\" + 0.013*\"emotional\" + 0.013*\"rule\"\n",
            "\n",
            "Topic: 9 \n",
            "Words: 0.022*\"rapport\" + 0.021*\"food\" + 0.021*\"behaviour\" + 0.020*\"beginning\" + 0.016*\"attention\" + 0.016*\"active\" + 0.014*\"mechanism\" + 0.014*\"patience\" + 0.014*\"judgement\" + 0.014*\"faith\"\n",
            "\n"
          ]
        }
      ]
    },
    {
      "cell_type": "code",
      "source": [
        "from gensim.models import CoherenceModel\n",
        "\n",
        "coherence_model_lda=CoherenceModel(model=lda_model1,texts=final_text, dictionary=dictionary1, coherence='c_v')\n",
        "\n",
        "# cv means cosine similarity\n",
        "\n",
        "coherence_lda=coherence_model_lda.get_coherence()\n",
        "print('Coherence Score: ',coherence_lda)"
      ],
      "metadata": {
        "colab": {
          "base_uri": "https://localhost:8080/"
        },
        "id": "ceb4p4HNkIpJ",
        "outputId": "d6c3be3c-8e24-4947-fe0f-a57ef39034db"
      },
      "execution_count": null,
      "outputs": [
        {
          "output_type": "stream",
          "name": "stdout",
          "text": [
            "Coherence Score:  0.45755219515629025\n"
          ]
        }
      ]
    },
    {
      "cell_type": "code",
      "source": [
        "corpus_lda = lda_model1[corpus1]  # get the topic distribution for each document in the corpus\n",
        "perplexity1 = lda_model1.log_perplexity(corpus_lda)\n",
        "print(\"Perplexity: \", perplexity1)"
      ],
      "metadata": {
        "colab": {
          "base_uri": "https://localhost:8080/"
        },
        "id": "JkuDEy7dkcgX",
        "outputId": "cf2c8f7a-4dcb-4bde-b1cb-2dcc4801ad25"
      },
      "execution_count": null,
      "outputs": [
        {
          "output_type": "stream",
          "name": "stderr",
          "text": [
            "/usr/local/lib/python3.10/dist-packages/ipykernel/ipkernel.py:283: DeprecationWarning: `should_run_async` will not call `transform_cell` automatically in the future. Please pass the result to `transformed_cell` argument and any exception that happen during thetransform in `preprocessing_exc_tuple` in IPython 7.17 and above.\n",
            "  and should_run_async(code)\n"
          ]
        },
        {
          "output_type": "stream",
          "name": "stdout",
          "text": [
            "Perplexity:  -17.799824438961213\n"
          ]
        }
      ]
    },
    {
      "cell_type": "markdown",
      "source": [
        "**NMF with BoW**\n"
      ],
      "metadata": {
        "id": "Z9P2l2_nIkqe"
      }
    },
    {
      "cell_type": "code",
      "source": [
        "from sklearn.decomposition import NMF\n",
        "\n",
        "\n",
        "# Create TF-IDF representation\n",
        "tfidf_vectorizer = TfidfVectorizer(max_df=0.95, min_df=2, stop_words='english')\n",
        "tfidf = tfidf_vectorizer.fit_transform(final_text_joined)\n",
        "\n",
        "# Apply NMF\n",
        "nmf_model = NMF(n_components=10, random_state=1, l1_ratio=.5, init='nndsvd',max_iter = 50).fit(tfidf)\n",
        "\n",
        "display_topics(nmf_model, tfidf_vectorizer)\n"
      ],
      "metadata": {
        "colab": {
          "base_uri": "https://localhost:8080/",
          "height": 480
        },
        "id": "dzqdmRXIQ_KO",
        "outputId": "00fcce36-4b47-4b94-994e-64eb109ea0d6"
      },
      "execution_count": null,
      "outputs": [
        {
          "output_type": "stream",
          "name": "stderr",
          "text": [
            "/usr/local/lib/python3.10/dist-packages/sklearn/decomposition/_nmf.py:1665: ConvergenceWarning: Maximum number of iterations 50 reached. Increase it to improve convergence.\n",
            "  warnings.warn(\n"
          ]
        },
        {
          "output_type": "execute_result",
          "data": {
            "text/plain": [
              "         Topic 0         Topic 1       Topic 2   Topic 3    Topic 4  \\\n",
              "0         people       therapist  relationship     child    therapy   \n",
              "1           time           right       partner    parent    emotion   \n",
              "2           life     comfortable     boyfriend  daughter     normal   \n",
              "3          thing            good         trust    school    feeling   \n",
              "4            way             fit        person     adult       tear   \n",
              "...          ...             ...           ...       ...        ...   \n",
              "3389  consensual  identification       garbage    finish      house   \n",
              "3390        mile        identity      procesar  planning  household   \n",
              "3391   milestone             ill       probono   firearm     reward   \n",
              "3392   conscious            sake     gathering    planet         hr   \n",
              "3393      client              明朝        0001pt      kind     0001pt   \n",
              "\n",
              "               Topic 5     Topic 6     Topic 7           Topic 8    Topic 9  \n",
              "0                issue     anxiety      client           thought    husband  \n",
              "1           counseling  depression   counselor          negative   marriage  \n",
              "2               trauma     symptom  counseling           feeling        sex  \n",
              "3              problem      social     session              self     sexual  \n",
              "4           depression      attack        goal          positive    partner  \n",
              "...                ...         ...         ...               ...        ...  \n",
              "3389  neurotransmitter     magical       mucho              mode   meltdown  \n",
              "3390      neuroscience   magnitude         mso             mixed     member  \n",
              "3391      neurological        mail       movie     misunderstood     memory  \n",
              "3392     neurofeedback        main    movement  misunderstanding  menstrual  \n",
              "3393            0001pt      0001pt      0001pt            0001pt     0001pt  \n",
              "\n",
              "[3394 rows x 10 columns]"
            ],
            "text/html": [
              "\n",
              "  <div id=\"df-387e6be3-dce3-4990-bebb-fa51d9785614\" class=\"colab-df-container\">\n",
              "    <div>\n",
              "<style scoped>\n",
              "    .dataframe tbody tr th:only-of-type {\n",
              "        vertical-align: middle;\n",
              "    }\n",
              "\n",
              "    .dataframe tbody tr th {\n",
              "        vertical-align: top;\n",
              "    }\n",
              "\n",
              "    .dataframe thead th {\n",
              "        text-align: right;\n",
              "    }\n",
              "</style>\n",
              "<table border=\"1\" class=\"dataframe\">\n",
              "  <thead>\n",
              "    <tr style=\"text-align: right;\">\n",
              "      <th></th>\n",
              "      <th>Topic 0</th>\n",
              "      <th>Topic 1</th>\n",
              "      <th>Topic 2</th>\n",
              "      <th>Topic 3</th>\n",
              "      <th>Topic 4</th>\n",
              "      <th>Topic 5</th>\n",
              "      <th>Topic 6</th>\n",
              "      <th>Topic 7</th>\n",
              "      <th>Topic 8</th>\n",
              "      <th>Topic 9</th>\n",
              "    </tr>\n",
              "  </thead>\n",
              "  <tbody>\n",
              "    <tr>\n",
              "      <th>0</th>\n",
              "      <td>people</td>\n",
              "      <td>therapist</td>\n",
              "      <td>relationship</td>\n",
              "      <td>child</td>\n",
              "      <td>therapy</td>\n",
              "      <td>issue</td>\n",
              "      <td>anxiety</td>\n",
              "      <td>client</td>\n",
              "      <td>thought</td>\n",
              "      <td>husband</td>\n",
              "    </tr>\n",
              "    <tr>\n",
              "      <th>1</th>\n",
              "      <td>time</td>\n",
              "      <td>right</td>\n",
              "      <td>partner</td>\n",
              "      <td>parent</td>\n",
              "      <td>emotion</td>\n",
              "      <td>counseling</td>\n",
              "      <td>depression</td>\n",
              "      <td>counselor</td>\n",
              "      <td>negative</td>\n",
              "      <td>marriage</td>\n",
              "    </tr>\n",
              "    <tr>\n",
              "      <th>2</th>\n",
              "      <td>life</td>\n",
              "      <td>comfortable</td>\n",
              "      <td>boyfriend</td>\n",
              "      <td>daughter</td>\n",
              "      <td>normal</td>\n",
              "      <td>trauma</td>\n",
              "      <td>symptom</td>\n",
              "      <td>counseling</td>\n",
              "      <td>feeling</td>\n",
              "      <td>sex</td>\n",
              "    </tr>\n",
              "    <tr>\n",
              "      <th>3</th>\n",
              "      <td>thing</td>\n",
              "      <td>good</td>\n",
              "      <td>trust</td>\n",
              "      <td>school</td>\n",
              "      <td>feeling</td>\n",
              "      <td>problem</td>\n",
              "      <td>social</td>\n",
              "      <td>session</td>\n",
              "      <td>self</td>\n",
              "      <td>sexual</td>\n",
              "    </tr>\n",
              "    <tr>\n",
              "      <th>4</th>\n",
              "      <td>way</td>\n",
              "      <td>fit</td>\n",
              "      <td>person</td>\n",
              "      <td>adult</td>\n",
              "      <td>tear</td>\n",
              "      <td>depression</td>\n",
              "      <td>attack</td>\n",
              "      <td>goal</td>\n",
              "      <td>positive</td>\n",
              "      <td>partner</td>\n",
              "    </tr>\n",
              "    <tr>\n",
              "      <th>...</th>\n",
              "      <td>...</td>\n",
              "      <td>...</td>\n",
              "      <td>...</td>\n",
              "      <td>...</td>\n",
              "      <td>...</td>\n",
              "      <td>...</td>\n",
              "      <td>...</td>\n",
              "      <td>...</td>\n",
              "      <td>...</td>\n",
              "      <td>...</td>\n",
              "    </tr>\n",
              "    <tr>\n",
              "      <th>3389</th>\n",
              "      <td>consensual</td>\n",
              "      <td>identification</td>\n",
              "      <td>garbage</td>\n",
              "      <td>finish</td>\n",
              "      <td>house</td>\n",
              "      <td>neurotransmitter</td>\n",
              "      <td>magical</td>\n",
              "      <td>mucho</td>\n",
              "      <td>mode</td>\n",
              "      <td>meltdown</td>\n",
              "    </tr>\n",
              "    <tr>\n",
              "      <th>3390</th>\n",
              "      <td>mile</td>\n",
              "      <td>identity</td>\n",
              "      <td>procesar</td>\n",
              "      <td>planning</td>\n",
              "      <td>household</td>\n",
              "      <td>neuroscience</td>\n",
              "      <td>magnitude</td>\n",
              "      <td>mso</td>\n",
              "      <td>mixed</td>\n",
              "      <td>member</td>\n",
              "    </tr>\n",
              "    <tr>\n",
              "      <th>3391</th>\n",
              "      <td>milestone</td>\n",
              "      <td>ill</td>\n",
              "      <td>probono</td>\n",
              "      <td>firearm</td>\n",
              "      <td>reward</td>\n",
              "      <td>neurological</td>\n",
              "      <td>mail</td>\n",
              "      <td>movie</td>\n",
              "      <td>misunderstood</td>\n",
              "      <td>memory</td>\n",
              "    </tr>\n",
              "    <tr>\n",
              "      <th>3392</th>\n",
              "      <td>conscious</td>\n",
              "      <td>sake</td>\n",
              "      <td>gathering</td>\n",
              "      <td>planet</td>\n",
              "      <td>hr</td>\n",
              "      <td>neurofeedback</td>\n",
              "      <td>main</td>\n",
              "      <td>movement</td>\n",
              "      <td>misunderstanding</td>\n",
              "      <td>menstrual</td>\n",
              "    </tr>\n",
              "    <tr>\n",
              "      <th>3393</th>\n",
              "      <td>client</td>\n",
              "      <td>明朝</td>\n",
              "      <td>0001pt</td>\n",
              "      <td>kind</td>\n",
              "      <td>0001pt</td>\n",
              "      <td>0001pt</td>\n",
              "      <td>0001pt</td>\n",
              "      <td>0001pt</td>\n",
              "      <td>0001pt</td>\n",
              "      <td>0001pt</td>\n",
              "    </tr>\n",
              "  </tbody>\n",
              "</table>\n",
              "<p>3394 rows × 10 columns</p>\n",
              "</div>\n",
              "    <div class=\"colab-df-buttons\">\n",
              "\n",
              "  <div class=\"colab-df-container\">\n",
              "    <button class=\"colab-df-convert\" onclick=\"convertToInteractive('df-387e6be3-dce3-4990-bebb-fa51d9785614')\"\n",
              "            title=\"Convert this dataframe to an interactive table.\"\n",
              "            style=\"display:none;\">\n",
              "\n",
              "  <svg xmlns=\"http://www.w3.org/2000/svg\" height=\"24px\" viewBox=\"0 -960 960 960\">\n",
              "    <path d=\"M120-120v-720h720v720H120Zm60-500h600v-160H180v160Zm220 220h160v-160H400v160Zm0 220h160v-160H400v160ZM180-400h160v-160H180v160Zm440 0h160v-160H620v160ZM180-180h160v-160H180v160Zm440 0h160v-160H620v160Z\"/>\n",
              "  </svg>\n",
              "    </button>\n",
              "\n",
              "  <style>\n",
              "    .colab-df-container {\n",
              "      display:flex;\n",
              "      gap: 12px;\n",
              "    }\n",
              "\n",
              "    .colab-df-convert {\n",
              "      background-color: #E8F0FE;\n",
              "      border: none;\n",
              "      border-radius: 50%;\n",
              "      cursor: pointer;\n",
              "      display: none;\n",
              "      fill: #1967D2;\n",
              "      height: 32px;\n",
              "      padding: 0 0 0 0;\n",
              "      width: 32px;\n",
              "    }\n",
              "\n",
              "    .colab-df-convert:hover {\n",
              "      background-color: #E2EBFA;\n",
              "      box-shadow: 0px 1px 2px rgba(60, 64, 67, 0.3), 0px 1px 3px 1px rgba(60, 64, 67, 0.15);\n",
              "      fill: #174EA6;\n",
              "    }\n",
              "\n",
              "    .colab-df-buttons div {\n",
              "      margin-bottom: 4px;\n",
              "    }\n",
              "\n",
              "    [theme=dark] .colab-df-convert {\n",
              "      background-color: #3B4455;\n",
              "      fill: #D2E3FC;\n",
              "    }\n",
              "\n",
              "    [theme=dark] .colab-df-convert:hover {\n",
              "      background-color: #434B5C;\n",
              "      box-shadow: 0px 1px 3px 1px rgba(0, 0, 0, 0.15);\n",
              "      filter: drop-shadow(0px 1px 2px rgba(0, 0, 0, 0.3));\n",
              "      fill: #FFFFFF;\n",
              "    }\n",
              "  </style>\n",
              "\n",
              "    <script>\n",
              "      const buttonEl =\n",
              "        document.querySelector('#df-387e6be3-dce3-4990-bebb-fa51d9785614 button.colab-df-convert');\n",
              "      buttonEl.style.display =\n",
              "        google.colab.kernel.accessAllowed ? 'block' : 'none';\n",
              "\n",
              "      async function convertToInteractive(key) {\n",
              "        const element = document.querySelector('#df-387e6be3-dce3-4990-bebb-fa51d9785614');\n",
              "        const dataTable =\n",
              "          await google.colab.kernel.invokeFunction('convertToInteractive',\n",
              "                                                    [key], {});\n",
              "        if (!dataTable) return;\n",
              "\n",
              "        const docLinkHtml = 'Like what you see? Visit the ' +\n",
              "          '<a target=\"_blank\" href=https://colab.research.google.com/notebooks/data_table.ipynb>data table notebook</a>'\n",
              "          + ' to learn more about interactive tables.';\n",
              "        element.innerHTML = '';\n",
              "        dataTable['output_type'] = 'display_data';\n",
              "        await google.colab.output.renderOutput(dataTable, element);\n",
              "        const docLink = document.createElement('div');\n",
              "        docLink.innerHTML = docLinkHtml;\n",
              "        element.appendChild(docLink);\n",
              "      }\n",
              "    </script>\n",
              "  </div>\n",
              "\n",
              "\n",
              "<div id=\"df-a653ca68-b6e7-478c-890c-e573ce3d0ea3\">\n",
              "  <button class=\"colab-df-quickchart\" onclick=\"quickchart('df-a653ca68-b6e7-478c-890c-e573ce3d0ea3')\"\n",
              "            title=\"Suggest charts\"\n",
              "            style=\"display:none;\">\n",
              "\n",
              "<svg xmlns=\"http://www.w3.org/2000/svg\" height=\"24px\"viewBox=\"0 0 24 24\"\n",
              "     width=\"24px\">\n",
              "    <g>\n",
              "        <path d=\"M19 3H5c-1.1 0-2 .9-2 2v14c0 1.1.9 2 2 2h14c1.1 0 2-.9 2-2V5c0-1.1-.9-2-2-2zM9 17H7v-7h2v7zm4 0h-2V7h2v10zm4 0h-2v-4h2v4z\"/>\n",
              "    </g>\n",
              "</svg>\n",
              "  </button>\n",
              "\n",
              "<style>\n",
              "  .colab-df-quickchart {\n",
              "      --bg-color: #E8F0FE;\n",
              "      --fill-color: #1967D2;\n",
              "      --hover-bg-color: #E2EBFA;\n",
              "      --hover-fill-color: #174EA6;\n",
              "      --disabled-fill-color: #AAA;\n",
              "      --disabled-bg-color: #DDD;\n",
              "  }\n",
              "\n",
              "  [theme=dark] .colab-df-quickchart {\n",
              "      --bg-color: #3B4455;\n",
              "      --fill-color: #D2E3FC;\n",
              "      --hover-bg-color: #434B5C;\n",
              "      --hover-fill-color: #FFFFFF;\n",
              "      --disabled-bg-color: #3B4455;\n",
              "      --disabled-fill-color: #666;\n",
              "  }\n",
              "\n",
              "  .colab-df-quickchart {\n",
              "    background-color: var(--bg-color);\n",
              "    border: none;\n",
              "    border-radius: 50%;\n",
              "    cursor: pointer;\n",
              "    display: none;\n",
              "    fill: var(--fill-color);\n",
              "    height: 32px;\n",
              "    padding: 0;\n",
              "    width: 32px;\n",
              "  }\n",
              "\n",
              "  .colab-df-quickchart:hover {\n",
              "    background-color: var(--hover-bg-color);\n",
              "    box-shadow: 0 1px 2px rgba(60, 64, 67, 0.3), 0 1px 3px 1px rgba(60, 64, 67, 0.15);\n",
              "    fill: var(--button-hover-fill-color);\n",
              "  }\n",
              "\n",
              "  .colab-df-quickchart-complete:disabled,\n",
              "  .colab-df-quickchart-complete:disabled:hover {\n",
              "    background-color: var(--disabled-bg-color);\n",
              "    fill: var(--disabled-fill-color);\n",
              "    box-shadow: none;\n",
              "  }\n",
              "\n",
              "  .colab-df-spinner {\n",
              "    border: 2px solid var(--fill-color);\n",
              "    border-color: transparent;\n",
              "    border-bottom-color: var(--fill-color);\n",
              "    animation:\n",
              "      spin 1s steps(1) infinite;\n",
              "  }\n",
              "\n",
              "  @keyframes spin {\n",
              "    0% {\n",
              "      border-color: transparent;\n",
              "      border-bottom-color: var(--fill-color);\n",
              "      border-left-color: var(--fill-color);\n",
              "    }\n",
              "    20% {\n",
              "      border-color: transparent;\n",
              "      border-left-color: var(--fill-color);\n",
              "      border-top-color: var(--fill-color);\n",
              "    }\n",
              "    30% {\n",
              "      border-color: transparent;\n",
              "      border-left-color: var(--fill-color);\n",
              "      border-top-color: var(--fill-color);\n",
              "      border-right-color: var(--fill-color);\n",
              "    }\n",
              "    40% {\n",
              "      border-color: transparent;\n",
              "      border-right-color: var(--fill-color);\n",
              "      border-top-color: var(--fill-color);\n",
              "    }\n",
              "    60% {\n",
              "      border-color: transparent;\n",
              "      border-right-color: var(--fill-color);\n",
              "    }\n",
              "    80% {\n",
              "      border-color: transparent;\n",
              "      border-right-color: var(--fill-color);\n",
              "      border-bottom-color: var(--fill-color);\n",
              "    }\n",
              "    90% {\n",
              "      border-color: transparent;\n",
              "      border-bottom-color: var(--fill-color);\n",
              "    }\n",
              "  }\n",
              "</style>\n",
              "\n",
              "  <script>\n",
              "    async function quickchart(key) {\n",
              "      const quickchartButtonEl =\n",
              "        document.querySelector('#' + key + ' button');\n",
              "      quickchartButtonEl.disabled = true;  // To prevent multiple clicks.\n",
              "      quickchartButtonEl.classList.add('colab-df-spinner');\n",
              "      try {\n",
              "        const charts = await google.colab.kernel.invokeFunction(\n",
              "            'suggestCharts', [key], {});\n",
              "      } catch (error) {\n",
              "        console.error('Error during call to suggestCharts:', error);\n",
              "      }\n",
              "      quickchartButtonEl.classList.remove('colab-df-spinner');\n",
              "      quickchartButtonEl.classList.add('colab-df-quickchart-complete');\n",
              "    }\n",
              "    (() => {\n",
              "      let quickchartButtonEl =\n",
              "        document.querySelector('#df-a653ca68-b6e7-478c-890c-e573ce3d0ea3 button');\n",
              "      quickchartButtonEl.style.display =\n",
              "        google.colab.kernel.accessAllowed ? 'block' : 'none';\n",
              "    })();\n",
              "  </script>\n",
              "</div>\n",
              "\n",
              "    </div>\n",
              "  </div>\n"
            ],
            "application/vnd.google.colaboratory.intrinsic+json": {
              "type": "dataframe",
              "summary": "{\n  \"name\": \"display_topics(nmf_model, tfidf_vectorizer)\",\n  \"rows\": 3394,\n  \"fields\": [\n    {\n      \"column\": \"Topic 0\",\n      \"properties\": {\n        \"dtype\": \"string\",\n        \"num_unique_values\": 3394,\n        \"samples\": [\n          \"huge\",\n          \"thinking\",\n          \"psychotic\"\n        ],\n        \"semantic_type\": \"\",\n        \"description\": \"\"\n      }\n    },\n    {\n      \"column\": \"Topic 1\",\n      \"properties\": {\n        \"dtype\": \"string\",\n        \"num_unique_values\": 3394,\n        \"samples\": [\n          \"concerned\",\n          \"sum\",\n          \"trustworthy\"\n        ],\n        \"semantic_type\": \"\",\n        \"description\": \"\"\n      }\n    },\n    {\n      \"column\": \"Topic 2\",\n      \"properties\": {\n        \"dtype\": \"string\",\n        \"num_unique_values\": 3394,\n        \"samples\": [\n          \"read\",\n          \"holiday\",\n          \"widow\"\n        ],\n        \"semantic_type\": \"\",\n        \"description\": \"\"\n      }\n    },\n    {\n      \"column\": \"Topic 3\",\n      \"properties\": {\n        \"dtype\": \"string\",\n        \"num_unique_values\": 3394,\n        \"samples\": [\n          \"witness\",\n          \"tolerable\",\n          \"validate\"\n        ],\n        \"semantic_type\": \"\",\n        \"description\": \"\"\n      }\n    },\n    {\n      \"column\": \"Topic 4\",\n      \"properties\": {\n        \"dtype\": \"string\",\n        \"num_unique_values\": 3394,\n        \"samples\": [\n          \"urge\",\n          \"alcoholism\",\n          \"triangulation\"\n        ],\n        \"semantic_type\": \"\",\n        \"description\": \"\"\n      }\n    },\n    {\n      \"column\": \"Topic 5\",\n      \"properties\": {\n        \"dtype\": \"string\",\n        \"num_unique_values\": 3394,\n        \"samples\": [\n          \"adolescent\",\n          \"para\",\n          \"similarity\"\n        ],\n        \"semantic_type\": \"\",\n        \"description\": \"\"\n      }\n    },\n    {\n      \"column\": \"Topic 6\",\n      \"properties\": {\n        \"dtype\": \"string\",\n        \"num_unique_values\": 3394,\n        \"samples\": [\n          \"quick\",\n          \"approachable\",\n          \"darkness\"\n        ],\n        \"semantic_type\": \"\",\n        \"description\": \"\"\n      }\n    },\n    {\n      \"column\": \"Topic 7\",\n      \"properties\": {\n        \"dtype\": \"string\",\n        \"num_unique_values\": 3394,\n        \"samples\": [\n          \"shift\",\n          \"subcortical\",\n          \"criminal\"\n        ],\n        \"semantic_type\": \"\",\n        \"description\": \"\"\n      }\n    },\n    {\n      \"column\": \"Topic 8\",\n      \"properties\": {\n        \"dtype\": \"string\",\n        \"num_unique_values\": 3394,\n        \"samples\": [\n          \"mindset\",\n          \"impression\",\n          \"considerate\"\n        ],\n        \"semantic_type\": \"\",\n        \"description\": \"\"\n      }\n    },\n    {\n      \"column\": \"Topic 9\",\n      \"properties\": {\n        \"dtype\": \"string\",\n        \"num_unique_values\": 3394,\n        \"samples\": [\n          \"opening\",\n          \"trabajar\",\n          \"cornerstone\"\n        ],\n        \"semantic_type\": \"\",\n        \"description\": \"\"\n      }\n    }\n  ]\n}"
            }
          },
          "metadata": {},
          "execution_count": 19
        }
      ]
    },
    {
      "cell_type": "code",
      "source": [
        "import tmtoolkit\n",
        "\n",
        "vocaby = np.array(tfidf_vectorizer.get_feature_names_out())\n",
        "\n",
        "coherence = tmtoolkit.topicmod.evaluate.metric_coherence_gensim(measure='c_v',\n",
        "                        top_n=10,\n",
        "                        topic_word_distrib=nmf_model.components_,\n",
        "                        dtm=tfidf,\n",
        "                        vocab=vocaby,\n",
        "                        texts=final_text)\n",
        "np.mean(coherence)\n"
      ],
      "metadata": {
        "id": "cI4nzIX_kDDR",
        "colab": {
          "base_uri": "https://localhost:8080/"
        },
        "outputId": "036020ac-272e-4909-d080-ad38e498bcc9"
      },
      "execution_count": null,
      "outputs": [
        {
          "output_type": "execute_result",
          "data": {
            "text/plain": [
              "0.6053882380770063"
            ]
          },
          "metadata": {},
          "execution_count": 32
        }
      ]
    },
    {
      "cell_type": "markdown",
      "source": [
        "#HDP with BoW (Just work with gensim library) spaCy preprocessing\n"
      ],
      "metadata": {
        "id": "sAmpk4wUKaQV"
      }
    },
    {
      "cell_type": "code",
      "source": [
        "from gensim.models import HdpModel\n",
        "from gensim.corpora import Dictionary\n",
        "\n",
        "\n",
        "# Hierarchical Dirichlet Process\n",
        "# Create dictionary and corpus\n",
        "dictionaryHDP = Dictionary(final_text)\n",
        "corpusHDP = [dictionaryHDP.doc2bow(text) for text in final_text]\n",
        "\n",
        "# Apply HDP\n",
        "#hdp_model = HdpModel(corpusHDP, id2word=dictionaryHDP, alpha=0.2, gamma=0.1, eta=0.1)\n",
        "# coherence score : 0.7\n",
        "\n",
        "hdp_model = HdpModel(corpusHDP, id2word=dictionaryHDP, alpha=0.3, gamma=0.05, eta=0.1)\n",
        "\n",
        "\n",
        "\n",
        "#Higher values of alpha will lead to more topics being active in each document,\n",
        "#while lower values will lead to fewer topics being active.\n",
        "#By adjusting alpha, you can control the balance between topic specificity and document coverage\n",
        "\n",
        "#Higher values of gamma will lead to more words being assigned to each topic, while lower values will lead to fewer words\n",
        "\n",
        "#Higher values of eta will lead to more words being assigned to each topic, while lower values will lead to fewer words.\n",
        "#By adjusting eta, you can control the balance between topic specificity and word coverage at the global level.\n",
        "\n",
        "\n",
        "topic_info = hdp_model.print_topics(num_topics=5, num_words=10)\n",
        "display(topic_info)\n"
      ],
      "metadata": {
        "id": "k-GMImXB5y7r",
        "colab": {
          "base_uri": "https://localhost:8080/",
          "height": 1000
        },
        "outputId": "34a078f4-ccbf-4d45-892f-3ca30718e539"
      },
      "execution_count": null,
      "outputs": [
        {
          "output_type": "stream",
          "name": "stderr",
          "text": [
            "WARNING:gensim.models.hdpmodel:likelihood is decreasing!\n",
            "WARNING:gensim.models.hdpmodel:likelihood is decreasing!\n",
            "WARNING:gensim.models.hdpmodel:likelihood is decreasing!\n",
            "WARNING:gensim.models.hdpmodel:likelihood is decreasing!\n",
            "WARNING:gensim.models.hdpmodel:likelihood is decreasing!\n",
            "WARNING:gensim.models.hdpmodel:likelihood is decreasing!\n",
            "WARNING:gensim.models.hdpmodel:likelihood is decreasing!\n",
            "WARNING:gensim.models.hdpmodel:likelihood is decreasing!\n",
            "WARNING:gensim.models.hdpmodel:likelihood is decreasing!\n",
            "WARNING:gensim.models.hdpmodel:likelihood is decreasing!\n",
            "WARNING:gensim.models.hdpmodel:likelihood is decreasing!\n",
            "WARNING:gensim.models.hdpmodel:likelihood is decreasing!\n",
            "WARNING:gensim.models.hdpmodel:likelihood is decreasing!\n",
            "WARNING:gensim.models.hdpmodel:likelihood is decreasing!\n",
            "WARNING:gensim.models.hdpmodel:likelihood is decreasing!\n",
            "WARNING:gensim.models.hdpmodel:likelihood is decreasing!\n",
            "WARNING:gensim.models.hdpmodel:likelihood is decreasing!\n",
            "WARNING:gensim.models.hdpmodel:likelihood is decreasing!\n",
            "WARNING:gensim.models.hdpmodel:likelihood is decreasing!\n",
            "WARNING:gensim.models.hdpmodel:likelihood is decreasing!\n",
            "WARNING:gensim.models.hdpmodel:likelihood is decreasing!\n",
            "WARNING:gensim.models.hdpmodel:likelihood is decreasing!\n",
            "WARNING:gensim.models.hdpmodel:likelihood is decreasing!\n",
            "WARNING:gensim.models.hdpmodel:likelihood is decreasing!\n",
            "WARNING:gensim.models.hdpmodel:likelihood is decreasing!\n",
            "WARNING:gensim.models.hdpmodel:likelihood is decreasing!\n",
            "WARNING:gensim.models.hdpmodel:likelihood is decreasing!\n",
            "WARNING:gensim.models.hdpmodel:likelihood is decreasing!\n",
            "WARNING:gensim.models.hdpmodel:likelihood is decreasing!\n",
            "WARNING:gensim.models.hdpmodel:likelihood is decreasing!\n",
            "WARNING:gensim.models.hdpmodel:likelihood is decreasing!\n",
            "WARNING:gensim.models.hdpmodel:likelihood is decreasing!\n",
            "WARNING:gensim.models.hdpmodel:likelihood is decreasing!\n",
            "WARNING:gensim.models.hdpmodel:likelihood is decreasing!\n",
            "WARNING:gensim.models.hdpmodel:likelihood is decreasing!\n",
            "WARNING:gensim.models.hdpmodel:likelihood is decreasing!\n",
            "WARNING:gensim.models.hdpmodel:likelihood is decreasing!\n",
            "WARNING:gensim.models.hdpmodel:likelihood is decreasing!\n",
            "WARNING:gensim.models.hdpmodel:likelihood is decreasing!\n",
            "WARNING:gensim.models.hdpmodel:likelihood is decreasing!\n",
            "WARNING:gensim.models.hdpmodel:likelihood is decreasing!\n",
            "WARNING:gensim.models.hdpmodel:likelihood is decreasing!\n",
            "WARNING:gensim.models.hdpmodel:likelihood is decreasing!\n",
            "WARNING:gensim.models.hdpmodel:likelihood is decreasing!\n",
            "WARNING:gensim.models.hdpmodel:likelihood is decreasing!\n",
            "WARNING:gensim.models.hdpmodel:likelihood is decreasing!\n",
            "WARNING:gensim.models.hdpmodel:likelihood is decreasing!\n",
            "WARNING:gensim.models.hdpmodel:likelihood is decreasing!\n",
            "WARNING:gensim.models.hdpmodel:likelihood is decreasing!\n",
            "WARNING:gensim.models.hdpmodel:likelihood is decreasing!\n",
            "WARNING:gensim.models.hdpmodel:likelihood is decreasing!\n",
            "WARNING:gensim.models.hdpmodel:likelihood is decreasing!\n",
            "WARNING:gensim.models.hdpmodel:likelihood is decreasing!\n",
            "WARNING:gensim.models.hdpmodel:likelihood is decreasing!\n",
            "WARNING:gensim.models.hdpmodel:likelihood is decreasing!\n",
            "WARNING:gensim.models.hdpmodel:likelihood is decreasing!\n",
            "WARNING:gensim.models.hdpmodel:likelihood is decreasing!\n",
            "WARNING:gensim.models.hdpmodel:likelihood is decreasing!\n",
            "WARNING:gensim.models.hdpmodel:likelihood is decreasing!\n",
            "WARNING:gensim.models.hdpmodel:likelihood is decreasing!\n",
            "WARNING:gensim.models.hdpmodel:likelihood is decreasing!\n",
            "WARNING:gensim.models.hdpmodel:likelihood is decreasing!\n",
            "WARNING:gensim.models.hdpmodel:likelihood is decreasing!\n",
            "WARNING:gensim.models.hdpmodel:likelihood is decreasing!\n",
            "WARNING:gensim.models.hdpmodel:likelihood is decreasing!\n",
            "WARNING:gensim.models.hdpmodel:likelihood is decreasing!\n",
            "WARNING:gensim.models.hdpmodel:likelihood is decreasing!\n",
            "WARNING:gensim.models.hdpmodel:likelihood is decreasing!\n",
            "WARNING:gensim.models.hdpmodel:likelihood is decreasing!\n",
            "WARNING:gensim.models.hdpmodel:likelihood is decreasing!\n",
            "WARNING:gensim.models.hdpmodel:likelihood is decreasing!\n",
            "WARNING:gensim.models.hdpmodel:likelihood is decreasing!\n",
            "WARNING:gensim.models.hdpmodel:likelihood is decreasing!\n",
            "WARNING:gensim.models.hdpmodel:likelihood is decreasing!\n",
            "WARNING:gensim.models.hdpmodel:likelihood is decreasing!\n",
            "WARNING:gensim.models.hdpmodel:likelihood is decreasing!\n",
            "WARNING:gensim.models.hdpmodel:likelihood is decreasing!\n",
            "WARNING:gensim.models.hdpmodel:likelihood is decreasing!\n",
            "WARNING:gensim.models.hdpmodel:likelihood is decreasing!\n",
            "WARNING:gensim.models.hdpmodel:likelihood is decreasing!\n",
            "WARNING:gensim.models.hdpmodel:likelihood is decreasing!\n",
            "WARNING:gensim.models.hdpmodel:likelihood is decreasing!\n",
            "WARNING:gensim.models.hdpmodel:likelihood is decreasing!\n",
            "WARNING:gensim.models.hdpmodel:likelihood is decreasing!\n",
            "WARNING:gensim.models.hdpmodel:likelihood is decreasing!\n",
            "WARNING:gensim.models.hdpmodel:likelihood is decreasing!\n",
            "WARNING:gensim.models.hdpmodel:likelihood is decreasing!\n",
            "WARNING:gensim.models.hdpmodel:likelihood is decreasing!\n",
            "WARNING:gensim.models.hdpmodel:likelihood is decreasing!\n",
            "WARNING:gensim.models.hdpmodel:likelihood is decreasing!\n",
            "WARNING:gensim.models.hdpmodel:likelihood is decreasing!\n",
            "WARNING:gensim.models.hdpmodel:likelihood is decreasing!\n",
            "WARNING:gensim.models.hdpmodel:likelihood is decreasing!\n",
            "WARNING:gensim.models.hdpmodel:likelihood is decreasing!\n",
            "WARNING:gensim.models.hdpmodel:likelihood is decreasing!\n",
            "WARNING:gensim.models.hdpmodel:likelihood is decreasing!\n",
            "WARNING:gensim.models.hdpmodel:likelihood is decreasing!\n",
            "WARNING:gensim.models.hdpmodel:likelihood is decreasing!\n",
            "WARNING:gensim.models.hdpmodel:likelihood is decreasing!\n",
            "WARNING:gensim.models.hdpmodel:likelihood is decreasing!\n",
            "WARNING:gensim.models.hdpmodel:likelihood is decreasing!\n",
            "WARNING:gensim.models.hdpmodel:likelihood is decreasing!\n",
            "WARNING:gensim.models.hdpmodel:likelihood is decreasing!\n",
            "WARNING:gensim.models.hdpmodel:likelihood is decreasing!\n",
            "WARNING:gensim.models.hdpmodel:likelihood is decreasing!\n",
            "WARNING:gensim.models.hdpmodel:likelihood is decreasing!\n",
            "WARNING:gensim.models.hdpmodel:likelihood is decreasing!\n",
            "WARNING:gensim.models.hdpmodel:likelihood is decreasing!\n",
            "WARNING:gensim.models.hdpmodel:likelihood is decreasing!\n",
            "WARNING:gensim.models.hdpmodel:likelihood is decreasing!\n",
            "WARNING:gensim.models.hdpmodel:likelihood is decreasing!\n"
          ]
        },
        {
          "output_type": "display_data",
          "data": {
            "text/plain": [
              "[(0,\n",
              "  '0.018*therapist + 0.016*relationship + 0.015*good + 0.014*time + 0.013*way + 0.011*thing + 0.010*client + 0.009*people + 0.009*counselor + 0.008*life'),\n",
              " (1,\n",
              "  '0.007*relationship + 0.007*time + 0.006*way + 0.006*good + 0.004*therapist + 0.004*font + 0.004*thing + 0.004*people + 0.004*family + 0.004*life'),\n",
              " (2,\n",
              "  '0.007*time + 0.007*relationship + 0.007*way + 0.006*good + 0.006*people + 0.004*thing + 0.004*feeling + 0.003*life + 0.003*therapist + 0.003*person'),\n",
              " (3,\n",
              "  '0.005*good + 0.005*time + 0.004*life + 0.004*thing + 0.004*relationship + 0.003*way + 0.003*therapist + 0.003*people + 0.003*self + 0.003*feeling'),\n",
              " (4,\n",
              "  '0.004*thing + 0.004*way + 0.003*relationship + 0.003*time + 0.003*good + 0.003*people + 0.002*life + 0.002*feeling + 0.002*anxiety + 0.002*question')]"
            ]
          },
          "metadata": {}
        }
      ]
    },
    {
      "cell_type": "code",
      "source": [
        "from gensim.models import CoherenceModel\n",
        "coherenceHDP =CoherenceModel(model=hdp_model,texts=final_text,dictionary=dictionaryHDP,coherence='c_v')\n",
        "\n",
        "coherenceHDP =coherenceHDP.get_coherence()\n",
        "print('Coherence Score: ',coherenceHDP)"
      ],
      "metadata": {
        "colab": {
          "base_uri": "https://localhost:8080/"
        },
        "id": "P6qiJ00w1Cpk",
        "outputId": "3389a1c5-5886-4273-a05d-3095861e7c77"
      },
      "execution_count": null,
      "outputs": [
        {
          "output_type": "stream",
          "name": "stderr",
          "text": [
            "/usr/local/lib/python3.10/dist-packages/ipykernel/ipkernel.py:283: DeprecationWarning: `should_run_async` will not call `transform_cell` automatically in the future. Please pass the result to `transformed_cell` argument and any exception that happen during thetransform in `preprocessing_exc_tuple` in IPython 7.17 and above.\n",
            "  and should_run_async(code)\n"
          ]
        },
        {
          "output_type": "stream",
          "name": "stdout",
          "text": [
            "Coherence Score:  0.7018558785187294\n"
          ]
        }
      ]
    },
    {
      "cell_type": "code",
      "source": [
        "import matplotlib.pyplot as plt\n",
        "\n",
        "# Example topics data\n",
        "topics_data = [(0, '0.017*relationship + 0.017*therapist + 0.015*good + 0.013*time + 0.013*way + 0.010*people + 0.010*thing + 0.009*client + 0.009*life + 0.008*counselor'),\n",
        "               (1, '0.008*time + 0.008*way + 0.008*thing + 0.008*good + 0.007*relationship + 0.006*therapist + 0.006*people + 0.005*life + 0.005*thought + 0.004*feeling'),\n",
        "               (2, '0.008*anxiety + 0.007*thing + 0.007*time + 0.007*therapist + 0.007*way + 0.006*good + 0.005*people + 0.005*thought + 0.005*life + 0.004*relationship'),\n",
        "               (3, '0.005*good + 0.005*time + 0.004*thing + 0.004*life + 0.004*therapist + 0.004*way + 0.003*people + 0.003*feeling + 0.003*anxiety + 0.003*therapy'),\n",
        "               (4, '0.002*good + 0.002*time + 0.002*feeling + 0.002*way + 0.002*people + 0.002*anxiety + 0.001*therapist + 0.001*relationship + 0.001*life + 0.001*code'),\n",
        "               (5, '0.002*time + 0.002*people + 0.002*way + 0.002*good + 0.001*therapist + 0.001*therapy + 0.001*neuropsychologist + 0.001*life + 0.001*thing + 0.001*change'),\n",
        "               (6, '0.002*good + 0.002*thing + 0.002*people + 0.002*issue + 0.001*anxiety + 0.001*way + 0.001*worth + 0.001*therapy + 0.001*needs + 0.001*life'),\n",
        "               (7, '0.002*thing + 0.001*people + 0.001*self + 0.001*anxiety + 0.001*conclusión + 0.001*conducta + 0.001*therapist + 0.001*way + 0.001*image + 0.001*relaxing'),\n",
        "               (8, '0.002*fear + 0.001*direction?neither + 0.001*person + 0.001*people + 0.001*good + 0.001*time + 0.001*debit + 0.001*question + 0.001*uncomfortableness + 0.001*razonable'),\n",
        "               (9, '0.002*way + 0.001*relationship + 0.001*feeling + 0.001*people + 0.001*life + 0.001*possible + 0.001*therapist + 0.001*support + 0.001*worthless + 0.001*leave')]\n",
        "\n",
        "# Function to extract topic words and probabilities\n",
        "def extract_words_probs(topic_str):\n",
        "    words_probs = [word_prob.split('*') for word_prob in topic_str.split(' + ')]\n",
        "    words, probs = zip(*[(word.strip(), float(prob)) for prob, word in words_probs])\n",
        "    return words, probs\n",
        "\n",
        "# Plot bar chart for each topic\n",
        "for topic_id, topic_str in topics_data:\n",
        "    words, probs = extract_words_probs(topic_str)\n",
        "    plt.figure(figsize=(4, 3))\n",
        "    plt.barh(range(len(words)), probs, color='skyblue')\n",
        "    plt.yticks(range(len(words)), words)\n",
        "    plt.xlabel('Probability')\n",
        "    plt.title(f'Topic {topic_id}')\n",
        "    plt.gca().invert_yaxis()\n",
        "    plt.show()\n"
      ],
      "metadata": {
        "colab": {
          "base_uri": "https://localhost:8080/",
          "height": 1000
        },
        "id": "Efx1hWKyomK8",
        "outputId": "a72eb607-c78b-4fde-b44b-1b281a889e2c"
      },
      "execution_count": null,
      "outputs": [
        {
          "output_type": "stream",
          "name": "stderr",
          "text": [
            "/usr/local/lib/python3.10/dist-packages/ipykernel/ipkernel.py:283: DeprecationWarning: `should_run_async` will not call `transform_cell` automatically in the future. Please pass the result to `transformed_cell` argument and any exception that happen during thetransform in `preprocessing_exc_tuple` in IPython 7.17 and above.\n",
            "  and should_run_async(code)\n"
          ]
        },
        {
          "output_type": "display_data",
          "data": {
            "text/plain": [
              "<Figure size 400x300 with 1 Axes>"
            ],
            "image/png": "[encoded data removed]"
          },
          "metadata": {}
        },
        {
          "output_type": "display_data",
          "data": {
            "text/plain": [
              "<Figure size 400x300 with 1 Axes>"
            ],
            "image/png": "[encoded data removed]"
          },
          "metadata": {}
        },
        {
          "output_type": "display_data",
          "data": {
            "text/plain": [
              "<Figure size 400x300 with 1 Axes>"
            ],
            "image/png": "[encoded data removed]"
          },
          "metadata": {}
        },
        {
          "output_type": "display_data",
          "data": {
            "text/plain": [
              "<Figure size 400x300 with 1 Axes>"
            ],
            "image/png": "[encoded data removed]"
          },
          "metadata": {}
        },
        {
          "output_type": "display_data",
          "data": {
            "text/plain": [
              "<Figure size 400x300 with 1 Axes>"
            ],
            "image/png": "[encoded data removed]"
          },
          "metadata": {}
        },
        {
          "output_type": "display_data",
          "data": {
            "text/plain": [
              "<Figure size 400x300 with 1 Axes>"
            ],
            "image/png": "[encoded data removed]"
          },
          "metadata": {}
        },
        {
          "output_type": "display_data",
          "data": {
            "text/plain": [
              "<Figure size 400x300 with 1 Axes>"
            ],
            "image/png": "[encoded data removed]"
          },
          "metadata": {}
        },
        {
          "output_type": "display_data",
          "data": {
            "text/plain": [
              "<Figure size 400x300 with 1 Axes>"
            ],
            "image/png": "[encoded data removed]"
          },
          "metadata": {}
        },
        {
          "output_type": "display_data",
          "data": {
            "text/plain": [
              "<Figure size 400x300 with 1 Axes>"
            ],
            "image/png": "[encoded data removed]"
          },
          "metadata": {}
        },
        {
          "output_type": "display_data",
          "data": {
            "text/plain": [
              "<Figure size 400x300 with 1 Axes>"
            ],
            "image/png": "[encoded data removed]"
          },
          "metadata": {}
        }
      ]
    },
    {
      "cell_type": "markdown",
      "source": [
        "#LSA with TF-IDF on Spacy: **"
      ],
      "metadata": {
        "id": "IMpcspn7Ymrr"
      }
    },
    {
      "cell_type": "code",
      "source": [
        "from sklearn.decomposition import TruncatedSVD\n",
        "\n",
        "# Combine preprocessed tokens back into text\n",
        "final_text_joined = [' '.join(tokens) for tokens in final_text]\n",
        "\n",
        "# TF-IDF Vectorization\n",
        "vectorizerLSA = TfidfVectorizer(max_df=0.95, min_df=2, stop_words='english')\n",
        "tf_idf_matrix = vectorizerLSA.fit_transform(final_text_joined)\n",
        "\n",
        "# Dimensionality reduction using SVD (similar to LSA)\n",
        "n_components = 10  # Adjust the number of dimensions (topics)\n",
        "svd = TruncatedSVD(n_components=n_components)\n",
        "lsa_matrix = svd.fit_transform(tf_idf_matrix)\n",
        "\n",
        "def display_lsa_components(model, vectorizer, no_top_words):\n",
        "    vocabulary = vectorizer.vocabulary_\n",
        "    for comp_idx, component in enumerate(model.components_):\n",
        "        print(f\"Component {comp_idx}:\")\n",
        "        top_words_indices = component.argsort()[:-no_top_words - 1:-1]  # Indices of top words\n",
        "        top_words = [list(vocabulary.keys())[i] for i in top_words_indices]  # Get words from indices\n",
        "        print(\" \".join(top_words))\n",
        "\n",
        "display_lsa_components(svd, vectorizerLSA, 10)"
      ],
      "metadata": {
        "id": "CA6Z0_9IgHe6",
        "colab": {
          "base_uri": "https://localhost:8080/"
        },
        "outputId": "ef443759-d10b-4240-f6a0-e4a4729797c4"
      },
      "execution_count": null,
      "outputs": [
        {
          "output_type": "stream",
          "name": "stdout",
          "text": [
            "Component 0:\n",
            "premise inconsiderate smile feat transitioning loyalty revelation fallible sensation memory\n",
            "Component 1:\n",
            "premise loyalty opinion disproportionate caregiver sibling huge separate boiling perception\n",
            "Component 2:\n",
            "impact divorced progressive goodbye fallible revelation inability informational sensation balanced\n",
            "Component 3:\n",
            "room philosophical acupuncture premise compassionate forgiveness lucky necessary realization perception\n",
            "Component 4:\n",
            "balanced loyalty room memory conducive philosophical afraid ambivalent forgiveness chain\n",
            "Component 5:\n",
            "caregiver huge perception opinion motive loyalty inconsiderate bodyspotting goodbye sensation\n",
            "Component 6:\n",
            "opinion perception divorced huge inability floor fallible revelation unsuccessful massage\n",
            "Component 7:\n",
            "opinion impact inconsiderate perception room loyalty disproportionate philosophical conducive informational\n",
            "Component 8:\n",
            "divorced room caregiver remedy huge inconsiderate philosophical abstract belly premise\n",
            "Component 9:\n",
            "empathy balanced memory slack breaking perception afraid massage shelf functional\n"
          ]
        }
      ]
    },
    {
      "cell_type": "code",
      "source": [
        "import tmtoolkit\n",
        "\n",
        "vocaby = np.array(vectorizerLSA.get_feature_names_out())\n",
        "\n",
        "coherence = tmtoolkit.topicmod.evaluate.metric_coherence_gensim(measure='c_v',\n",
        "                        top_n=10,\n",
        "                        topic_word_distrib=svd.components_,\n",
        "                        dtm=tf_idf_matrix,\n",
        "                        vocab=vocaby,\n",
        "                        texts=final_text)\n",
        "np.mean(coherence)"
      ],
      "metadata": {
        "colab": {
          "base_uri": "https://localhost:8080/"
        },
        "id": "BC2gdYAWx4ax",
        "outputId": "51a01d95-8bd0-4eee-926d-e51f8e0a288d"
      },
      "execution_count": null,
      "outputs": [
        {
          "output_type": "execute_result",
          "data": {
            "text/plain": [
              "0.4818331677457889"
            ]
          },
          "metadata": {},
          "execution_count": 42
        }
      ]
    },
    {
      "cell_type": "markdown",
      "source": [
        "##NLTK preprocessing:"
      ],
      "metadata": {
        "id": "FE9xlNdxgIWu"
      }
    },
    {
      "cell_type": "code",
      "source": [
        "import nltk\n",
        "from nltk.corpus import stopwords\n",
        "from nltk.tokenize import word_tokenize\n",
        "from nltk.stem import WordNetLemmatizer\n",
        "from nltk import pos_tag\n",
        "import string\n",
        "\n",
        "# Download NLTK resources (run once)\n",
        "nltk.download('punkt')\n",
        "nltk.download('stopwords')\n",
        "nltk.download('wordnet')\n",
        "nltk.download('averaged_perceptron_tagger')\n",
        "\n",
        "def preprocess(text):\n",
        "    # Lowercase\n",
        "    text = text.lower()\n",
        "    # Tokenization\n",
        "    tokens = word_tokenize(text)\n",
        "\n",
        "    # Remove punctuation\n",
        "    tokens = [token for token in tokens if token not in string.punctuation]\n",
        "\n",
        "    # Remove stopwords\n",
        "    stop_words = set(stopwords.words('english'))\n",
        "    tokens = [token for token in tokens if token not in stop_words]\n",
        "\n",
        "    # POS tagging\n",
        "    tokens_pos = pos_tag(tokens)\n",
        "\n",
        "    # Lemmatization for adjectives and nouns\n",
        "    lemmatizer = WordNetLemmatizer()\n",
        "    tokens = [lemmatizer.lemmatize(word, pos=get_wordnet_pos(pos_tag)) for word, pos_tag in tokens_pos\n",
        "              if pos_tag.startswith('J') or pos_tag.startswith('N')]\n",
        "\n",
        "    return tokens\n",
        "\n",
        "# Function to map NLTK POS tags to WordNet POS tags\n",
        "def get_wordnet_pos(treebank_tag):\n",
        "    if treebank_tag.startswith('J'):\n",
        "        return 'a'  # Adjective\n",
        "    elif treebank_tag.startswith('V'):\n",
        "        return 'v'  # Verb\n",
        "    elif treebank_tag.startswith('N'):\n",
        "        return 'n'  # Noun\n",
        "    elif treebank_tag.startswith('R'):\n",
        "        return 'r'  # Adverb\n",
        "    else:\n",
        "        return 'n'  # Default to noun\n",
        "preprocessed_textN = []\n",
        "\n",
        "for text in cleaned_new_answertext:\n",
        "  textfinal = preprocess(text)\n",
        "  preprocessed_textN.append(textfinal)\n",
        "\n",
        "\n",
        "print(preprocessed_textN[0])"
      ],
      "metadata": {
        "id": "8p_cp_vn5y-V",
        "colab": {
          "base_uri": "https://localhost:8080/"
        },
        "outputId": "a6a27c96-ce1b-4793-de44-1091787e0ec5"
      },
      "execution_count": null,
      "outputs": [
        {
          "output_type": "stream",
          "name": "stderr",
          "text": [
            "[nltk_data] Downloading package punkt to /root/nltk_data...\n",
            "[nltk_data]   Unzipping tokenizers/punkt.zip.\n",
            "[nltk_data] Downloading package stopwords to /root/nltk_data...\n",
            "[nltk_data]   Unzipping corpora/stopwords.zip.\n",
            "[nltk_data] Downloading package wordnet to /root/nltk_data...\n",
            "[nltk_data] Downloading package averaged_perceptron_tagger to\n",
            "[nltk_data]     /root/nltk_data...\n",
            "[nltk_data]   Unzipping taggers/averaged_perceptron_tagger.zip.\n"
          ]
        },
        {
          "output_type": "stream",
          "name": "stdout",
          "text": [
            "['common', 'people', 'multiple', 'issue', 'need', 'address', 'client', 'question', 'exploration', 'underlying', 'fear', 'much', 'therapist', 'ring', 'true', 'people', 'problem', 'people', 'numerous', 'significant', 'stressor', 'let', 'face', 'life', 'therapist', 'ready', 'handle', 'issue', 'small', 'large', 'client', 'present', 'session', 'therapist', 'couple', 'session', 'issue', 'start', 'issue', 'distress', 'many', 'issue', 'issue', 'mention']\n"
          ]
        }
      ]
    },
    {
      "cell_type": "code",
      "source": [
        "# Create an empty dictionary to store the word counts\n",
        "word_counts = {}\n",
        "\n",
        "# Iterate over each document\n",
        "for doc in preprocessed_textN:\n",
        "    # Iterate over each word in the document\n",
        "    for word in doc:\n",
        "        # Increment the count for the word in the dictionary\n",
        "        word_counts[word] = word_counts.get(word, 0) + 1\n",
        "\n",
        "\n",
        "min_count = 10\n",
        "word_counts = {word: count for word, count in word_counts.items() if count >= min_count}\n",
        "\n",
        "# Create a dictionary object mapping words to unique IDs\n",
        "dictionary2 = {word: index for index, word in enumerate(word_counts.keys())}\n",
        "\n",
        "\n",
        "\n",
        "\n",
        "print(\"Length of processed_docs:\", len(preprocessed_textN))\n",
        "print(\"Length of dictionary:\", len(dictionary2))\n",
        "\n",
        "# Print the first 10 items in the dictionary (word, index)\n",
        "for index, (word, _) in enumerate(dictionary2.items()):\n",
        "    if index >= 10:\n",
        "        break\n",
        "    print(word, index)\n"
      ],
      "metadata": {
        "colab": {
          "base_uri": "https://localhost:8080/"
        },
        "id": "eORmQJX9kBHl",
        "outputId": "30bd5827-77fe-4dac-c657-bf8523cb1ae5"
      },
      "execution_count": null,
      "outputs": [
        {
          "output_type": "stream",
          "name": "stdout",
          "text": [
            "Length of processed_docs: 2612\n",
            "Length of dictionary: 1565\n",
            "common 0\n",
            "people 1\n",
            "multiple 2\n",
            "issue 3\n",
            "need 4\n",
            "address 5\n",
            "client 6\n",
            "question 7\n",
            "exploration 8\n",
            "underlying 9\n"
          ]
        }
      ]
    },
    {
      "cell_type": "markdown",
      "source": [
        "\n",
        "TF-IDF Vectorization\n"
      ],
      "metadata": {
        "id": "8oWetm4AgFjS"
      }
    },
    {
      "cell_type": "code",
      "source": [
        "from sklearn.feature_extraction.text import TfidfVectorizer\n",
        "\n",
        "# Convert preprocessed text to numerical vectors using TF-IDF\n",
        "tfidf_vectorizer = TfidfVectorizer()\n",
        "X2 = tfidf_vectorizer.fit_transform([text for text in dictionary2.keys()])\n",
        "print(X2.shape)"
      ],
      "metadata": {
        "colab": {
          "base_uri": "https://localhost:8080/"
        },
        "id": "9SyVPB7Mf-9B",
        "outputId": "c61dd157-3fc8-4c7a-98c0-88aa733bb727"
      },
      "execution_count": null,
      "outputs": [
        {
          "output_type": "stream",
          "name": "stdout",
          "text": [
            "(1565, 1546)\n"
          ]
        }
      ]
    },
    {
      "cell_type": "code",
      "source": [
        "## We will use PCA only on the large dataset for reduction and clustering, here is the code.\n",
        "from sklearn.decomposition import PCA\n",
        "\n",
        "pca = PCA(n_components=0.95, random_state=42)\n",
        "X2_reduced= pca.fit_transform(X2.toarray())\n",
        "X2_reduced.shape"
      ],
      "metadata": {
        "id": "B1FXKkUH93sq",
        "colab": {
          "base_uri": "https://localhost:8080/"
        },
        "outputId": "a861b608-db0b-4f2d-f198-dc41ffcd1a13"
      },
      "execution_count": null,
      "outputs": [
        {
          "output_type": "stream",
          "name": "stderr",
          "text": [
            "/usr/local/lib/python3.10/dist-packages/ipykernel/ipkernel.py:283: DeprecationWarning: `should_run_async` will not call `transform_cell` automatically in the future. Please pass the result to `transformed_cell` argument and any exception that happen during thetransform in `preprocessing_exc_tuple` in IPython 7.17 and above.\n",
            "  and should_run_async(code)\n"
          ]
        },
        {
          "output_type": "execute_result",
          "data": {
            "text/plain": [
              "(1565, 1459)"
            ]
          },
          "metadata": {},
          "execution_count": 19
        }
      ]
    },
    {
      "cell_type": "markdown",
      "source": [
        "#LDA with NLTK and sklearn"
      ],
      "metadata": {
        "id": "3-bVshEYu-Cc"
      }
    },
    {
      "cell_type": "code",
      "source": [
        "from sklearn.feature_extraction.text import CountVectorizer, TfidfVectorizer\n",
        "from sklearn.decomposition import LatentDirichletAllocation\n",
        "import pandas as pd\n",
        "\n",
        "# Convert the list of tokens back to text\n",
        "final_text2 = [' '.join(tokens) for tokens in preprocessed_textN]\n",
        "tf_vectorizer2 = CountVectorizer(max_df=0.95, min_df=2, stop_words='english')\n",
        "tf2 = tf_vectorizer2.fit_transform(final_text2)\n",
        "#max_df=0.95 -> terms appearing in more than 95% of the documents will be ignored.\n",
        "#min_df=2 -> terms must appear in at least 2 documents to be considered.\n",
        "\n",
        "#Fit the LDA model\n",
        "lda_model2 = LatentDirichletAllocation(n_components=10, max_iter=50, learning_method='online', learning_offset=50.,random_state=0,batch_size=250).fit(tf2)\n",
        "\n",
        "def display_topics(lda_model, tf_vectorizer):\n",
        "    feature_names = tf_vectorizer.get_feature_names_out()\n",
        "    topic_dict = {}\n",
        "    for topic_idx, topic in enumerate(lda_model.components_):\n",
        "        topic_words = [feature_names[i] for i in topic.argsort()[::-1]]\n",
        "        topic_dict[\"Topic %d\" % (topic_idx)] = topic_words\n",
        "    return pd.DataFrame(topic_dict)\n",
        "\n",
        "display_topics(lda_model2, tf_vectorizer2)"
      ],
      "metadata": {
        "colab": {
          "base_uri": "https://localhost:8080/",
          "height": 423
        },
        "id": "2iPgvFzBr1rF",
        "outputId": "4914d290-29a0-4ee0-db7e-bcdf5ff7afe3"
      },
      "execution_count": null,
      "outputs": [
        {
          "output_type": "execute_result",
          "data": {
            "text/plain": [
              "         Topic 0     Topic 1        Topic 2     Topic 3        Topic 4  \\\n",
              "0            dog       child        anxiety   therapist          hears   \n",
              "1        manager      parent        thought      client   presentation   \n",
              "2           blog      family     depression     therapy          skype   \n",
              "3        friends     support           help   counselor        elusive   \n",
              "4     adjustment    daughter          thing     session        bonding   \n",
              "...          ...         ...            ...         ...            ...   \n",
              "4684  compensate         den        telling      siente        healing   \n",
              "4685       ayudo  autoestima         street        comb           gary   \n",
              "4686      hables    atención  recientemente      absent      afterlife   \n",
              "4687        tear    momentos         orphan     prefers        chowwww   \n",
              "4688      honour       según          hecho  pregúntate  investigative   \n",
              "\n",
              "           Topic 5     Topic 6    Topic 7     Topic 8        Topic 9  \n",
              "0     relationship       cycle       heck         que            mso  \n",
              "1             time      winter       bump          la           font  \n",
              "2              way         day     scream          tu      addiction  \n",
              "3           people       binge     abrupt        para         family  \n",
              "4            thing     weather  honeymoon          te          theme  \n",
              "...            ...         ...        ...         ...            ...  \n",
              "4684    connective      remark        ver   inpatient         puedan  \n",
              "4685         latin        earn   abnormal  invitation           burn  \n",
              "4686        export  surprising    content        pack          shade  \n",
              "4687         props      debate     gentle      battle     dificultad  \n",
              "4688     signature  dishonesty     sucker       weigh  unfortunately  \n",
              "\n",
              "[4689 rows x 10 columns]"
            ],
            "text/html": [
              "\n",
              "  <div id=\"df-ec9a32ac-0330-45bc-9413-d887819c321f\" class=\"colab-df-container\">\n",
              "    <div>\n",
              "<style scoped>\n",
              "    .dataframe tbody tr th:only-of-type {\n",
              "        vertical-align: middle;\n",
              "    }\n",
              "\n",
              "    .dataframe tbody tr th {\n",
              "        vertical-align: top;\n",
              "    }\n",
              "\n",
              "    .dataframe thead th {\n",
              "        text-align: right;\n",
              "    }\n",
              "</style>\n",
              "<table border=\"1\" class=\"dataframe\">\n",
              "  <thead>\n",
              "    <tr style=\"text-align: right;\">\n",
              "      <th></th>\n",
              "      <th>Topic 0</th>\n",
              "      <th>Topic 1</th>\n",
              "      <th>Topic 2</th>\n",
              "      <th>Topic 3</th>\n",
              "      <th>Topic 4</th>\n",
              "      <th>Topic 5</th>\n",
              "      <th>Topic 6</th>\n",
              "      <th>Topic 7</th>\n",
              "      <th>Topic 8</th>\n",
              "      <th>Topic 9</th>\n",
              "    </tr>\n",
              "  </thead>\n",
              "  <tbody>\n",
              "    <tr>\n",
              "      <th>0</th>\n",
              "      <td>dog</td>\n",
              "      <td>child</td>\n",
              "      <td>anxiety</td>\n",
              "      <td>therapist</td>\n",
              "      <td>hears</td>\n",
              "      <td>relationship</td>\n",
              "      <td>cycle</td>\n",
              "      <td>heck</td>\n",
              "      <td>que</td>\n",
              "      <td>mso</td>\n",
              "    </tr>\n",
              "    <tr>\n",
              "      <th>1</th>\n",
              "      <td>manager</td>\n",
              "      <td>parent</td>\n",
              "      <td>thought</td>\n",
              "      <td>client</td>\n",
              "      <td>presentation</td>\n",
              "      <td>time</td>\n",
              "      <td>winter</td>\n",
              "      <td>bump</td>\n",
              "      <td>la</td>\n",
              "      <td>font</td>\n",
              "    </tr>\n",
              "    <tr>\n",
              "      <th>2</th>\n",
              "      <td>blog</td>\n",
              "      <td>family</td>\n",
              "      <td>depression</td>\n",
              "      <td>therapy</td>\n",
              "      <td>skype</td>\n",
              "      <td>way</td>\n",
              "      <td>day</td>\n",
              "      <td>scream</td>\n",
              "      <td>tu</td>\n",
              "      <td>addiction</td>\n",
              "    </tr>\n",
              "    <tr>\n",
              "      <th>3</th>\n",
              "      <td>friends</td>\n",
              "      <td>support</td>\n",
              "      <td>help</td>\n",
              "      <td>counselor</td>\n",
              "      <td>elusive</td>\n",
              "      <td>people</td>\n",
              "      <td>binge</td>\n",
              "      <td>abrupt</td>\n",
              "      <td>para</td>\n",
              "      <td>family</td>\n",
              "    </tr>\n",
              "    <tr>\n",
              "      <th>4</th>\n",
              "      <td>adjustment</td>\n",
              "      <td>daughter</td>\n",
              "      <td>thing</td>\n",
              "      <td>session</td>\n",
              "      <td>bonding</td>\n",
              "      <td>thing</td>\n",
              "      <td>weather</td>\n",
              "      <td>honeymoon</td>\n",
              "      <td>te</td>\n",
              "      <td>theme</td>\n",
              "    </tr>\n",
              "    <tr>\n",
              "      <th>...</th>\n",
              "      <td>...</td>\n",
              "      <td>...</td>\n",
              "      <td>...</td>\n",
              "      <td>...</td>\n",
              "      <td>...</td>\n",
              "      <td>...</td>\n",
              "      <td>...</td>\n",
              "      <td>...</td>\n",
              "      <td>...</td>\n",
              "      <td>...</td>\n",
              "    </tr>\n",
              "    <tr>\n",
              "      <th>4684</th>\n",
              "      <td>compensate</td>\n",
              "      <td>den</td>\n",
              "      <td>telling</td>\n",
              "      <td>siente</td>\n",
              "      <td>healing</td>\n",
              "      <td>connective</td>\n",
              "      <td>remark</td>\n",
              "      <td>ver</td>\n",
              "      <td>inpatient</td>\n",
              "      <td>puedan</td>\n",
              "    </tr>\n",
              "    <tr>\n",
              "      <th>4685</th>\n",
              "      <td>ayudo</td>\n",
              "      <td>autoestima</td>\n",
              "      <td>street</td>\n",
              "      <td>comb</td>\n",
              "      <td>gary</td>\n",
              "      <td>latin</td>\n",
              "      <td>earn</td>\n",
              "      <td>abnormal</td>\n",
              "      <td>invitation</td>\n",
              "      <td>burn</td>\n",
              "    </tr>\n",
              "    <tr>\n",
              "      <th>4686</th>\n",
              "      <td>hables</td>\n",
              "      <td>atención</td>\n",
              "      <td>recientemente</td>\n",
              "      <td>absent</td>\n",
              "      <td>afterlife</td>\n",
              "      <td>export</td>\n",
              "      <td>surprising</td>\n",
              "      <td>content</td>\n",
              "      <td>pack</td>\n",
              "      <td>shade</td>\n",
              "    </tr>\n",
              "    <tr>\n",
              "      <th>4687</th>\n",
              "      <td>tear</td>\n",
              "      <td>momentos</td>\n",
              "      <td>orphan</td>\n",
              "      <td>prefers</td>\n",
              "      <td>chowwww</td>\n",
              "      <td>props</td>\n",
              "      <td>debate</td>\n",
              "      <td>gentle</td>\n",
              "      <td>battle</td>\n",
              "      <td>dificultad</td>\n",
              "    </tr>\n",
              "    <tr>\n",
              "      <th>4688</th>\n",
              "      <td>honour</td>\n",
              "      <td>según</td>\n",
              "      <td>hecho</td>\n",
              "      <td>pregúntate</td>\n",
              "      <td>investigative</td>\n",
              "      <td>signature</td>\n",
              "      <td>dishonesty</td>\n",
              "      <td>sucker</td>\n",
              "      <td>weigh</td>\n",
              "      <td>unfortunately</td>\n",
              "    </tr>\n",
              "  </tbody>\n",
              "</table>\n",
              "<p>4689 rows × 10 columns</p>\n",
              "</div>\n",
              "    <div class=\"colab-df-buttons\">\n",
              "\n",
              "  <div class=\"colab-df-container\">\n",
              "    <button class=\"colab-df-convert\" onclick=\"convertToInteractive('df-ec9a32ac-0330-45bc-9413-d887819c321f')\"\n",
              "            title=\"Convert this dataframe to an interactive table.\"\n",
              "            style=\"display:none;\">\n",
              "\n",
              "  <svg xmlns=\"http://www.w3.org/2000/svg\" height=\"24px\" viewBox=\"0 -960 960 960\">\n",
              "    <path d=\"M120-120v-720h720v720H120Zm60-500h600v-160H180v160Zm220 220h160v-160H400v160Zm0 220h160v-160H400v160ZM180-400h160v-160H180v160Zm440 0h160v-160H620v160ZM180-180h160v-160H180v160Zm440 0h160v-160H620v160Z\"/>\n",
              "  </svg>\n",
              "    </button>\n",
              "\n",
              "  <style>\n",
              "    .colab-df-container {\n",
              "      display:flex;\n",
              "      gap: 12px;\n",
              "    }\n",
              "\n",
              "    .colab-df-convert {\n",
              "      background-color: #E8F0FE;\n",
              "      border: none;\n",
              "      border-radius: 50%;\n",
              "      cursor: pointer;\n",
              "      display: none;\n",
              "      fill: #1967D2;\n",
              "      height: 32px;\n",
              "      padding: 0 0 0 0;\n",
              "      width: 32px;\n",
              "    }\n",
              "\n",
              "    .colab-df-convert:hover {\n",
              "      background-color: #E2EBFA;\n",
              "      box-shadow: 0px 1px 2px rgba(60, 64, 67, 0.3), 0px 1px 3px 1px rgba(60, 64, 67, 0.15);\n",
              "      fill: #174EA6;\n",
              "    }\n",
              "\n",
              "    .colab-df-buttons div {\n",
              "      margin-bottom: 4px;\n",
              "    }\n",
              "\n",
              "    [theme=dark] .colab-df-convert {\n",
              "      background-color: #3B4455;\n",
              "      fill: #D2E3FC;\n",
              "    }\n",
              "\n",
              "    [theme=dark] .colab-df-convert:hover {\n",
              "      background-color: #434B5C;\n",
              "      box-shadow: 0px 1px 3px 1px rgba(0, 0, 0, 0.15);\n",
              "      filter: drop-shadow(0px 1px 2px rgba(0, 0, 0, 0.3));\n",
              "      fill: #FFFFFF;\n",
              "    }\n",
              "  </style>\n",
              "\n",
              "    <script>\n",
              "      const buttonEl =\n",
              "        document.querySelector('#df-ec9a32ac-0330-45bc-9413-d887819c321f button.colab-df-convert');\n",
              "      buttonEl.style.display =\n",
              "        google.colab.kernel.accessAllowed ? 'block' : 'none';\n",
              "\n",
              "      async function convertToInteractive(key) {\n",
              "        const element = document.querySelector('#df-ec9a32ac-0330-45bc-9413-d887819c321f');\n",
              "        const dataTable =\n",
              "          await google.colab.kernel.invokeFunction('convertToInteractive',\n",
              "                                                    [key], {});\n",
              "        if (!dataTable) return;\n",
              "\n",
              "        const docLinkHtml = 'Like what you see? Visit the ' +\n",
              "          '<a target=\"_blank\" href=https://colab.research.google.com/notebooks/data_table.ipynb>data table notebook</a>'\n",
              "          + ' to learn more about interactive tables.';\n",
              "        element.innerHTML = '';\n",
              "        dataTable['output_type'] = 'display_data';\n",
              "        await google.colab.output.renderOutput(dataTable, element);\n",
              "        const docLink = document.createElement('div');\n",
              "        docLink.innerHTML = docLinkHtml;\n",
              "        element.appendChild(docLink);\n",
              "      }\n",
              "    </script>\n",
              "  </div>\n",
              "\n",
              "\n",
              "<div id=\"df-893672e3-47f7-49b1-b952-21173e9ff5b2\">\n",
              "  <button class=\"colab-df-quickchart\" onclick=\"quickchart('df-893672e3-47f7-49b1-b952-21173e9ff5b2')\"\n",
              "            title=\"Suggest charts\"\n",
              "            style=\"display:none;\">\n",
              "\n",
              "<svg xmlns=\"http://www.w3.org/2000/svg\" height=\"24px\"viewBox=\"0 0 24 24\"\n",
              "     width=\"24px\">\n",
              "    <g>\n",
              "        <path d=\"M19 3H5c-1.1 0-2 .9-2 2v14c0 1.1.9 2 2 2h14c1.1 0 2-.9 2-2V5c0-1.1-.9-2-2-2zM9 17H7v-7h2v7zm4 0h-2V7h2v10zm4 0h-2v-4h2v4z\"/>\n",
              "    </g>\n",
              "</svg>\n",
              "  </button>\n",
              "\n",
              "<style>\n",
              "  .colab-df-quickchart {\n",
              "      --bg-color: #E8F0FE;\n",
              "      --fill-color: #1967D2;\n",
              "      --hover-bg-color: #E2EBFA;\n",
              "      --hover-fill-color: #174EA6;\n",
              "      --disabled-fill-color: #AAA;\n",
              "      --disabled-bg-color: #DDD;\n",
              "  }\n",
              "\n",
              "  [theme=dark] .colab-df-quickchart {\n",
              "      --bg-color: #3B4455;\n",
              "      --fill-color: #D2E3FC;\n",
              "      --hover-bg-color: #434B5C;\n",
              "      --hover-fill-color: #FFFFFF;\n",
              "      --disabled-bg-color: #3B4455;\n",
              "      --disabled-fill-color: #666;\n",
              "  }\n",
              "\n",
              "  .colab-df-quickchart {\n",
              "    background-color: var(--bg-color);\n",
              "    border: none;\n",
              "    border-radius: 50%;\n",
              "    cursor: pointer;\n",
              "    display: none;\n",
              "    fill: var(--fill-color);\n",
              "    height: 32px;\n",
              "    padding: 0;\n",
              "    width: 32px;\n",
              "  }\n",
              "\n",
              "  .colab-df-quickchart:hover {\n",
              "    background-color: var(--hover-bg-color);\n",
              "    box-shadow: 0 1px 2px rgba(60, 64, 67, 0.3), 0 1px 3px 1px rgba(60, 64, 67, 0.15);\n",
              "    fill: var(--button-hover-fill-color);\n",
              "  }\n",
              "\n",
              "  .colab-df-quickchart-complete:disabled,\n",
              "  .colab-df-quickchart-complete:disabled:hover {\n",
              "    background-color: var(--disabled-bg-color);\n",
              "    fill: var(--disabled-fill-color);\n",
              "    box-shadow: none;\n",
              "  }\n",
              "\n",
              "  .colab-df-spinner {\n",
              "    border: 2px solid var(--fill-color);\n",
              "    border-color: transparent;\n",
              "    border-bottom-color: var(--fill-color);\n",
              "    animation:\n",
              "      spin 1s steps(1) infinite;\n",
              "  }\n",
              "\n",
              "  @keyframes spin {\n",
              "    0% {\n",
              "      border-color: transparent;\n",
              "      border-bottom-color: var(--fill-color);\n",
              "      border-left-color: var(--fill-color);\n",
              "    }\n",
              "    20% {\n",
              "      border-color: transparent;\n",
              "      border-left-color: var(--fill-color);\n",
              "      border-top-color: var(--fill-color);\n",
              "    }\n",
              "    30% {\n",
              "      border-color: transparent;\n",
              "      border-left-color: var(--fill-color);\n",
              "      border-top-color: var(--fill-color);\n",
              "      border-right-color: var(--fill-color);\n",
              "    }\n",
              "    40% {\n",
              "      border-color: transparent;\n",
              "      border-right-color: var(--fill-color);\n",
              "      border-top-color: var(--fill-color);\n",
              "    }\n",
              "    60% {\n",
              "      border-color: transparent;\n",
              "      border-right-color: var(--fill-color);\n",
              "    }\n",
              "    80% {\n",
              "      border-color: transparent;\n",
              "      border-right-color: var(--fill-color);\n",
              "      border-bottom-color: var(--fill-color);\n",
              "    }\n",
              "    90% {\n",
              "      border-color: transparent;\n",
              "      border-bottom-color: var(--fill-color);\n",
              "    }\n",
              "  }\n",
              "</style>\n",
              "\n",
              "  <script>\n",
              "    async function quickchart(key) {\n",
              "      const quickchartButtonEl =\n",
              "        document.querySelector('#' + key + ' button');\n",
              "      quickchartButtonEl.disabled = true;  // To prevent multiple clicks.\n",
              "      quickchartButtonEl.classList.add('colab-df-spinner');\n",
              "      try {\n",
              "        const charts = await google.colab.kernel.invokeFunction(\n",
              "            'suggestCharts', [key], {});\n",
              "      } catch (error) {\n",
              "        console.error('Error during call to suggestCharts:', error);\n",
              "      }\n",
              "      quickchartButtonEl.classList.remove('colab-df-spinner');\n",
              "      quickchartButtonEl.classList.add('colab-df-quickchart-complete');\n",
              "    }\n",
              "    (() => {\n",
              "      let quickchartButtonEl =\n",
              "        document.querySelector('#df-893672e3-47f7-49b1-b952-21173e9ff5b2 button');\n",
              "      quickchartButtonEl.style.display =\n",
              "        google.colab.kernel.accessAllowed ? 'block' : 'none';\n",
              "    })();\n",
              "  </script>\n",
              "</div>\n",
              "\n",
              "    </div>\n",
              "  </div>\n"
            ],
            "application/vnd.google.colaboratory.intrinsic+json": {
              "type": "dataframe",
              "summary": "{\n  \"name\": \"display_topics(lda_model2, tf_vectorizer2)\",\n  \"rows\": 4689,\n  \"fields\": [\n    {\n      \"column\": \"Topic 0\",\n      \"properties\": {\n        \"dtype\": \"string\",\n        \"num_unique_values\": 4689,\n        \"samples\": [\n          \"play\",\n          \"remark\",\n          \"starter\"\n        ],\n        \"semantic_type\": \"\",\n        \"description\": \"\"\n      }\n    },\n    {\n      \"column\": \"Topic 1\",\n      \"properties\": {\n        \"dtype\": \"string\",\n        \"num_unique_values\": 4689,\n        \"samples\": [\n          \"overall\",\n          \"turning\",\n          \"hectic\"\n        ],\n        \"semantic_type\": \"\",\n        \"description\": \"\"\n      }\n    },\n    {\n      \"column\": \"Topic 2\",\n      \"properties\": {\n        \"dtype\": \"string\",\n        \"num_unique_values\": 4689,\n        \"samples\": [\n          \"business\",\n          \"\\u00e1reas\",\n          \"load\"\n        ],\n        \"semantic_type\": \"\",\n        \"description\": \"\"\n      }\n    },\n    {\n      \"column\": \"Topic 3\",\n      \"properties\": {\n        \"dtype\": \"string\",\n        \"num_unique_values\": 4689,\n        \"samples\": [\n          \"psychcentral\",\n          \"obsess\",\n          \"reassure\"\n        ],\n        \"semantic_type\": \"\",\n        \"description\": \"\"\n      }\n    },\n    {\n      \"column\": \"Topic 4\",\n      \"properties\": {\n        \"dtype\": \"string\",\n        \"num_unique_values\": 4689,\n        \"samples\": [\n          \"socialization\",\n          \"honestly\",\n          \"desahogarte\"\n        ],\n        \"semantic_type\": \"\",\n        \"description\": \"\"\n      }\n    },\n    {\n      \"column\": \"Topic 5\",\n      \"properties\": {\n        \"dtype\": \"string\",\n        \"num_unique_values\": 4689,\n        \"samples\": [\n          \"finite\",\n          \"trabaja\",\n          \"letting\"\n        ],\n        \"semantic_type\": \"\",\n        \"description\": \"\"\n      }\n    },\n    {\n      \"column\": \"Topic 6\",\n      \"properties\": {\n        \"dtype\": \"string\",\n        \"num_unique_values\": 4689,\n        \"samples\": [\n          \"consent\",\n          \"intento\",\n          \"voicemail\"\n        ],\n        \"semantic_type\": \"\",\n        \"description\": \"\"\n      }\n    },\n    {\n      \"column\": \"Topic 7\",\n      \"properties\": {\n        \"dtype\": \"string\",\n        \"num_unique_values\": 4689,\n        \"samples\": [\n          \"expresar\",\n          \"pareja\",\n          \"peaceful\"\n        ],\n        \"semantic_type\": \"\",\n        \"description\": \"\"\n      }\n    },\n    {\n      \"column\": \"Topic 8\",\n      \"properties\": {\n        \"dtype\": \"string\",\n        \"num_unique_values\": 4689,\n        \"samples\": [\n          \"milestone\",\n          \"nlm\",\n          \"silly\"\n        ],\n        \"semantic_type\": \"\",\n        \"description\": \"\"\n      }\n    },\n    {\n      \"column\": \"Topic 9\",\n      \"properties\": {\n        \"dtype\": \"string\",\n        \"num_unique_values\": 4689,\n        \"samples\": [\n          \"surgery\",\n          \"survive\",\n          \"inability\"\n        ],\n        \"semantic_type\": \"\",\n        \"description\": \"\"\n      }\n    }\n  ]\n}"
            }
          },
          "metadata": {},
          "execution_count": 46
        }
      ]
    },
    {
      "cell_type": "code",
      "source": [
        "log_likelihood = lda_model2.score(tf2)\n",
        "\n",
        "# Calculate perplexity\n",
        "perplexity = np.exp(-log_likelihood / tf2.shape[0])\n",
        "print(\"preplexity is \",perplexity)"
      ],
      "metadata": {
        "colab": {
          "base_uri": "https://localhost:8080/"
        },
        "id": "vdVkW-l1vM4c",
        "outputId": "c29c4f54-c2c6-4821-a08b-22fec06a308c"
      },
      "execution_count": null,
      "outputs": [
        {
          "output_type": "stream",
          "name": "stderr",
          "text": [
            "/usr/local/lib/python3.10/dist-packages/ipykernel/ipkernel.py:283: DeprecationWarning: `should_run_async` will not call `transform_cell` automatically in the future. Please pass the result to `transformed_cell` argument and any exception that happen during thetransform in `preprocessing_exc_tuple` in IPython 7.17 and above.\n",
            "  and should_run_async(code)\n"
          ]
        },
        {
          "output_type": "stream",
          "name": "stdout",
          "text": [
            "preplexity is  4.655542399488397e+133\n"
          ]
        }
      ]
    },
    {
      "cell_type": "code",
      "source": [
        "import tmtoolkit\n",
        "\n",
        "vocaby = np.array(tf_vectorizer2.get_feature_names_out())\n",
        "\n",
        "coherenceLDA = tmtoolkit.topicmod.evaluate.metric_coherence_gensim(measure='c_v',\n",
        "                        top_n=10,\n",
        "                        topic_word_distrib=lda_model2.components_,\n",
        "                        dtm=tf2,\n",
        "                        vocab=vocaby,\n",
        "                        texts=preprocessed_textN, return_mean=True)\n",
        "print(coherenceLDA)"
      ],
      "metadata": {
        "colab": {
          "base_uri": "https://localhost:8080/"
        },
        "id": "IqnrrXREcAQP",
        "outputId": "b2d225b8-a22b-4e87-e02f-acb9b16c1ba0"
      },
      "execution_count": null,
      "outputs": [
        {
          "output_type": "stream",
          "name": "stdout",
          "text": [
            "nan\n"
          ]
        },
        {
          "output_type": "stream",
          "name": "stderr",
          "text": [
            "/usr/local/lib/python3.10/dist-packages/gensim/topic_coherence/direct_confirmation_measure.py:204: RuntimeWarning: divide by zero encountered in scalar divide\n",
            "  m_lr_i = np.log(numerator / denominator)\n",
            "/usr/local/lib/python3.10/dist-packages/gensim/topic_coherence/indirect_confirmation_measure.py:323: RuntimeWarning: invalid value encountered in scalar divide\n",
            "  return cv1.T.dot(cv2)[0, 0] / (_magnitude(cv1) * _magnitude(cv2))\n"
          ]
        }
      ]
    },
    {
      "cell_type": "markdown",
      "source": [],
      "metadata": {
        "id": "fYdsH-1CsYLz"
      }
    },
    {
      "cell_type": "markdown",
      "source": [
        "#LSA with NLTK :"
      ],
      "metadata": {
        "id": "bwTo13vHvPZz"
      }
    },
    {
      "cell_type": "code",
      "source": [
        "from sklearn.decomposition import TruncatedSVD\n",
        "\n",
        "# Combine preprocessed tokens back into text\n",
        "final_text22 = [' '.join(tokens) for tokens in preprocessed_textN]\n",
        "\n",
        "# TF-IDF Vectorization\n",
        "vectorizer22 = TfidfVectorizer(max_df=0.95, min_df=2, stop_words='english')\n",
        "tf_idf_matrix22 = vectorizer22.fit_transform(final_text22)\n",
        "\n",
        "# Dimensionality reduction using SVD (similar to LSA)\n",
        "n_components = 10  # Adjust the number of dimensions (topics)\n",
        "svd2 = TruncatedSVD(n_components=n_components)\n",
        "lsa_matrix = svd2.fit_transform(tf_idf_matrix22)\n",
        "\n",
        "def display_lsa_components(model, vectorizer, no_top_words):\n",
        "    vocabulary = vectorizer.vocabulary_\n",
        "    for comp_idx, component in enumerate(model.components_):\n",
        "        print(f\"Component {comp_idx}:\")\n",
        "        top_words_indices = component.argsort()[:-no_top_words - 1:-1]  # Indices of top words\n",
        "        top_words = [list(vocabulary.keys())[i] for i in top_words_indices]  # Get words from indices\n",
        "        print(\" \".join(top_words))\n",
        "\n",
        "display_lsa_components(svd2, vectorizer22, 10)"
      ],
      "metadata": {
        "colab": {
          "base_uri": "https://localhost:8080/"
        },
        "id": "wn5mpEFEvS73",
        "outputId": "ff23d148-a1c6-49a2-e0fa-fb1f237b932e"
      },
      "execution_count": null,
      "outputs": [
        {
          "output_type": "stream",
          "name": "stdout",
          "text": [
            "Component 0:\n",
            "dissociation unethical slot saying syndrome validated han integrate decline date\n",
            "Component 1:\n",
            "unethical integrate unless chapter possession relax pressure pedophilia trapping ca\n",
            "Component 2:\n",
            "dissociation unethical achieve unless ｍｓ reverse schoolwork chapter ti science\n",
            "Component 3:\n",
            "action sends unethical repair validate ma wants ugh luck relax\n",
            "Component 4:\n",
            "relief possession dissociation combat scripture achieve grandchild pedophilia general empowers\n",
            "Component 5:\n",
            "possession integrate action myriad hide sends markmorrislcsw dissociation kick unless\n",
            "Component 6:\n",
            "comunicar texas signature spider retreat actual unless 0pt impulsive force\n",
            "Component 7:\n",
            "unless relax ca file dissociation syndrome chapter missing candy vuelve\n",
            "Component 8:\n",
            "relief action dissociation sends unless integrate helpguide achieve myriad markmorrislcsw\n",
            "Component 9:\n",
            "helpguide possession realm discussed letting unethical action unless dissociation file\n"
          ]
        }
      ]
    },
    {
      "cell_type": "code",
      "source": [
        "import tmtoolkit\n",
        "\n",
        "vocaby = np.array(vectorizer22.get_feature_names_out())\n",
        "\n",
        "coherenceLDA = tmtoolkit.topicmod.evaluate.metric_coherence_gensim(measure='c_v',\n",
        "                        top_n=10,\n",
        "                        topic_word_distrib=svd2.components_,\n",
        "                        dtm=tf_idf_matrix22,\n",
        "                        vocab=vocaby,\n",
        "                        texts=preprocessed_textN, return_mean=True)\n",
        "print(coherenceLDA)"
      ],
      "metadata": {
        "colab": {
          "base_uri": "https://localhost:8080/"
        },
        "id": "KAFHqG1LeNRk",
        "outputId": "f127d488-5c39-4475-a99c-cff4b67a724e"
      },
      "execution_count": null,
      "outputs": [
        {
          "output_type": "stream",
          "name": "stdout",
          "text": [
            "0.5703272422005503\n"
          ]
        }
      ]
    },
    {
      "cell_type": "markdown",
      "source": [
        "#NMF WITH nltk\n"
      ],
      "metadata": {
        "id": "JF4VAr-rx-kg"
      }
    },
    {
      "cell_type": "code",
      "source": [
        "from sklearn.decomposition import NMF\n",
        "\n",
        "# Create TF-IDF representation\n",
        "tfidf_vectorizernmf = TfidfVectorizer(max_df=0.95, min_df=2, stop_words='english')\n",
        "tfidfnmf = tfidf_vectorizernmf.fit_transform(final_text2)\n",
        "\n",
        "# Apply NMF\n",
        "nmf_model2 = NMF(n_components=10, random_state=1, l1_ratio=.5, init='nndsvd').fit(tfidfnmf)\n",
        "\n",
        "display_topics(nmf_model2, tfidf_vectorizernmf)\n"
      ],
      "metadata": {
        "colab": {
          "base_uri": "https://localhost:8080/",
          "height": 423
        },
        "id": "Bq4F0mhsx9rc",
        "outputId": "beb52245-d41a-4da0-e58a-4936bef1db51"
      },
      "execution_count": null,
      "outputs": [
        {
          "output_type": "execute_result",
          "data": {
            "text/plain": [
              "       Topic 0      Topic 1       Topic 2    Topic 3    Topic 4  \\\n",
              "0       people    therapist  relationship      child      issue   \n",
              "1         time  comfortable       partner     parent     trauma   \n",
              "2        thing        right         trust   daughter    problem   \n",
              "3         life          fit        couple     school       help   \n",
              "4          way      session           sex      adult    address   \n",
              "...        ...          ...           ...        ...        ...   \n",
              "4684  memorias  imagination      meltdown    quality   necesita   \n",
              "4685     creep    imaginary         mejor   quantity  necesario   \n",
              "4686      creo      scenery       meeting  frustrate       neat   \n",
              "4687     crime        image        medium   fruitful     nearby   \n",
              "4688   jumping           ｍｓ        0001pt    jumping     0001pt   \n",
              "\n",
              "             Topic 5  Topic 6    Topic 7      Topic 8     Topic 9  \n",
              "0            therapy      que     client      anxiety     thought  \n",
              "1            emotion       la  counselor   depression    negative  \n",
              "2             normal       tu    session      symptom        self  \n",
              "3            feeling     para       goal       social    positive  \n",
              "4               tear       te       work       attack     feeling  \n",
              "...              ...      ...        ...          ...         ...  \n",
              "4684  responsibility      hug   nervioso     majority    motivate  \n",
              "4685     responsible    https   neighbor  maintenance      motion  \n",
              "4686            hint     http   negociar   mainstream       motif  \n",
              "4687           hijos     html    neglect         main  motherhood  \n",
              "4688          0001pt  jumping     0001pt       0001pt      0001pt  \n",
              "\n",
              "[4689 rows x 10 columns]"
            ],
            "text/html": [
              "\n",
              "  <div id=\"df-4c850d76-3941-4abb-b904-8e74e0bc462d\" class=\"colab-df-container\">\n",
              "    <div>\n",
              "<style scoped>\n",
              "    .dataframe tbody tr th:only-of-type {\n",
              "        vertical-align: middle;\n",
              "    }\n",
              "\n",
              "    .dataframe tbody tr th {\n",
              "        vertical-align: top;\n",
              "    }\n",
              "\n",
              "    .dataframe thead th {\n",
              "        text-align: right;\n",
              "    }\n",
              "</style>\n",
              "<table border=\"1\" class=\"dataframe\">\n",
              "  <thead>\n",
              "    <tr style=\"text-align: right;\">\n",
              "      <th></th>\n",
              "      <th>Topic 0</th>\n",
              "      <th>Topic 1</th>\n",
              "      <th>Topic 2</th>\n",
              "      <th>Topic 3</th>\n",
              "      <th>Topic 4</th>\n",
              "      <th>Topic 5</th>\n",
              "      <th>Topic 6</th>\n",
              "      <th>Topic 7</th>\n",
              "      <th>Topic 8</th>\n",
              "      <th>Topic 9</th>\n",
              "    </tr>\n",
              "  </thead>\n",
              "  <tbody>\n",
              "    <tr>\n",
              "      <th>0</th>\n",
              "      <td>people</td>\n",
              "      <td>therapist</td>\n",
              "      <td>relationship</td>\n",
              "      <td>child</td>\n",
              "      <td>issue</td>\n",
              "      <td>therapy</td>\n",
              "      <td>que</td>\n",
              "      <td>client</td>\n",
              "      <td>anxiety</td>\n",
              "      <td>thought</td>\n",
              "    </tr>\n",
              "    <tr>\n",
              "      <th>1</th>\n",
              "      <td>time</td>\n",
              "      <td>comfortable</td>\n",
              "      <td>partner</td>\n",
              "      <td>parent</td>\n",
              "      <td>trauma</td>\n",
              "      <td>emotion</td>\n",
              "      <td>la</td>\n",
              "      <td>counselor</td>\n",
              "      <td>depression</td>\n",
              "      <td>negative</td>\n",
              "    </tr>\n",
              "    <tr>\n",
              "      <th>2</th>\n",
              "      <td>thing</td>\n",
              "      <td>right</td>\n",
              "      <td>trust</td>\n",
              "      <td>daughter</td>\n",
              "      <td>problem</td>\n",
              "      <td>normal</td>\n",
              "      <td>tu</td>\n",
              "      <td>session</td>\n",
              "      <td>symptom</td>\n",
              "      <td>self</td>\n",
              "    </tr>\n",
              "    <tr>\n",
              "      <th>3</th>\n",
              "      <td>life</td>\n",
              "      <td>fit</td>\n",
              "      <td>couple</td>\n",
              "      <td>school</td>\n",
              "      <td>help</td>\n",
              "      <td>feeling</td>\n",
              "      <td>para</td>\n",
              "      <td>goal</td>\n",
              "      <td>social</td>\n",
              "      <td>positive</td>\n",
              "    </tr>\n",
              "    <tr>\n",
              "      <th>4</th>\n",
              "      <td>way</td>\n",
              "      <td>session</td>\n",
              "      <td>sex</td>\n",
              "      <td>adult</td>\n",
              "      <td>address</td>\n",
              "      <td>tear</td>\n",
              "      <td>te</td>\n",
              "      <td>work</td>\n",
              "      <td>attack</td>\n",
              "      <td>feeling</td>\n",
              "    </tr>\n",
              "    <tr>\n",
              "      <th>...</th>\n",
              "      <td>...</td>\n",
              "      <td>...</td>\n",
              "      <td>...</td>\n",
              "      <td>...</td>\n",
              "      <td>...</td>\n",
              "      <td>...</td>\n",
              "      <td>...</td>\n",
              "      <td>...</td>\n",
              "      <td>...</td>\n",
              "      <td>...</td>\n",
              "    </tr>\n",
              "    <tr>\n",
              "      <th>4684</th>\n",
              "      <td>memorias</td>\n",
              "      <td>imagination</td>\n",
              "      <td>meltdown</td>\n",
              "      <td>quality</td>\n",
              "      <td>necesita</td>\n",
              "      <td>responsibility</td>\n",
              "      <td>hug</td>\n",
              "      <td>nervioso</td>\n",
              "      <td>majority</td>\n",
              "      <td>motivate</td>\n",
              "    </tr>\n",
              "    <tr>\n",
              "      <th>4685</th>\n",
              "      <td>creep</td>\n",
              "      <td>imaginary</td>\n",
              "      <td>mejor</td>\n",
              "      <td>quantity</td>\n",
              "      <td>necesario</td>\n",
              "      <td>responsible</td>\n",
              "      <td>https</td>\n",
              "      <td>neighbor</td>\n",
              "      <td>maintenance</td>\n",
              "      <td>motion</td>\n",
              "    </tr>\n",
              "    <tr>\n",
              "      <th>4686</th>\n",
              "      <td>creo</td>\n",
              "      <td>scenery</td>\n",
              "      <td>meeting</td>\n",
              "      <td>frustrate</td>\n",
              "      <td>neat</td>\n",
              "      <td>hint</td>\n",
              "      <td>http</td>\n",
              "      <td>negociar</td>\n",
              "      <td>mainstream</td>\n",
              "      <td>motif</td>\n",
              "    </tr>\n",
              "    <tr>\n",
              "      <th>4687</th>\n",
              "      <td>crime</td>\n",
              "      <td>image</td>\n",
              "      <td>medium</td>\n",
              "      <td>fruitful</td>\n",
              "      <td>nearby</td>\n",
              "      <td>hijos</td>\n",
              "      <td>html</td>\n",
              "      <td>neglect</td>\n",
              "      <td>main</td>\n",
              "      <td>motherhood</td>\n",
              "    </tr>\n",
              "    <tr>\n",
              "      <th>4688</th>\n",
              "      <td>jumping</td>\n",
              "      <td>ｍｓ</td>\n",
              "      <td>0001pt</td>\n",
              "      <td>jumping</td>\n",
              "      <td>0001pt</td>\n",
              "      <td>0001pt</td>\n",
              "      <td>jumping</td>\n",
              "      <td>0001pt</td>\n",
              "      <td>0001pt</td>\n",
              "      <td>0001pt</td>\n",
              "    </tr>\n",
              "  </tbody>\n",
              "</table>\n",
              "<p>4689 rows × 10 columns</p>\n",
              "</div>\n",
              "    <div class=\"colab-df-buttons\">\n",
              "\n",
              "  <div class=\"colab-df-container\">\n",
              "    <button class=\"colab-df-convert\" onclick=\"convertToInteractive('df-4c850d76-3941-4abb-b904-8e74e0bc462d')\"\n",
              "            title=\"Convert this dataframe to an interactive table.\"\n",
              "            style=\"display:none;\">\n",
              "\n",
              "  <svg xmlns=\"http://www.w3.org/2000/svg\" height=\"24px\" viewBox=\"0 -960 960 960\">\n",
              "    <path d=\"M120-120v-720h720v720H120Zm60-500h600v-160H180v160Zm220 220h160v-160H400v160Zm0 220h160v-160H400v160ZM180-400h160v-160H180v160Zm440 0h160v-160H620v160ZM180-180h160v-160H180v160Zm440 0h160v-160H620v160Z\"/>\n",
              "  </svg>\n",
              "    </button>\n",
              "\n",
              "  <style>\n",
              "    .colab-df-container {\n",
              "      display:flex;\n",
              "      gap: 12px;\n",
              "    }\n",
              "\n",
              "    .colab-df-convert {\n",
              "      background-color: #E8F0FE;\n",
              "      border: none;\n",
              "      border-radius: 50%;\n",
              "      cursor: pointer;\n",
              "      display: none;\n",
              "      fill: #1967D2;\n",
              "      height: 32px;\n",
              "      padding: 0 0 0 0;\n",
              "      width: 32px;\n",
              "    }\n",
              "\n",
              "    .colab-df-convert:hover {\n",
              "      background-color: #E2EBFA;\n",
              "      box-shadow: 0px 1px 2px rgba(60, 64, 67, 0.3), 0px 1px 3px 1px rgba(60, 64, 67, 0.15);\n",
              "      fill: #174EA6;\n",
              "    }\n",
              "\n",
              "    .colab-df-buttons div {\n",
              "      margin-bottom: 4px;\n",
              "    }\n",
              "\n",
              "    [theme=dark] .colab-df-convert {\n",
              "      background-color: #3B4455;\n",
              "      fill: #D2E3FC;\n",
              "    }\n",
              "\n",
              "    [theme=dark] .colab-df-convert:hover {\n",
              "      background-color: #434B5C;\n",
              "      box-shadow: 0px 1px 3px 1px rgba(0, 0, 0, 0.15);\n",
              "      filter: drop-shadow(0px 1px 2px rgba(0, 0, 0, 0.3));\n",
              "      fill: #FFFFFF;\n",
              "    }\n",
              "  </style>\n",
              "\n",
              "    <script>\n",
              "      const buttonEl =\n",
              "        document.querySelector('#df-4c850d76-3941-4abb-b904-8e74e0bc462d button.colab-df-convert');\n",
              "      buttonEl.style.display =\n",
              "        google.colab.kernel.accessAllowed ? 'block' : 'none';\n",
              "\n",
              "      async function convertToInteractive(key) {\n",
              "        const element = document.querySelector('#df-4c850d76-3941-4abb-b904-8e74e0bc462d');\n",
              "        const dataTable =\n",
              "          await google.colab.kernel.invokeFunction('convertToInteractive',\n",
              "                                                    [key], {});\n",
              "        if (!dataTable) return;\n",
              "\n",
              "        const docLinkHtml = 'Like what you see? Visit the ' +\n",
              "          '<a target=\"_blank\" href=https://colab.research.google.com/notebooks/data_table.ipynb>data table notebook</a>'\n",
              "          + ' to learn more about interactive tables.';\n",
              "        element.innerHTML = '';\n",
              "        dataTable['output_type'] = 'display_data';\n",
              "        await google.colab.output.renderOutput(dataTable, element);\n",
              "        const docLink = document.createElement('div');\n",
              "        docLink.innerHTML = docLinkHtml;\n",
              "        element.appendChild(docLink);\n",
              "      }\n",
              "    </script>\n",
              "  </div>\n",
              "\n",
              "\n",
              "<div id=\"df-fd83c141-7bd6-4d7c-9c25-6849b946607f\">\n",
              "  <button class=\"colab-df-quickchart\" onclick=\"quickchart('df-fd83c141-7bd6-4d7c-9c25-6849b946607f')\"\n",
              "            title=\"Suggest charts\"\n",
              "            style=\"display:none;\">\n",
              "\n",
              "<svg xmlns=\"http://www.w3.org/2000/svg\" height=\"24px\"viewBox=\"0 0 24 24\"\n",
              "     width=\"24px\">\n",
              "    <g>\n",
              "        <path d=\"M19 3H5c-1.1 0-2 .9-2 2v14c0 1.1.9 2 2 2h14c1.1 0 2-.9 2-2V5c0-1.1-.9-2-2-2zM9 17H7v-7h2v7zm4 0h-2V7h2v10zm4 0h-2v-4h2v4z\"/>\n",
              "    </g>\n",
              "</svg>\n",
              "  </button>\n",
              "\n",
              "<style>\n",
              "  .colab-df-quickchart {\n",
              "      --bg-color: #E8F0FE;\n",
              "      --fill-color: #1967D2;\n",
              "      --hover-bg-color: #E2EBFA;\n",
              "      --hover-fill-color: #174EA6;\n",
              "      --disabled-fill-color: #AAA;\n",
              "      --disabled-bg-color: #DDD;\n",
              "  }\n",
              "\n",
              "  [theme=dark] .colab-df-quickchart {\n",
              "      --bg-color: #3B4455;\n",
              "      --fill-color: #D2E3FC;\n",
              "      --hover-bg-color: #434B5C;\n",
              "      --hover-fill-color: #FFFFFF;\n",
              "      --disabled-bg-color: #3B4455;\n",
              "      --disabled-fill-color: #666;\n",
              "  }\n",
              "\n",
              "  .colab-df-quickchart {\n",
              "    background-color: var(--bg-color);\n",
              "    border: none;\n",
              "    border-radius: 50%;\n",
              "    cursor: pointer;\n",
              "    display: none;\n",
              "    fill: var(--fill-color);\n",
              "    height: 32px;\n",
              "    padding: 0;\n",
              "    width: 32px;\n",
              "  }\n",
              "\n",
              "  .colab-df-quickchart:hover {\n",
              "    background-color: var(--hover-bg-color);\n",
              "    box-shadow: 0 1px 2px rgba(60, 64, 67, 0.3), 0 1px 3px 1px rgba(60, 64, 67, 0.15);\n",
              "    fill: var(--button-hover-fill-color);\n",
              "  }\n",
              "\n",
              "  .colab-df-quickchart-complete:disabled,\n",
              "  .colab-df-quickchart-complete:disabled:hover {\n",
              "    background-color: var(--disabled-bg-color);\n",
              "    fill: var(--disabled-fill-color);\n",
              "    box-shadow: none;\n",
              "  }\n",
              "\n",
              "  .colab-df-spinner {\n",
              "    border: 2px solid var(--fill-color);\n",
              "    border-color: transparent;\n",
              "    border-bottom-color: var(--fill-color);\n",
              "    animation:\n",
              "      spin 1s steps(1) infinite;\n",
              "  }\n",
              "\n",
              "  @keyframes spin {\n",
              "    0% {\n",
              "      border-color: transparent;\n",
              "      border-bottom-color: var(--fill-color);\n",
              "      border-left-color: var(--fill-color);\n",
              "    }\n",
              "    20% {\n",
              "      border-color: transparent;\n",
              "      border-left-color: var(--fill-color);\n",
              "      border-top-color: var(--fill-color);\n",
              "    }\n",
              "    30% {\n",
              "      border-color: transparent;\n",
              "      border-left-color: var(--fill-color);\n",
              "      border-top-color: var(--fill-color);\n",
              "      border-right-color: var(--fill-color);\n",
              "    }\n",
              "    40% {\n",
              "      border-color: transparent;\n",
              "      border-right-color: var(--fill-color);\n",
              "      border-top-color: var(--fill-color);\n",
              "    }\n",
              "    60% {\n",
              "      border-color: transparent;\n",
              "      border-right-color: var(--fill-color);\n",
              "    }\n",
              "    80% {\n",
              "      border-color: transparent;\n",
              "      border-right-color: var(--fill-color);\n",
              "      border-bottom-color: var(--fill-color);\n",
              "    }\n",
              "    90% {\n",
              "      border-color: transparent;\n",
              "      border-bottom-color: var(--fill-color);\n",
              "    }\n",
              "  }\n",
              "</style>\n",
              "\n",
              "  <script>\n",
              "    async function quickchart(key) {\n",
              "      const quickchartButtonEl =\n",
              "        document.querySelector('#' + key + ' button');\n",
              "      quickchartButtonEl.disabled = true;  // To prevent multiple clicks.\n",
              "      quickchartButtonEl.classList.add('colab-df-spinner');\n",
              "      try {\n",
              "        const charts = await google.colab.kernel.invokeFunction(\n",
              "            'suggestCharts', [key], {});\n",
              "      } catch (error) {\n",
              "        console.error('Error during call to suggestCharts:', error);\n",
              "      }\n",
              "      quickchartButtonEl.classList.remove('colab-df-spinner');\n",
              "      quickchartButtonEl.classList.add('colab-df-quickchart-complete');\n",
              "    }\n",
              "    (() => {\n",
              "      let quickchartButtonEl =\n",
              "        document.querySelector('#df-fd83c141-7bd6-4d7c-9c25-6849b946607f button');\n",
              "      quickchartButtonEl.style.display =\n",
              "        google.colab.kernel.accessAllowed ? 'block' : 'none';\n",
              "    })();\n",
              "  </script>\n",
              "</div>\n",
              "\n",
              "    </div>\n",
              "  </div>\n"
            ],
            "application/vnd.google.colaboratory.intrinsic+json": {
              "type": "dataframe",
              "summary": "{\n  \"name\": \"display_topics(nmf_model2, tfidf_vectorizernmf)\",\n  \"rows\": 4689,\n  \"fields\": [\n    {\n      \"column\": \"Topic 0\",\n      \"properties\": {\n        \"dtype\": \"string\",\n        \"num_unique_values\": 4689,\n        \"samples\": [\n          \"acknowledgement\",\n          \"constantemente\",\n          \"tense\"\n        ],\n        \"semantic_type\": \"\",\n        \"description\": \"\"\n      }\n    },\n    {\n      \"column\": \"Topic 1\",\n      \"properties\": {\n        \"dtype\": \"string\",\n        \"num_unique_values\": 4689,\n        \"samples\": [\n          \"daycare\",\n          \"respondent\",\n          \"commercial\"\n        ],\n        \"semantic_type\": \"\",\n        \"description\": \"\"\n      }\n    },\n    {\n      \"column\": \"Topic 2\",\n      \"properties\": {\n        \"dtype\": \"string\",\n        \"num_unique_values\": 4689,\n        \"samples\": [\n          \"empathize\",\n          \"payment\",\n          \"directamente\"\n        ],\n        \"semantic_type\": \"\",\n        \"description\": \"\"\n      }\n    },\n    {\n      \"column\": \"Topic 3\",\n      \"properties\": {\n        \"dtype\": \"string\",\n        \"num_unique_values\": 4689,\n        \"samples\": [\n          \"exhausting\",\n          \"gottman\",\n          \"vessel\"\n        ],\n        \"semantic_type\": \"\",\n        \"description\": \"\"\n      }\n    },\n    {\n      \"column\": \"Topic 4\",\n      \"properties\": {\n        \"dtype\": \"string\",\n        \"num_unique_values\": 4689,\n        \"samples\": [\n          \"drinking\",\n          \"planet\",\n          \"sickness\"\n        ],\n        \"semantic_type\": \"\",\n        \"description\": \"\"\n      }\n    },\n    {\n      \"column\": \"Topic 5\",\n      \"properties\": {\n        \"dtype\": \"string\",\n        \"num_unique_values\": 4689,\n        \"samples\": [\n          \"relate\",\n          \"imagination\",\n          \"unavailable\"\n        ],\n        \"semantic_type\": \"\",\n        \"description\": \"\"\n      }\n    },\n    {\n      \"column\": \"Topic 6\",\n      \"properties\": {\n        \"dtype\": \"string\",\n        \"num_unique_values\": 4689,\n        \"samples\": [\n          \"0pt\",\n          \"issues\",\n          \"uncover\"\n        ],\n        \"semantic_type\": \"\",\n        \"description\": \"\"\n      }\n    },\n    {\n      \"column\": \"Topic 7\",\n      \"properties\": {\n        \"dtype\": \"string\",\n        \"num_unique_values\": 4689,\n        \"samples\": [\n          \"drift\",\n          \"plant\",\n          \"si\"\n        ],\n        \"semantic_type\": \"\",\n        \"description\": \"\"\n      }\n    },\n    {\n      \"column\": \"Topic 8\",\n      \"properties\": {\n        \"dtype\": \"string\",\n        \"num_unique_values\": 4689,\n        \"samples\": [\n          \"develops\",\n          \"pasando\",\n          \"confidential\"\n        ],\n        \"semantic_type\": \"\",\n        \"description\": \"\"\n      }\n    },\n    {\n      \"column\": \"Topic 9\",\n      \"properties\": {\n        \"dtype\": \"string\",\n        \"num_unique_values\": 4689,\n        \"samples\": [\n          \"dp\",\n          \"pregnancy\",\n          \"coverage\"\n        ],\n        \"semantic_type\": \"\",\n        \"description\": \"\"\n      }\n    }\n  ]\n}"
            }
          },
          "metadata": {},
          "execution_count": 66
        }
      ]
    },
    {
      "cell_type": "code",
      "source": [
        "import tmtoolkit\n",
        "\n",
        "vocaby = np.array(tfidf_vectorizernmf.get_feature_names_out())\n",
        "\n",
        "coherenceNMF2 = tmtoolkit.topicmod.evaluate.metric_coherence_gensim(measure='c_v',\n",
        "                        top_n=10,\n",
        "                        topic_word_distrib=nmf_model2.components_,\n",
        "                        dtm=tfidfnmf,\n",
        "                        vocab=vocaby,\n",
        "                        texts=preprocessed_textN, return_mean=True)\n",
        "print(coherenceNMF2)"
      ],
      "metadata": {
        "colab": {
          "base_uri": "https://localhost:8080/"
        },
        "id": "5XhrX9LYfHg3",
        "outputId": "de512309-4cd1-4739-dab9-e3c623b6637d"
      },
      "execution_count": null,
      "outputs": [
        {
          "output_type": "stream",
          "name": "stdout",
          "text": [
            "0.676697061101313\n"
          ]
        }
      ]
    },
    {
      "cell_type": "markdown",
      "source": [
        "#HDP with nltk"
      ],
      "metadata": {
        "id": "vN7sWu-r0q9d"
      }
    },
    {
      "cell_type": "code",
      "source": [
        "from gensim.models import HdpModel\n",
        "from gensim.corpora import Dictionary\n",
        "\n",
        "# Create dictionary and corpus\n",
        "dictionary23 = Dictionary(preprocessed_textN)\n",
        "corpus23 = [dictionary23.doc2bow(text) for text in preprocessed_textN]\n",
        "\n",
        "# Apply HDP\n",
        "hdp_model2 = HdpModel(corpus23, id2word=dictionary23)\n",
        "\n",
        "\n",
        "topic_info = hdp_model2.print_topics(num_topics=10, num_words=10)\n",
        "display(topic_info)\n"
      ],
      "metadata": {
        "id": "zYw1QFsYyBS5",
        "colab": {
          "base_uri": "https://localhost:8080/",
          "height": 662
        },
        "outputId": "408d44f5-6018-4723-c604-8d096a676a18"
      },
      "execution_count": null,
      "outputs": [
        {
          "output_type": "stream",
          "name": "stderr",
          "text": [
            "/usr/local/lib/python3.10/dist-packages/ipykernel/ipkernel.py:283: DeprecationWarning: `should_run_async` will not call `transform_cell` automatically in the future. Please pass the result to `transformed_cell` argument and any exception that happen during thetransform in `preprocessing_exc_tuple` in IPython 7.17 and above.\n",
            "  and should_run_async(code)\n",
            "WARNING:gensim.models.hdpmodel:likelihood is decreasing!\n",
            "WARNING:gensim.models.hdpmodel:likelihood is decreasing!\n",
            "WARNING:gensim.models.hdpmodel:likelihood is decreasing!\n",
            "WARNING:gensim.models.hdpmodel:likelihood is decreasing!\n",
            "WARNING:gensim.models.hdpmodel:likelihood is decreasing!\n",
            "WARNING:gensim.models.hdpmodel:likelihood is decreasing!\n",
            "WARNING:gensim.models.hdpmodel:likelihood is decreasing!\n",
            "WARNING:gensim.models.hdpmodel:likelihood is decreasing!\n",
            "WARNING:gensim.models.hdpmodel:likelihood is decreasing!\n",
            "WARNING:gensim.models.hdpmodel:likelihood is decreasing!\n",
            "WARNING:gensim.models.hdpmodel:likelihood is decreasing!\n",
            "WARNING:gensim.models.hdpmodel:likelihood is decreasing!\n",
            "WARNING:gensim.models.hdpmodel:likelihood is decreasing!\n",
            "WARNING:gensim.models.hdpmodel:likelihood is decreasing!\n"
          ]
        },
        {
          "output_type": "display_data",
          "data": {
            "text/plain": [
              "[(0,\n",
              "  '0.010*time + 0.010*relationship + 0.009*therapist + 0.009*way + 0.007*people + 0.007*good + 0.007*client + 0.007*thing + 0.006*question + 0.006*feel'),\n",
              " (1,\n",
              "  '0.011*therapist + 0.010*relationship + 0.008*time + 0.008*way + 0.007*good + 0.006*feel + 0.006*thing + 0.006*counselor + 0.006*life + 0.005*people'),\n",
              " (2,\n",
              "  '0.010*relationship + 0.008*way + 0.008*therapist + 0.007*thing + 0.007*time + 0.007*people + 0.007*good + 0.006*help + 0.006*feel + 0.006*client'),\n",
              " (3,\n",
              "  '0.008*relationship + 0.006*way + 0.006*people + 0.006*time + 0.006*therapist + 0.006*thing + 0.005*life + 0.005*good + 0.004*help + 0.004*feel'),\n",
              " (4,\n",
              "  '0.006*time + 0.006*way + 0.005*thing + 0.005*therapist + 0.005*relationship + 0.004*something + 0.004*feel + 0.004*help + 0.004*good + 0.004*people'),\n",
              " (5,\n",
              "  '0.006*therapist + 0.005*people + 0.005*time + 0.004*relationship + 0.004*someone + 0.004*thing + 0.004*help + 0.004*good + 0.004*way + 0.003*many'),\n",
              " (6,\n",
              "  '0.007*que + 0.004*relationship + 0.003*la + 0.003*thing + 0.003*feeling + 0.002*una + 0.002*time + 0.002*para + 0.002*life + 0.002*way'),\n",
              " (7,\n",
              "  '0.003*way + 0.003*therapist + 0.003*people + 0.003*help + 0.002*relationship + 0.002*feeling + 0.002*thing + 0.002*time + 0.002*good + 0.002*anxiety'),\n",
              " (8,\n",
              "  '0.003*people + 0.003*time + 0.003*way + 0.003*thing + 0.002*something + 0.002*someone + 0.002*feeling + 0.002*life + 0.002*good + 0.002*help'),\n",
              " (9,\n",
              "  '0.004*way + 0.004*thing + 0.003*people + 0.003*thought + 0.003*time + 0.003*life + 0.002*anxiety + 0.002*something + 0.002*help + 0.001*therapist')]"
            ]
          },
          "metadata": {}
        }
      ]
    },
    {
      "cell_type": "code",
      "source": [
        "#graphic presentation for hdp :\n",
        "from wordcloud import WordCloud\n",
        "import matplotlib.pyplot as plt\n",
        "\n",
        "# Generate word clouds for each topic\n",
        "for idx, topic in enumerate(hdp_model2.print_topics()):\n",
        "    word_freq = dict(topic[0])\n",
        "    wordcloud = WordCloud(background_color='white').generate_from_frequencies(word_freq)\n",
        "    plt.figure(figsize=(8, 6))\n",
        "    plt.imshow(wordcloud, interpolation='bilinear')\n",
        "    plt.title(f'Topic {idx}')\n",
        "    plt.axis('off')\n",
        "    plt.show()\n"
      ],
      "metadata": {
        "colab": {
          "base_uri": "https://localhost:8080/",
          "height": 265
        },
        "id": "D_R44C3L1eew",
        "outputId": "20b2fe89-8006-455f-9f2b-98d7ff9fe4aa"
      },
      "execution_count": null,
      "outputs": [
        {
          "output_type": "stream",
          "name": "stderr",
          "text": [
            "/usr/local/lib/python3.10/dist-packages/ipykernel/ipkernel.py:283: DeprecationWarning: `should_run_async` will not call `transform_cell` automatically in the future. Please pass the result to `transformed_cell` argument and any exception that happen during thetransform in `preprocessing_exc_tuple` in IPython 7.17 and above.\n",
            "  and should_run_async(code)\n"
          ]
        },
        {
          "output_type": "error",
          "ename": "TypeError",
          "evalue": "'int' object is not iterable",
          "traceback": [
            "\u001b[0;31m---------------------------------------------------------------------------\u001b[0m",
            "\u001b[0;31mTypeError\u001b[0m                                 Traceback (most recent call last)",
            "\u001b[0;32m<ipython-input-36-1d788927dc3e>\u001b[0m in \u001b[0;36m<cell line: 6>\u001b[0;34m()\u001b[0m\n\u001b[1;32m      5\u001b[0m \u001b[0;31m# Generate word clouds for each topic\u001b[0m\u001b[0;34m\u001b[0m\u001b[0;34m\u001b[0m\u001b[0m\n\u001b[1;32m      6\u001b[0m \u001b[0;32mfor\u001b[0m \u001b[0midx\u001b[0m\u001b[0;34m,\u001b[0m \u001b[0mtopic\u001b[0m \u001b[0;32min\u001b[0m \u001b[0menumerate\u001b[0m\u001b[0;34m(\u001b[0m\u001b[0mhdp_model2\u001b[0m\u001b[0;34m.\u001b[0m\u001b[0mprint_topics\u001b[0m\u001b[0;34m(\u001b[0m\u001b[0;34m)\u001b[0m\u001b[0;34m)\u001b[0m\u001b[0;34m:\u001b[0m\u001b[0;34m\u001b[0m\u001b[0;34m\u001b[0m\u001b[0m\n\u001b[0;32m----> 7\u001b[0;31m     \u001b[0mword_freq\u001b[0m \u001b[0;34m=\u001b[0m \u001b[0mdict\u001b[0m\u001b[0;34m(\u001b[0m\u001b[0mtopic\u001b[0m\u001b[0;34m[\u001b[0m\u001b[0;36m0\u001b[0m\u001b[0;34m]\u001b[0m\u001b[0;34m)\u001b[0m\u001b[0;34m\u001b[0m\u001b[0;34m\u001b[0m\u001b[0m\n\u001b[0m\u001b[1;32m      8\u001b[0m     \u001b[0mwordcloud\u001b[0m \u001b[0;34m=\u001b[0m \u001b[0mWordCloud\u001b[0m\u001b[0;34m(\u001b[0m\u001b[0mbackground_color\u001b[0m\u001b[0;34m=\u001b[0m\u001b[0;34m'white'\u001b[0m\u001b[0;34m)\u001b[0m\u001b[0;34m.\u001b[0m\u001b[0mgenerate_from_frequencies\u001b[0m\u001b[0;34m(\u001b[0m\u001b[0mword_freq\u001b[0m\u001b[0;34m)\u001b[0m\u001b[0;34m\u001b[0m\u001b[0;34m\u001b[0m\u001b[0m\n\u001b[1;32m      9\u001b[0m     \u001b[0mplt\u001b[0m\u001b[0;34m.\u001b[0m\u001b[0mfigure\u001b[0m\u001b[0;34m(\u001b[0m\u001b[0mfigsize\u001b[0m\u001b[0;34m=\u001b[0m\u001b[0;34m(\u001b[0m\u001b[0;36m8\u001b[0m\u001b[0;34m,\u001b[0m \u001b[0;36m6\u001b[0m\u001b[0;34m)\u001b[0m\u001b[0;34m)\u001b[0m\u001b[0;34m\u001b[0m\u001b[0;34m\u001b[0m\u001b[0m\n",
            "\u001b[0;31mTypeError\u001b[0m: 'int' object is not iterable"
          ]
        }
      ]
    },
    {
      "cell_type": "code",
      "source": [
        "# Generate word clouds for each topic\n",
        "from wordcloud import WordCloud\n",
        "import matplotlib.pyplot as plt\n",
        "\n",
        "\n",
        "\n",
        "for idx, topic in enumerate(hdp_model2.show_topics()):\n",
        "    # Parsing the string representation of the top words and convert it to a dictionary\n",
        "    top_words = topic[1].split(' + ')\n",
        "    word_freq = {word: 1 for word in top_words}\n",
        "    for word, freq in word_freq.items():\n",
        "        word_freq[word] = topic[2][word]\n",
        "\n",
        "    # Generate the word cloud\n",
        "    wordcloud = WordCloud(background_color='black').generate_from_frequencies(word_freq)\n",
        "\n",
        "    # Plot the word cloud\n",
        "    plt.figure(figsize=(8, 6))\n",
        "    plt.imshow(wordcloud, interpolation='bilinear')\n",
        "    plt.title(f'Topic {idx}')\n",
        "    plt.axis('off')\n",
        "    plt.show()"
      ],
      "metadata": {
        "colab": {
          "base_uri": "https://localhost:8080/",
          "height": 265
        },
        "id": "mrFD_qw02mFN",
        "outputId": "4d8376ba-a334-4a5b-a95e-d0c2809ebc40"
      },
      "execution_count": null,
      "outputs": [
        {
          "output_type": "stream",
          "name": "stderr",
          "text": [
            "/usr/local/lib/python3.10/dist-packages/ipykernel/ipkernel.py:283: DeprecationWarning: `should_run_async` will not call `transform_cell` automatically in the future. Please pass the result to `transformed_cell` argument and any exception that happen during thetransform in `preprocessing_exc_tuple` in IPython 7.17 and above.\n",
            "  and should_run_async(code)\n"
          ]
        },
        {
          "output_type": "error",
          "ename": "IndexError",
          "evalue": "tuple index out of range",
          "traceback": [
            "\u001b[0;31m---------------------------------------------------------------------------\u001b[0m",
            "\u001b[0;31mIndexError\u001b[0m                                Traceback (most recent call last)",
            "\u001b[0;32m<ipython-input-37-3bed5a0d98a5>\u001b[0m in \u001b[0;36m<cell line: 7>\u001b[0;34m()\u001b[0m\n\u001b[1;32m     10\u001b[0m     \u001b[0mword_freq\u001b[0m \u001b[0;34m=\u001b[0m \u001b[0;34m{\u001b[0m\u001b[0mword\u001b[0m\u001b[0;34m:\u001b[0m \u001b[0;36m1\u001b[0m \u001b[0;32mfor\u001b[0m \u001b[0mword\u001b[0m \u001b[0;32min\u001b[0m \u001b[0mtop_words\u001b[0m\u001b[0;34m}\u001b[0m\u001b[0;34m\u001b[0m\u001b[0;34m\u001b[0m\u001b[0m\n\u001b[1;32m     11\u001b[0m     \u001b[0;32mfor\u001b[0m \u001b[0mword\u001b[0m\u001b[0;34m,\u001b[0m \u001b[0mfreq\u001b[0m \u001b[0;32min\u001b[0m \u001b[0mword_freq\u001b[0m\u001b[0;34m.\u001b[0m\u001b[0mitems\u001b[0m\u001b[0;34m(\u001b[0m\u001b[0;34m)\u001b[0m\u001b[0;34m:\u001b[0m\u001b[0;34m\u001b[0m\u001b[0;34m\u001b[0m\u001b[0m\n\u001b[0;32m---> 12\u001b[0;31m         \u001b[0mword_freq\u001b[0m\u001b[0;34m[\u001b[0m\u001b[0mword\u001b[0m\u001b[0;34m]\u001b[0m \u001b[0;34m=\u001b[0m \u001b[0mtopic\u001b[0m\u001b[0;34m[\u001b[0m\u001b[0;36m2\u001b[0m\u001b[0;34m]\u001b[0m\u001b[0;34m[\u001b[0m\u001b[0mword\u001b[0m\u001b[0;34m]\u001b[0m\u001b[0;34m\u001b[0m\u001b[0;34m\u001b[0m\u001b[0m\n\u001b[0m\u001b[1;32m     13\u001b[0m \u001b[0;34m\u001b[0m\u001b[0m\n\u001b[1;32m     14\u001b[0m     \u001b[0;31m# Generate the word cloud\u001b[0m\u001b[0;34m\u001b[0m\u001b[0;34m\u001b[0m\u001b[0m\n",
            "\u001b[0;31mIndexError\u001b[0m: tuple index out of range"
          ]
        }
      ]
    },
    {
      "cell_type": "code",
      "source": [
        "from gensim.models import CoherenceModel\n",
        "coherenceHDP2 =CoherenceModel(model=hdp_model2,texts=preprocessed_textN,dictionary=dictionary23,coherence='c_v')\n",
        "\n",
        "coherenceHDP2 =coherenceHDP2.get_coherence()\n",
        "print('Coherence Score: ',coherenceHDP2)"
      ],
      "metadata": {
        "colab": {
          "base_uri": "https://localhost:8080/"
        },
        "id": "-byVNk5h0Jl1",
        "outputId": "93242873-645b-4f35-f438-fa18cfc5ae13"
      },
      "execution_count": null,
      "outputs": [
        {
          "output_type": "stream",
          "name": "stderr",
          "text": [
            "/usr/local/lib/python3.10/dist-packages/ipykernel/ipkernel.py:283: DeprecationWarning: `should_run_async` will not call `transform_cell` automatically in the future. Please pass the result to `transformed_cell` argument and any exception that happen during thetransform in `preprocessing_exc_tuple` in IPython 7.17 and above.\n",
            "  and should_run_async(code)\n"
          ]
        },
        {
          "output_type": "stream",
          "name": "stdout",
          "text": [
            "Coherence Score:  0.6964652253596211\n"
          ]
        }
      ]
    },
    {
      "cell_type": "markdown",
      "source": [
        "#Genism preprocessing\n"
      ],
      "metadata": {
        "id": "7HxzyT1CiIu-"
      }
    },
    {
      "cell_type": "code",
      "source": [
        "#tokenizing, normalizing, and cleaning text easier , we have to add removing stopwords :\n",
        "import gensim\n",
        "import numpy as np\n",
        "\n",
        "from gensim.utils import simple_preprocess\n",
        "from gensim.parsing.preprocessing import STOPWORDS as stopwords\n",
        "\n",
        "\n",
        "def preprocess(text):\n",
        "    result = []\n",
        "    for token in gensim.utils.simple_preprocess(text, min_len=4):\n",
        "        if token not in list(stopwords):\n",
        "            result.append(token)\n",
        "    return result\n",
        "\n",
        "preprocessed_textG=[]\n",
        "for text in cleaned_new_answertext:\n",
        "     preprocessed =  preprocess(text)\n",
        "     preprocessed_textG.append(preprocessed)\n",
        "print( preprocessed_textG[0])"
      ],
      "metadata": {
        "id": "fEhk2rhe5zBb",
        "colab": {
          "base_uri": "https://localhost:8080/"
        },
        "outputId": "98abdfe3-2db8-4e57-ee2b-d43090620261"
      },
      "execution_count": null,
      "outputs": [
        {
          "output_type": "stream",
          "name": "stdout",
          "text": [
            "['common', 'people', 'multiple', 'issues', 'want', 'need', 'address', 'counseling', 'clients', 'question', 'exploration', 'underlying', 'fear', 'helped', 'therapist', 'know', 'rings', 'true', 'people', 'problem', 'lives', 'people', 'numerous', 'significant', 'stressors', 'lives', 'face', 'life', 'complicated', 'therapists', 'completely', 'ready', 'equipped', 'handle', 'issues', 'small', 'large', 'client', 'presents', 'session', 'therapists', 'couple', 'sessions', 'help', 'prioritize', 'issues', 'facing', 'start', 'addressing', 'issues', 'causing', 'distress', 'issues', 'address', 'counseling', 'issues', 'mention', 'successfully', 'worked', 'counseling']\n"
          ]
        }
      ]
    },
    {
      "cell_type": "code",
      "source": [
        "# applying TFIDF using genism :\n",
        "from gensim.models.tfidfmodel import TfidfModel\n",
        "from gensim.corpora import Dictionary\n",
        "\n",
        "\n",
        "dictionary3 = Dictionary(preprocessed_textG)\n",
        "\n",
        "# Bag of words 3\n",
        "corpus3 = [dictionary3.doc2bow(doc) for doc in preprocessed_textG]\n",
        "\n",
        "# Calculate TF-IDF\n",
        "tfidf_model3 = TfidfModel(corpus3)\n",
        "\n",
        "# Transform the corpus into TF-IDF space\n",
        "X3 = tfidf_model3[corpus3]\n",
        "\n",
        "# here we have a tfidf represenation of pur text from each row\n",
        "\n",
        "print(\"Length of processed_docs:\", len(preprocessed_textG))\n",
        "print(\"Length of dictionary:\", len(dictionary3))"
      ],
      "metadata": {
        "colab": {
          "base_uri": "https://localhost:8080/"
        },
        "id": "TRSrxa0KhLdi",
        "outputId": "22f87cea-84b8-41e8-d344-c7165c39e758"
      },
      "execution_count": null,
      "outputs": [
        {
          "output_type": "stream",
          "name": "stdout",
          "text": [
            "Length of processed_docs: 2612\n",
            "Length of dictionary: 11828\n"
          ]
        }
      ]
    },
    {
      "cell_type": "code",
      "source": [
        "print(\"the nltk result\",len(preprocessed_textN[0]))\n",
        "print(\"the genism result\" , len(preprocessed_textG[0]))\n",
        "# we can assume that we ahve the same results when using both libraries\n",
        "# preprocessed_tex is a list of tokens for each document"
      ],
      "metadata": {
        "colab": {
          "base_uri": "https://localhost:8080/"
        },
        "outputId": "1cca3d8a-b727-4dab-dc8a-b626d409d4db",
        "id": "9XdiHboSdtiO"
      },
      "execution_count": null,
      "outputs": [
        {
          "output_type": "stream",
          "name": "stdout",
          "text": [
            "the nltk result 44\n",
            "the genism result 60\n"
          ]
        }
      ]
    },
    {
      "cell_type": "markdown",
      "source": [],
      "metadata": {
        "id": "rZb0q6LEgo2c"
      }
    },
    {
      "cell_type": "code",
      "source": [
        "# N_Grams\n",
        "def get_ngrams(text, n ):\n",
        "    n_grams = ngrams(word_tokenize(text), n)\n",
        "    return [' '.join(grams) for grams in n_grams]\n",
        "\n",
        "bigrams = []\n",
        "for article in all_texts:\n",
        "    bigrams += list(map(lambda x: x[0], list(filter(lambda x: x[1] >= 5, Counter(get_ngrams(article, 2)).most_common()))))\n",
        "\n",
        "bigrams = list(filter(lambda x: 'package' not in x and 'document' not in x, bigrams))\n",
        "bigrams = list(map(lambda x: x[0], (list(filter(lambda x: x[1] >= 5, Counter(bigrams).most_common())))))\n",
        "\n",
        "print(len(bigrams))\n",
        "print(bigrams[:5])"
      ],
      "metadata": {
        "id": "2GCgIymy1IQB"
      },
      "execution_count": null,
      "outputs": []
    },
    {
      "cell_type": "markdown",
      "source": [
        "#LDA in Genism"
      ],
      "metadata": {
        "id": "1LKBBMdEzW58"
      }
    },
    {
      "cell_type": "code",
      "source": [
        "!pip install pyldavis\n",
        "!pip install graphlab"
      ],
      "metadata": {
        "colab": {
          "base_uri": "https://localhost:8080/"
        },
        "id": "OwMoAqEmKnXt",
        "outputId": "5c448b96-726c-42de-cf2c-ac3e9ec7a799"
      },
      "execution_count": null,
      "outputs": [
        {
          "output_type": "stream",
          "name": "stdout",
          "text": [
            "Collecting pyldavis\n",
            "  Downloading pyLDAvis-3.4.1-py3-none-any.whl (2.6 MB)\n",
            "\u001b[2K     \u001b[90m━━━━━━━━━━━━━━━━━━━━━━━━━━━━━━━━━━━━━━━━\u001b[0m \u001b[32m2.6/2.6 MB\u001b[0m \u001b[31m9.3 MB/s\u001b[0m eta \u001b[36m0:00:00\u001b[0m\n",
            "\u001b[?25hRequirement already satisfied: numpy>=1.24.2 in /usr/local/lib/python3.10/dist-packages (from pyldavis) (1.25.2)\n",
            "Requirement already satisfied: scipy in /usr/local/lib/python3.10/dist-packages (from pyldavis) (1.11.4)\n",
            "Requirement already satisfied: pandas>=2.0.0 in /usr/local/lib/python3.10/dist-packages (from pyldavis) (2.0.3)\n",
            "Requirement already satisfied: joblib>=1.2.0 in /usr/local/lib/python3.10/dist-packages (from pyldavis) (1.4.0)\n",
            "Requirement already satisfied: jinja2 in /usr/local/lib/python3.10/dist-packages (from pyldavis) (3.1.3)\n",
            "Requirement already satisfied: numexpr in /usr/local/lib/python3.10/dist-packages (from pyldavis) (2.10.0)\n",
            "Collecting funcy (from pyldavis)\n",
            "  Downloading funcy-2.0-py2.py3-none-any.whl (30 kB)\n",
            "Requirement already satisfied: scikit-learn>=1.0.0 in /usr/local/lib/python3.10/dist-packages (from pyldavis) (1.2.2)\n",
            "Requirement already satisfied: gensim in /usr/local/lib/python3.10/dist-packages (from pyldavis) (4.3.2)\n",
            "Requirement already satisfied: setuptools in /usr/local/lib/python3.10/dist-packages (from pyldavis) (67.7.2)\n",
            "Requirement already satisfied: python-dateutil>=2.8.2 in /usr/local/lib/python3.10/dist-packages (from pandas>=2.0.0->pyldavis) (2.8.2)\n",
            "Requirement already satisfied: pytz>=2020.1 in /usr/local/lib/python3.10/dist-packages (from pandas>=2.0.0->pyldavis) (2023.4)\n",
            "Requirement already satisfied: tzdata>=2022.1 in /usr/local/lib/python3.10/dist-packages (from pandas>=2.0.0->pyldavis) (2024.1)\n",
            "Requirement already satisfied: threadpoolctl>=2.0.0 in /usr/local/lib/python3.10/dist-packages (from scikit-learn>=1.0.0->pyldavis) (3.4.0)\n",
            "Requirement already satisfied: smart-open>=1.8.1 in /usr/local/lib/python3.10/dist-packages (from gensim->pyldavis) (6.4.0)\n",
            "Requirement already satisfied: MarkupSafe>=2.0 in /usr/local/lib/python3.10/dist-packages (from jinja2->pyldavis) (2.1.5)\n",
            "Requirement already satisfied: six>=1.5 in /usr/local/lib/python3.10/dist-packages (from python-dateutil>=2.8.2->pandas>=2.0.0->pyldavis) (1.16.0)\n",
            "Installing collected packages: funcy, pyldavis\n",
            "Successfully installed funcy-2.0 pyldavis-3.4.1\n",
            "\u001b[31mERROR: Could not find a version that satisfies the requirement graphlab (from versions: none)\u001b[0m\u001b[31m\n",
            "\u001b[0m\u001b[31mERROR: No matching distribution found for graphlab\u001b[0m\u001b[31m\n",
            "\u001b[0m"
          ]
        }
      ]
    },
    {
      "cell_type": "code",
      "source": [
        "from gensim.models.ldamodel import LdaModel\n",
        "\n",
        "lda_model3 = LdaModel(corpus=corpus3, id2word=dictionary3, num_topics=10, chunksize=250 , passes = 50)\n",
        "\n",
        "# Print the topics\n",
        "for idx, topic in lda_model3.print_topics(-1):\n",
        "    print(f'Topic: {idx} \\nWords: {topic}\\n')"
      ],
      "metadata": {
        "colab": {
          "base_uri": "https://localhost:8080/"
        },
        "id": "0zgl-pSq_1oX",
        "outputId": "6c1c000a-5498-4113-f593-9a191257b027"
      },
      "execution_count": null,
      "outputs": [
        {
          "output_type": "stream",
          "name": "stderr",
          "text": [
            "/usr/local/lib/python3.10/dist-packages/ipykernel/ipkernel.py:283: DeprecationWarning: `should_run_async` will not call `transform_cell` automatically in the future. Please pass the result to `transformed_cell` argument and any exception that happen during thetransform in `preprocessing_exc_tuple` in IPython 7.17 and above.\n",
            "  and should_run_async(code)\n"
          ]
        },
        {
          "output_type": "stream",
          "name": "stdout",
          "text": [
            "Topic: 0 \n",
            "Words: 0.031*\"relationship\" + 0.017*\"want\" + 0.017*\"know\" + 0.016*\"like\" + 0.015*\"feel\" + 0.013*\"time\" + 0.013*\"person\" + 0.010*\"need\" + 0.010*\"good\" + 0.009*\"partner\"\n",
            "\n",
            "Topic: 1 \n",
            "Words: 0.031*\"sexual\" + 0.021*\"mother\" + 0.012*\"intimacy\" + 0.012*\"conversations\" + 0.011*\"ability\" + 0.011*\"anger\" + 0.010*\"kids\" + 0.009*\"meeting\" + 0.009*\"panic\" + 0.009*\"woman\"\n",
            "\n",
            "Topic: 2 \n",
            "Words: 0.070*\"therapist\" + 0.053*\"therapy\" + 0.035*\"counseling\" + 0.030*\"client\" + 0.030*\"counselor\" + 0.017*\"help\" + 0.015*\"issues\" + 0.014*\"session\" + 0.014*\"clients\" + 0.013*\"therapists\"\n",
            "\n",
            "Topic: 3 \n",
            "Words: 0.017*\"stress\" + 0.016*\"anger\" + 0.015*\"symptoms\" + 0.015*\"coping\" + 0.013*\"skills\" + 0.010*\"grief\" + 0.010*\"help\" + 0.010*\"helps\" + 0.010*\"depression\" + 0.010*\"sleep\"\n",
            "\n",
            "Topic: 4 \n",
            "Words: 0.027*\"match\" + 0.023*\"addiction\" + 0.020*\"opinion\" + 0.016*\"bipolar\" + 0.014*\"personality\" + 0.012*\"prefer\" + 0.011*\"arguments\" + 0.010*\"tension\" + 0.010*\"betrayal\" + 0.010*\"freedom\"\n",
            "\n",
            "Topic: 5 \n",
            "Words: 0.062*\"thoughts\" + 0.038*\"anxiety\" + 0.022*\"thought\" + 0.021*\"brain\" + 0.015*\"power\" + 0.013*\"negative\" + 0.013*\"breathing\" + 0.012*\"acceptance\" + 0.010*\"control\" + 0.009*\"positive\"\n",
            "\n",
            "Topic: 6 \n",
            "Words: 0.023*\"voices\" + 0.019*\"public\" + 0.015*\"separate\" + 0.014*\"orientation\" + 0.014*\"near\" + 0.013*\"lying\" + 0.011*\"dream\" + 0.010*\"dysphoria\" + 0.009*\"integrate\" + 0.009*\"meantime\"\n",
            "\n",
            "Topic: 7 \n",
            "Words: 0.015*\"para\" + 0.007*\"como\" + 0.005*\"pero\" + 0.005*\"puedes\" + 0.005*\"puede\" + 0.005*\"asked\" + 0.005*\"cómo\" + 0.005*\"también\" + 0.004*\"personas\" + 0.004*\"terapia\"\n",
            "\n",
            "Topic: 8 \n",
            "Words: 0.025*\"daughter\" + 0.022*\"font\" + 0.018*\"wife\" + 0.016*\"problem\" + 0.015*\"family\" + 0.014*\"expectations\" + 0.014*\"style\" + 0.012*\"gives\" + 0.009*\"frustration\" + 0.008*\"guilty\"\n",
            "\n",
            "Topic: 9 \n",
            "Words: 0.019*\"feel\" + 0.017*\"people\" + 0.016*\"help\" + 0.014*\"like\" + 0.013*\"life\" + 0.010*\"time\" + 0.009*\"things\" + 0.009*\"feeling\" + 0.009*\"feelings\" + 0.008*\"good\"\n",
            "\n"
          ]
        }
      ]
    },
    {
      "cell_type": "code",
      "source": [
        "import pyLDAvis.gensim_models as gensimvis\n",
        "import pyLDAvis\n",
        "\n",
        "# Visualize the topics\n",
        "lda_display = gensimvis.prepare(lda_model3, corpus3, dictionary3, sort_topics=False)\n",
        "pyLDAvis.display(lda_display)\n",
        "\n"
      ],
      "metadata": {
        "colab": {
          "base_uri": "https://localhost:8080/",
          "height": 916
        },
        "id": "c_5MAGqHFtaJ",
        "outputId": "e866fa88-39ab-4032-8d22-b1b57251551f"
      },
      "execution_count": null,
      "outputs": [
        {
          "output_type": "stream",
          "name": "stderr",
          "text": [
            "/usr/local/lib/python3.10/dist-packages/ipykernel/ipkernel.py:283: DeprecationWarning: `should_run_async` will not call `transform_cell` automatically in the future. Please pass the result to `transformed_cell` argument and any exception that happen during thetransform in `preprocessing_exc_tuple` in IPython 7.17 and above.\n",
            "  and should_run_async(code)\n"
          ]
        },
        {
          "output_type": "execute_result",
          "data": {
            "text/plain": [
              "<IPython.core.display.HTML object>"
            ],
            "text/html": [
              "\n",
              "<link rel=\"stylesheet\" type=\"text/css\" href=\"https://cdn.jsdelivr.net/gh/bmabey/pyLDAvis@3.4.0/pyLDAvis/js/ldavis.v1.0.0.css\">\n",
              "\n",
              "\n",
              "<div id=\"ldavis_el3101323466415048964231688402\" style=\"background-color:white;\"></div>\n",
              "<script type=\"text/javascript\">\n",
              "\n",
              "var ldavis_el3101323466415048964231688402_data = {\"mdsDat\": {\"x\": [-0.029452813322514235, 0.020944260393327304, -0.03709400543528354, 0.08743152820472266, -0.020243942792075816, -0.0049778916786773, -0.023402953550190342, 0.014386097744360261, 0.035291463456553464, -0.042881743020222414], \"y\": [0.0033751748009695627, 0.005960490185067842, 0.027555401824472345, 0.02089452033244, -0.08273141874245173, 0.028381628483005156, 0.016018168668992628, 0.0020966655618900876, -0.03764816432850666, 0.016097533214120774], \"topics\": [1, 2, 3, 4, 5, 6, 7, 8, 9, 10], \"cluster\": [1, 1, 1, 1, 1, 1, 1, 1, 1, 1], \"Freq\": [14.426442051682212, 5.455231507124894, 19.70594051492113, 5.0184193587642385, 5.982209714543193, 8.418199073382265, 12.919931329959763, 7.664626076922958, 3.480134489979793, 16.928865882719553]}, \"tinfo\": {\"Term\": [\"therapy\", \"relationship\", \"feel\", \"thoughts\", \"font\", \"crying\", \"counseling\", \"self\", \"partner\", \"family\", \"feeling\", \"counselor\", \"like\", \"life\", \"tears\", \"client\", \"thought\", \"stress\", \"trust\", \"emotions\", \"therapist\", \"feelings\", \"good\", \"people\", \"time\", \"normal\", \"helpful\", \"clients\", \"goals\", \"help\", \"manifestations\", \"listing\", \"explanatory\", \"abide\", \"conditioned\", \"finance\", \"crossdressing\", \"stolen\", \"boring\", \"material\", \"weeping\", \"twist\", \"crossing\", \"collaborative\", \"chicken\", \"masters\", \"goodbye\", \"chapter\", \"narcissistic\", \"departure\", \"scan\", \"fish\", \"fishbowl\", \"ambivalent\", \"heartbroken\", \"nerve\", \"wracking\", \"lessons\", \"specialized\", \"absorbs\", \"fulfillment\", \"relationship\", \"train\", \"happier\", \"troubles\", \"findings\", \"time\", \"life\", \"love\", \"friend\", \"decision\", \"person\", \"know\", \"friendship\", \"need\", \"partner\", \"want\", \"ending\", \"come\", \"therapist\", \"maybe\", \"understand\", \"good\", \"help\", \"changes\", \"place\", \"best\", \"right\", \"people\", \"therapy\", \"like\", \"feel\", \"having\", \"situation\", \"change\", \"needs\", \"work\", \"think\", \"things\", \"feelings\", \"able\", \"client\", \"comply\", \"swimming\", \"tissue\", \"tolle\", \"eckhart\", \"paradox\", \"beat\", \"neutralize\", \"assign\", \"evolution\", \"cusses\", \"solely\", \"funds\", \"eres\", \"innocent\", \"aroused\", \"scientific\", \"enthusiastic\", \"theoretically\", \"addionally\", \"realizations\", \"hesitating\", \"clash\", \"refine\", \"reactive\", \"recommending\", \"laugh\", \"hates\", \"ambos\", \"mail\", \"dwelling\", \"intuitive\", \"listens\", \"intuition\", \"describes\", \"quien\", \"objectives\", \"sienta\", \"stress\", \"empathy\", \"stating\", \"troubling\", \"sounds\", \"boyfriend\", \"like\", \"imagined\", \"feel\", \"anxiety\", \"maybe\", \"good\", \"think\", \"relationship\", \"qualities\", \"talking\", \"know\", \"change\", \"ways\", \"different\", \"thinking\", \"reason\", \"able\", \"time\", \"feeling\", \"helpful\", \"therapist\", \"need\", \"people\", \"issue\", \"going\", \"help\", \"life\", \"want\", \"having\", \"important\", \"self\", \"person\", \"sneaking\", \"tornado\", \"coverage\", \"irritated\", \"components\", \"toxins\", \"alliance\", \"challenged\", \"preferred\", \"profiles\", \"duty\", \"click\", \"collective\", \"bravo\", \"junk\", \"bipolar\", \"engine\", \"readily\", \"loaded\", \"attuned\", \"legged\", \"innate\", \"ouch\", \"obligated\", \"communicator\", \"forth\", \"attentive\", \"demonstrating\", \"discouraged\", \"kansas\", \"prospective\", \"coaching\", \"specialize\", \"exhibit\", \"consultations\", \"consultation\", \"therapist\", \"right\", \"feel\", \"therapists\", \"comfortable\", \"need\", \"judged\", \"good\", \"counselors\", \"counselor\", \"help\", \"meet\", \"kind\", \"know\", \"important\", \"things\", \"tell\", \"talk\", \"like\", \"people\", \"doctor\", \"luck\", \"question\", \"treatment\", \"able\", \"best\", \"care\", \"want\", \"safe\", \"work\", \"therapy\", \"person\", \"life\", \"feeling\", \"time\", \"going\", \"think\", \"support\", \"different\", \"thoughts\", \"amigo\", \"voces\", \"viewpoints\", \"posts\", \"corrected\", \"virtual\", \"precisely\", \"inter\\u00e9s\", \"afternoon\", \"compliment\", \"highs\", \"referred\", \"lows\", \"breakfast\", \"theorized\", \"auditory\", \"array\", \"digo\", \"keen\", \"partes\", \"purging\", \"inexpensive\", \"numbing\", \"bothersome\", \"voicemail\", \"habla\", \"normalizar\", \"cement\", \"advance\", \"tests\", \"amigos\", \"personas\", \"relaciones\", \"proveer\", \"sites\", \"rewrite\", \"donde\", \"trough\", \"military\", \"volume\", \"esas\", \"sherry\", \"otras\", \"cuando\", \"preocupaciones\", \"feed\", \"moment\", \"sentimientos\", \"police\", \"base\", \"para\", \"como\", \"dreams\", \"symptoms\", \"relationship\", \"house\", \"feel\", \"talk\", \"feeling\", \"brain\", \"people\", \"like\", \"anxiety\", \"thoughts\", \"help\", \"trust\", \"need\", \"know\", \"feelings\", \"time\", \"therapy\", \"able\", \"good\", \"therapist\", \"important\", \"want\", \"things\", \"change\", \"process\", \"support\", \"life\", \"best\", \"font\", \"latin\", \"bidi\", \"ascii\", \"hansi\", \"fareast\", \"margin\", \"wordsection\", \"roman\", \"david\", \"msonormal\", \"theme\", \"signature\", \"panose\", \"pitch\", \"benefitting\", \"lowest\", \"burns\", \"charset\", \"minor\", \"clothes\", \"cambria\", \"generic\", \"variable\", \"positivity\", \"payment\", \"mantras\", \"property\", \"schemas\", \"msochpdefault\", \"bullies\", \"clinician\", \"tears\", \"crying\", \"style\", \"family\", \"child\", \"self\", \"normal\", \"counselor\", \"life\", \"parent\", \"good\", \"school\", \"therapy\", \"feel\", \"emotional\", \"people\", \"feeling\", \"help\", \"relationship\", \"know\", \"like\", \"want\", \"therapist\", \"tell\", \"emotions\", \"person\", \"best\", \"work\", \"time\", \"client\", \"learn\", \"counseling\", \"espacio\", \"laughing\", \"reside\", \"tissues\", \"jeopardize\", \"thankfully\", \"listings\", \"devise\", \"mesh\", \"couch\", \"dissociation\", \"nicotine\", \"herramientas\", \"hiring\", \"variations\", \"obtainable\", \"polyamorous\", \"normalizing\", \"hospitalization\", \"representation\", \"informational\", \"published\", \"competence\", \"discharge\", \"polyamory\", \"helpguide\", \"surprises\", \"seemingly\", \"guides\", \"comfy\", \"terapia\", \"determinar\", \"directories\", \"consejer\\u00eda\", \"therapy\", \"clientes\", \"tears\", \"consejero\", \"goals\", \"para\", \"crying\", \"behavioral\", \"counseling\", \"colleagues\", \"therapeutic\", \"search\", \"therapist\", \"issues\", \"people\", \"problems\", \"thoughts\", \"treatment\", \"negative\", \"help\", \"things\", \"time\", \"different\", \"feelings\", \"better\", \"change\", \"good\", \"process\", \"counselor\", \"relationship\", \"feel\", \"helpful\", \"client\", \"question\", \"like\", \"clients\", \"want\", \"know\", \"right\", \"work\", \"able\", \"imago\", \"unsettling\", \"empathizing\", \"psychotic\", \"suits\", \"stored\", \"dysphoria\", \"ineffective\", \"needy\", \"evoke\", \"perceiving\", \"participation\", \"jokes\", \"unbiased\", \"gottman\", \"marks\", \"resist\", \"deepening\", \"attractions\", \"earning\", \"sacrificing\", \"recognition\", \"kissing\", \"accusations\", \"stayed\", \"steam\", \"conducted\", \"fitting\", \"tank\", \"depleted\", \"fluid\", \"worker\", \"motivations\", \"termination\", \"evolve\", \"gender\", \"massages\", \"critic\", \"monthly\", \"transgender\", \"lgbtq\", \"work\", \"worth\", \"helpful\", \"social\", \"things\", \"think\", \"counseling\", \"health\", \"help\", \"person\", \"trust\", \"support\", \"want\", \"client\", \"issues\", \"like\", \"best\", \"voices\", \"people\", \"communication\", \"time\", \"start\", \"feel\", \"relationship\", \"therapist\", \"anxiety\", \"know\", \"good\", \"talk\", \"relationships\", \"love\", \"going\", \"important\", \"life\", \"therapy\", \"need\", \"laziness\", \"streams\", \"stigmatized\", \"pausing\", \"particulate\", \"revise\", \"hansen\", \"introduced\", \"laughter\", \"heels\", \"troublesome\", \"weigh\", \"weights\", \"psyche\", \"perseverance\", \"modifications\", \"doubting\", \"absorbed\", \"jarring\", \"workplaces\", \"albeit\", \"messy\", \"powerlessness\", \"deter\", \"impress\", \"rick\", \"velcro\", \"teflon\", \"buddha\", \"scarier\", \"population\", \"merely\", \"sensations\", \"entitled\", \"thought\", \"stops\", \"reduction\", \"stir\", \"scary\", \"orientations\", \"thoughts\", \"replace\", \"fixing\", \"stream\", \"oriented\", \"intensely\", \"negative\", \"emotions\", \"feeling\", \"therapy\", \"feelings\", \"help\", \"clients\", \"coping\", \"like\", \"having\", \"understand\", \"want\", \"feel\", \"step\", \"work\", \"positive\", \"brain\", \"people\", \"helps\", \"release\", \"helpful\", \"counselor\", \"good\", \"experience\", \"time\", \"know\", \"life\", \"hope\", \"need\", \"able\", \"talk\", \"therapist\", \"relationship\", \"change\", \"happily\", \"unit\", \"insurances\", \"authorities\", \"expressions\", \"bare\", \"transformative\", \"favors\", \"voluntary\", \"benefiting\", \"absolutes\", \"darkest\", \"slightly\", \"oxygen\", \"lightly\", \"concentrating\", \"paramount\", \"qualifies\", \"onion\", \"evolving\", \"supply\", \"roads\", \"spans\", \"establishment\", \"involvements\", \"oneself\", \"epidemic\", \"compelled\", \"jail\", \"moved\", \"policy\", \"meetings\", \"insecure\", \"partner\", \"concentrate\", \"feel\", \"self\", \"obligation\", \"family\", \"counseling\", \"crying\", \"examine\", \"thoughts\", \"life\", \"counselor\", \"knowing\", \"feeling\", \"like\", \"clients\", \"feelings\", \"problem\", \"right\", \"people\", \"need\", \"help\", \"time\", \"know\", \"good\", \"trust\", \"able\", \"possible\", \"therapy\", \"person\", \"care\", \"love\", \"work\", \"ways\", \"want\", \"interview\", \"styles\", \"regulatory\", \"masculine\", \"conduct\", \"accomplishing\", \"personalities\", \"fruitful\", \"continually\", \"identifies\", \"courses\", \"misses\", \"youngest\", \"closing\", \"dial\", \"continuum\", \"extremes\", \"dual\", \"imminent\", \"filing\", \"educated\", \"inhabit\", \"confidentiality\", \"evaluations\", \"requiring\", \"timeout\", \"wider\", \"physicality\", \"defending\", \"slot\", \"directive\", \"appealing\", \"theoretical\", \"board\", \"ethical\", \"closure\", \"sought\", \"sorting\", \"gift\", \"outlines\", \"retreat\", \"attraction\", \"attractive\", \"client\", \"reflective\", \"characteristics\", \"personality\", \"therapist\", \"trust\", \"like\", \"orientation\", \"sexual\", \"feel\", \"mean\", \"comfortable\", \"feels\", \"looking\", \"working\", \"people\", \"time\", \"questions\", \"person\", \"safe\", \"consider\", \"know\", \"important\", \"life\", \"sessions\", \"needs\", \"help\", \"relationship\", \"feeling\", \"feelings\", \"want\", \"best\", \"work\", \"therapy\", \"things\", \"think\", \"process\", \"counselor\", \"good\", \"need\", \"talk\", \"different\", \"able\"], \"Freq\": [1342.0, 1411.0, 2265.0, 610.0, 105.0, 279.0, 588.0, 474.0, 372.0, 331.0, 653.0, 736.0, 1620.0, 996.0, 100.0, 842.0, 185.0, 311.0, 435.0, 463.0, 2385.0, 625.0, 1177.0, 1295.0, 1230.0, 300.0, 406.0, 328.0, 273.0, 1581.0, 19.466085311615135, 8.237600594239364, 8.21090783107048, 8.140195642240577, 8.063847436635232, 8.062827935814196, 12.143435763868963, 7.798450788844199, 7.874118403146853, 8.351568449447633, 7.889751211113757, 7.61645221909331, 10.906068795589118, 33.98867698333817, 7.6738006996762795, 8.034864781751388, 12.522752445279787, 15.884912292297667, 7.971738205760542, 7.503707626256986, 8.023677995379966, 4.436300991290565, 4.436211932245356, 7.801714438991218, 4.793229545562052, 4.391046174593857, 4.389774397566934, 15.810636355526382, 8.45274160400521, 4.270873988080404, 11.15212542270643, 631.584559409253, 61.85958389503727, 11.36470000722394, 9.632548013353183, 7.523821802210856, 320.3061275600336, 263.9993647378158, 135.6176336550977, 81.54759048598467, 47.45981330998948, 199.16515605972478, 251.2540381445611, 30.605514449113826, 187.53680870455503, 96.39500440638126, 181.52082515132574, 32.67441220771873, 84.96102616491527, 285.94180576159994, 89.57189778574634, 87.38467416978315, 170.38836964894688, 203.63666586879913, 48.1167128274553, 75.58933659991318, 114.95444923190094, 126.03639404778272, 165.46341692405437, 168.24796960570242, 186.2991582720768, 219.22813380513, 91.68206904054053, 71.05108171465315, 89.20694005607601, 75.13661447325468, 104.42582653123999, 82.98625238149964, 84.97609620288443, 80.39549772675961, 78.4484410587994, 77.6604022705291, 5.684119239512929, 5.374666092733626, 6.006219696659752, 3.1382063325913445, 3.1380328376379008, 3.1379833050907693, 3.1380137060191675, 3.128614577604797, 3.1216184329187158, 3.1066627486086986, 3.090333518904422, 5.159333696120687, 3.0350192917611745, 5.46228890653188, 3.0566029026159, 2.9582716238664086, 2.9764222885048772, 2.997126369051812, 2.9926519289609534, 2.868626362098778, 2.9721624894515877, 3.1974509280379135, 2.896286227478576, 2.8975932053227225, 2.880379990002182, 2.958160503231574, 5.644638392448708, 4.727040356609761, 2.8222717602929746, 3.1473931786608667, 5.228727484266756, 6.5336820942128355, 5.979791855110982, 14.000031125825222, 5.960602579444569, 6.859076334705404, 10.258153820111154, 4.626761321827043, 58.83161246228391, 25.439341733906296, 9.090251836922775, 8.990247458803516, 48.795980858351825, 33.47013484416009, 116.49373265833185, 6.61053249627943, 125.76791116037059, 36.349710782021546, 37.049900771653476, 66.03590706356708, 45.92600742063265, 72.30429335949876, 13.06784536174066, 30.02400720467295, 61.33119356809598, 38.14346200182992, 32.589640093123066, 35.80146672913872, 22.241845466552757, 24.296048778102186, 38.057337219986174, 52.266332796232824, 39.35904207551729, 31.875348265945952, 66.01778391701035, 45.0931310065457, 50.36253860208659, 22.50111716362567, 31.18064511973592, 52.08631736780145, 42.59566328941122, 41.652379089845624, 30.629289689077737, 32.396749347361194, 30.014729679972174, 30.325253149092664, 26.120090454620758, 16.8385372198964, 10.395567550625696, 10.195167988092287, 13.180804514342988, 7.1740614152176905, 19.359501650848674, 7.1766856704086965, 10.345740783232822, 7.0866009160497505, 9.551466212088227, 14.839338528564047, 7.1351401700733, 6.84001181139181, 6.834989562550437, 67.93839215215301, 6.505018346662094, 6.9147467556255835, 3.890208154925881, 7.177737455227314, 3.8515692633567857, 3.7804206592122367, 3.8380534497571466, 7.074433441359127, 6.420783257824516, 9.857541274511998, 6.9889150993067535, 12.394790856184224, 7.669793350499567, 3.781865088273448, 13.430816889841722, 11.819331075558413, 19.234340204134185, 6.501835537877043, 9.206310385400409, 53.346291218436605, 841.1798646719577, 328.10436315766503, 752.2694626175853, 127.0717227269507, 147.3946971396934, 325.87454147415536, 31.058605485340333, 360.32164357890514, 95.22837405620281, 235.6247468352823, 421.0492262228573, 72.22956060799214, 72.38360022221978, 334.43074943804436, 185.74328284503596, 231.1119064452857, 125.63905358564648, 167.5428726785301, 349.707443951055, 282.60957839443756, 57.929581310559435, 75.71395803939615, 132.54813812255006, 99.61413687664702, 149.07568974190013, 156.47919455984058, 102.07190901539164, 195.690020395012, 104.13973122260799, 169.6628618980283, 207.04531271824555, 165.70601522255453, 166.67917841595474, 133.22206806170306, 170.07872871632026, 109.27605374850421, 112.62797362781274, 107.09366557224209, 105.73991342686944, 106.74877860864022, 18.698603729161626, 17.58244273554853, 6.857542329238002, 6.841413763244784, 3.842124193254174, 3.8296597419723812, 3.7419859488973772, 6.317020555581415, 3.7937903300332363, 3.709454213235701, 7.364759667690202, 3.7072072367183644, 7.339151368149594, 3.636900016548222, 3.631526560258694, 3.6106788613952676, 3.574114140413633, 3.633381280253101, 6.313032895538845, 3.5535673242426564, 3.5291905221323656, 3.829699039952245, 3.2805454529640903, 3.8174354182239867, 3.7952224159251866, 3.4265728886656666, 3.3718635912146375, 3.346775085812589, 3.734903633213549, 10.420937041549294, 9.709745828989737, 22.663506625011873, 9.012119411148145, 11.417890626895856, 11.381637155558414, 16.830729760636196, 8.6089771067042, 8.306418343358201, 18.127539951302328, 5.705799546323656, 7.312666940640745, 9.124830839234086, 8.623682748297705, 11.643473568090002, 7.19374305644979, 10.06192998487034, 29.41709446619212, 10.968355490125937, 10.89825850209347, 12.34657855828996, 22.95611890089014, 15.442189887844506, 14.555069093285924, 27.509043014548546, 73.18183026898906, 14.010052884410861, 72.05822628620824, 39.20669282589646, 40.56459570427645, 21.445338683717313, 49.41851639619284, 51.732211721845154, 29.47975328689488, 34.40711241016115, 47.835410537454685, 29.160221653718356, 38.32064730121635, 39.48174203897055, 31.31460923739431, 37.68943784463033, 36.008834421127055, 28.403279877657095, 34.411560073550824, 39.75255960699826, 25.99302821002117, 27.995579971916612, 27.030770687546816, 24.24404340845295, 23.22053306802724, 22.493833860027642, 22.970948945904563, 21.953352107626625, 101.93976460587504, 17.346324024709812, 18.33202937595457, 12.355117843198945, 12.284953535327222, 13.427432172162312, 15.35354847153142, 9.328385828850347, 8.67592329141623, 7.696089969082899, 9.224458504312901, 26.354656688088447, 6.780282799105912, 6.233561040713503, 6.744414910682784, 5.36080775225387, 5.2865457844262425, 5.287959186843352, 6.684261676377064, 25.454774005287558, 7.143000140182496, 7.101364259382104, 6.754134566995645, 6.768675540703671, 5.340479243394206, 5.274140720999623, 4.9796765194186365, 4.780050527929487, 4.8554551732704185, 3.148491258319633, 15.452717705296669, 24.132238591559865, 50.55850920154848, 79.8403263189832, 35.47773647555706, 69.38143812526314, 42.417426236493725, 71.80090716536358, 53.23082495562891, 73.01740118619671, 77.21020916264759, 21.208080852017165, 76.05770968085932, 24.64111634216761, 75.10297387911999, 95.34091922319239, 34.08953044248833, 65.77483061058686, 48.213192344866705, 66.6672226629283, 62.578152331145965, 60.09314372325029, 62.62971766568998, 52.38059931293332, 68.40218418871122, 36.72540237108913, 36.840525406192036, 43.838415848359624, 40.20994801618536, 42.16236774028475, 42.396577544963264, 39.56483413670274, 31.072641088973644, 31.555241855075256, 8.37308770196421, 4.9649313970849756, 5.061862473436891, 6.400189381160075, 2.7213192015059833, 2.7087788815119906, 2.6816506525105384, 2.686147421667311, 8.382408822166141, 5.430041868348239, 12.10330310724644, 4.690505129786096, 4.866505172286924, 2.5679663913111272, 4.62189168778594, 2.549472776023289, 8.568722841086178, 2.7928012093509977, 3.0311934689272015, 2.5197613009575424, 2.3785148658600863, 2.513410863176787, 2.476472567673326, 6.268660399907293, 4.656361390886043, 2.3577589134319483, 2.4760046513216407, 2.4529649273827294, 2.6877729962356756, 2.2874191957644054, 22.616708144728182, 4.169897029142813, 9.260668806440984, 11.671331790425505, 416.4693071352324, 6.0542831281266025, 40.81176610833405, 14.541091489277822, 81.13361853896677, 33.87710180209977, 80.8448805829441, 22.249117588371764, 126.47755206027938, 6.535540151110717, 47.2987578147415, 26.258281508700968, 237.25493408424072, 67.93700885711506, 146.6848347526014, 34.62604944256659, 85.04716899009513, 54.245409191558274, 36.190926726811796, 138.33868884105772, 92.06200269497005, 115.54332481400026, 65.33029175272911, 75.52819256295228, 58.711636392514755, 63.94679292028556, 102.64157442084115, 58.683559793725316, 75.06765610546393, 103.58193018080348, 130.56911293609028, 53.93532422023107, 76.73639221636732, 55.70792562854601, 92.72352075153654, 47.378978979408956, 65.51140813902005, 69.17870112987423, 58.92027936356032, 59.845325321094485, 54.67417748547052, 13.670082285593377, 10.747130032602437, 10.245220794491262, 10.247668181520261, 6.973087302309385, 7.0813458506355005, 39.37821770963001, 6.659242036631233, 11.07721134948641, 9.668695114155613, 6.66786158105723, 6.5870282916396405, 6.566534916662096, 9.658569151185516, 19.300766940393636, 4.246917876835502, 3.8157367583408472, 3.825145822498239, 3.8048417584625773, 6.98435161369723, 3.709178905033615, 3.7608247920541356, 3.6497632004049256, 12.220978405014478, 3.6846029309733317, 3.728921863851367, 6.084282361234504, 6.694990770066483, 6.850251811458278, 3.6521516217307153, 20.580588356049144, 24.995775108404448, 13.948118610749844, 28.589266717544973, 8.147701489606964, 81.406992192471, 5.949299935522249, 14.738966622195107, 9.34709803092606, 24.041806858366986, 18.419996852245557, 246.16079179871778, 57.08230140745211, 110.5458813330894, 55.37624361303477, 176.7368619505685, 137.82350005184446, 135.81680903341757, 68.90218144402037, 256.0756699651561, 169.20248011940828, 100.52308227456228, 101.2962455405776, 168.84553775229176, 143.16042502155454, 89.28219827094834, 196.39528753619976, 113.6417222692737, 32.80186593442096, 160.54062438755417, 49.11984098482347, 145.0608635669477, 78.64878763148083, 194.15493840154343, 150.558959803586, 191.26914943817317, 74.65764621649441, 134.74049005267852, 128.03139965193725, 89.7724155411505, 70.05169734526555, 77.45066412865944, 76.57684454519074, 85.67616869123064, 98.05683118606925, 99.3698074649104, 88.28258684247709, 16.02546864021076, 13.363258715114764, 6.565945874536544, 6.534621451769944, 6.542379834133788, 6.840125708041164, 6.784043686953944, 6.202078109891612, 6.705432531241691, 6.549303094940861, 6.632695211099823, 7.137423827180887, 3.5904560044945613, 6.329800893803208, 3.5055177351535485, 3.8268429053614064, 3.4954531948046657, 3.4228638988540783, 3.4525898812864853, 3.4247915273151475, 3.3070651631668952, 3.4717295565067166, 6.168036964529832, 3.3815029204115734, 3.3961333810884904, 3.40730184314249, 3.4007350186965097, 3.403677091553041, 3.379965236275294, 3.634914444372503, 5.880411232097915, 7.4607874598835835, 9.858543698212435, 9.862306163850487, 86.24540984978712, 8.178968432667654, 12.110820141186213, 5.136443487822509, 34.11254162693537, 11.268338615420284, 169.86619908179816, 14.031887669319467, 7.465531598392163, 5.576430299407104, 6.612121321389456, 5.800403420272416, 46.09757287240054, 83.74943035505959, 101.17449055342257, 128.05899471851217, 80.55671498431448, 139.58075001296473, 51.19055947706222, 26.827936830857837, 112.32478613602669, 58.774877174982, 51.300312418727955, 82.21733137035525, 125.28016971536066, 40.99994670353456, 73.06588376867244, 35.68573684034706, 28.76499465384312, 85.68426118722681, 38.56998747099534, 19.307977989277987, 46.69932287681975, 61.902397094952875, 75.38111173351083, 41.032886136507514, 75.2096923556212, 75.7390916702489, 67.72482923971116, 39.00812140265327, 56.030199364374084, 45.22334052582447, 44.86721346901308, 61.516202716342626, 41.72947177901751, 39.213116496606744, 5.647566015030128, 5.431739413233686, 11.133602562246576, 4.827565301380595, 2.8315944839006715, 2.788640057687884, 2.7360171697674787, 2.7600509770083383, 2.7169079598670165, 2.6122717607331527, 2.6426128310759136, 2.6553977244394473, 2.535490341429435, 2.6053178046245407, 5.351551486688053, 5.128927251937413, 5.646379630961975, 2.540256609328945, 2.7438054066680984, 2.51305771798518, 2.94675934006778, 2.7390311136226932, 4.525881676225816, 2.2470923453039338, 2.808110900725242, 8.537380257350852, 2.4537117640911856, 2.651668205075256, 2.028808376958207, 3.049378218152272, 9.790980941234983, 9.035860188336247, 7.396126934662508, 42.61426569125805, 10.651703251442541, 102.82771378107114, 40.01270867062858, 5.180291863857688, 28.730771317944125, 37.56009568276286, 21.481128708828525, 8.750007166602717, 30.297790730949167, 37.684378442191075, 30.808639418045328, 13.396184776652298, 26.930236209684523, 39.683749915244036, 19.44517862078587, 25.295457814838826, 17.003441043132277, 27.17961494332499, 32.884683134979724, 28.462522791255733, 31.59710465213805, 27.966309295223535, 27.736667070387664, 26.133226870262188, 19.10239253902413, 20.826187189662186, 16.024749088267285, 22.479955754744232, 19.898503062106215, 15.771654712077405, 16.31189683353855, 18.232040053742494, 15.351373808979982, 16.224343829347724, 34.909009784930234, 33.73392472692283, 9.932973191469232, 7.207024071916142, 6.786637526606258, 6.706165272384632, 15.299731725425731, 6.629811907381531, 6.513489579865956, 6.399643709586122, 6.319648447866552, 8.756835740797444, 4.790315331758963, 6.556980479343743, 6.256709429545326, 6.853712919804652, 3.655451355063075, 3.642486349144007, 3.6149342374842988, 3.61469187812264, 3.610363567643621, 3.591793798164583, 23.951651887791304, 3.5896316761411944, 3.594026269465768, 15.034575944615026, 3.5958773094225975, 3.6001381171263893, 3.472559905163309, 3.8452537065591326, 10.776170688992035, 10.870871389630505, 15.975854161256347, 20.126666499458942, 31.459709058908125, 12.653678240002268, 6.477720835216859, 6.971608549954888, 16.171911498827967, 5.483502550495633, 8.0242159219611, 37.939370395591155, 13.095333445870603, 370.3873568124271, 10.204389651360636, 12.32210948780549, 46.2859958377658, 581.2677703080046, 150.16570433273972, 412.6282057405277, 25.03254210933122, 70.51563066023385, 448.214263481267, 74.15482075940201, 109.78320843321382, 91.94948921525187, 81.13985829519486, 106.07386749814218, 256.050264770833, 243.63027463237532, 98.36128342437887, 179.6583467369267, 95.87786445663868, 81.16518078205594, 217.43737608261938, 130.83955893770397, 176.8790021088825, 81.90570086545321, 101.75693652311085, 224.7085733350424, 205.89501961648773, 130.2450270249617, 126.65827763599407, 153.43398376105043, 123.26204547731074, 142.5803052469416, 167.83429387019433, 132.8897955177965, 114.3024915829283, 100.04642595829375, 120.93085421385857, 137.9288012395727, 122.40105489886722, 106.24041555021573, 101.11619692750952, 101.16764868138863], \"Total\": [1342.0, 1411.0, 2265.0, 610.0, 105.0, 279.0, 588.0, 474.0, 372.0, 331.0, 653.0, 736.0, 1620.0, 996.0, 100.0, 842.0, 185.0, 311.0, 435.0, 463.0, 2385.0, 625.0, 1177.0, 1295.0, 1230.0, 300.0, 406.0, 328.0, 273.0, 1581.0, 20.498843311878584, 9.112179164549614, 9.085730790587565, 9.015702406755695, 9.019958990474837, 9.023842879914067, 13.60674087544814, 8.840970716830176, 8.953009459982741, 9.521173755138841, 9.02629447426756, 8.76976710674152, 12.582642292252068, 39.49519279993501, 8.965775477127233, 9.398974156326743, 14.683499288313177, 18.71296209635227, 9.404595674063435, 8.860757559542124, 9.528073821335623, 5.3105800070801195, 5.310491023591241, 9.34196421809335, 5.754179393416998, 5.277671572504978, 5.277169020226675, 19.019692752778965, 10.256574506053264, 5.250612490117786, 14.860731555706835, 1411.291825479982, 104.97511031659393, 15.994166745425863, 13.290422360571664, 9.912742596611473, 1230.1476691263483, 996.2656950066976, 430.21442343346547, 231.95912308251522, 114.81242131078474, 886.8395088013432, 1271.4231929187308, 64.01630001746419, 971.4827810124026, 372.8160917427506, 985.4720087730985, 79.05029781585965, 356.67551789790724, 2385.7154621252366, 394.2962212342039, 395.0802657948378, 1177.3313039619534, 1581.5756294662, 154.6194135600469, 321.35542328509905, 650.7121753887725, 790.8460079934184, 1295.4735491605534, 1342.2866358910312, 1620.6178143485336, 2265.710851407819, 490.2340707032388, 312.05525382669543, 499.1313627191335, 417.54507016845366, 902.5369796248605, 596.8032490426384, 837.2553381098658, 625.3859182616843, 584.3619155833538, 842.9298059658372, 6.733677919140055, 6.6051087619050515, 7.5559708500747025, 4.0498071582200375, 4.049634317717841, 4.049584959824467, 4.0496716048918975, 4.040363253695815, 4.033968290236991, 4.018651872203665, 4.002510142949225, 6.6959340410865416, 3.947936466015674, 7.11038644125952, 4.002060650992469, 3.950909182158965, 3.9972843887856127, 4.0276850685693, 4.027585127293911, 3.917377955125774, 4.059930004001594, 4.382877819876901, 3.983419758220481, 3.986894100020553, 3.99689903506742, 4.122231567554323, 7.877146617495172, 6.603979269031013, 3.9953228280701394, 4.485977599598473, 7.698618330793674, 10.740204719989418, 9.665526184747527, 27.61891256725895, 9.777109878943463, 12.012399825991102, 20.279992639658147, 7.677741660067017, 311.74719566388796, 101.40733202779396, 21.627439035736295, 21.78243129991191, 338.22748689871855, 196.09248423007134, 1620.6178143485336, 14.502499824497342, 2265.710851407819, 379.96803117794855, 394.2962212342039, 1177.3313039619534, 596.8032490426384, 1411.291825479982, 57.225232883869374, 286.47643764609035, 1271.4231929187308, 499.1313627191335, 373.5360705815058, 475.0166020274121, 173.56172474136145, 211.69987502325972, 584.3619155833538, 1230.1476691263483, 653.5794294811504, 406.1183293735068, 2385.7154621252366, 971.4827810124026, 1295.4735491605534, 191.65773382734216, 433.60367461207125, 1581.5756294662, 996.2656950066976, 985.4720087730985, 490.2340707032388, 610.2195470966354, 474.01995956415965, 886.8395088013432, 27.757577173366915, 17.96688498153921, 11.383465584285686, 11.275416395393044, 14.60796873570632, 8.088982404116074, 21.83037052493876, 8.110308999771375, 11.731628762326537, 8.063060235465795, 11.053796429745663, 17.265856407633716, 8.341628120586224, 7.99716203474139, 7.992009247736473, 80.12112429247469, 7.702006718857624, 8.478401862586965, 4.78031009737487, 8.839881549316102, 4.75956852940937, 4.6716669109199, 4.764963113128208, 8.803804252874286, 7.995181153639182, 12.29841996025562, 8.776726006780795, 15.578961951206525, 9.645942279543487, 4.759855017784639, 17.02324461843197, 15.034910839214675, 26.552306406592272, 8.34996255588205, 12.179776043651378, 89.05185153290681, 2385.7154621252366, 790.8460079934184, 2265.710851407819, 291.22169310972566, 357.2293142186677, 971.4827810124026, 54.15791703359324, 1177.3313039619534, 222.25665098985556, 736.3847997900348, 1581.5756294662, 162.6107235285367, 168.92129121300417, 1271.4231929187308, 610.2195470966354, 837.2553381098658, 375.68084801429694, 569.0300703829924, 1620.6178143485336, 1295.4735491605534, 135.62837236341957, 204.8852357199349, 477.6085651111144, 314.8280732754579, 584.3619155833538, 650.7121753887725, 338.89196090749334, 985.4720087730985, 351.9429610792788, 902.5369796248605, 1342.2866358910312, 886.8395088013432, 996.2656950066976, 653.5794294811504, 1230.1476691263483, 433.60367461207125, 596.8032490426384, 446.2150511060412, 475.0166020274121, 610.1946168039826, 20.72888542063621, 20.535369163843882, 8.367602229112276, 8.382692985347221, 4.733296150380587, 4.720981594000785, 4.650731113645753, 7.863554949491805, 4.72829594348827, 4.62846864765736, 9.218032809921617, 4.641505089808647, 9.203178430769729, 4.654264994081926, 4.667342446710522, 4.657567562629935, 4.624461852527791, 4.707010986988418, 8.197750349612772, 4.624172837497328, 4.639318852802701, 5.045515345921598, 4.325485776546674, 5.040625076584203, 5.123884315513547, 4.62711975477951, 4.616069981894023, 4.6172327399609445, 5.2005037438687856, 14.512034350531879, 14.013815158679542, 35.6936791611179, 14.015430959541188, 18.39666139406162, 18.54523795816887, 30.228555013069755, 13.830586906978786, 14.037583850647195, 41.0714755112095, 8.73342975782986, 12.363025604726587, 17.23839646488258, 16.63488128434455, 26.504631942974193, 13.010031621490363, 21.664278501851975, 113.44712388383837, 25.814005511662533, 26.71865309456401, 32.94267243480905, 92.83319326697026, 48.12745380127225, 43.94733516398491, 167.0855657080111, 1411.291825479982, 47.567431630365874, 2265.710851407819, 569.0300703829924, 653.5794294811504, 143.74312935463723, 1295.4735491605534, 1620.6178143485336, 379.96803117794855, 610.1946168039826, 1581.5756294662, 435.42666899741965, 971.4827810124026, 1271.4231929187308, 625.3859182616843, 1230.1476691263483, 1342.2866358910312, 584.3619155833538, 1177.3313039619534, 2385.7154621252366, 610.2195470966354, 985.4720087730985, 837.2553381098658, 499.1313627191335, 440.73328257939585, 446.2150511060412, 996.2656950066976, 650.7121753887725, 105.19166904756764, 18.492062379943928, 19.768834983747382, 13.507831804641112, 13.514237398819605, 14.775005335180241, 17.012373183917664, 10.37569266069806, 9.748883956398439, 8.652222503964374, 10.3823954902709, 30.351292445782875, 7.887927824558546, 7.25376177591214, 7.891761738632734, 6.279989343076116, 6.206746284741218, 6.229042990839302, 7.894155848833134, 30.089006080269847, 8.617450395140873, 8.579602334081168, 8.265954178784781, 8.286048411933075, 6.654526462429787, 6.6177420605309925, 6.279665370798156, 6.0950831236235326, 6.2298836372226685, 4.127275069507311, 20.487470789365926, 40.876063519251076, 100.50298766385008, 279.9087620690875, 95.72892646584812, 331.5550807952085, 168.39833130868817, 474.01995956415965, 300.5011013813016, 736.3847997900348, 996.2656950066976, 83.53888628232419, 1177.3313039619534, 115.15785746865629, 1342.2866358910312, 2265.710851407819, 272.50967499105974, 1295.4735491605534, 653.5794294811504, 1581.5756294662, 1411.291825479982, 1271.4231929187308, 1620.6178143485336, 985.4720087730985, 2385.7154621252366, 375.68084801429694, 463.3011420082036, 886.8395088013432, 650.7121753887725, 902.5369796248605, 1230.1476691263483, 842.9298059658372, 307.68802903678915, 588.7474242323818, 10.088481758148944, 6.053932712958354, 6.545711625806672, 8.353421834341157, 3.6446896675692284, 3.632209251654411, 3.6697877984169076, 3.689814224595925, 11.528039619140257, 7.55842198722899, 16.97849799658448, 6.601352308443, 6.875141822807094, 3.6542061406951794, 6.600196948255249, 3.649012623909605, 12.37612936245939, 4.060842440561619, 4.425040679382255, 3.680301294028667, 3.4990873385296553, 3.6986660736504775, 3.6485179029464856, 9.272574090904762, 6.911111914429974, 3.5082571629258164, 3.691789614048481, 3.6626418930859344, 4.045000653510226, 3.450466659397144, 38.13323436172271, 6.568158315350173, 16.247335091122252, 21.853269947221452, 1342.2866358910312, 10.463547353743307, 100.50298766385008, 31.483810878990283, 273.01950142930434, 92.83319326697026, 279.9087620690875, 55.27924059330827, 588.7474242323818, 12.020143804772978, 194.44003534777752, 95.63054209398717, 2385.7154621252366, 400.97104245181407, 1295.4735491605534, 150.49703667834947, 610.1946168039826, 314.8280732754579, 170.23114002746436, 1581.5756294662, 837.2553381098658, 1230.1476691263483, 475.0166020274121, 625.3859182616843, 419.2103424224463, 499.1313627191335, 1177.3313039619534, 440.73328257939585, 736.3847997900348, 1411.291825479982, 2265.710851407819, 406.1183293735068, 842.9298059658372, 477.6085651111144, 1620.6178143485336, 328.9117896427896, 985.4720087730985, 1271.4231929187308, 790.8460079934184, 902.5369796248605, 584.3619155833538, 14.615867822484882, 11.6536463489952, 11.142237382556575, 11.24422536074722, 7.86668603340481, 7.992590009704053, 44.52850101144694, 7.55616319558115, 12.592195554665748, 11.019603806465723, 7.620826735482956, 7.6717340598748285, 7.839187785616118, 11.63872560546442, 23.318261015106934, 5.145245714341409, 4.707685525657866, 4.720413234813442, 4.696893272741811, 8.657940750792985, 4.602194685436082, 4.6719372382203606, 4.543870686950065, 15.232627620279574, 4.611354838765927, 4.667463464513961, 7.633170764880789, 8.439138566604768, 8.677561697370303, 4.626981928986587, 26.07680244999938, 34.383773892860575, 18.723092727205337, 42.12220334414234, 11.192270266751239, 153.59981753960764, 7.884692886976308, 22.78256535126176, 13.377123107895777, 40.702755676656786, 30.313660802783392, 902.5369796248605, 145.39078790112995, 406.1183293735068, 162.7372324286468, 837.2553381098658, 596.8032490426384, 588.7474242323818, 223.54618878516905, 1581.5756294662, 886.8395088013432, 435.42666899741965, 446.2150511060412, 985.4720087730985, 842.9298059658372, 400.97104245181407, 1620.6178143485336, 650.7121753887725, 82.16390975322851, 1295.4735491605534, 168.8114559509259, 1230.1476691263483, 413.2271508415825, 2265.710851407819, 1411.291825479982, 2385.7154621252366, 379.96803117794855, 1271.4231929187308, 1177.3313039619534, 569.0300703829924, 338.2938381489159, 430.21442343346547, 433.60367461207125, 610.2195470966354, 996.2656950066976, 1342.2866358910312, 971.4827810124026, 16.97338607013792, 15.087197984352802, 7.465816595603955, 7.608712013083682, 7.6252354067176675, 8.05946321781197, 8.036842107003837, 7.435135786866283, 8.04176786504519, 7.9328657592683784, 8.035288536195404, 8.878969581702226, 4.488619128570705, 7.938186332414469, 4.451553475409521, 4.881397790769552, 4.465087973938726, 4.3733484318780675, 4.420289957053224, 4.387583275625463, 4.255371334395817, 4.4711023141308495, 7.978210208325542, 4.410444308775845, 4.432440849959759, 4.503949051065777, 4.5041683866490425, 4.509057319794236, 4.497802739330393, 4.881034806138445, 7.9457895970648655, 10.879843445279565, 15.007568433890906, 15.168513245542265, 185.9534746913893, 12.330403912698582, 19.794192077385556, 7.239462748842411, 75.96517828510814, 19.268914347625923, 610.1946168039826, 26.87459565142242, 11.903990842830115, 8.175939295787227, 10.303535193398304, 8.773052075491481, 170.23114002746436, 463.3011420082036, 653.5794294811504, 1342.2866358910312, 625.3859182616843, 1581.5756294662, 328.9117896427896, 106.01153034033796, 1620.6178143485336, 490.2340707032388, 395.0802657948378, 985.4720087730985, 2265.710851407819, 278.84293977395816, 902.5369796248605, 218.6053775725569, 143.74312935463723, 1295.4735491605534, 264.9947184155767, 66.74659224637, 406.1183293735068, 736.3847997900348, 1177.3313039619534, 316.7934674716804, 1230.1476691263483, 1271.4231929187308, 996.2656950066976, 290.4618469511613, 971.4827810124026, 584.3619155833538, 569.0300703829924, 2385.7154621252366, 1411.291825479982, 499.1313627191335, 6.567270221708223, 6.51635212019077, 13.644720096531328, 6.053054677721701, 3.7517476937554335, 3.709395897206502, 3.65757962608326, 3.766283050057295, 3.7963341175170204, 3.6708507635730223, 3.721058009327119, 3.7777787286321245, 3.6573639168732925, 3.770254989900518, 7.856732369835784, 7.6595958761439675, 8.446494342698196, 3.809911122945508, 4.1892348094521195, 3.8528650368164734, 4.5541657103859805, 4.239858254378264, 7.060821662200301, 3.6561694677338945, 4.62049818646618, 14.232388926890389, 4.1243212398180065, 4.511830305041616, 3.8211848837481153, 5.779163200224772, 25.173999433344058, 23.23753051910815, 22.591923031289404, 372.8160917427506, 44.22694079824395, 2265.710851407819, 474.01995956415965, 13.706213381898305, 331.5550807952085, 588.7474242323818, 279.9087620690875, 45.361087964118745, 610.1946168039826, 996.2656950066976, 736.3847997900348, 125.58470332414994, 653.5794294811504, 1620.6178143485336, 328.9117896427896, 625.3859182616843, 250.5756041860256, 790.8460079934184, 1295.4735491605534, 971.4827810124026, 1581.5756294662, 1230.1476691263483, 1271.4231929187308, 1177.3313039619534, 435.42666899741965, 584.3619155833538, 305.28768828576807, 1342.2866358910312, 886.8395088013432, 338.89196090749334, 430.21442343346547, 902.5369796248605, 373.5360705815058, 985.4720087730985, 35.80907013501785, 35.488612516803194, 10.830096388694955, 8.103980040970061, 7.683726154865177, 7.643374554769154, 17.447192355995806, 7.633899056585359, 7.5480324062059685, 7.532056269853708, 7.493009366513662, 10.472708860565634, 5.764152783591194, 7.960579777559581, 7.668281992871752, 8.461364913716618, 4.552235609251429, 4.539412078679199, 4.5121527187506825, 4.511911891648356, 4.507727033006622, 4.48937117980054, 30.00835413681062, 4.508037921431727, 4.515735403367292, 18.926438509064603, 4.529804879799497, 4.540697052364911, 4.425356092654647, 4.937645026490841, 13.849247387869157, 14.000559895446084, 21.174397753844577, 27.145062930511788, 46.53525672469677, 17.565262362564752, 8.519611671520579, 9.243359161995773, 23.318382698424966, 7.131421935132257, 10.902939962643432, 62.02979876419276, 18.81997146285125, 842.9298059658372, 14.309392181710034, 17.911611953705798, 84.70301423513767, 2385.7154621252366, 435.42666899741965, 1620.6178143485336, 45.687882473368475, 180.77776430405612, 2265.710851407819, 208.4239617027502, 357.2293142186677, 280.87745148326474, 239.65372810062843, 357.15324861688003, 1295.4735491605534, 1230.1476691263483, 359.8667129001815, 886.8395088013432, 351.9429610792788, 278.9493888580797, 1271.4231929187308, 610.2195470966354, 996.2656950066976, 294.0224782308435, 417.54507016845366, 1581.5756294662, 1411.291825479982, 653.5794294811504, 625.3859182616843, 985.4720087730985, 650.7121753887725, 902.5369796248605, 1342.2866358910312, 837.2553381098658, 596.8032490426384, 440.73328257939585, 736.3847997900348, 1177.3313039619534, 971.4827810124026, 569.0300703829924, 475.0166020274121, 584.3619155833538], \"Category\": [\"Default\", \"Default\", \"Default\", \"Default\", \"Default\", \"Default\", \"Default\", \"Default\", \"Default\", \"Default\", \"Default\", \"Default\", \"Default\", \"Default\", \"Default\", \"Default\", \"Default\", \"Default\", \"Default\", \"Default\", \"Default\", \"Default\", \"Default\", \"Default\", \"Default\", \"Default\", \"Default\", \"Default\", \"Default\", \"Default\", \"Topic1\", \"Topic1\", \"Topic1\", \"Topic1\", \"Topic1\", \"Topic1\", \"Topic1\", \"Topic1\", \"Topic1\", \"Topic1\", \"Topic1\", \"Topic1\", \"Topic1\", \"Topic1\", \"Topic1\", \"Topic1\", \"Topic1\", \"Topic1\", \"Topic1\", \"Topic1\", \"Topic1\", \"Topic1\", \"Topic1\", \"Topic1\", \"Topic1\", \"Topic1\", \"Topic1\", \"Topic1\", \"Topic1\", \"Topic1\", \"Topic1\", \"Topic1\", \"Topic1\", \"Topic1\", \"Topic1\", \"Topic1\", \"Topic1\", \"Topic1\", \"Topic1\", \"Topic1\", \"Topic1\", \"Topic1\", \"Topic1\", \"Topic1\", \"Topic1\", \"Topic1\", \"Topic1\", \"Topic1\", \"Topic1\", \"Topic1\", \"Topic1\", \"Topic1\", \"Topic1\", \"Topic1\", \"Topic1\", \"Topic1\", \"Topic1\", \"Topic1\", \"Topic1\", \"Topic1\", \"Topic1\", \"Topic1\", \"Topic1\", \"Topic1\", \"Topic1\", \"Topic1\", \"Topic1\", \"Topic1\", \"Topic1\", \"Topic1\", \"Topic1\", \"Topic1\", \"Topic2\", \"Topic2\", \"Topic2\", \"Topic2\", \"Topic2\", \"Topic2\", \"Topic2\", \"Topic2\", \"Topic2\", \"Topic2\", \"Topic2\", \"Topic2\", \"Topic2\", \"Topic2\", \"Topic2\", \"Topic2\", \"Topic2\", \"Topic2\", \"Topic2\", \"Topic2\", \"Topic2\", \"Topic2\", \"Topic2\", \"Topic2\", \"Topic2\", \"Topic2\", \"Topic2\", \"Topic2\", \"Topic2\", \"Topic2\", \"Topic2\", \"Topic2\", \"Topic2\", \"Topic2\", \"Topic2\", \"Topic2\", \"Topic2\", \"Topic2\", \"Topic2\", \"Topic2\", \"Topic2\", \"Topic2\", \"Topic2\", \"Topic2\", \"Topic2\", \"Topic2\", \"Topic2\", \"Topic2\", \"Topic2\", \"Topic2\", \"Topic2\", \"Topic2\", \"Topic2\", \"Topic2\", \"Topic2\", \"Topic2\", \"Topic2\", \"Topic2\", \"Topic2\", \"Topic2\", \"Topic2\", \"Topic2\", \"Topic2\", \"Topic2\", \"Topic2\", \"Topic2\", \"Topic2\", \"Topic2\", \"Topic2\", \"Topic2\", \"Topic2\", \"Topic2\", \"Topic2\", \"Topic2\", \"Topic2\", \"Topic2\", \"Topic3\", \"Topic3\", \"Topic3\", \"Topic3\", \"Topic3\", \"Topic3\", \"Topic3\", \"Topic3\", \"Topic3\", \"Topic3\", \"Topic3\", \"Topic3\", \"Topic3\", \"Topic3\", \"Topic3\", \"Topic3\", \"Topic3\", \"Topic3\", \"Topic3\", \"Topic3\", \"Topic3\", \"Topic3\", \"Topic3\", \"Topic3\", \"Topic3\", \"Topic3\", \"Topic3\", \"Topic3\", \"Topic3\", \"Topic3\", \"Topic3\", \"Topic3\", \"Topic3\", \"Topic3\", \"Topic3\", \"Topic3\", \"Topic3\", \"Topic3\", \"Topic3\", \"Topic3\", \"Topic3\", \"Topic3\", \"Topic3\", \"Topic3\", \"Topic3\", \"Topic3\", \"Topic3\", \"Topic3\", \"Topic3\", \"Topic3\", \"Topic3\", \"Topic3\", \"Topic3\", \"Topic3\", \"Topic3\", \"Topic3\", \"Topic3\", \"Topic3\", \"Topic3\", \"Topic3\", \"Topic3\", \"Topic3\", \"Topic3\", \"Topic3\", \"Topic3\", \"Topic3\", \"Topic3\", \"Topic3\", \"Topic3\", \"Topic3\", \"Topic3\", \"Topic3\", \"Topic3\", \"Topic3\", \"Topic3\", \"Topic3\", \"Topic4\", \"Topic4\", \"Topic4\", \"Topic4\", \"Topic4\", \"Topic4\", \"Topic4\", \"Topic4\", \"Topic4\", \"Topic4\", \"Topic4\", \"Topic4\", \"Topic4\", \"Topic4\", \"Topic4\", \"Topic4\", \"Topic4\", \"Topic4\", \"Topic4\", \"Topic4\", \"Topic4\", \"Topic4\", \"Topic4\", \"Topic4\", \"Topic4\", \"Topic4\", \"Topic4\", \"Topic4\", \"Topic4\", \"Topic4\", \"Topic4\", \"Topic4\", \"Topic4\", \"Topic4\", \"Topic4\", \"Topic4\", \"Topic4\", \"Topic4\", \"Topic4\", \"Topic4\", \"Topic4\", \"Topic4\", \"Topic4\", \"Topic4\", \"Topic4\", \"Topic4\", \"Topic4\", \"Topic4\", \"Topic4\", \"Topic4\", \"Topic4\", \"Topic4\", \"Topic4\", \"Topic4\", \"Topic4\", \"Topic4\", \"Topic4\", \"Topic4\", \"Topic4\", \"Topic4\", \"Topic4\", \"Topic4\", \"Topic4\", \"Topic4\", \"Topic4\", \"Topic4\", \"Topic4\", \"Topic4\", \"Topic4\", \"Topic4\", \"Topic4\", \"Topic4\", \"Topic4\", \"Topic4\", \"Topic4\", \"Topic4\", \"Topic4\", \"Topic4\", \"Topic4\", \"Topic4\", \"Topic4\", \"Topic4\", \"Topic5\", \"Topic5\", \"Topic5\", \"Topic5\", \"Topic5\", \"Topic5\", \"Topic5\", \"Topic5\", \"Topic5\", \"Topic5\", \"Topic5\", \"Topic5\", \"Topic5\", \"Topic5\", \"Topic5\", \"Topic5\", \"Topic5\", \"Topic5\", \"Topic5\", \"Topic5\", \"Topic5\", \"Topic5\", \"Topic5\", \"Topic5\", \"Topic5\", \"Topic5\", \"Topic5\", \"Topic5\", \"Topic5\", \"Topic5\", \"Topic5\", \"Topic5\", \"Topic5\", \"Topic5\", \"Topic5\", \"Topic5\", \"Topic5\", \"Topic5\", \"Topic5\", \"Topic5\", \"Topic5\", \"Topic5\", \"Topic5\", \"Topic5\", \"Topic5\", \"Topic5\", \"Topic5\", \"Topic5\", \"Topic5\", \"Topic5\", \"Topic5\", \"Topic5\", \"Topic5\", \"Topic5\", \"Topic5\", \"Topic5\", \"Topic5\", \"Topic5\", \"Topic5\", \"Topic5\", \"Topic5\", \"Topic5\", \"Topic5\", \"Topic5\", \"Topic6\", \"Topic6\", \"Topic6\", \"Topic6\", \"Topic6\", \"Topic6\", \"Topic6\", \"Topic6\", \"Topic6\", \"Topic6\", \"Topic6\", \"Topic6\", \"Topic6\", \"Topic6\", \"Topic6\", \"Topic6\", \"Topic6\", \"Topic6\", \"Topic6\", \"Topic6\", \"Topic6\", \"Topic6\", \"Topic6\", \"Topic6\", \"Topic6\", \"Topic6\", \"Topic6\", \"Topic6\", \"Topic6\", \"Topic6\", \"Topic6\", \"Topic6\", \"Topic6\", \"Topic6\", \"Topic6\", \"Topic6\", \"Topic6\", \"Topic6\", \"Topic6\", \"Topic6\", \"Topic6\", \"Topic6\", \"Topic6\", \"Topic6\", \"Topic6\", \"Topic6\", \"Topic6\", \"Topic6\", \"Topic6\", \"Topic6\", \"Topic6\", \"Topic6\", \"Topic6\", \"Topic6\", \"Topic6\", \"Topic6\", \"Topic6\", \"Topic6\", \"Topic6\", \"Topic6\", \"Topic6\", \"Topic6\", \"Topic6\", \"Topic6\", \"Topic6\", \"Topic6\", \"Topic6\", \"Topic6\", \"Topic6\", \"Topic6\", \"Topic6\", \"Topic6\", \"Topic6\", \"Topic6\", \"Topic6\", \"Topic7\", \"Topic7\", \"Topic7\", \"Topic7\", \"Topic7\", \"Topic7\", \"Topic7\", \"Topic7\", \"Topic7\", \"Topic7\", \"Topic7\", \"Topic7\", \"Topic7\", \"Topic7\", \"Topic7\", \"Topic7\", \"Topic7\", \"Topic7\", \"Topic7\", \"Topic7\", \"Topic7\", \"Topic7\", \"Topic7\", \"Topic7\", \"Topic7\", \"Topic7\", \"Topic7\", \"Topic7\", \"Topic7\", \"Topic7\", \"Topic7\", \"Topic7\", \"Topic7\", \"Topic7\", \"Topic7\", \"Topic7\", \"Topic7\", \"Topic7\", \"Topic7\", \"Topic7\", \"Topic7\", \"Topic7\", \"Topic7\", \"Topic7\", \"Topic7\", \"Topic7\", \"Topic7\", \"Topic7\", \"Topic7\", \"Topic7\", \"Topic7\", \"Topic7\", \"Topic7\", \"Topic7\", \"Topic7\", \"Topic7\", \"Topic7\", \"Topic7\", \"Topic7\", \"Topic7\", \"Topic7\", \"Topic7\", \"Topic7\", \"Topic7\", \"Topic7\", \"Topic7\", \"Topic7\", \"Topic7\", \"Topic7\", \"Topic7\", \"Topic7\", \"Topic7\", \"Topic7\", \"Topic7\", \"Topic7\", \"Topic7\", \"Topic7\", \"Topic8\", \"Topic8\", \"Topic8\", \"Topic8\", \"Topic8\", \"Topic8\", \"Topic8\", \"Topic8\", \"Topic8\", \"Topic8\", \"Topic8\", \"Topic8\", \"Topic8\", \"Topic8\", \"Topic8\", \"Topic8\", \"Topic8\", \"Topic8\", \"Topic8\", \"Topic8\", \"Topic8\", \"Topic8\", \"Topic8\", \"Topic8\", \"Topic8\", \"Topic8\", \"Topic8\", \"Topic8\", \"Topic8\", \"Topic8\", \"Topic8\", \"Topic8\", \"Topic8\", \"Topic8\", \"Topic8\", \"Topic8\", \"Topic8\", \"Topic8\", \"Topic8\", \"Topic8\", \"Topic8\", \"Topic8\", \"Topic8\", \"Topic8\", \"Topic8\", \"Topic8\", \"Topic8\", \"Topic8\", \"Topic8\", \"Topic8\", \"Topic8\", \"Topic8\", \"Topic8\", \"Topic8\", \"Topic8\", \"Topic8\", \"Topic8\", \"Topic8\", \"Topic8\", \"Topic8\", \"Topic8\", \"Topic8\", \"Topic8\", \"Topic8\", \"Topic8\", \"Topic8\", \"Topic8\", \"Topic8\", \"Topic8\", \"Topic8\", \"Topic8\", \"Topic8\", \"Topic8\", \"Topic8\", \"Topic8\", \"Topic8\", \"Topic8\", \"Topic8\", \"Topic8\", \"Topic8\", \"Topic9\", \"Topic9\", \"Topic9\", \"Topic9\", \"Topic9\", \"Topic9\", \"Topic9\", \"Topic9\", \"Topic9\", \"Topic9\", \"Topic9\", \"Topic9\", \"Topic9\", \"Topic9\", \"Topic9\", \"Topic9\", \"Topic9\", \"Topic9\", \"Topic9\", \"Topic9\", \"Topic9\", \"Topic9\", \"Topic9\", \"Topic9\", \"Topic9\", \"Topic9\", \"Topic9\", \"Topic9\", \"Topic9\", \"Topic9\", \"Topic9\", \"Topic9\", \"Topic9\", \"Topic9\", \"Topic9\", \"Topic9\", \"Topic9\", \"Topic9\", \"Topic9\", \"Topic9\", \"Topic9\", \"Topic9\", \"Topic9\", \"Topic9\", \"Topic9\", \"Topic9\", \"Topic9\", \"Topic9\", \"Topic9\", \"Topic9\", \"Topic9\", \"Topic9\", \"Topic9\", \"Topic9\", \"Topic9\", \"Topic9\", \"Topic9\", \"Topic9\", \"Topic9\", \"Topic9\", \"Topic9\", \"Topic9\", \"Topic9\", \"Topic9\", \"Topic9\", \"Topic9\", \"Topic9\", \"Topic9\", \"Topic10\", \"Topic10\", \"Topic10\", \"Topic10\", \"Topic10\", \"Topic10\", \"Topic10\", \"Topic10\", \"Topic10\", \"Topic10\", \"Topic10\", \"Topic10\", \"Topic10\", \"Topic10\", \"Topic10\", \"Topic10\", \"Topic10\", \"Topic10\", \"Topic10\", \"Topic10\", \"Topic10\", \"Topic10\", \"Topic10\", \"Topic10\", \"Topic10\", \"Topic10\", \"Topic10\", \"Topic10\", \"Topic10\", \"Topic10\", \"Topic10\", \"Topic10\", \"Topic10\", \"Topic10\", \"Topic10\", \"Topic10\", \"Topic10\", \"Topic10\", \"Topic10\", \"Topic10\", \"Topic10\", \"Topic10\", \"Topic10\", \"Topic10\", \"Topic10\", \"Topic10\", \"Topic10\", \"Topic10\", \"Topic10\", \"Topic10\", \"Topic10\", \"Topic10\", \"Topic10\", \"Topic10\", \"Topic10\", \"Topic10\", \"Topic10\", \"Topic10\", \"Topic10\", \"Topic10\", \"Topic10\", \"Topic10\", \"Topic10\", \"Topic10\", \"Topic10\", \"Topic10\", \"Topic10\", \"Topic10\", \"Topic10\", \"Topic10\", \"Topic10\", \"Topic10\", \"Topic10\", \"Topic10\", \"Topic10\", \"Topic10\", \"Topic10\", \"Topic10\", \"Topic10\", \"Topic10\", \"Topic10\", \"Topic10\", \"Topic10\", \"Topic10\", \"Topic10\", \"Topic10\"], \"logprob\": [30.0, 29.0, 28.0, 27.0, 26.0, 25.0, 24.0, 23.0, 22.0, 21.0, 20.0, 19.0, 18.0, 17.0, 16.0, 15.0, 14.0, 13.0, 12.0, 11.0, 10.0, 9.0, 8.0, 7.0, 6.0, 5.0, 4.0, 3.0, 2.0, 1.0, -7.1093, -7.9693, -7.9725, -7.9812, -7.9906, -7.9907, -7.5812, -8.0241, -8.0144, -7.9556, -8.0124, -8.0477, -7.6887, -6.552, -8.0402, -7.9942, -7.5505, -7.3126, -8.0021, -8.0626, -7.9956, -8.5882, -8.5882, -8.0237, -8.5108, -8.5984, -8.5987, -7.3173, -7.9435, -8.6262, -7.6664, -3.6298, -5.9531, -7.6475, -7.8129, -8.0599, -4.3087, -4.5021, -5.1682, -5.6768, -6.2181, -4.7839, -4.5515, -6.6568, -4.844, -5.5096, -4.8766, -6.5914, -5.6358, -4.4222, -5.583, -5.6077, -4.9399, -4.7617, -6.2044, -5.7527, -5.3335, -5.2414, -4.9693, -4.9526, -4.8507, -4.6879, -5.5597, -5.8146, -5.5871, -5.7587, -5.4295, -5.6593, -5.6356, -5.6911, -5.7156, -5.7257, -7.3678, -7.4238, -7.3127, -7.9619, -7.9619, -7.9619, -7.9619, -7.9649, -7.9672, -7.972, -7.9772, -7.4647, -7.9953, -7.4077, -7.9882, -8.0209, -8.0148, -8.0079, -8.0094, -8.0517, -8.0162, -7.9432, -8.0421, -8.0416, -8.0476, -8.021, -7.3748, -7.5522, -8.068, -7.9589, -7.4514, -7.2286, -7.3171, -6.4665, -7.3204, -7.18, -6.7775, -7.5737, -5.0308, -5.8692, -6.8983, -6.9094, -5.2179, -5.5949, -4.3477, -7.2169, -4.2711, -5.5123, -5.4933, -4.9153, -5.2785, -4.8246, -6.5354, -5.7035, -4.9892, -5.4642, -5.6215, -5.5275, -6.0035, -5.9152, -5.4664, -5.1492, -5.4328, -5.6437, -4.9156, -5.2968, -5.1863, -5.992, -5.6657, -5.1526, -5.3538, -5.3762, -5.6836, -5.6275, -5.7038, -5.6935, -7.1272, -7.5662, -8.0485, -8.068, -7.8111, -8.4194, -7.4267, -8.419, -8.0533, -8.4317, -8.1332, -7.6926, -8.4248, -8.4671, -8.4678, -6.1713, -8.5173, -8.4562, -9.0314, -8.4189, -9.0414, -9.06, -9.0449, -8.4334, -8.5303, -8.1016, -8.4455, -7.8726, -8.3526, -9.0597, -7.7923, -7.9201, -7.4332, -8.5178, -8.17, -6.4131, -3.6551, -4.5965, -3.7668, -5.5451, -5.3968, -4.6034, -6.954, -4.5029, -5.8336, -4.9276, -4.3471, -6.11, -6.1079, -4.5774, -5.1655, -4.947, -5.5565, -5.2686, -4.5328, -4.7458, -6.3306, -6.0629, -5.5029, -5.7886, -5.3854, -5.3369, -5.7642, -5.1133, -5.7441, -5.2561, -5.0569, -5.2797, -5.2738, -5.4979, -5.2536, -5.696, -5.6658, -5.7162, -5.7289, -5.7194, -6.0936, -6.1552, -7.0967, -7.0991, -7.676, -7.6793, -7.7024, -7.1788, -7.6887, -7.7112, -7.0254, -7.7118, -7.0288, -7.7309, -7.7324, -7.7382, -7.7483, -7.7319, -7.1794, -7.7541, -7.761, -7.6793, -7.8341, -7.6825, -7.6883, -7.7905, -7.8066, -7.8141, -7.7043, -6.6782, -6.7489, -5.9013, -6.8235, -6.5869, -6.5901, -6.1989, -6.8693, -6.905, -6.1246, -7.2806, -7.0325, -6.8111, -6.8676, -6.5673, -7.0489, -6.7133, -5.6405, -6.627, -6.6335, -6.5087, -5.8885, -6.285, -6.3441, -5.7075, -4.7291, -6.3823, -4.7446, -5.3532, -5.3192, -5.9566, -5.1217, -5.076, -5.6384, -5.4838, -5.1543, -5.6493, -5.3761, -5.3462, -5.578, -5.3927, -5.4383, -5.6756, -5.4837, -5.3394, -5.7642, -5.69, -5.7251, -5.8339, -5.877, -5.9088, -5.8878, -5.9331, -4.5734, -6.3444, -6.2891, -6.6837, -6.6894, -6.6004, -6.4664, -6.9647, -7.0372, -7.157, -6.9759, -5.9261, -7.2837, -7.3678, -7.289, -7.5186, -7.5326, -7.5323, -7.298, -5.9608, -7.2316, -7.2375, -7.2876, -7.2854, -7.5224, -7.5349, -7.5924, -7.6333, -7.6176, -8.0508, -6.46, -6.0142, -5.2746, -4.8177, -5.6288, -4.9581, -5.4502, -4.9238, -5.2231, -4.907, -4.8512, -6.1434, -4.8662, -5.9933, -4.8789, -4.6403, -5.6687, -5.0115, -5.3221, -4.998, -5.0613, -5.1018, -5.0605, -5.2392, -4.9723, -5.5943, -5.5911, -5.4172, -5.5036, -5.4562, -5.4507, -5.5198, -5.7614, -5.746, -7.4143, -7.9369, -7.9176, -7.683, -8.5382, -8.5428, -8.5529, -8.5512, -7.4132, -7.8474, -7.0459, -7.9938, -7.957, -8.5962, -8.0085, -8.6035, -7.3912, -8.5123, -8.4304, -8.6152, -8.6729, -8.6177, -8.6325, -7.7038, -8.0011, -8.6816, -8.6327, -8.642, -8.5506, -8.7119, -6.4207, -8.1115, -7.3136, -7.0822, -3.5075, -7.7386, -5.8304, -6.8624, -5.1432, -6.0166, -5.1468, -6.437, -4.6993, -7.6621, -5.6829, -6.2714, -4.0702, -5.3208, -4.5511, -5.9947, -5.0961, -5.5458, -5.9505, -4.6096, -5.0169, -4.7897, -5.3599, -5.2148, -5.4667, -5.3813, -4.9081, -5.4672, -5.221, -4.899, -4.6674, -5.5516, -5.199, -5.5192, -5.0097, -5.6812, -5.3571, -5.3027, -5.4632, -5.4476, -5.538, -7.3525, -7.5931, -7.6409, -7.6407, -8.0257, -8.0103, -6.2945, -8.0717, -7.5628, -7.6988, -8.0704, -8.0826, -8.0857, -7.6999, -7.0076, -8.5215, -8.6286, -8.6261, -8.6314, -8.024, -8.6569, -8.6431, -8.6731, -7.4646, -8.6636, -8.6516, -8.162, -8.0664, -8.0434, -8.6724, -6.9434, -6.749, -7.3324, -6.6147, -7.87, -5.5683, -8.1844, -7.2772, -7.7327, -6.7879, -7.0543, -4.4617, -5.9232, -5.2623, -5.9536, -4.7931, -5.0417, -5.0564, -5.735, -4.4222, -4.8366, -5.3573, -5.3497, -4.8387, -5.0038, -5.4759, -4.6876, -5.2347, -6.4772, -4.8892, -6.0735, -4.9906, -5.6027, -4.6991, -4.9534, -4.714, -5.6548, -5.0644, -5.1154, -5.4704, -5.7185, -5.6181, -5.6294, -5.5171, -5.3822, -5.3689, -5.4872, -6.6714, -6.8531, -7.5637, -7.5684, -7.5673, -7.5228, -7.531, -7.6207, -7.5426, -7.5662, -7.5536, -7.4802, -8.1673, -7.6003, -8.1912, -8.1035, -8.1941, -8.2151, -8.2064, -8.2145, -8.2495, -8.2009, -7.6262, -8.2272, -8.2229, -8.2196, -8.2216, -8.2207, -8.2277, -8.155, -7.6739, -7.4359, -7.1572, -7.1568, -4.9884, -7.344, -6.9515, -7.8092, -5.9159, -7.0236, -4.3106, -6.8042, -7.4353, -7.727, -7.5567, -7.6876, -5.6148, -5.0177, -4.8287, -4.5931, -5.0566, -4.5069, -5.51, -6.1561, -4.7242, -5.3718, -5.5079, -5.0362, -4.615, -5.732, -5.1542, -5.8708, -6.0864, -4.9949, -5.7931, -6.485, -5.6018, -5.32, -5.123, -5.7312, -5.1253, -5.1183, -5.2301, -5.7818, -5.4197, -5.634, -5.6419, -5.3263, -5.7144, -5.7766, -6.9248, -6.9638, -6.2461, -7.0817, -7.6152, -7.6305, -7.6495, -7.6408, -7.6565, -7.6958, -7.6843, -7.6794, -7.7256, -7.6985, -6.9786, -7.0211, -6.925, -7.7238, -7.6467, -7.7345, -7.5753, -7.6484, -7.1462, -7.8464, -7.6235, -6.5116, -7.7584, -7.6808, -7.9486, -7.5411, -6.3746, -6.4548, -6.6551, -4.9038, -6.2903, -4.023, -4.9668, -7.0112, -5.2981, -5.0301, -5.5888, -6.487, -5.2449, -5.0268, -5.2282, -6.061, -5.3628, -4.9751, -5.6884, -5.4254, -5.8226, -5.3536, -5.163, -5.3074, -5.203, -5.325, -5.3333, -5.3928, -5.7062, -5.6198, -5.8819, -5.5434, -5.6654, -5.8978, -5.8641, -5.7528, -5.9248, -5.8695, -6.6852, -6.7195, -7.9421, -8.2629, -8.323, -8.3349, -7.5101, -8.3464, -8.3641, -8.3817, -8.3943, -8.0681, -8.6714, -8.3574, -8.4043, -8.3132, -8.9417, -8.9453, -8.9529, -8.953, -8.9542, -8.9593, -7.0619, -8.9599, -8.9587, -7.5276, -8.9582, -8.957, -8.9931, -8.8911, -7.8606, -7.8519, -7.4669, -7.2359, -6.7893, -7.7, -8.3696, -8.2961, -7.4547, -8.5362, -8.1555, -6.602, -7.6657, -4.3234, -7.9152, -7.7266, -6.4031, -3.8728, -5.2262, -4.2154, -7.0178, -5.9821, -4.1327, -5.9318, -5.5395, -5.7167, -5.8418, -5.5738, -4.6926, -4.7423, -5.6493, -5.0469, -5.6749, -5.8415, -4.8561, -5.364, -5.0625, -5.8324, -5.6154, -4.8232, -4.9106, -5.3686, -5.3965, -5.2047, -5.4237, -5.2781, -5.115, -5.3484, -5.4991, -5.6323, -5.4427, -5.3112, -5.4307, -5.5723, -5.6217, -5.6212], \"loglift\": [30.0, 29.0, 28.0, 27.0, 26.0, 25.0, 24.0, 23.0, 22.0, 21.0, 20.0, 19.0, 18.0, 17.0, 16.0, 15.0, 14.0, 13.0, 12.0, 11.0, 10.0, 9.0, 8.0, 7.0, 6.0, 5.0, 4.0, 3.0, 2.0, 1.0, 1.8844, 1.8352, 1.8349, 1.834, 1.8241, 1.8235, 1.8223, 1.8106, 1.8077, 1.805, 1.8015, 1.7951, 1.7931, 1.786, 1.7805, 1.7793, 1.7769, 1.7723, 1.7708, 1.7699, 1.7643, 1.7562, 1.7562, 1.7559, 1.7534, 1.7522, 1.752, 1.7513, 1.7427, 1.7296, 1.649, 1.1321, 1.4073, 1.5944, 1.6142, 1.6604, 0.5905, 0.608, 0.7817, 0.8907, 1.0527, 0.4426, 0.3147, 1.1981, 0.2913, 0.5835, 0.2444, 1.0526, 0.5015, -0.1854, 0.454, 0.4273, 0.0032, -0.1137, 0.7688, 0.4889, 0.2026, 0.0996, -0.1218, -0.1406, -0.2271, -0.3994, 0.2596, 0.4563, 0.2142, 0.221, -0.2206, -0.0368, -0.3517, -0.1153, -0.072, -0.4484, 2.7391, 2.7024, 2.6791, 2.6536, 2.6536, 2.6536, 2.6535, 2.6529, 2.6522, 2.6512, 2.65, 2.6479, 2.6456, 2.6449, 2.6391, 2.6193, 2.6137, 2.6131, 2.6116, 2.597, 2.5967, 2.5932, 2.5899, 2.5895, 2.581, 2.5768, 2.5753, 2.5742, 2.561, 2.5542, 2.5217, 2.4116, 2.4284, 2.2292, 2.4137, 2.3482, 2.227, 2.4021, 1.2411, 1.5257, 2.0418, 2.0236, 0.9725, 1.1407, 0.2759, 2.1229, 0.0174, 0.5617, 0.5438, 0.0278, 0.344, -0.0628, 1.4318, 0.6529, -0.123, 0.3371, 0.4696, 0.3232, 0.854, 0.7437, 0.1772, -0.2499, 0.0989, 0.3638, -0.6787, -0.1615, -0.3388, 0.7664, 0.2763, -0.5047, -0.2437, -0.2552, 0.1357, -0.0272, 0.149, -0.4671, 1.5634, 1.5594, 1.5335, 1.5235, 1.5214, 1.5042, 1.5041, 1.502, 1.4985, 1.4952, 1.4782, 1.4728, 1.468, 1.468, 1.4679, 1.4593, 1.4553, 1.4204, 1.4182, 1.416, 1.4126, 1.4126, 1.4079, 1.4056, 1.405, 1.403, 1.3965, 1.3956, 1.395, 1.3943, 1.3872, 1.3836, 1.3018, 1.3741, 1.3444, 1.1118, 0.5818, 0.7445, 0.5217, 0.7949, 0.739, 0.5319, 1.0682, 0.4402, 0.7767, 0.4847, 0.3008, 0.8127, 0.7768, 0.2888, 0.4348, 0.337, 0.5289, 0.4016, 0.0908, 0.1017, 0.7736, 0.6288, 0.3424, 0.4735, 0.2582, 0.1991, 0.4242, 0.0077, 0.4065, -0.0471, -0.2449, -0.0532, -0.1637, 0.0338, -0.3544, 0.246, -0.0432, 0.1972, 0.1219, -0.119, 2.889, 2.8368, 2.793, 2.7889, 2.7835, 2.7828, 2.7746, 2.7731, 2.7719, 2.7707, 2.7676, 2.7673, 2.7657, 2.7454, 2.7411, 2.7375, 2.7344, 2.7332, 2.7308, 2.7287, 2.7186, 2.7163, 2.7155, 2.7141, 2.6919, 2.6917, 2.678, 2.6703, 2.661, 2.6609, 2.6251, 2.5378, 2.5505, 2.5151, 2.5038, 2.4065, 2.518, 2.4673, 2.1742, 2.5664, 2.467, 2.3559, 2.3351, 2.1695, 2.3995, 2.2251, 1.6423, 2.1362, 2.0953, 2.0107, 1.5948, 1.8553, 1.887, 1.1881, 0.0327, 1.7697, -0.4561, 0.317, 0.2125, 1.0895, -0.2743, -0.4524, 0.4357, 0.1165, -0.5064, 0.2885, -0.2408, -0.48, -0.0022, -0.4935, -0.6263, -0.032, -0.5406, -1.1025, -0.1639, -0.569, -0.4411, -0.0326, 0.0487, 0.0045, -0.7777, -0.3971, 2.785, 2.7524, 2.7409, 2.7272, 2.721, 2.7207, 2.7138, 2.71, 2.6998, 2.6993, 2.6981, 2.6752, 2.6651, 2.6648, 2.6593, 2.6581, 2.6559, 2.6526, 2.65, 2.6491, 2.6287, 2.6273, 2.6144, 2.6141, 2.5964, 2.5894, 2.5844, 2.5733, 2.5671, 2.5457, 2.5344, 2.2894, 2.1293, 1.5619, 1.8238, 1.2522, 1.4376, 0.929, 1.0856, 0.5053, 0.2589, 1.4455, 0.0769, 1.2745, -0.0669, -0.3518, 0.7377, -0.164, 0.2095, -0.3501, -0.2995, -0.2356, -0.4369, -0.1182, -0.7355, 0.4911, 0.2846, -0.1908, 0.0324, -0.2473, -0.5514, -0.2426, 0.5236, -0.1099, 2.2884, 2.2765, 2.2177, 2.2084, 2.1826, 2.1814, 2.1611, 2.1573, 2.1561, 2.1441, 2.1363, 2.133, 2.1292, 2.122, 2.1185, 2.1162, 2.1071, 2.1004, 2.0965, 2.0959, 2.0887, 2.0884, 2.0873, 2.0833, 2.0799, 2.0774, 2.0753, 2.0739, 2.066, 2.0637, 1.9524, 2.0204, 1.9126, 1.8476, 1.3045, 1.9276, 1.5736, 1.7023, 1.2613, 1.4667, 1.2328, 1.5647, 0.9368, 1.8654, 1.0611, 1.1823, 0.1667, 0.6995, 0.2964, 1.0054, 0.5042, 0.7163, 0.9264, 0.0383, 0.2671, 0.1095, 0.4909, 0.3609, 0.509, 0.42, 0.035, 0.4585, 0.1914, -0.1371, -0.379, 0.4559, 0.0783, 0.3261, -0.3862, 0.5372, -0.2361, -0.4364, -0.1221, -0.2387, 0.1056, 1.9795, 1.9654, 1.9625, 1.9536, 1.9258, 1.9253, 1.9235, 1.92, 1.9182, 1.9156, 1.9128, 1.894, 1.8693, 1.8599, 1.8573, 1.8545, 1.8363, 1.8361, 1.8358, 1.8316, 1.8307, 1.8295, 1.8273, 1.8261, 1.822, 1.8219, 1.8196, 1.8149, 1.8099, 1.8098, 1.8097, 1.7275, 1.752, 1.6589, 1.7289, 1.4115, 1.7647, 1.6109, 1.6879, 1.5199, 1.5482, 0.7472, 1.1115, 0.7452, 0.9684, 0.4909, 0.5808, 0.5797, 0.8695, 0.2257, 0.3898, 0.5805, 0.5636, 0.2823, 0.2735, 0.5443, -0.064, 0.3014, 1.1282, -0.0417, 0.8119, -0.0913, 0.3874, -0.4106, -0.1915, -0.4772, 0.4192, -0.1981, -0.1723, 0.1997, 0.4717, 0.3318, 0.3126, 0.0832, -0.2721, -0.5569, -0.3519, 2.5111, 2.4472, 2.4401, 2.4164, 2.4154, 2.4045, 2.3991, 2.3872, 2.3868, 2.3769, 2.3767, 2.3502, 2.3453, 2.3421, 2.3296, 2.3252, 2.3237, 2.3235, 2.3215, 2.3208, 2.3164, 2.3156, 2.3112, 2.3029, 2.3022, 2.2895, 2.2875, 2.2873, 2.2828, 2.2738, 2.2675, 2.1913, 2.1483, 2.1381, 1.8003, 2.1581, 2.0773, 2.2254, 1.7679, 2.0321, 1.2898, 1.9187, 2.102, 2.1859, 2.125, 2.1548, 1.2622, 0.858, 0.7029, 0.2189, 0.5191, 0.141, 0.7083, 1.1945, -0.1006, 0.4474, 0.5272, 0.0848, -0.3265, 0.6515, 0.0547, 0.756, 0.9597, -0.1474, 0.6413, 1.3282, 0.4056, 0.0924, -0.1799, 0.5247, -0.2261, -0.252, -0.12, 0.5609, -0.2844, 0.0096, 0.0283, -1.0894, -0.9525, 0.0247, 3.2072, 3.176, 3.1547, 3.1319, 3.0767, 3.0728, 3.0678, 3.0473, 3.0236, 3.0179, 3.0159, 3.0056, 2.9917, 2.9885, 2.9741, 2.957, 2.9554, 2.9528, 2.9349, 2.9308, 2.9228, 2.9212, 2.9134, 2.8713, 2.8601, 2.847, 2.8388, 2.8266, 2.725, 2.7188, 2.4137, 2.4135, 2.2415, 1.1892, 1.9345, 0.2655, 0.886, 2.3851, 0.9123, 0.606, 0.7908, 1.7125, 0.3554, 0.0833, 0.1841, 1.1201, 0.1689, -0.3515, 0.5299, 0.1504, 0.6678, -0.0125, -0.3155, -0.1721, -0.555, -0.4258, -0.467, -0.4497, 0.2316, 0.0238, 0.411, -0.7314, -0.4389, 0.2906, 0.0857, -0.5439, 0.1663, -0.7485, 1.7507, 1.7254, 1.6897, 1.6589, 1.652, 1.6453, 1.6448, 1.6351, 1.6287, 1.6132, 1.6058, 1.5972, 1.5911, 1.5822, 1.5727, 1.5654, 1.5568, 1.556, 1.5544, 1.5544, 1.5542, 1.5531, 1.5507, 1.5483, 1.5479, 1.5459, 1.5453, 1.544, 1.5337, 1.5261, 1.5253, 1.5231, 1.4944, 1.477, 1.3846, 1.4482, 1.5021, 1.4941, 1.4102, 1.5134, 1.4696, 1.2845, 1.4135, 0.9538, 1.4381, 1.4021, 1.1718, 0.3641, 0.7116, 0.4081, 1.1745, 0.8347, 0.1558, 0.7427, 0.5963, 0.6595, 0.6931, 0.5621, 0.1549, 0.1569, 0.4791, 0.1795, 0.4758, 0.5416, 0.0102, 0.2363, 0.0476, 0.4981, 0.3643, -0.1752, -0.1487, 0.1631, 0.1793, -0.0837, 0.1124, -0.0692, -0.303, -0.0645, 0.1234, 0.2933, -0.0304, -0.3681, -0.2954, 0.0979, 0.2291, 0.0224]}, \"token.table\": {\"Topic\": [1, 1, 2, 3, 4, 5, 6, 7, 8, 9, 10, 9, 8, 1, 10, 3, 7, 10, 2, 4, 4, 8, 3, 6, 1, 2, 2, 4, 1, 4, 1, 2, 3, 4, 5, 6, 7, 8, 9, 10, 3, 6, 10, 2, 4, 5, 2, 3, 1, 2, 3, 4, 5, 6, 8, 9, 10, 7, 1, 3, 4, 5, 9, 10, 3, 4, 9, 9, 1, 2, 4, 5, 6, 7, 8, 9, 10, 2, 1, 2, 3, 4, 5, 6, 7, 8, 9, 10, 9, 5, 1, 2, 3, 4, 5, 6, 7, 8, 9, 10, 1, 2, 3, 4, 5, 6, 7, 8, 9, 10, 5, 1, 2, 3, 6, 7, 8, 1, 3, 6, 7, 10, 1, 4, 1, 2, 3, 4, 5, 6, 7, 8, 9, 10, 1, 2, 3, 4, 5, 6, 7, 8, 9, 10, 3, 4, 8, 1, 5, 10, 5, 5, 1, 2, 3, 4, 5, 6, 7, 8, 9, 10, 4, 3, 1, 2, 3, 4, 5, 6, 7, 8, 9, 10, 1, 2, 3, 4, 5, 6, 7, 8, 9, 10, 1, 10, 5, 8, 10, 5, 1, 1, 2, 3, 4, 5, 6, 7, 8, 9, 10, 2, 2, 3, 1, 2, 3, 4, 5, 6, 7, 8, 9, 10, 4, 6, 8, 10, 1, 2, 3, 4, 5, 6, 7, 8, 9, 10, 1, 3, 5, 6, 9, 10, 10, 1, 6, 8, 10, 2, 5, 3, 4, 10, 1, 5, 7, 1, 6, 7, 8, 10, 3, 1, 2, 3, 4, 5, 6, 7, 8, 9, 10, 1, 2, 3, 4, 5, 6, 7, 8, 9, 10, 6, 1, 2, 3, 4, 5, 6, 7, 8, 9, 10, 3, 7, 1, 2, 3, 4, 5, 6, 7, 8, 9, 10, 9, 6, 4, 2, 3, 1, 2, 3, 4, 5, 6, 7, 8, 9, 10, 1, 9, 1, 10, 7, 5, 10, 1, 2, 3, 4, 6, 7, 8, 9, 10, 4, 6, 8, 10, 1, 2, 3, 4, 5, 6, 7, 8, 9, 10, 1, 2, 3, 4, 5, 6, 7, 8, 9, 10, 3, 7, 10, 10, 1, 2, 3, 4, 5, 6, 7, 8, 9, 10, 4, 6, 10, 1, 2, 3, 4, 5, 6, 7, 8, 9, 10, 1, 2, 3, 4, 5, 6, 7, 8, 9, 10, 1, 2, 3, 4, 5, 6, 7, 8, 9, 10, 10, 3, 4, 6, 7, 9, 1, 1, 4, 1, 2, 3, 4, 5, 6, 7, 8, 9, 10, 1, 2, 3, 4, 6, 7, 8, 9, 10, 2, 9, 5, 1, 2, 3, 4, 5, 6, 7, 8, 9, 10, 7, 10, 3, 7, 1, 2, 7, 2, 6, 8, 6, 8, 6, 7, 10, 1, 2, 3, 4, 5, 6, 7, 8, 9, 10, 4, 1, 8, 10, 4, 5, 6, 6, 7, 10, 3, 1, 3, 6, 7, 1, 2, 3, 4, 5, 6, 7, 8, 9, 10, 1, 4, 6, 7, 10, 8, 1, 2, 3, 4, 6, 7, 8, 9, 10, 10, 3, 2, 7, 2, 7, 10, 7, 9, 2, 10, 1, 2, 3, 4, 5, 6, 7, 8, 9, 10, 1, 2, 3, 4, 5, 6, 7, 8, 9, 10, 7, 1, 2, 3, 4, 5, 6, 7, 8, 9, 10, 1, 2, 3, 4, 5, 6, 7, 8, 9, 10, 3, 2, 1, 2, 4, 7, 8, 10, 5, 9, 2, 4, 6, 7, 10, 6, 3, 9, 3, 5, 6, 7, 8, 10, 10, 7, 2, 2, 7, 9, 10, 1, 2, 3, 4, 5, 6, 7, 8, 9, 10, 3, 10, 1, 2, 3, 4, 5, 6, 7, 8, 9, 10, 1, 9, 10, 1, 2, 3, 4, 5, 6, 7, 8, 9, 10, 5, 9, 2, 3, 4, 6, 7, 1, 2, 3, 4, 5, 6, 7, 8, 9, 10, 1, 2, 3, 4, 5, 6, 7, 8, 9, 10, 1, 2, 3, 4, 5, 6, 7, 8, 9, 10, 1, 2, 3, 4, 5, 6, 7, 8, 9, 10, 10, 1, 1, 6, 7, 1, 1, 3, 7, 2, 3, 7, 8, 2, 7, 5, 8, 9, 1, 3, 1, 2, 3, 4, 5, 6, 7, 8, 9, 10, 1, 2, 3, 4, 5, 7, 8, 9, 10, 10, 1, 3, 5, 8, 9, 2, 1, 2, 3, 4, 6, 7, 10, 5, 5, 6, 7, 8, 10, 1, 2, 3, 4, 5, 6, 7, 8, 9, 10, 1, 2, 3, 4, 5, 6, 7, 8, 9, 10, 1, 2, 3, 4, 5, 6, 7, 8, 9, 10, 1, 7, 1, 5, 7, 6, 4, 8, 5, 1, 2, 4, 5, 10, 9, 2, 6, 1, 2, 3, 4, 5, 6, 7, 8, 9, 10, 1, 2, 3, 4, 5, 6, 7, 8, 9, 10, 1, 8, 1, 2, 3, 4, 5, 6, 7, 8, 9, 10, 1, 2, 3, 4, 5, 6, 7, 8, 9, 10, 6, 1, 2, 3, 4, 5, 6, 7, 8, 9, 10, 6, 2, 4, 6, 1, 2, 3, 4, 5, 6, 7, 8, 9, 10, 6, 1, 2, 3, 4, 5, 6, 7, 8, 9, 10, 10, 1, 2, 3, 5, 9, 7, 10, 1, 2, 3, 4, 5, 6, 7, 8, 9, 10, 8, 7, 4, 6, 10, 3, 2, 1, 2, 3, 4, 5, 7, 8, 9, 10, 3, 9, 7, 8, 10, 10, 4, 8, 1, 2, 3, 4, 5, 9, 10, 1, 2, 8, 9, 3, 1, 2, 3, 4, 5, 6, 7, 8, 9, 10, 1, 2, 3, 4, 5, 6, 7, 8, 9, 10, 7, 9, 8, 6, 7, 1, 2, 3, 4, 5, 6, 7, 8, 9, 10, 3, 3, 4, 1, 2, 3, 4, 5, 6, 7, 8, 9, 10, 7, 1, 2, 3, 4, 5, 6, 7, 8, 9, 10, 1, 2, 3, 4, 5, 6, 7, 8, 9, 10, 5, 2, 6, 7, 8, 8, 1, 2, 3, 4, 5, 6, 7, 8, 9, 10, 3, 1, 7, 9, 10, 1, 3, 6, 7, 9, 10, 1, 2, 3, 4, 5, 6, 7, 8, 9, 10, 8, 9, 1, 2, 3, 4, 5, 6, 7, 8, 9, 10, 1, 2, 10, 1, 6, 3, 1, 2, 3, 4, 5, 6, 7, 8, 9, 10, 1, 2, 3, 4, 5, 6, 7, 8, 9, 10, 5, 4, 1, 2, 3, 4, 5, 6, 7, 8, 9, 10, 2, 1, 5, 5, 7, 10, 7, 8, 1, 1, 1, 2, 3, 4, 5, 6, 7, 8, 9, 10, 1, 2, 3, 4, 5, 6, 7, 8, 9, 10, 1, 2, 3, 4, 5, 6, 7, 8, 9, 10, 3, 6, 7, 8, 9, 10, 2, 8, 10, 1, 6, 8, 1, 2, 3, 4, 7, 8, 9, 10, 1, 5, 7, 8, 9, 6, 10, 8, 1, 2, 3, 4, 5, 6, 7, 8, 9, 10, 6, 7, 8, 1, 6, 7, 8, 10, 1, 9, 5, 5, 1, 1, 2, 3, 4, 5, 6, 7, 8, 9, 10, 1, 2, 3, 4, 5, 6, 7, 8, 9, 10, 7, 1, 2, 3, 4, 5, 6, 7, 8, 9, 10, 1, 2, 6, 7, 1, 2, 3, 4, 5, 6, 7, 8, 9, 10, 4, 6, 4, 1, 2, 8, 3, 9, 10, 6, 1, 3, 8, 9, 10, 9, 1, 3, 6, 8, 9, 10, 6, 8, 10, 5, 8, 1, 2, 4, 6, 8, 3, 10, 9, 5, 1, 2, 3, 4, 5, 6, 7, 8, 9, 10, 2, 5, 9, 1, 2, 3, 4, 5, 6, 7, 8, 9, 10, 4, 7, 8, 1, 2, 3, 4, 5, 6, 7, 8, 9, 10, 8, 5, 1, 2, 3, 4, 5, 6, 7, 8, 9, 10, 7, 8, 1, 2, 3, 4, 5, 6, 7, 8, 9, 10, 3, 10, 1, 2, 3, 4, 5, 7, 8, 10, 1, 2, 3, 4, 6, 7, 8, 10, 10, 5, 1, 2, 3, 4, 5, 6, 7, 8, 9, 10, 3, 4, 10, 3, 7, 9, 10, 6, 8, 6, 8, 8, 10, 1, 2, 3, 4, 5, 6, 7, 8, 9, 10, 5, 1, 2, 3, 4, 5, 6, 7, 8, 9, 10, 4, 8, 10, 4, 3, 2, 4, 6, 10, 1, 2, 3, 4, 5, 6, 7, 8, 9, 10, 1, 2, 3, 4, 5, 6, 7, 8, 9, 10, 1, 2, 3, 4, 5, 6, 7, 8, 9, 10, 3, 5, 3, 9, 4, 6, 7, 8, 7, 6, 4, 9, 1, 2, 3, 4, 5, 6, 7, 8, 9, 10, 1, 2, 3, 4, 5, 6, 7, 8, 9, 10, 1, 2, 3, 4, 5, 6, 7, 8, 9, 10, 2, 6, 8, 2, 1, 3, 2, 1, 2, 3, 4, 5, 6, 7, 8, 9, 10, 7, 2, 3, 5, 6, 8, 4, 2, 2, 10, 10, 1, 2, 4, 6, 7, 10, 1, 2, 3, 4, 5, 6, 7, 8, 9, 10, 1, 2, 3, 4, 5, 6, 7, 8, 9, 10, 1, 2, 3, 4, 5, 6, 7, 8, 9, 10, 1, 2, 3, 4, 5, 6, 7, 8, 10, 6, 10, 1, 6, 7, 6, 8, 10, 8, 4, 6, 7, 10, 8, 1, 2, 3, 4, 5, 6, 7, 8, 9, 10, 9, 5, 7, 1, 2, 3, 4, 5, 6, 7, 8, 9, 10, 1, 8, 1, 2, 3, 4, 5, 6, 7, 8, 9, 10, 5, 1, 2, 3, 4, 5, 6, 7, 8, 9, 10, 2, 1, 2, 3, 4, 5, 6, 7, 8, 9, 10, 6, 1, 2, 3, 4, 5, 6, 7, 8, 9, 10, 2, 3, 7, 8, 10, 1, 2, 3, 4, 6, 7, 8, 9, 10, 1, 2, 3, 4, 5, 6, 7, 8, 9, 10, 1, 2, 3, 4, 5, 6, 7, 8, 9, 10, 1, 4, 6, 7, 2, 4, 5, 1, 3, 4, 5, 10, 1, 2, 3, 4, 5, 6, 7, 8, 9, 10, 9, 10, 3, 1, 2, 3, 4, 5, 6, 7, 8, 9, 10, 2, 3, 7, 10, 3, 10, 1, 2, 3, 4, 5, 6, 7, 8, 9, 10, 1, 9, 1, 2, 3, 5, 6, 10, 1, 1, 2, 3, 4, 5, 6, 7, 8, 9, 10, 1, 2, 3, 5, 6, 9, 10, 7, 7, 1, 2, 3, 4, 5, 6, 7, 8, 9, 10, 8, 2, 8, 1, 2, 7, 8, 10, 7, 1, 3, 8, 8, 1, 2, 3, 4, 5, 6, 7, 8, 9, 10, 1, 3, 5, 6, 7, 8, 9, 10, 3, 10, 7, 9, 1, 2, 3, 4, 5, 6, 7, 8, 9, 10, 6, 2, 1, 2, 3, 4, 5, 6, 7, 8, 9, 10, 1, 2, 3, 4, 5, 6, 7, 8, 9, 10, 1, 2, 3, 4, 5, 6, 7, 8, 9, 10, 7, 3, 5, 6, 7, 9, 10, 8, 1, 2, 3, 4, 5, 6, 7, 8, 9, 10, 1, 2, 3, 4, 6, 7, 8, 9, 10, 1, 7, 1, 3, 4, 10, 6, 1, 5, 9, 10, 8, 10, 2, 4, 1, 2, 3, 5, 6, 7, 8, 9, 10, 1, 2, 3, 4, 5, 6, 7, 8, 9, 10, 1, 2, 3, 4, 5, 6, 7, 8, 9, 10, 1, 2, 3, 4, 5, 6, 7, 8, 9, 10, 1, 2, 3, 4, 5, 6, 7, 8, 9, 10, 1, 2, 3, 4, 5, 6, 7, 8, 9, 10, 1, 2, 3, 4, 5, 6, 7, 8, 9, 10, 1, 2, 3, 4, 5, 6, 7, 8, 9, 10, 1, 2, 3, 4, 5, 6, 7, 8, 9, 10, 1, 2, 3, 4, 5, 6, 7, 8, 9, 10, 2, 10, 2, 4, 5, 6, 2, 3, 3, 1, 2, 3, 4, 5, 6, 8, 10, 9, 1, 3, 5, 6, 7, 10, 1, 2, 3, 4, 5, 6, 7, 8, 9, 10, 1, 10, 8, 1, 2, 3, 7, 10, 1, 2, 3, 4, 6, 7, 1, 2, 3, 4, 5, 6, 7, 8, 9, 10, 1, 7, 10, 1, 2, 3, 4, 5, 6, 7, 8, 9, 10, 9, 7, 5, 1, 6, 8, 4, 4, 4, 6, 4, 3, 4, 7, 8, 9, 3, 4, 9, 1, 2, 3, 4, 5, 6, 7, 8, 9, 10, 1, 2, 3, 4, 5, 6, 7, 8, 9, 10, 1, 3, 8, 8, 10, 5, 1, 2, 3, 4, 5, 6, 7, 8, 9, 10, 1, 3, 5, 7, 8, 9, 10, 1, 2, 3, 4, 5, 6, 7, 8, 9, 10, 8, 1, 2, 3, 4, 5, 6, 7, 8, 9, 10, 1, 10], \"Freq\": [0.8873407349831552, 0.13347892448147405, 0.06502819397815403, 0.2549789711248671, 0.04791551135232402, 0.042781706564575014, 0.09411975444206504, 0.07358453529106902, 0.07700707181623503, 0.03593663351424301, 0.17283809452088306, 0.8062223143203542, 0.6859732414944345, 0.7618158848188527, 0.9158258501975787, 0.06564855551701895, 0.7877826662042275, 0.06564855551701895, 0.7658183699314967, 0.7691562581251599, 0.8459707361398842, 0.7049913542800005, 0.8703471147360793, 0.045807742880846276, 0.8563509571687015, 0.750877996371845, 0.04824186055871923, 0.9165953506156653, 0.21407446623426682, 0.7135815541142227, 0.06842680927497173, 0.09474481284226856, 0.2105440285383746, 0.07632221034516079, 0.03158160428075619, 0.06053140820478269, 0.19738502675472616, 0.10000841355572793, 0.028949803924026504, 0.1315900178364841, 0.0714257149333911, 0.0714257149333911, 0.7856828642673022, 0.7593188964066891, 0.8649655089734491, 0.888373513495849, 0.7436845766141988, 0.7975639201442409, 0.0806064198113487, 0.03224256792453948, 0.06448513584907896, 0.01612128396226974, 0.06448513584907896, 0.03224256792453948, 0.06448513584907896, 0.01612128396226974, 0.6126087905662501, 0.8516267600147109, 0.10627008675054588, 0.05313504337527294, 0.05313504337527294, 0.05313504337527294, 0.05313504337527294, 0.6907555638785482, 0.7918658141456155, 0.8588173861596903, 0.8260292143737815, 0.808757027595588, 0.18213458582856407, 0.03035576430476068, 0.36426917165712813, 0.03035576430476068, 0.03035576430476068, 0.21249035013332473, 0.03035576430476068, 0.03035576430476068, 0.06071152860952136, 0.7408008087312755, 0.03617994709287136, 0.01808997354643568, 0.18089973546435678, 0.07235989418574272, 0.01808997354643568, 0.39797941802158493, 0.07235989418574272, 0.12662981482504976, 0.01808997354643568, 0.05426992063930704, 0.8172492409034766, 0.7961796950360522, 0.17672944252394301, 0.029198777460477544, 0.23973733072813141, 0.03380911074371084, 0.06147111044311062, 0.035345888504788606, 0.17519266476286527, 0.0399562217880219, 0.01997811089401095, 0.18902366461256515, 0.16459517578043764, 0.059635933253781755, 0.18844954908195036, 0.019083498641210162, 0.059635933253781755, 0.14074080247892495, 0.12642817849801732, 0.09064661854574826, 0.02146893597136143, 0.12881361582816858, 0.910524065520219, 0.012481102940462908, 0.024962205880925816, 0.8487149999514778, 0.07488661764277744, 0.012481102940462908, 0.012481102940462908, 0.11051733450313421, 0.03683911150104474, 0.03683911150104474, 0.07367822300208948, 0.7367822300208948, 0.8935542887291243, 0.7935523748000345, 0.2447824565457724, 0.16828793887521853, 0.14278976631836723, 0.015298903534110776, 0.0611956141364431, 0.04589671060233233, 0.1223912282728862, 0.020398538045481036, 0.03569744157959181, 0.137690131806997, 0.0695685424750174, 0.0347842712375087, 0.30610158689007655, 0.14609393919753652, 0.02782741699000696, 0.02782741699000696, 0.09043910521752262, 0.20174877317755044, 0.0347842712375087, 0.05565483398001392, 0.8753105126031581, 0.8594267849136548, 0.6669923457885177, 0.09762063949045897, 0.7321547961784424, 0.09762063949045897, 0.8026915221733443, 0.8158886306645662, 0.20065391878257574, 0.03540951507927807, 0.3009808781738636, 0.02360634338618538, 0.04426189384909759, 0.0649174443120098, 0.14753964616365864, 0.0324587221560049, 0.04721268677237076, 0.10032695939128787, 0.6497398266359378, 0.863099050874304, 0.17830977303279827, 0.07613226264321724, 0.12621927754007067, 0.04808353430097931, 0.01803132536286724, 0.12822275813594483, 0.14024364171118964, 0.07813574323909138, 0.022038286554615517, 0.1803132536286724, 0.3104396718033021, 0.05173994530055035, 0.16815482222678865, 0.038804958975412765, 0.012934986325137588, 0.1164148769262383, 0.1099473837636695, 0.038804958975412765, 0.012934986325137588, 0.13581735641394468, 0.8550223058015433, 0.053438894112596454, 0.1674891130822717, 0.11165940872151447, 0.6699564523290868, 0.8867319234690175, 0.892281991714934, 0.279100152802851, 0.029691505617324577, 0.04156810786425441, 0.02375320449385966, 0.24940864718552644, 0.017814903370394746, 0.13658092583969306, 0.05344471011118424, 0.017814903370394746, 0.1543958292100878, 0.7531217351144018, 0.11583555155223833, 0.8687666366417875, 0.0925343954478236, 0.015422399241303933, 0.08660270343193747, 0.004745353612708903, 0.047453536127089024, 0.09134805704464638, 0.16964639165434328, 0.04508085932073458, 0.009490707225417805, 0.4389452091755735, 0.0955698833476634, 0.5734193000859804, 0.0955698833476634, 0.1911397666953268, 0.05168559028687488, 0.01824197304242643, 0.20370203230709513, 0.027362959563639645, 0.02432263072323524, 0.14289545549900703, 0.16417775738183787, 0.15505677086062464, 0.05776624796768369, 0.15201644202022024, 0.024464195274797877, 0.07339258582439363, 0.5871406865951491, 0.024464195274797877, 0.0978567810991915, 0.17124936692358514, 0.8793329374994268, 0.05693054731315651, 0.17079164193946955, 0.05693054731315651, 0.7400971150710347, 0.11604360386731911, 0.8123052270712338, 0.7981424119058362, 0.13302373531763936, 0.06651186765881968, 0.8608642619426824, 0.10127814846384499, 0.025319537115961247, 0.08319368022892691, 0.5823557616024884, 0.08319368022892691, 0.08319368022892691, 0.08319368022892691, 0.8391647168644173, 0.23831184293487145, 0.03644769362533328, 0.2411155116752817, 0.019625681182871765, 0.07289538725066656, 0.07289538725066656, 0.07569905599107682, 0.08691373095271782, 0.016822012442461513, 0.1401834370205126, 0.06158509149261287, 0.022394578724586497, 0.41150038406427686, 0.022394578724586497, 0.047588479789746306, 0.022394578724586497, 0.06438441383318617, 0.02519390106515981, 0.013996611702866561, 0.3079254574630643, 0.5796317418552986, 0.0947802974026316, 0.05331391728898027, 0.13032290892861845, 0.0473901487013158, 0.0236950743506579, 0.05923768587664475, 0.29026466079555924, 0.07700899163963817, 0.017771305762993423, 0.20140813198059213, 0.7504520391347191, 0.1250753398557865, 0.06233448402210496, 0.16622529072561323, 0.04155632268140331, 0.3116724201105248, 0.020778161340701654, 0.20778161340701654, 0.04155632268140331, 0.06233448402210496, 0.020778161340701654, 0.08311264536280662, 0.6649186244100839, 0.5481677911967573, 0.8642167214472866, 0.8910435087703524, 0.8899252343157091, 0.3617704437887616, 0.0678319582103928, 0.1356639164207856, 0.0226106527367976, 0.0226106527367976, 0.0226106527367976, 0.0226106527367976, 0.0226106527367976, 0.2487171801047736, 0.0904426109471904, 0.13055519066149807, 0.6527759533074903, 0.8869219924888878, 0.9110163296967246, 0.7860429413691632, 0.1666202677162692, 0.7997772850380922, 0.03176235570222276, 0.03176235570222276, 0.06352471140444552, 0.22233648991555932, 0.4764353355333414, 0.03176235570222276, 0.03176235570222276, 0.03176235570222276, 0.06352471140444552, 0.18303896898086788, 0.5491169069426037, 0.04575974224521697, 0.13727922673565093, 0.11830102992908623, 0.06452783450677431, 0.12188590962390702, 0.057358075117132715, 0.028679037558566357, 0.05018831572749113, 0.2043381426047853, 0.035848796948207945, 0.028679037558566357, 0.29037525528048436, 0.04491765113409128, 0.04491765113409128, 0.5951588775267095, 0.03368823835056846, 0.01122941278352282, 0.04491765113409128, 0.01122941278352282, 0.02245882556704564, 0.03368823835056846, 0.15721177896931948, 0.7389298430237711, 0.16420663178306025, 0.9273940045944453, 0.8272896951474558, 0.03773174471831937, 0.028298808538739527, 0.179225787412017, 0.03773174471831937, 0.018865872359159683, 0.19809165977117668, 0.07546348943663873, 0.2546892768486557, 0.009432936179579842, 0.16035991505285732, 0.8450770610831893, 0.6615137403611757, 0.13230274807223513, 0.06794084925662755, 0.015286691082741197, 0.1188964861990982, 0.033970424628313775, 0.054352679405302036, 0.21401367515837677, 0.23099888747253364, 0.05605120063671772, 0.06454380679379616, 0.14437430467033352, 0.031233670231321974, 0.03259165589355336, 0.32048461628660807, 0.027159713244627803, 0.09913295334289147, 0.10184892466735426, 0.09777496768066009, 0.08419511105834619, 0.042097555529173096, 0.1643162651299982, 0.008998605850905608, 0.013497908776358413, 0.4274337779180164, 0.017997211701811216, 0.1034839672854145, 0.07648814973269767, 0.08998605850905608, 0.05399163510543365, 0.05399163510543365, 0.14847699653994254, 0.8007463632454623, 0.8784671000195677, 0.21946606639375169, 0.08778642655750067, 0.6583981991812551, 0.043893213278750336, 0.8819158173029278, 0.8742201951313039, 0.0794745631937549, 0.0500162977982965, 0.02500814889914825, 0.0500162977982965, 0.0035725926998783214, 0.2858074159902657, 0.289380008690144, 0.0500162977982965, 0.060734075897931464, 0.07502444669744475, 0.10717778099634964, 0.07545850869776582, 0.03772925434888291, 0.07545850869776582, 0.45275105218659495, 0.11318776304664874, 0.03772925434888291, 0.07545850869776582, 0.03772925434888291, 0.11318776304664874, 0.7495296433626195, 0.7941174471820518, 0.9246179228902711, 0.40936337256381095, 0.06096901293503567, 0.16548732082366824, 0.01741971798143876, 0.03483943596287752, 0.07838873091647443, 0.11322816687935196, 0.026129576972158144, 0.026129576972158144, 0.06096901293503567, 0.8473834389115905, 0.677911548175637, 0.7702695492539315, 0.1283782582089886, 0.9028573399330652, 0.11285716749163315, 0.8644944072379573, 0.6136782826714405, 0.30683914133572027, 0.6802035781362523, 0.6089987189638478, 0.15224967974096196, 0.8130490635550989, 0.13040730647745813, 0.7824438388647488, 0.08631277270101391, 0.07578682481064636, 0.22315009527579205, 0.039998601983396685, 0.027367464514955628, 0.13683732257477815, 0.15999440793358674, 0.01894670620266159, 0.01684151662458808, 0.21262414738542448, 0.8497961893560888, 0.07220608976022197, 0.14441217952044394, 0.7942669873624416, 0.1846456654691167, 0.1846456654691167, 0.5539369964073501, 0.6470695128643137, 0.10784491881071893, 0.10784491881071893, 0.8293642827374057, 0.0588980250314938, 0.0588980250314938, 0.7067763003779256, 0.0588980250314938, 0.0811039741045128, 0.036865442774778545, 0.4276391361874311, 0.09585015121442421, 0.014746177109911418, 0.05898470843964567, 0.19170030242884842, 0.036865442774778545, 0.029492354219822835, 0.036865442774778545, 0.0723035115375624, 0.6507316038380615, 0.0723035115375624, 0.0723035115375624, 0.1446070230751248, 0.671879259156825, 0.25029959061123147, 0.06826352471215404, 0.022754508237384678, 0.34131762356077017, 0.06826352471215404, 0.045509016474769355, 0.1137725411869234, 0.022754508237384678, 0.06826352471215404, 0.8811713787314617, 0.9046665608107358, 0.6494671881577139, 0.12989343763154276, 0.0449150533831323, 0.8758435409710799, 0.06737258007469846, 0.8085063413443742, 0.11550090590633916, 0.7408076296851023, 0.8873651777738698, 0.11008783449976305, 0.033026350349928915, 0.15045337381634283, 0.04036553931657978, 0.12476621243306478, 0.05137432276655608, 0.15045337381634283, 0.12476621243306478, 0.02568716138327804, 0.18347972416627173, 0.15108963404791373, 0.0431684668708325, 0.11871328389478937, 0.015108963404791374, 0.07986166371104012, 0.11007959052062287, 0.06259427696270713, 0.1813075608574965, 0.030217926809582747, 0.2093670643235376, 0.8974858151608964, 0.35500391618756955, 0.24653049735247884, 0.07888975915279323, 0.06902853925869408, 0.009861219894099153, 0.02958365968229746, 0.049306099470495766, 0.03944487957639661, 0.009861219894099153, 0.09861219894099153, 0.4174557327648587, 0.012650173720147234, 0.0759010423208834, 0.02530034744029447, 0.02530034744029447, 0.11385156348132511, 0.10120138976117787, 0.0759010423208834, 0.012650173720147234, 0.13915191092161958, 0.9088540500570029, 0.7448447306396895, 0.13185207855409045, 0.06592603927704523, 0.06592603927704523, 0.06592603927704523, 0.6592603927704522, 0.06592603927704523, 0.2424641393947594, 0.4849282787895188, 0.7031966604496267, 0.5662044408711557, 0.16177269739175879, 0.08088634869587939, 0.08088634869587939, 0.792983542200294, 0.27351029781992114, 0.5470205956398423, 0.1074454156249759, 0.08595633249998073, 0.08595633249998073, 0.04297816624999037, 0.021489083124995183, 0.6661615768748507, 0.8873039822898434, 0.9074736420317151, 0.7465190057268937, 0.17869475560658854, 0.7147790224263542, 0.7786413412702422, 0.2595471137567474, 0.13227195971900155, 0.1984079395785023, 0.08818130647933435, 0.022045326619833588, 0.044090653239667175, 0.06613597985950077, 0.022045326619833588, 0.044090653239667175, 0.1984079395785023, 0.22045326619833588, 0.8383271126250642, 0.11976101608929489, 0.08838566092750333, 0.034722938221519166, 0.15467490662313083, 0.056819353453395, 0.056819353453395, 0.11679533765420083, 0.09154229167491416, 0.12942186064384417, 0.03787956896893, 0.23359067530840166, 0.8805015451577834, 0.7996273323478884, 0.878689141632052, 0.09048270329034737, 0.054289621974208425, 0.18096540658069474, 0.04222526153549544, 0.20811021756779896, 0.048257441754851936, 0.1447723252645558, 0.05127353186453018, 0.08746661318066913, 0.09349879340002562, 0.8798643184951116, 0.7965413008335532, 0.09231786785925179, 0.18463573571850359, 0.46158933929625895, 0.1384768017888777, 0.046158933929625896, 0.0966584062851279, 0.0556116858078818, 0.33190466450418343, 0.031778106175932457, 0.04192944564879977, 0.057818498736766, 0.0856243416407069, 0.05517032322210496, 0.04546034633501449, 0.19773043842802418, 0.07191168797541769, 0.059671400660452976, 0.20349477661128837, 0.06273147248919415, 0.07344172388978829, 0.05355125700297062, 0.08109190346164122, 0.1545336273514295, 0.041310969688005905, 0.1989046688681766, 0.12792101271222592, 0.03517827849586213, 0.15830225323137959, 0.04956939242598755, 0.028782227860250833, 0.12152496207661463, 0.10553483548758638, 0.12952002537112875, 0.0399753164725706, 0.20307460768065866, 0.14241086206374698, 0.028482172412749397, 0.11748896120259127, 0.021361629309562046, 0.07476570258346717, 0.04628353017071777, 0.08900678878984186, 0.11392868965099759, 0.032042443964343074, 0.3275449827466181, 0.886542134699945, 0.8865402585640081, 0.8070420392772717, 0.10088025490965896, 0.10088025490965896, 0.7532133956492811, 0.7532260166207727, 0.1184955066334833, 0.8294685464343831, 0.08400544096539769, 0.08400544096539769, 0.16801088193079539, 0.5880380867577839, 0.19174129993841016, 0.8053134597413226, 0.9696585378246602, 0.009506456253182943, 0.019012912506365887, 0.08131125813166777, 0.8131125813166777, 0.3535105621641361, 0.03448883533308645, 0.19399969874861128, 0.02586662649981484, 0.038799939749722255, 0.017244417666543225, 0.09915540158262355, 0.0646665662495371, 0.038799939749722255, 0.13364423691571, 0.48425166702141387, 0.015621021516819803, 0.031242043033639606, 0.015621021516819803, 0.10934715061773861, 0.015621021516819803, 0.09372612910091882, 0.015621021516819803, 0.21869430123547723, 0.9169626095542188, 0.7402058208753369, 0.06729143826139426, 0.06729143826139426, 0.06729143826139426, 0.06729143826139426, 0.7598906481460306, 0.01953127320106622, 0.013020848800710813, 0.16276061000888517, 0.026041697601421627, 0.15625018560852977, 0.527344376428788, 0.08463551720462029, 0.8468471816558152, 0.0857692416264825, 0.0857692416264825, 0.04288462081324125, 0.04288462081324125, 0.68615393301186, 0.08790580846553395, 0.029301936155177982, 0.27104290943539633, 0.0073254840387944956, 0.029301936155177982, 0.2966821035711771, 0.047615646252164225, 0.01831371009698624, 0.01831371009698624, 0.1904625850086569, 0.10839391534688703, 0.07149385905858506, 0.2513816334640572, 0.04381881684235859, 0.050737577396415205, 0.09916890127481154, 0.17758152088745321, 0.05765633795047183, 0.013837521108113237, 0.1291501970090569, 0.14439435987807023, 0.05605898677619198, 0.3057762915065017, 0.02887887197561405, 0.06455277265137258, 0.0874859945143602, 0.10872045920231171, 0.06370339406385452, 0.022083843275469566, 0.11721424507749231, 0.885347541804759, 0.06810365706190454, 0.08576968920213573, 0.04288484460106787, 0.8148120474202896, 0.7416562460618192, 0.6483514927188122, 0.8709888668709487, 0.8879524345967265, 0.6877507390715347, 0.06252279446104861, 0.06252279446104861, 0.06252279446104861, 0.06252279446104861, 0.9136216110259783, 0.7571192755627227, 0.15142385511254455, 0.18766545513253777, 0.06323509901205077, 0.20398419036145407, 0.038756996168676276, 0.03467731236144719, 0.04691636378313444, 0.09587256946988341, 0.12035067231325791, 0.02447810284337449, 0.18766545513253777, 0.12078040849959365, 0.0357867877035833, 0.2013006808326561, 0.022366742314739566, 0.03131343924063539, 0.1297271054254895, 0.308661043943406, 0.03131343924063539, 0.049206833092427044, 0.07604692387011452, 0.868933632086652, 0.8824049482775549, 0.12898529554913055, 0.03287860474781759, 0.2661902422852155, 0.030349481305677776, 0.04236281765584189, 0.0872547587538236, 0.16186390029694814, 0.08851932047489351, 0.020232987537118517, 0.14226319362036458, 0.0664830864483541, 0.07879476912397523, 0.14774019210745357, 0.0467843941673603, 0.024623365351242262, 0.1329661728967082, 0.2733193553987891, 0.11572981715083863, 0.017236355745869583, 0.09603112486984482, 0.5700836361528412, 0.06792588209917295, 0.03396294104958648, 0.2603825480468297, 0.03396294104958648, 0.09056784279889728, 0.10566248326538016, 0.16226738501469096, 0.14717274454820808, 0.03018928093296576, 0.07169954221579368, 0.7272577248389793, 0.6844817773369414, 0.7593811113869883, 0.8209717472121804, 0.12394054633293403, 0.05164189430538918, 0.292637401063872, 0.027542343629540895, 0.05508468725908179, 0.06885585907385224, 0.12738333928662665, 0.13426892519401187, 0.04475630839800395, 0.07574144498123746, 0.6779598691551025, 0.06306836205310008, 0.08409114940413345, 0.2943190229144671, 0.2943190229144671, 0.042045574702066726, 0.042045574702066726, 0.042045574702066726, 0.021022787351033363, 0.021022787351033363, 0.08409114940413345, 0.7965952171672418, 0.20686088855746498, 0.4826754066340849, 0.13790725903831, 0.13790725903831, 0.068953629519155, 0.9578630684154493, 0.8864948172914487, 0.07538270482953795, 0.052440142490113355, 0.3048083282237839, 0.0426076157732171, 0.02130380788660855, 0.0737439503767219, 0.14093288294217965, 0.06391142365982565, 0.009832526716896254, 0.21467683331890156, 0.67682798294471, 0.9263960847343272, 0.7927832393242622, 0.5715776162479032, 0.890993379651383, 0.856225427940957, 0.7496138268809174, 0.04426360689238442, 0.04426360689238442, 0.04426360689238442, 0.04426360689238442, 0.04426360689238442, 0.30984524824669096, 0.04426360689238442, 0.30984524824669096, 0.08852721378476884, 0.07328842166972802, 0.8061726383670083, 0.11398541709260039, 0.6839125025556023, 0.11398541709260039, 0.977405999877482, 0.7630136800134855, 0.8069792095254853, 0.07241414719458995, 0.5068990303621297, 0.07241414719458995, 0.07241414719458995, 0.10862122079188494, 0.07241414719458995, 0.03620707359729498, 0.09310809487074519, 0.6517566640952164, 0.09310809487074519, 0.6492806357520596, 0.8868852066594933, 0.06782924821448244, 0.12000559299485355, 0.21392301359952157, 0.031305806868222666, 0.010435268956074223, 0.08348215164859378, 0.15131139986307623, 0.08869978612663089, 0.015652903434111333, 0.21392301359952157, 0.14215490388398774, 0.02743340250392746, 0.11970939274441074, 0.019951565457401788, 0.03491523955045313, 0.1695883063879152, 0.2219611657135949, 0.0523728593256797, 0.029927348186102685, 0.18205803479879132, 0.2616989312014451, 0.5233978624028902, 0.6786885089321025, 0.8231153468824152, 0.8929496513457787, 0.018464521066785432, 0.018464521066785432, 0.5724001530703484, 0.018464521066785432, 0.018464521066785432, 0.018464521066785432, 0.11078712640071259, 0.018464521066785432, 0.018464521066785432, 0.20310973173463975, 0.8758748623798911, 0.8403617305683619, 0.7319081143137538, 0.041439418025601235, 0.041439418025601235, 0.4262340139776127, 0.023679667443200703, 0.053279251747201585, 0.06511908546880193, 0.10063858663360299, 0.02959958430400088, 0.03551950116480106, 0.17167758896320512, 0.8803067418903328, 0.19741656546613262, 0.04797773104953821, 0.2626977405007502, 0.030674287064458856, 0.04719121086839824, 0.054269892498657976, 0.10618022445389604, 0.059775533766637766, 0.022022565071919176, 0.17067487930737363, 0.21499433677292368, 0.08759028535193186, 0.11944129820717982, 0.07962753213811988, 0.023888259641435965, 0.007962753213811988, 0.14332955784861579, 0.11944129820717982, 0.10351579177955585, 0.10351579177955585, 0.9193133600088769, 0.7616971336643623, 0.825909410802927, 0.12435076674454351, 0.8704553672118046, 0.942652216469026, 0.1007514010117483, 0.08125112984818411, 0.16900235008422296, 0.04550063271498311, 0.1007514010117483, 0.06825094907247466, 0.11700162698138512, 0.09750135581782095, 0.013000180775709459, 0.20475284721742398, 0.840412313696925, 0.8412333578660066, 0.05257708486662541, 0.05257708486662541, 0.05257708486662541, 0.032988427445496134, 0.13195370978198454, 0.06597685489099227, 0.5937916940189304, 0.0989652823364884, 0.032988427445496134, 0.2649895518064839, 0.043161176998783364, 0.16762596648364703, 0.023086210952837614, 0.07728861927689115, 0.04215742869648608, 0.09836733362513418, 0.06825488455621556, 0.03814243548729693, 0.1776634495066199, 0.12727937683600915, 0.6363968841800458, 0.11477104493928415, 0.07157764092987613, 0.21596702004704008, 0.03208652869270309, 0.038874063608467214, 0.05738552246964208, 0.12094153122634244, 0.06910944641505282, 0.02468194514823315, 0.2548410836555073, 0.10346048222165372, 0.6207628933299223, 0.20692096444330743, 0.8779458629526864, 0.817485959622558, 0.8367657993979551, 0.10848986246140446, 0.050072244212955905, 0.1460440456211214, 0.050072244212955905, 0.016690748070985303, 0.05424493123070223, 0.09597180140816548, 0.11266254947915079, 0.033381496141970605, 0.3379876484374524, 0.3161214329231642, 0.020919800708150568, 0.14178976035524274, 0.025568645309961807, 0.06043497982354609, 0.030217489911773046, 0.17898051716973265, 0.032541912212678666, 0.037190756814489905, 0.15341187185977084, 0.8055750582704008, 0.760606789562651, 0.17570812202988462, 0.034165468172477564, 0.3709393687297564, 0.03904624933997436, 0.06345015517745833, 0.07321171751245192, 0.08297327984744551, 0.053688592842464744, 0.02928468700498077, 0.07809249867994872, 0.6687505528936483, 0.9268815664828248, 0.7962207704969623, 0.8817112014789316, 0.7774167108969643, 0.8637731046487236, 0.7609681297683281, 0.12682802162805468, 0.8511567184824048, 0.8402325391532928, 0.2282547870184681, 0.09383807910759244, 0.14709752941190168, 0.02536164300205201, 0.055795614604514425, 0.06340410750513004, 0.08876575050718204, 0.06086794320492483, 0.02536164300205201, 0.2079654726168265, 0.2015123388734905, 0.04318121547289082, 0.11035199509738763, 0.033585389812248415, 0.02398956415160601, 0.09116034377610284, 0.07196869245481803, 0.04318121547289082, 0.02398956415160601, 0.3550455494437689, 0.10454415078607442, 0.03074827964296306, 0.4427752268586681, 0.006149655928592613, 0.02459862371437045, 0.06149655928592612, 0.06149655928592612, 0.03689793557155568, 0.012299311857185226, 0.21523795750074143, 0.17213533067598608, 0.04303383266899652, 0.04303383266899652, 0.30123682868297563, 0.38730449402096867, 0.04303383266899652, 0.09191308726357361, 0.6433916108450153, 0.09191308726357361, 0.173490035259712, 0.693960141038848, 0.6709754752242074, 0.1217389913015267, 0.02434779826030534, 0.21913018434274806, 0.4382603686854961, 0.02434779826030534, 0.02434779826030534, 0.02434779826030534, 0.1217389913015267, 0.0332347302311101, 0.8308682557777526, 0.0332347302311101, 0.0332347302311101, 0.0332347302311101, 0.09548627898608363, 0.8593765108747525, 0.8194374176109505, 0.0793321125462409, 0.05288807503082727, 0.12340550840526363, 0.2556256959823318, 0.026444037515413635, 0.10577615006165454, 0.10577615006165454, 0.07051743337443636, 0.04407339585902272, 0.12340550840526363, 0.1495089776679644, 0.6727903995058397, 0.0747544888339822, 0.053409979567476236, 0.053409979567476236, 0.7477397139446673, 0.053409979567476236, 0.10681995913495247, 0.17303543183572084, 0.5191062955071626, 0.7268718341949818, 0.8668519715352483, 0.8506479467334132, 0.19351861265526626, 0.04632094451854778, 0.3355695091788128, 0.03911546426010701, 0.031909984001666246, 0.04940900748645096, 0.09058318039182676, 0.057643842067526124, 0.028821921033763062, 0.12558122736139618, 0.17962132799159172, 0.057478824957309355, 0.15806676863260072, 0.019159608319103117, 0.043109118717982016, 0.11016774783484293, 0.13172230719383393, 0.038319216638206234, 0.01676465727921523, 0.24428500606856476, 0.8735569545633528, 0.09398985401506815, 0.03524619525565056, 0.07636675638724287, 0.04112056113159231, 0.07636675638724287, 0.21147717153390333, 0.06461802463535936, 0.27022083029332095, 0.046994927007534076, 0.07636675638724287, 0.7579099883438658, 0.7425074953980512, 0.7574205657233439, 0.15148411314466878, 0.0765388209702953, 0.03327774824795447, 0.1464220922909997, 0.019966648948772685, 0.17637206571415873, 0.11314434404304521, 0.1197998936926361, 0.08984992026947708, 0.04658884754713626, 0.17304429088936327, 0.6499034918810022, 0.7387629645599095, 0.693563718615462, 0.3944774607243079, 0.4930968259053849, 0.04930968259053849, 0.795110817884737, 0.3647980562307211, 0.5107172787230095, 0.8221402086534183, 0.07026227326535604, 0.14052454653071209, 0.07026227326535604, 0.6323604593882044, 0.07026227326535604, 0.7161212336990843, 0.10943820832393593, 0.06566292499436155, 0.17510113331829746, 0.043775283329574366, 0.043775283329574366, 0.5471910416196796, 0.2594852989533392, 0.5708676576973463, 0.051897059790667846, 0.2911622024567029, 0.6793784723989733, 0.06011464602041505, 0.2404585840816602, 0.5410318141837355, 0.06011464602041505, 0.06011464602041505, 0.8394608531132977, 0.7011224473155887, 0.7957021495989475, 0.8271570235356285, 0.06463205442847543, 0.032316027214237715, 0.043088036285650284, 0.24775620864248912, 0.010772009071412571, 0.3662483084280274, 0.053860045357062854, 0.06463205442847543, 0.021544018142825142, 0.09694808164271314, 0.7408166589323854, 0.2367846255327164, 0.7103538765981492, 0.11970473207177385, 0.02394094641435477, 0.09576378565741908, 0.03591141962153215, 0.25137993735072506, 0.011970473207177385, 0.155616151693306, 0.10773425886459646, 0.02394094641435477, 0.19152757131483816, 0.8650195701086424, 0.9124403877099738, 0.9180044453228489, 0.2574996147597664, 0.04559889011370863, 0.053645753074951334, 0.053645753074951334, 0.06705719134368916, 0.07510405430493186, 0.0724217666511843, 0.021458301229980534, 0.11533836911114537, 0.23604131352978586, 0.9199980217365354, 0.7555447090965663, 0.12736655264549201, 0.038595925044088486, 0.21845293574954083, 0.037824006543206716, 0.050946621058196806, 0.11347201962962015, 0.12427887864196493, 0.06638499107583219, 0.025473310529098403, 0.19761113622573306, 0.9185355136612205, 0.8985627202045505, 0.22439234836184668, 0.03382799221535377, 0.18718155692495753, 0.0146587966266533, 0.04961438858251886, 0.05299718780405424, 0.19056435614649292, 0.021424395069724055, 0.02255199481023585, 0.20296795329212264, 0.05731581217171286, 0.8597371825756929, 0.07083573181166672, 0.011805955301944452, 0.011805955301944452, 0.09444764241555562, 0.023611910603888904, 0.22431315073694458, 0.011805955301944452, 0.5430739438894447, 0.028016164864543506, 0.11206465945817402, 0.028016164864543506, 0.6443717918845007, 0.11206465945817402, 0.028016164864543506, 0.028016164864543506, 0.028016164864543506, 0.8809220156884718, 0.8870009298092122, 0.23649826482802055, 0.04667728911079353, 0.10891367459185157, 0.04667728911079353, 0.07779548185132255, 0.08713093967348126, 0.11202549386590448, 0.04978910838484643, 0.02800637346647612, 0.20538007208749154, 0.5239785085891302, 0.4116973996057452, 0.03742703632779502, 0.07944705033046569, 0.31778820132186275, 0.3972352516523284, 0.1986176258261642, 0.7272063612473033, 0.16160141361051183, 0.7234725847168397, 0.14469451694336793, 0.7551168989191923, 0.12585281648653204, 0.11436132211204318, 0.01829781153792691, 0.11893577499652491, 0.07319124615170763, 0.07776569903618936, 0.15095694518789698, 0.11893577499652491, 0.1646803038413422, 0.01829781153792691, 0.1372335865344518, 0.751368264628455, 0.20308712856433367, 0.05568518041280117, 0.16050434354277984, 0.05240958156498933, 0.0294803896303065, 0.07206317465186034, 0.07206317465186034, 0.04258278502155383, 0.05240958156498933, 0.26204790782494664, 0.8350538439420195, 0.752048372169837, 0.1253413953616395, 0.860079824495457, 0.8523965599825942, 0.07686376398564396, 0.5380463478995077, 0.15372752797128791, 0.07686376398564396, 0.10376109870894606, 0.05188054935447303, 0.2873384271940045, 0.03990811488805618, 0.01995405744402809, 0.09577947573133483, 0.05986217233208427, 0.07582541828730674, 0.0678437953096955, 0.1995405744402809, 0.10631438567256363, 0.07309114014988749, 0.19269482403152158, 0.01993394731360568, 0.05980184194081704, 0.23256271865873293, 0.11295903477709886, 0.07973578925442272, 0.026578596418140907, 0.08638043835895795, 0.1542883251340342, 0.013613675747120664, 0.1542883251340342, 0.052185757030629214, 0.06579943277774988, 0.1338678115133532, 0.11344729789267222, 0.06353048681989644, 0.020420513620680997, 0.22689459578534443, 0.8681567290307632, 0.8203333570006336, 0.7636617044158673, 0.1762296240959694, 0.5979345797792833, 0.3261461344250636, 0.12597335942048127, 0.7558401565228877, 0.8893453910048156, 0.8111032302624405, 0.8621955349293408, 0.7874199431929657, 0.29707174865498803, 0.2271725136773438, 0.12232366121087744, 0.034949617488822124, 0.034949617488822124, 0.034949617488822124, 0.08737404372205532, 0.017474808744411062, 0.06989923497764425, 0.08737404372205532, 0.05234411990535349, 0.060719179090210046, 0.27847071789648054, 0.04187529592428279, 0.06281294388642418, 0.11725082858799181, 0.12562588777284836, 0.060719179090210046, 0.020937647962141395, 0.18425130206684429, 0.077806585039074, 0.04723971234515207, 0.2528714013769905, 0.0194516462597685, 0.022230452868306858, 0.08058539164761236, 0.11393107095007264, 0.0972582312988425, 0.016672839651230145, 0.272323047636759, 0.5827311862242692, 0.24974193695325825, 0.08324731231775274, 0.7505818820237964, 0.1179467565005082, 0.8256272955035574, 0.7389289955844327, 0.13698638223954424, 0.11336804047410558, 0.17949939741733384, 0.04723668353087732, 0.07557869364940371, 0.04251301517778959, 0.16532839235807062, 0.033065678471614124, 0.06140768859014052, 0.14171005059263198, 0.8561758850860942, 0.7277611533550671, 0.15155960840793478, 0.05051986946931159, 0.15155960840793478, 0.6062384336317391, 0.8617894244655252, 0.7524654341795872, 0.2096525108756567, 0.6988417029188557, 0.9233528161797845, 0.07134992872404233, 0.07134992872404233, 0.642149358516381, 0.07134992872404233, 0.07134992872404233, 0.07134992872404233, 0.4478166659720119, 0.05101708852845705, 0.03826281639634279, 0.0517256592024634, 0.04463995246239992, 0.07369135009666018, 0.10699417177495854, 0.029759968308266615, 0.011337130784101567, 0.14596555884530768, 0.18327262577188236, 0.04138414130332827, 0.11232838353760531, 0.02956010093094877, 0.05320818167570778, 0.0768562624204668, 0.20692070651664138, 0.04138414130332827, 0.02660409083785389, 0.2305687872614004, 0.029964076557163405, 0.04494611483574511, 0.05992815311432681, 0.014982038278581702, 0.10487426795007192, 0.08989222967149021, 0.14982038278581702, 0.28465872729305236, 0.05992815311432681, 0.16480242106439874, 0.037209862167621933, 0.037209862167621933, 0.037209862167621933, 0.037209862167621933, 0.037209862167621933, 0.1116295865028658, 0.07441972433524387, 0.520938070346707, 0.1116295865028658, 0.8151506521674017, 0.8857914919056775, 0.15277177748825183, 0.7638588874412591, 0.8496744266793453, 0.09171838086115158, 0.09171838086115158, 0.7337470468892127, 0.8685441959123924, 0.5623821579513081, 0.33081303408900475, 0.033081303408900475, 0.06616260681780095, 0.6660821350299477, 0.1593230524355743, 0.03287618542321374, 0.4147457238005426, 0.01896703005185408, 0.03666959143358456, 0.07460365153729272, 0.07460365153729272, 0.034140654093337344, 0.034140654093337344, 0.1188600549916189, 0.7075708243081165, 0.9231825961055853, 0.8691505408622189, 0.09660656344918672, 0.019889586592479618, 0.2955024293739829, 0.04830328172459336, 0.051144651237804734, 0.09660656344918672, 0.06535149880386161, 0.022730956105690994, 0.028413695132113743, 0.27277147326829193, 0.8396240572870141, 0.8194983561620077, 0.052655704762350854, 0.052655704762350854, 0.18429496666822798, 0.06581963095293857, 0.013163926190587713, 0.039491778571763135, 0.06581963095293857, 0.44757349047998224, 0.013163926190587713, 0.06581963095293857, 0.8025832087979479, 0.06078612570492867, 0.026051196730683717, 0.06946985794848991, 0.052102393461367434, 0.21709330608903096, 0.026051196730683717, 0.09552105467917363, 0.1302559836534186, 0.09552105467917363, 0.21709330608903096, 0.750509523019304, 0.0627414617612761, 0.02091382058709203, 0.3346211293934725, 0.0731983720548221, 0.052284551467730075, 0.2718796676321964, 0.03137073088063805, 0.052284551467730075, 0.02091382058709203, 0.0627414617612761, 0.5460539300266981, 0.08649424812764779, 0.06328847423974229, 0.17298849625529558, 0.025315389695896917, 0.1518923381753815, 0.10548079039957048, 0.10548079039957048, 0.07172693747170793, 0.08438463231965639, 0.13712502751944164, 0.06663304614635278, 0.06663304614635278, 0.06663304614635278, 0.6663304614635277, 0.06663304614635278, 0.07747732133614127, 0.038738660668070635, 0.07747732133614127, 0.42612526734877704, 0.15495464267228254, 0.07747732133614127, 0.038738660668070635, 0.038738660668070635, 0.07747732133614127, 0.11903851777115058, 0.027208804061977277, 0.20406603046482957, 0.01020330152324148, 0.07482421117043751, 0.14964842234087503, 0.08502751269367899, 0.013604402030988639, 0.037412105585218756, 0.2788902416352671, 0.09956976771615121, 0.022126615048033604, 0.08850646019213441, 0.027658268810042002, 0.04425323009606721, 0.12722803652619322, 0.033189922572050404, 0.1493546515742268, 0.016594961286025202, 0.3927474171025964, 0.05801003602841846, 0.5220903242557662, 0.23204014411367385, 0.11602007205683693, 0.6512331648257563, 0.13024663296515127, 0.8874320551217468, 0.053922198370041224, 0.10784439674008245, 0.5931441820704535, 0.053922198370041224, 0.16176659511012367, 0.22752380909898384, 0.06088665313916469, 0.12497786696986436, 0.0192273641492099, 0.06409121383069967, 0.04486384968148977, 0.18586452010902907, 0.0384547282984198, 0.028841046223814854, 0.20829644494977395, 0.8202629183711974, 0.8101027875717464, 0.9366811749314601, 0.11060775540650919, 0.03686925180216973, 0.15976675780940217, 0.07373850360433946, 0.03072437650180811, 0.03686925180216973, 0.3379681415198892, 0.055303877703254595, 0.024579501201446488, 0.12904238130759405, 0.7467218119712326, 0.1493443623942465, 0.10818577775399195, 0.7573004442779436, 0.11737624184712636, 0.7042574510827582, 0.16556903909104548, 0.14487290920466478, 0.14782949918843344, 0.03252248982145536, 0.02956589983768669, 0.044348849756530036, 0.14782949918843344, 0.07391474959421672, 0.017739539902612015, 0.19513493892873215, 0.1416265765999221, 0.7081328829996104, 0.07532302352097933, 0.037661511760489666, 0.7155687234493037, 0.037661511760489666, 0.037661511760489666, 0.07532302352097933, 0.7799875090146842, 0.15487849689851446, 0.03629964771058933, 0.2298977688337324, 0.048399530280785766, 0.06049941285098221, 0.07743924844925723, 0.1911781446091038, 0.08953913101945367, 0.03387967119655004, 0.0822792014773358, 0.046237559534794706, 0.4161380358131524, 0.046237559534794706, 0.046237559534794706, 0.18495023813917882, 0.046237559534794706, 0.23118779767397354, 0.8674240304332044, 0.8569965315018344, 0.18289865987405937, 0.08965620582061734, 0.19724365280535816, 0.03586248232824694, 0.03227623409542225, 0.0609662199580198, 0.10400119875191612, 0.14703617754581244, 0.043034978793896325, 0.10400119875191612, 0.9376067454056883, 0.13813179716407822, 0.6906589858203911, 0.904878011276606, 0.08110034408281959, 0.08110034408281959, 0.6488027526625567, 0.08110034408281959, 0.8758112190793074, 0.1223101057654947, 0.1223101057654947, 0.7338606345929682, 0.8616576791450956, 0.15717863923571468, 0.18925591254912583, 0.19887909454314917, 0.019246363988046696, 0.03849272797609339, 0.1411400025790091, 0.07698545595218678, 0.1026472746029157, 0.009623181994023348, 0.06415454662682231, 0.01044616331675626, 0.24026175628539395, 0.3656157160864691, 0.09401546985080633, 0.06267697990053755, 0.01044616331675626, 0.01044616331675626, 0.20892326633512517, 0.028178052876159043, 0.9580537977894075, 0.8898283178298274, 0.6587375582663504, 0.14566967169503436, 0.026892862466775577, 0.23979469032874887, 0.049303581189088556, 0.049303581189088556, 0.06499108429470764, 0.22634825909536108, 0.06723215616693894, 0.02241071872231298, 0.10533037799487101, 0.541742680132513, 0.7569898059570931, 0.053864616981504375, 0.041894702096725626, 0.335157616773805, 0.1675788083869025, 0.0239398297695575, 0.08977436163584063, 0.13765402117495562, 0.0718194893086725, 0.029924787211946875, 0.047879659539115, 0.08259668943043044, 0.04744916201322599, 0.2952392303045173, 0.06853767846354866, 0.02636064556290333, 0.03339015104634422, 0.15816387337742, 0.07908193668871, 0.024603269192043108, 0.18628189531118353, 0.11519271976136417, 0.10472065432851288, 0.16406235844800351, 0.013962753910468383, 0.027925507820936765, 0.0802858349851932, 0.07679514650757611, 0.12217409671659836, 0.04188826173140515, 0.254820258866048, 0.8066782172371438, 0.009949952964032035, 0.5074476011656337, 0.40794807152531337, 0.03979981185612814, 0.01989990592806407, 0.01989990592806407, 0.6653275368291172, 0.11179702191899238, 0.061222178669924396, 0.33539106575697714, 0.04525117553863977, 0.09848785264292186, 0.03992750782821156, 0.16503369902327447, 0.03992750782821156, 0.026618338552141043, 0.08251684951163724, 0.026223844285387387, 0.026223844285387387, 0.026223844285387387, 0.13111922142693694, 0.6031484185639099, 0.026223844285387387, 0.10489537714154955, 0.026223844285387387, 0.052447688570774774, 0.308625830747475, 0.6884730070520596, 0.13781665283383912, 0.06890832641691956, 0.6890832641691956, 0.06890832641691956, 0.8259436040568284, 0.03294752609913796, 0.8566356785775869, 0.03294752609913796, 0.03294752609913796, 0.18890737986981146, 0.7556295194792458, 0.7448632133607233, 0.8570187522492901, 0.14914623908666902, 0.03600081633126493, 0.22114787174919887, 0.015428921284827828, 0.24171976679563598, 0.04114379009287421, 0.030857842569655656, 0.02571486880804638, 0.22629084551080816, 0.1198801804072755, 0.027664657017063575, 0.35251479623258286, 0.01676645879822035, 0.028502979956974595, 0.09934126837945557, 0.08005984076150217, 0.025988011137241543, 0.005449099109421614, 0.2435328140441506, 0.08241144313022503, 0.024036670912982297, 0.4360938865641074, 0.024036670912982297, 0.06180858234766876, 0.08584525326065107, 0.051507151956390634, 0.017169050652130213, 0.01373524052170417, 0.20602860782556254, 0.12515955646722127, 0.016389941918326593, 0.15421445350425478, 0.026819904957261703, 0.05587480199429521, 0.30991890172835745, 0.07375473863246967, 0.09535966207026382, 0.016389941918326593, 0.12515955646722127, 0.1015221953578589, 0.03224822676073165, 0.27590149561959304, 0.03224822676073165, 0.021498817840487766, 0.10988284674027081, 0.21140504209812971, 0.03941449937422757, 0.017915681533739805, 0.1588523762658263, 0.13907430988880237, 0.07707732837210735, 0.18934213274017675, 0.03351188190091624, 0.03518747599596205, 0.02680950552073299, 0.23123198511632204, 0.06032138742164923, 0.01843153504550393, 0.19101772683522256, 0.06913966784947652, 0.12675605772404028, 0.18437244759860402, 0.023046555949825503, 0.05761638987456376, 0.1728491696236913, 0.06913966784947652, 0.1440409746864094, 0.011523277974912751, 0.13827933569895304, 0.059154581640680486, 0.05377689240061862, 0.09142071708105166, 0.09142071708105166, 0.03226613544037117, 0.07528764936086607, 0.04839920316055676, 0.46248127464532013, 0.02688844620030931, 0.05377689240061862, 0.055719927812673695, 0.04097053515637772, 0.17535389046929664, 0.055719927812673695, 0.044248177968887935, 0.13929981953168424, 0.062275213437694134, 0.2785996390633685, 0.04916464218765326, 0.09832928437530652, 0.26013137124201047, 0.042271347826826705, 0.13819479097231807, 0.030890600334988746, 0.034142242475513875, 0.0942976220752288, 0.117872027594036, 0.060968290134846205, 0.02276149498367592, 0.198350170572033, 0.1056722847799454, 0.7925421358495905, 0.7940740004232124, 0.13234566673720208, 0.11971142123925446, 0.7182685274355268, 0.7407760129789868, 0.9461851632860858, 0.8653746108333793, 0.5906161928576641, 0.02857820288020955, 0.24767775829514946, 0.009526067626736518, 0.02857820288020955, 0.019052135253473036, 0.009526067626736518, 0.07620854101389214, 0.8202145425915354, 0.1719785278325647, 0.04913672223787563, 0.024568361118937815, 0.12284180559468907, 0.5896406668545076, 0.024568361118937815, 0.19375654580405932, 0.012705347265839956, 0.31763368164599887, 0.015881684082299945, 0.050821389063359826, 0.1715221880888394, 0.07940842041149972, 0.03176336816459989, 0.019058020898759933, 0.10481911494317964, 0.7524215355011387, 0.15048430710022773, 0.8711572669068585, 0.22954278754090324, 0.4131770175736258, 0.09181711501636129, 0.18363423003272258, 0.045908557508180646, 0.0712373304864637, 0.0712373304864637, 0.0712373304864637, 0.5698986438917096, 0.0712373304864637, 0.0712373304864637, 0.08038092862017004, 0.06200814493555975, 0.07578773269901748, 0.06660134085671232, 0.04133876329037317, 0.025262577566339157, 0.231956394018205, 0.029855773487491733, 0.04363536125094945, 0.3444896940864431, 0.9122249088975484, 0.8592005979851408, 0.08592005979851408, 0.22020841720598222, 0.027842443554779363, 0.12908769284488614, 0.050622624645053384, 0.012655656161263346, 0.04302923094829538, 0.16199239886417083, 0.12908769284488614, 0.025311312322526692, 0.19995936734796088, 0.7673004631698175, 0.9439105727580658, 0.8447935194198256, 0.151510630340258, 0.75755315170129, 0.6660496994056442, 0.836559842154762, 0.8472814223811047, 0.8765364701449905, 0.09739294112722116, 0.7806577498030604, 0.4746609565821879, 0.07302476255110582, 0.40163619403108203, 0.012170793758517639, 0.024341587517035277, 0.11450255257431492, 0.6870153154458896, 0.7902360295837554, 0.1846830740799913, 0.04261917094153646, 0.19888946439383678, 0.02841278062769097, 0.05276659259428323, 0.06697298290812871, 0.1714914259314205, 0.08320885755252355, 0.01623587464439484, 0.15525555128702567, 0.09905335231052761, 0.08834488179047056, 0.19542958699104096, 0.03480252919018537, 0.0803135289004278, 0.11779317572062743, 0.1258245286106702, 0.03212541156017112, 0.0401567644502139, 0.1847211164709839, 0.886299469046423, 0.11262568148231968, 0.7883797703762377, 0.8911426622364607, 0.8830402426024699, 0.8674119689465141, 0.11523073552424146, 0.02769969603948112, 0.18835793306847162, 0.024375732514743387, 0.046535489346328285, 0.06647927049475469, 0.27256500902849423, 0.08088311243528487, 0.019943781148426407, 0.158442261345832, 0.029083485806880534, 0.029083485806880534, 0.029083485806880534, 0.7270871451720133, 0.029083485806880534, 0.029083485806880534, 0.11633394322752214, 0.097997148662491, 0.05319845213106654, 0.20159413439141005, 0.0195994297324982, 0.06719804479713669, 0.08959739306284892, 0.10359698572891905, 0.05319845213106654, 0.0195994297324982, 0.296791364520687, 0.68374770609279, 0.07565816348337231, 0.03439007431062378, 0.05502411889699805, 0.05502411889699805, 0.048146104034873294, 0.10317022293187134, 0.3920468471411111, 0.048146104034873294, 0.03439007431062378, 0.15131632696674463, 0.7579821651852614, 0.867430164972985], \"Term\": [\"abide\", \"able\", \"able\", \"able\", \"able\", \"able\", \"able\", \"able\", \"able\", \"able\", \"able\", \"absolutes\", \"absorbed\", \"absorbs\", \"accomplishing\", \"accusations\", \"accusations\", \"accusations\", \"addionally\", \"advance\", \"afternoon\", \"albeit\", \"alliance\", \"alliance\", \"ambivalent\", \"ambos\", \"amigo\", \"amigo\", \"amigos\", \"amigos\", \"anxiety\", \"anxiety\", \"anxiety\", \"anxiety\", \"anxiety\", \"anxiety\", \"anxiety\", \"anxiety\", \"anxiety\", \"anxiety\", \"appealing\", \"appealing\", \"appealing\", \"aroused\", \"array\", \"ascii\", \"assign\", \"attentive\", \"attraction\", \"attraction\", \"attraction\", \"attraction\", \"attraction\", \"attraction\", \"attraction\", \"attraction\", \"attraction\", \"attractions\", \"attractive\", \"attractive\", \"attractive\", \"attractive\", \"attractive\", \"attractive\", \"attuned\", \"auditory\", \"authorities\", \"bare\", \"base\", \"base\", \"base\", \"base\", \"base\", \"base\", \"base\", \"base\", \"base\", \"beat\", \"behavioral\", \"behavioral\", \"behavioral\", \"behavioral\", \"behavioral\", \"behavioral\", \"behavioral\", \"behavioral\", \"behavioral\", \"behavioral\", \"benefiting\", \"benefitting\", \"best\", \"best\", \"best\", \"best\", \"best\", \"best\", \"best\", \"best\", \"best\", \"best\", \"better\", \"better\", \"better\", \"better\", \"better\", \"better\", \"better\", \"better\", \"better\", \"better\", \"bidi\", \"bipolar\", \"bipolar\", \"bipolar\", \"bipolar\", \"bipolar\", \"bipolar\", \"board\", \"board\", \"board\", \"board\", \"board\", \"boring\", \"bothersome\", \"boyfriend\", \"boyfriend\", \"boyfriend\", \"boyfriend\", \"boyfriend\", \"boyfriend\", \"boyfriend\", \"boyfriend\", \"boyfriend\", \"boyfriend\", \"brain\", \"brain\", \"brain\", \"brain\", \"brain\", \"brain\", \"brain\", \"brain\", \"brain\", \"brain\", \"bravo\", \"breakfast\", \"buddha\", \"bullies\", \"bullies\", \"bullies\", \"burns\", \"cambria\", \"care\", \"care\", \"care\", \"care\", \"care\", \"care\", \"care\", \"care\", \"care\", \"care\", \"cement\", \"challenged\", \"change\", \"change\", \"change\", \"change\", \"change\", \"change\", \"change\", \"change\", \"change\", \"change\", \"changes\", \"changes\", \"changes\", \"changes\", \"changes\", \"changes\", \"changes\", \"changes\", \"changes\", \"changes\", \"chapter\", \"chapter\", \"characteristics\", \"characteristics\", \"characteristics\", \"charset\", \"chicken\", \"child\", \"child\", \"child\", \"child\", \"child\", \"child\", \"child\", \"child\", \"child\", \"child\", \"clash\", \"click\", \"click\", \"client\", \"client\", \"client\", \"client\", \"client\", \"client\", \"client\", \"client\", \"client\", \"client\", \"clientes\", \"clientes\", \"clientes\", \"clientes\", \"clients\", \"clients\", \"clients\", \"clients\", \"clients\", \"clients\", \"clients\", \"clients\", \"clients\", \"clients\", \"clinician\", \"clinician\", \"clinician\", \"clinician\", \"clinician\", \"clinician\", \"closing\", \"closure\", \"closure\", \"closure\", \"closure\", \"clothes\", \"clothes\", \"coaching\", \"coaching\", \"coaching\", \"collaborative\", \"collaborative\", \"collaborative\", \"colleagues\", \"colleagues\", \"colleagues\", \"colleagues\", \"colleagues\", \"collective\", \"come\", \"come\", \"come\", \"come\", \"come\", \"come\", \"come\", \"come\", \"come\", \"come\", \"comfortable\", \"comfortable\", \"comfortable\", \"comfortable\", \"comfortable\", \"comfortable\", \"comfortable\", \"comfortable\", \"comfortable\", \"comfortable\", \"comfy\", \"communication\", \"communication\", \"communication\", \"communication\", \"communication\", \"communication\", \"communication\", \"communication\", \"communication\", \"communication\", \"communicator\", \"communicator\", \"como\", \"como\", \"como\", \"como\", \"como\", \"como\", \"como\", \"como\", \"como\", \"como\", \"compelled\", \"competence\", \"compliment\", \"comply\", \"components\", \"concentrate\", \"concentrate\", \"concentrate\", \"concentrate\", \"concentrate\", \"concentrate\", \"concentrate\", \"concentrate\", \"concentrate\", \"concentrate\", \"concentrating\", \"concentrating\", \"conditioned\", \"conduct\", \"conducted\", \"confidentiality\", \"confidentiality\", \"consejero\", \"consejero\", \"consejero\", \"consejero\", \"consejero\", \"consejero\", \"consejero\", \"consejero\", \"consejero\", \"consejer\\u00eda\", \"consejer\\u00eda\", \"consejer\\u00eda\", \"consejer\\u00eda\", \"consider\", \"consider\", \"consider\", \"consider\", \"consider\", \"consider\", \"consider\", \"consider\", \"consider\", \"consider\", \"consultation\", \"consultation\", \"consultation\", \"consultation\", \"consultation\", \"consultation\", \"consultation\", \"consultation\", \"consultation\", \"consultation\", \"consultations\", \"consultations\", \"continually\", \"continuum\", \"coping\", \"coping\", \"coping\", \"coping\", \"coping\", \"coping\", \"coping\", \"coping\", \"coping\", \"coping\", \"corrected\", \"couch\", \"couch\", \"counseling\", \"counseling\", \"counseling\", \"counseling\", \"counseling\", \"counseling\", \"counseling\", \"counseling\", \"counseling\", \"counseling\", \"counselor\", \"counselor\", \"counselor\", \"counselor\", \"counselor\", \"counselor\", \"counselor\", \"counselor\", \"counselor\", \"counselor\", \"counselors\", \"counselors\", \"counselors\", \"counselors\", \"counselors\", \"counselors\", \"counselors\", \"counselors\", \"counselors\", \"counselors\", \"courses\", \"coverage\", \"critic\", \"critic\", \"critic\", \"critic\", \"crossdressing\", \"crossing\", \"crossing\", \"crying\", \"crying\", \"crying\", \"crying\", \"crying\", \"crying\", \"crying\", \"crying\", \"crying\", \"crying\", \"cuando\", \"cuando\", \"cuando\", \"cuando\", \"cuando\", \"cuando\", \"cuando\", \"cuando\", \"cuando\", \"cusses\", \"darkest\", \"david\", \"decision\", \"decision\", \"decision\", \"decision\", \"decision\", \"decision\", \"decision\", \"decision\", \"decision\", \"decision\", \"deepening\", \"defending\", \"demonstrating\", \"demonstrating\", \"departure\", \"departure\", \"depleted\", \"describes\", \"describes\", \"deter\", \"determinar\", \"determinar\", \"devise\", \"dial\", \"dial\", \"different\", \"different\", \"different\", \"different\", \"different\", \"different\", \"different\", \"different\", \"different\", \"different\", \"digo\", \"directive\", \"directive\", \"directive\", \"directories\", \"directories\", \"directories\", \"discharge\", \"discharge\", \"discharge\", \"discouraged\", \"dissociation\", \"dissociation\", \"dissociation\", \"dissociation\", \"doctor\", \"doctor\", \"doctor\", \"doctor\", \"doctor\", \"doctor\", \"doctor\", \"doctor\", \"doctor\", \"doctor\", \"donde\", \"donde\", \"donde\", \"donde\", \"donde\", \"doubting\", \"dreams\", \"dreams\", \"dreams\", \"dreams\", \"dreams\", \"dreams\", \"dreams\", \"dreams\", \"dreams\", \"dual\", \"duty\", \"dwelling\", \"dwelling\", \"dysphoria\", \"dysphoria\", \"dysphoria\", \"earning\", \"earning\", \"eckhart\", \"educated\", \"emotional\", \"emotional\", \"emotional\", \"emotional\", \"emotional\", \"emotional\", \"emotional\", \"emotional\", \"emotional\", \"emotional\", \"emotions\", \"emotions\", \"emotions\", \"emotions\", \"emotions\", \"emotions\", \"emotions\", \"emotions\", \"emotions\", \"emotions\", \"empathizing\", \"empathy\", \"empathy\", \"empathy\", \"empathy\", \"empathy\", \"empathy\", \"empathy\", \"empathy\", \"empathy\", \"empathy\", \"ending\", \"ending\", \"ending\", \"ending\", \"ending\", \"ending\", \"ending\", \"ending\", \"ending\", \"ending\", \"engine\", \"enthusiastic\", \"entitled\", \"entitled\", \"entitled\", \"entitled\", \"entitled\", \"entitled\", \"epidemic\", \"epidemic\", \"eres\", \"esas\", \"esas\", \"esas\", \"esas\", \"espacio\", \"establishment\", \"establishment\", \"ethical\", \"ethical\", \"ethical\", \"ethical\", \"ethical\", \"ethical\", \"evaluations\", \"evoke\", \"evolution\", \"evolve\", \"evolve\", \"evolving\", \"evolving\", \"examine\", \"examine\", \"examine\", \"examine\", \"examine\", \"examine\", \"examine\", \"examine\", \"examine\", \"examine\", \"exhibit\", \"exhibit\", \"experience\", \"experience\", \"experience\", \"experience\", \"experience\", \"experience\", \"experience\", \"experience\", \"experience\", \"experience\", \"explanatory\", \"expressions\", \"extremes\", \"family\", \"family\", \"family\", \"family\", \"family\", \"family\", \"family\", \"family\", \"family\", \"family\", \"fareast\", \"favors\", \"feed\", \"feed\", \"feed\", \"feed\", \"feed\", \"feel\", \"feel\", \"feel\", \"feel\", \"feel\", \"feel\", \"feel\", \"feel\", \"feel\", \"feel\", \"feeling\", \"feeling\", \"feeling\", \"feeling\", \"feeling\", \"feeling\", \"feeling\", \"feeling\", \"feeling\", \"feeling\", \"feelings\", \"feelings\", \"feelings\", \"feelings\", \"feelings\", \"feelings\", \"feelings\", \"feelings\", \"feelings\", \"feelings\", \"feels\", \"feels\", \"feels\", \"feels\", \"feels\", \"feels\", \"feels\", \"feels\", \"feels\", \"feels\", \"filing\", \"finance\", \"findings\", \"findings\", \"findings\", \"fish\", \"fishbowl\", \"fitting\", \"fitting\", \"fixing\", \"fixing\", \"fixing\", \"fixing\", \"fluid\", \"fluid\", \"font\", \"font\", \"font\", \"forth\", \"forth\", \"friend\", \"friend\", \"friend\", \"friend\", \"friend\", \"friend\", \"friend\", \"friend\", \"friend\", \"friend\", \"friendship\", \"friendship\", \"friendship\", \"friendship\", \"friendship\", \"friendship\", \"friendship\", \"friendship\", \"friendship\", \"fruitful\", \"fulfillment\", \"fulfillment\", \"fulfillment\", \"fulfillment\", \"fulfillment\", \"funds\", \"gender\", \"gender\", \"gender\", \"gender\", \"gender\", \"gender\", \"gender\", \"generic\", \"gift\", \"gift\", \"gift\", \"gift\", \"gift\", \"goals\", \"goals\", \"goals\", \"goals\", \"goals\", \"goals\", \"goals\", \"goals\", \"goals\", \"goals\", \"going\", \"going\", \"going\", \"going\", \"going\", \"going\", \"going\", \"going\", \"going\", \"going\", \"good\", \"good\", \"good\", \"good\", \"good\", \"good\", \"good\", \"good\", \"good\", \"good\", \"goodbye\", \"goodbye\", \"gottman\", \"gottman\", \"gottman\", \"guides\", \"habla\", \"hansen\", \"hansi\", \"happier\", \"happier\", \"happier\", \"happier\", \"happier\", \"happily\", \"hates\", \"hates\", \"having\", \"having\", \"having\", \"having\", \"having\", \"having\", \"having\", \"having\", \"having\", \"having\", \"health\", \"health\", \"health\", \"health\", \"health\", \"health\", \"health\", \"health\", \"health\", \"health\", \"heartbroken\", \"heels\", \"help\", \"help\", \"help\", \"help\", \"help\", \"help\", \"help\", \"help\", \"help\", \"help\", \"helpful\", \"helpful\", \"helpful\", \"helpful\", \"helpful\", \"helpful\", \"helpful\", \"helpful\", \"helpful\", \"helpful\", \"helpguide\", \"helps\", \"helps\", \"helps\", \"helps\", \"helps\", \"helps\", \"helps\", \"helps\", \"helps\", \"helps\", \"herramientas\", \"hesitating\", \"highs\", \"hiring\", \"hope\", \"hope\", \"hope\", \"hope\", \"hope\", \"hope\", \"hope\", \"hope\", \"hope\", \"hope\", \"hospitalization\", \"house\", \"house\", \"house\", \"house\", \"house\", \"house\", \"house\", \"house\", \"house\", \"house\", \"identifies\", \"imagined\", \"imagined\", \"imagined\", \"imagined\", \"imagined\", \"imago\", \"imminent\", \"important\", \"important\", \"important\", \"important\", \"important\", \"important\", \"important\", \"important\", \"important\", \"important\", \"impress\", \"ineffective\", \"inexpensive\", \"informational\", \"inhabit\", \"innate\", \"innocent\", \"insecure\", \"insecure\", \"insecure\", \"insecure\", \"insecure\", \"insecure\", \"insecure\", \"insecure\", \"insecure\", \"insurances\", \"insurances\", \"intensely\", \"intensely\", \"intensely\", \"interview\", \"inter\\u00e9s\", \"introduced\", \"intuition\", \"intuition\", \"intuition\", \"intuition\", \"intuition\", \"intuition\", \"intuition\", \"intuitive\", \"intuitive\", \"intuitive\", \"involvements\", \"irritated\", \"issue\", \"issue\", \"issue\", \"issue\", \"issue\", \"issue\", \"issue\", \"issue\", \"issue\", \"issue\", \"issues\", \"issues\", \"issues\", \"issues\", \"issues\", \"issues\", \"issues\", \"issues\", \"issues\", \"issues\", \"jail\", \"jail\", \"jarring\", \"jeopardize\", \"jokes\", \"judged\", \"judged\", \"judged\", \"judged\", \"judged\", \"judged\", \"judged\", \"judged\", \"judged\", \"judged\", \"junk\", \"kansas\", \"keen\", \"kind\", \"kind\", \"kind\", \"kind\", \"kind\", \"kind\", \"kind\", \"kind\", \"kind\", \"kind\", \"kissing\", \"know\", \"know\", \"know\", \"know\", \"know\", \"know\", \"know\", \"know\", \"know\", \"know\", \"knowing\", \"knowing\", \"knowing\", \"knowing\", \"knowing\", \"knowing\", \"knowing\", \"knowing\", \"knowing\", \"knowing\", \"latin\", \"laugh\", \"laughing\", \"laughter\", \"laughter\", \"laziness\", \"learn\", \"learn\", \"learn\", \"learn\", \"learn\", \"learn\", \"learn\", \"learn\", \"learn\", \"learn\", \"legged\", \"lessons\", \"lessons\", \"lessons\", \"lessons\", \"lgbtq\", \"lgbtq\", \"lgbtq\", \"lgbtq\", \"lgbtq\", \"lgbtq\", \"life\", \"life\", \"life\", \"life\", \"life\", \"life\", \"life\", \"life\", \"life\", \"life\", \"lightly\", \"lightly\", \"like\", \"like\", \"like\", \"like\", \"like\", \"like\", \"like\", \"like\", \"like\", \"like\", \"listens\", \"listens\", \"listens\", \"listing\", \"listings\", \"loaded\", \"looking\", \"looking\", \"looking\", \"looking\", \"looking\", \"looking\", \"looking\", \"looking\", \"looking\", \"looking\", \"love\", \"love\", \"love\", \"love\", \"love\", \"love\", \"love\", \"love\", \"love\", \"love\", \"lowest\", \"lows\", \"luck\", \"luck\", \"luck\", \"luck\", \"luck\", \"luck\", \"luck\", \"luck\", \"luck\", \"luck\", \"mail\", \"manifestations\", \"mantras\", \"margin\", \"marks\", \"masculine\", \"massages\", \"massages\", \"masters\", \"material\", \"maybe\", \"maybe\", \"maybe\", \"maybe\", \"maybe\", \"maybe\", \"maybe\", \"maybe\", \"maybe\", \"maybe\", \"mean\", \"mean\", \"mean\", \"mean\", \"mean\", \"mean\", \"mean\", \"mean\", \"mean\", \"mean\", \"meet\", \"meet\", \"meet\", \"meet\", \"meet\", \"meet\", \"meet\", \"meet\", \"meet\", \"meet\", \"meetings\", \"meetings\", \"meetings\", \"meetings\", \"meetings\", \"meetings\", \"merely\", \"merely\", \"merely\", \"mesh\", \"mesh\", \"messy\", \"military\", \"military\", \"military\", \"military\", \"military\", \"military\", \"military\", \"military\", \"minor\", \"minor\", \"minor\", \"minor\", \"minor\", \"misses\", \"misses\", \"modifications\", \"moment\", \"moment\", \"moment\", \"moment\", \"moment\", \"moment\", \"moment\", \"moment\", \"moment\", \"moment\", \"monthly\", \"monthly\", \"monthly\", \"motivations\", \"motivations\", \"motivations\", \"motivations\", \"motivations\", \"moved\", \"moved\", \"msochpdefault\", \"msonormal\", \"narcissistic\", \"need\", \"need\", \"need\", \"need\", \"need\", \"need\", \"need\", \"need\", \"need\", \"need\", \"needs\", \"needs\", \"needs\", \"needs\", \"needs\", \"needs\", \"needs\", \"needs\", \"needs\", \"needs\", \"needy\", \"negative\", \"negative\", \"negative\", \"negative\", \"negative\", \"negative\", \"negative\", \"negative\", \"negative\", \"negative\", \"nerve\", \"neutralize\", \"nicotine\", \"nicotine\", \"normal\", \"normal\", \"normal\", \"normal\", \"normal\", \"normal\", \"normal\", \"normal\", \"normal\", \"normal\", \"normalizar\", \"normalizing\", \"numbing\", \"objectives\", \"objectives\", \"objectives\", \"obligated\", \"obligation\", \"obligation\", \"obtainable\", \"oneself\", \"oneself\", \"oneself\", \"oneself\", \"oneself\", \"onion\", \"orientation\", \"orientation\", \"orientation\", \"orientation\", \"orientation\", \"orientation\", \"orientations\", \"orientations\", \"orientations\", \"oriented\", \"oriented\", \"otras\", \"otras\", \"otras\", \"otras\", \"otras\", \"ouch\", \"outlines\", \"oxygen\", \"panose\", \"para\", \"para\", \"para\", \"para\", \"para\", \"para\", \"para\", \"para\", \"para\", \"para\", \"paradox\", \"paramount\", \"paramount\", \"parent\", \"parent\", \"parent\", \"parent\", \"parent\", \"parent\", \"parent\", \"parent\", \"parent\", \"parent\", \"partes\", \"participation\", \"particulate\", \"partner\", \"partner\", \"partner\", \"partner\", \"partner\", \"partner\", \"partner\", \"partner\", \"partner\", \"partner\", \"pausing\", \"payment\", \"people\", \"people\", \"people\", \"people\", \"people\", \"people\", \"people\", \"people\", \"people\", \"people\", \"perceiving\", \"perseverance\", \"person\", \"person\", \"person\", \"person\", \"person\", \"person\", \"person\", \"person\", \"person\", \"person\", \"personalities\", \"personalities\", \"personality\", \"personality\", \"personality\", \"personality\", \"personality\", \"personality\", \"personality\", \"personality\", \"personas\", \"personas\", \"personas\", \"personas\", \"personas\", \"personas\", \"personas\", \"personas\", \"physicality\", \"pitch\", \"place\", \"place\", \"place\", \"place\", \"place\", \"place\", \"place\", \"place\", \"place\", \"place\", \"police\", \"police\", \"police\", \"policy\", \"policy\", \"policy\", \"policy\", \"polyamorous\", \"polyamorous\", \"polyamory\", \"polyamory\", \"population\", \"population\", \"positive\", \"positive\", \"positive\", \"positive\", \"positive\", \"positive\", \"positive\", \"positive\", \"positive\", \"positive\", \"positivity\", \"possible\", \"possible\", \"possible\", \"possible\", \"possible\", \"possible\", \"possible\", \"possible\", \"possible\", \"possible\", \"posts\", \"powerlessness\", \"powerlessness\", \"precisely\", \"preferred\", \"preocupaciones\", \"preocupaciones\", \"preocupaciones\", \"preocupaciones\", \"problem\", \"problem\", \"problem\", \"problem\", \"problem\", \"problem\", \"problem\", \"problem\", \"problem\", \"problem\", \"problems\", \"problems\", \"problems\", \"problems\", \"problems\", \"problems\", \"problems\", \"problems\", \"problems\", \"problems\", \"process\", \"process\", \"process\", \"process\", \"process\", \"process\", \"process\", \"process\", \"process\", \"process\", \"profiles\", \"property\", \"prospective\", \"prospective\", \"proveer\", \"proveer\", \"psyche\", \"psyche\", \"psychotic\", \"published\", \"purging\", \"qualifies\", \"qualities\", \"qualities\", \"qualities\", \"qualities\", \"qualities\", \"qualities\", \"qualities\", \"qualities\", \"qualities\", \"qualities\", \"question\", \"question\", \"question\", \"question\", \"question\", \"question\", \"question\", \"question\", \"question\", \"question\", \"questions\", \"questions\", \"questions\", \"questions\", \"questions\", \"questions\", \"questions\", \"questions\", \"questions\", \"questions\", \"quien\", \"quien\", \"quien\", \"reactive\", \"readily\", \"readily\", \"realizations\", \"reason\", \"reason\", \"reason\", \"reason\", \"reason\", \"reason\", \"reason\", \"reason\", \"reason\", \"reason\", \"recognition\", \"recommending\", \"reduction\", \"reduction\", \"reduction\", \"reduction\", \"referred\", \"refine\", \"reflective\", \"reflective\", \"regulatory\", \"relaciones\", \"relaciones\", \"relaciones\", \"relaciones\", \"relaciones\", \"relaciones\", \"relationship\", \"relationship\", \"relationship\", \"relationship\", \"relationship\", \"relationship\", \"relationship\", \"relationship\", \"relationship\", \"relationship\", \"relationships\", \"relationships\", \"relationships\", \"relationships\", \"relationships\", \"relationships\", \"relationships\", \"relationships\", \"relationships\", \"relationships\", \"release\", \"release\", \"release\", \"release\", \"release\", \"release\", \"release\", \"release\", \"release\", \"release\", \"replace\", \"replace\", \"replace\", \"replace\", \"replace\", \"replace\", \"replace\", \"replace\", \"replace\", \"representation\", \"requiring\", \"reside\", \"reside\", \"resist\", \"retreat\", \"retreat\", \"retreat\", \"revise\", \"rewrite\", \"rewrite\", \"rewrite\", \"rewrite\", \"rick\", \"right\", \"right\", \"right\", \"right\", \"right\", \"right\", \"right\", \"right\", \"right\", \"right\", \"roads\", \"roman\", \"sacrificing\", \"safe\", \"safe\", \"safe\", \"safe\", \"safe\", \"safe\", \"safe\", \"safe\", \"safe\", \"safe\", \"scan\", \"scarier\", \"scary\", \"scary\", \"scary\", \"scary\", \"scary\", \"scary\", \"scary\", \"scary\", \"scary\", \"scary\", \"schemas\", \"school\", \"school\", \"school\", \"school\", \"school\", \"school\", \"school\", \"school\", \"school\", \"school\", \"scientific\", \"search\", \"search\", \"search\", \"search\", \"search\", \"search\", \"search\", \"search\", \"search\", \"search\", \"seemingly\", \"self\", \"self\", \"self\", \"self\", \"self\", \"self\", \"self\", \"self\", \"self\", \"self\", \"sensations\", \"sensations\", \"sensations\", \"sensations\", \"sensations\", \"sentimientos\", \"sentimientos\", \"sentimientos\", \"sentimientos\", \"sentimientos\", \"sentimientos\", \"sentimientos\", \"sentimientos\", \"sentimientos\", \"sessions\", \"sessions\", \"sessions\", \"sessions\", \"sessions\", \"sessions\", \"sessions\", \"sessions\", \"sessions\", \"sessions\", \"sexual\", \"sexual\", \"sexual\", \"sexual\", \"sexual\", \"sexual\", \"sexual\", \"sexual\", \"sexual\", \"sexual\", \"sherry\", \"sherry\", \"sherry\", \"sherry\", \"sienta\", \"sienta\", \"signature\", \"sites\", \"sites\", \"sites\", \"sites\", \"sites\", \"situation\", \"situation\", \"situation\", \"situation\", \"situation\", \"situation\", \"situation\", \"situation\", \"situation\", \"situation\", \"slightly\", \"slot\", \"sneaking\", \"social\", \"social\", \"social\", \"social\", \"social\", \"social\", \"social\", \"social\", \"social\", \"social\", \"solely\", \"solely\", \"sorting\", \"sorting\", \"sought\", \"sought\", \"sounds\", \"sounds\", \"sounds\", \"sounds\", \"sounds\", \"sounds\", \"sounds\", \"sounds\", \"sounds\", \"sounds\", \"spans\", \"spans\", \"specialize\", \"specialize\", \"specialize\", \"specialize\", \"specialize\", \"specialize\", \"specialized\", \"start\", \"start\", \"start\", \"start\", \"start\", \"start\", \"start\", \"start\", \"start\", \"start\", \"stating\", \"stating\", \"stating\", \"stating\", \"stating\", \"stating\", \"stating\", \"stayed\", \"steam\", \"step\", \"step\", \"step\", \"step\", \"step\", \"step\", \"step\", \"step\", \"step\", \"step\", \"stigmatized\", \"stir\", \"stir\", \"stolen\", \"stops\", \"stops\", \"stops\", \"stops\", \"stored\", \"stream\", \"stream\", \"stream\", \"streams\", \"stress\", \"stress\", \"stress\", \"stress\", \"stress\", \"stress\", \"stress\", \"stress\", \"stress\", \"stress\", \"style\", \"style\", \"style\", \"style\", \"style\", \"style\", \"style\", \"style\", \"styles\", \"styles\", \"suits\", \"supply\", \"support\", \"support\", \"support\", \"support\", \"support\", \"support\", \"support\", \"support\", \"support\", \"support\", \"surprises\", \"swimming\", \"symptoms\", \"symptoms\", \"symptoms\", \"symptoms\", \"symptoms\", \"symptoms\", \"symptoms\", \"symptoms\", \"symptoms\", \"symptoms\", \"talk\", \"talk\", \"talk\", \"talk\", \"talk\", \"talk\", \"talk\", \"talk\", \"talk\", \"talk\", \"talking\", \"talking\", \"talking\", \"talking\", \"talking\", \"talking\", \"talking\", \"talking\", \"talking\", \"talking\", \"tank\", \"tears\", \"tears\", \"tears\", \"tears\", \"tears\", \"tears\", \"teflon\", \"tell\", \"tell\", \"tell\", \"tell\", \"tell\", \"tell\", \"tell\", \"tell\", \"tell\", \"tell\", \"terapia\", \"terapia\", \"terapia\", \"terapia\", \"terapia\", \"terapia\", \"terapia\", \"terapia\", \"terapia\", \"termination\", \"termination\", \"tests\", \"tests\", \"tests\", \"tests\", \"thankfully\", \"theme\", \"theme\", \"theme\", \"theme\", \"theoretical\", \"theoretical\", \"theoretically\", \"theorized\", \"therapeutic\", \"therapeutic\", \"therapeutic\", \"therapeutic\", \"therapeutic\", \"therapeutic\", \"therapeutic\", \"therapeutic\", \"therapeutic\", \"therapist\", \"therapist\", \"therapist\", \"therapist\", \"therapist\", \"therapist\", \"therapist\", \"therapist\", \"therapist\", \"therapist\", \"therapists\", \"therapists\", \"therapists\", \"therapists\", \"therapists\", \"therapists\", \"therapists\", \"therapists\", \"therapists\", \"therapists\", \"therapy\", \"therapy\", \"therapy\", \"therapy\", \"therapy\", \"therapy\", \"therapy\", \"therapy\", \"therapy\", \"therapy\", \"things\", \"things\", \"things\", \"things\", \"things\", \"things\", \"things\", \"things\", \"things\", \"things\", \"think\", \"think\", \"think\", \"think\", \"think\", \"think\", \"think\", \"think\", \"think\", \"think\", \"thinking\", \"thinking\", \"thinking\", \"thinking\", \"thinking\", \"thinking\", \"thinking\", \"thinking\", \"thinking\", \"thinking\", \"thought\", \"thought\", \"thought\", \"thought\", \"thought\", \"thought\", \"thought\", \"thought\", \"thought\", \"thought\", \"thoughts\", \"thoughts\", \"thoughts\", \"thoughts\", \"thoughts\", \"thoughts\", \"thoughts\", \"thoughts\", \"thoughts\", \"thoughts\", \"time\", \"time\", \"time\", \"time\", \"time\", \"time\", \"time\", \"time\", \"time\", \"time\", \"timeout\", \"timeout\", \"tissue\", \"tissue\", \"tissues\", \"tissues\", \"tolle\", \"tornado\", \"toxins\", \"train\", \"train\", \"train\", \"train\", \"train\", \"train\", \"train\", \"train\", \"transformative\", \"transgender\", \"transgender\", \"transgender\", \"transgender\", \"transgender\", \"transgender\", \"treatment\", \"treatment\", \"treatment\", \"treatment\", \"treatment\", \"treatment\", \"treatment\", \"treatment\", \"treatment\", \"treatment\", \"troubles\", \"troubles\", \"troublesome\", \"troubling\", \"troubling\", \"troubling\", \"troubling\", \"troubling\", \"trough\", \"trough\", \"trough\", \"trough\", \"trough\", \"trough\", \"trust\", \"trust\", \"trust\", \"trust\", \"trust\", \"trust\", \"trust\", \"trust\", \"trust\", \"trust\", \"twist\", \"unbiased\", \"unbiased\", \"understand\", \"understand\", \"understand\", \"understand\", \"understand\", \"understand\", \"understand\", \"understand\", \"understand\", \"understand\", \"unit\", \"unsettling\", \"variable\", \"variations\", \"variations\", \"velcro\", \"viewpoints\", \"virtual\", \"voces\", \"voces\", \"voicemail\", \"voices\", \"voices\", \"voices\", \"voices\", \"voices\", \"volume\", \"volume\", \"voluntary\", \"want\", \"want\", \"want\", \"want\", \"want\", \"want\", \"want\", \"want\", \"want\", \"want\", \"ways\", \"ways\", \"ways\", \"ways\", \"ways\", \"ways\", \"ways\", \"ways\", \"ways\", \"ways\", \"weeping\", \"weigh\", \"weigh\", \"weights\", \"wider\", \"wordsection\", \"work\", \"work\", \"work\", \"work\", \"work\", \"work\", \"work\", \"work\", \"work\", \"work\", \"worker\", \"worker\", \"worker\", \"worker\", \"worker\", \"worker\", \"worker\", \"working\", \"working\", \"working\", \"working\", \"working\", \"working\", \"working\", \"working\", \"working\", \"working\", \"workplaces\", \"worth\", \"worth\", \"worth\", \"worth\", \"worth\", \"worth\", \"worth\", \"worth\", \"worth\", \"worth\", \"wracking\", \"youngest\"]}, \"R\": 30, \"lambda.step\": 0.01, \"plot.opts\": {\"xlab\": \"PC1\", \"ylab\": \"PC2\"}, \"topic.order\": [1, 2, 3, 4, 5, 6, 7, 8, 9, 10]};\n",
              "\n",
              "function LDAvis_load_lib(url, callback){\n",
              "  var s = document.createElement('script');\n",
              "  s.src = url;\n",
              "  s.async = true;\n",
              "  s.onreadystatechange = s.onload = callback;\n",
              "  s.onerror = function(){console.warn(\"failed to load library \" + url);};\n",
              "  document.getElementsByTagName(\"head\")[0].appendChild(s);\n",
              "}\n",
              "\n",
              "if(typeof(LDAvis) !== \"undefined\"){\n",
              "   // already loaded: just create the visualization\n",
              "   !function(LDAvis){\n",
              "       new LDAvis(\"#\" + \"ldavis_el3101323466415048964231688402\", ldavis_el3101323466415048964231688402_data);\n",
              "   }(LDAvis);\n",
              "}else if(typeof define === \"function\" && define.amd){\n",
              "   // require.js is available: use it to load d3/LDAvis\n",
              "   require.config({paths: {d3: \"https://d3js.org/d3.v5\"}});\n",
              "   require([\"d3\"], function(d3){\n",
              "      window.d3 = d3;\n",
              "      LDAvis_load_lib(\"https://cdn.jsdelivr.net/gh/bmabey/pyLDAvis@3.4.0/pyLDAvis/js/ldavis.v3.0.0.js\", function(){\n",
              "        new LDAvis(\"#\" + \"ldavis_el3101323466415048964231688402\", ldavis_el3101323466415048964231688402_data);\n",
              "      });\n",
              "    });\n",
              "}else{\n",
              "    // require.js not available: dynamically load d3 & LDAvis\n",
              "    LDAvis_load_lib(\"https://d3js.org/d3.v5.js\", function(){\n",
              "         LDAvis_load_lib(\"https://cdn.jsdelivr.net/gh/bmabey/pyLDAvis@3.4.0/pyLDAvis/js/ldavis.v3.0.0.js\", function(){\n",
              "                 new LDAvis(\"#\" + \"ldavis_el3101323466415048964231688402\", ldavis_el3101323466415048964231688402_data);\n",
              "            })\n",
              "         });\n",
              "}\n",
              "</script>"
            ]
          },
          "metadata": {},
          "execution_count": 125
        }
      ]
    },
    {
      "cell_type": "code",
      "source": [
        "from gensim.models import CoherenceModel\n",
        "coherence_model_lda=CoherenceModel(model=lda_model3,texts=preprocessed_textG,dictionary=dictionary3,coherence='c_v')\n",
        "\n",
        "coherence_lda=coherence_model_lda.get_coherence()\n",
        "print('Coherence Score: ',coherence_lda)"
      ],
      "metadata": {
        "colab": {
          "base_uri": "https://localhost:8080/"
        },
        "id": "qcK_ZEZVUe1b",
        "outputId": "929cebb8-630b-4a90-b029-a422f50c21a6"
      },
      "execution_count": null,
      "outputs": [
        {
          "output_type": "stream",
          "name": "stderr",
          "text": [
            "/usr/local/lib/python3.10/dist-packages/ipykernel/ipkernel.py:283: DeprecationWarning: `should_run_async` will not call `transform_cell` automatically in the future. Please pass the result to `transformed_cell` argument and any exception that happen during thetransform in `preprocessing_exc_tuple` in IPython 7.17 and above.\n",
            "  and should_run_async(code)\n"
          ]
        },
        {
          "output_type": "stream",
          "name": "stdout",
          "text": [
            "Coherence Score:  0.49110756808548484\n"
          ]
        }
      ]
    },
    {
      "cell_type": "code",
      "source": [
        "print(\"Perplexity: \",lda_model3.log_perplexity(corpus3))"
      ],
      "metadata": {
        "colab": {
          "base_uri": "https://localhost:8080/"
        },
        "id": "FxgLp2J0VHsI",
        "outputId": "bf6fde66-a43b-4452-fe99-c781a69969e3"
      },
      "execution_count": null,
      "outputs": [
        {
          "output_type": "stream",
          "name": "stderr",
          "text": [
            "/usr/local/lib/python3.10/dist-packages/ipykernel/ipkernel.py:283: DeprecationWarning: `should_run_async` will not call `transform_cell` automatically in the future. Please pass the result to `transformed_cell` argument and any exception that happen during thetransform in `preprocessing_exc_tuple` in IPython 7.17 and above.\n",
            "  and should_run_async(code)\n"
          ]
        },
        {
          "output_type": "stream",
          "name": "stdout",
          "text": [
            "Perplexity:  -8.000740314261817\n"
          ]
        }
      ]
    },
    {
      "cell_type": "markdown",
      "source": [
        "#LSA with Genism"
      ],
      "metadata": {
        "id": "w1nkMS_txKZA"
      }
    },
    {
      "cell_type": "code",
      "source": [
        "from sklearn.decomposition import TruncatedSVD\n",
        "\n",
        "# Combine preprocessed tokens back into text\n",
        "final_text32 = [' '.join(tokens) for tokens in preprocessed_textG]\n",
        "\n",
        "# TF-IDF Vectorization\n",
        "vectorizerLSA3 = TfidfVectorizer(max_df=0.95, min_df=2, stop_words='english')\n",
        "tf_idf_matrix32 = vectorizerLSA3.fit_transform(final_text32)\n",
        "\n",
        "# Dimensionality reduction using SVD (similar to LSA)\n",
        "n_components = 10  # Adjust the number of dimensions (topics)\n",
        "svd3 = TruncatedSVD(n_components=n_components)\n",
        "lsa_matrix3 = svd3.fit_transform(tf_idf_matrix32)\n",
        "\n",
        "def display_lsa_components(model, vectorizer, no_top_words):\n",
        "    vocabulary = vectorizer.vocabulary_\n",
        "    for comp_idx, component in enumerate(model.components_):\n",
        "        print(f\"Component {comp_idx}:\")\n",
        "        top_words_indices = component.argsort()[:-no_top_words - 1:-1]  # Indices of top words\n",
        "        top_words = [list(vocabulary.keys())[i] for i in top_words_indices]  # Get words from indices\n",
        "        print(\" \".join(top_words))\n",
        "\n",
        "display_lsa_components(svd3, vectorizerLSA3, 10)"
      ],
      "metadata": {
        "colab": {
          "base_uri": "https://localhost:8080/"
        },
        "id": "7TYhPRc4xIhU",
        "outputId": "536fee34-f1d9-4b21-d5f3-8aed5b6c2674"
      },
      "execution_count": null,
      "outputs": [
        {
          "output_type": "stream",
          "name": "stdout",
          "text": [
            "Component 0:\n",
            "gentle intensive nuestros reinforced doctors standing emphasize specializing immediately mindedness\n",
            "Component 1:\n",
            "intensive specializing vulnerabilities maintaining palms brings yell disrespectful damaged explanatory\n",
            "Component 2:\n",
            "reinforced intensive vulnerabilities transparent encounter gentle reminder explanatory apply frightening\n",
            "Component 3:\n",
            "maintaining specializing measuring warning spikes mercy standing gentle therapist ease\n",
            "Component 4:\n",
            "brings palms reinforced stds dysphoria specializing vulnerabilities nuestros looking convenient\n",
            "Component 5:\n",
            "physical reinforced encounter fish apply transparent intensive developed hold obviously\n",
            "Component 6:\n",
            "stages physical reverse specializing accustomed reinforced maintaining stomach anxious temptations\n",
            "Component 7:\n",
            "vulnerabilities dysphoria physical standing brings finish wave disrespectful darkness gentle\n",
            "Component 8:\n",
            "fish stages forge intensive reverse brothers anxious hospitals stomach reinforced\n",
            "Component 9:\n",
            "sensitivity gentle standing frightening forge palms stds optimal cranky transparent\n"
          ]
        }
      ]
    },
    {
      "cell_type": "code",
      "source": [
        "import tmtoolkit\n",
        "\n",
        "vocaby = np.array(vectorizerLSA3.get_feature_names_out())\n",
        "\n",
        "coherence32 = tmtoolkit.topicmod.evaluate.metric_coherence_gensim(measure='c_v',\n",
        "                        top_n=10,\n",
        "                        topic_word_distrib=svd3.components_,\n",
        "                        dtm=tf_idf_matrix32,\n",
        "                        vocab=vocaby,\n",
        "                        texts=preprocessed_textG, return_mean=True)\n",
        "print(coherence32)"
      ],
      "metadata": {
        "colab": {
          "base_uri": "https://localhost:8080/"
        },
        "id": "Uw92EHpegPnE",
        "outputId": "bf7922dd-fcf7-446c-b162-18eed382b290"
      },
      "execution_count": null,
      "outputs": [
        {
          "output_type": "stream",
          "name": "stdout",
          "text": [
            "0.4716342746351467\n"
          ]
        }
      ]
    },
    {
      "cell_type": "markdown",
      "source": [
        "#HDP on Genism :"
      ],
      "metadata": {
        "id": "Cvgoi7aT49_U"
      }
    },
    {
      "cell_type": "code",
      "source": [
        "from gensim.models import HdpModel\n",
        "from gensim.corpora import Dictionary\n",
        "\n",
        "\n",
        "\n",
        "# Apply HDP\n",
        "hdp_model3 = HdpModel(corpus3, id2word=dictionary3)\n",
        "\n",
        "\n",
        "topic_info = hdp_model3.print_topics(num_topics=10, num_words=10)\n",
        "display(topic_info)\n"
      ],
      "metadata": {
        "colab": {
          "base_uri": "https://localhost:8080/",
          "height": 714
        },
        "id": "RdrQ-R9B48oB",
        "outputId": "ad043d72-e180-4779-88b0-3b9b7378e045"
      },
      "execution_count": null,
      "outputs": [
        {
          "output_type": "stream",
          "name": "stderr",
          "text": [
            "/usr/local/lib/python3.10/dist-packages/ipykernel/ipkernel.py:283: DeprecationWarning: `should_run_async` will not call `transform_cell` automatically in the future. Please pass the result to `transformed_cell` argument and any exception that happen during thetransform in `preprocessing_exc_tuple` in IPython 7.17 and above.\n",
            "  and should_run_async(code)\n",
            "WARNING:gensim.models.hdpmodel:likelihood is decreasing!\n",
            "WARNING:gensim.models.hdpmodel:likelihood is decreasing!\n",
            "WARNING:gensim.models.hdpmodel:likelihood is decreasing!\n",
            "WARNING:gensim.models.hdpmodel:likelihood is decreasing!\n",
            "WARNING:gensim.models.hdpmodel:likelihood is decreasing!\n",
            "WARNING:gensim.models.hdpmodel:likelihood is decreasing!\n",
            "WARNING:gensim.models.hdpmodel:likelihood is decreasing!\n",
            "WARNING:gensim.models.hdpmodel:likelihood is decreasing!\n",
            "WARNING:gensim.models.hdpmodel:likelihood is decreasing!\n",
            "WARNING:gensim.models.hdpmodel:likelihood is decreasing!\n",
            "WARNING:gensim.models.hdpmodel:likelihood is decreasing!\n",
            "WARNING:gensim.models.hdpmodel:likelihood is decreasing!\n",
            "WARNING:gensim.models.hdpmodel:likelihood is decreasing!\n",
            "WARNING:gensim.models.hdpmodel:likelihood is decreasing!\n",
            "WARNING:gensim.models.hdpmodel:likelihood is decreasing!\n",
            "WARNING:gensim.models.hdpmodel:likelihood is decreasing!\n",
            "WARNING:gensim.models.hdpmodel:likelihood is decreasing!\n"
          ]
        },
        {
          "output_type": "display_data",
          "data": {
            "text/plain": [
              "[(0,\n",
              "  '0.012*feel + 0.010*therapist + 0.010*like + 0.009*help + 0.008*relationship + 0.007*time + 0.007*know + 0.007*people + 0.007*want + 0.006*good'),\n",
              " (1,\n",
              "  '0.009*feel + 0.007*therapist + 0.007*help + 0.007*like + 0.006*time + 0.006*relationship + 0.006*good + 0.005*know + 0.005*people + 0.004*life'),\n",
              " (2,\n",
              "  '0.007*relationship + 0.007*feel + 0.006*like + 0.005*people + 0.005*know + 0.004*therapist + 0.004*want + 0.004*help + 0.004*good + 0.004*time'),\n",
              " (3,\n",
              "  '0.005*help + 0.005*therapist + 0.004*feel + 0.004*like + 0.004*people + 0.003*relationship + 0.003*time + 0.003*good + 0.003*know + 0.003*life'),\n",
              " (4,\n",
              "  '0.006*feel + 0.005*help + 0.005*like + 0.004*time + 0.004*things + 0.003*anxiety + 0.003*therapist + 0.003*life + 0.003*relationship + 0.003*people'),\n",
              " (5,\n",
              "  '0.004*anxiety + 0.004*feel + 0.003*like + 0.003*help + 0.003*thoughts + 0.003*things + 0.002*people + 0.002*know + 0.002*therapy + 0.002*want'),\n",
              " (6,\n",
              "  '0.003*time + 0.003*feel + 0.003*people + 0.003*like + 0.002*want + 0.002*relationship + 0.002*person + 0.002*child + 0.002*help + 0.002*self'),\n",
              " (7,\n",
              "  '0.002*help + 0.002*time + 0.002*feel + 0.002*therapy + 0.002*good + 0.002*people + 0.001*life + 0.001*anxiety + 0.001*know + 0.001*right'),\n",
              " (8,\n",
              "  '0.002*time + 0.001*anxiety + 0.001*help + 0.001*para + 0.001*feeling + 0.001*therapy + 0.001*life + 0.001*symptoms + 0.001*learn + 0.001*best'),\n",
              " (9,\n",
              "  '0.002*help + 0.002*feel + 0.002*work + 0.001*depression + 0.001*like + 0.001*therapist + 0.001*life + 0.001*thinking + 0.001*sleep + 0.001*best')]"
            ]
          },
          "metadata": {}
        }
      ]
    },
    {
      "cell_type": "code",
      "source": [
        "from gensim.models import CoherenceModel\n",
        "coherenceHDP3 =CoherenceModel(model=hdp_model3,texts=preprocessed_textG,dictionary=dictionary3,coherence='c_v')\n",
        "\n",
        "coherenceHDP3 =coherenceHDP3.get_coherence()\n",
        "print('Coherence Score: ',coherenceHDP3)"
      ],
      "metadata": {
        "colab": {
          "base_uri": "https://localhost:8080/"
        },
        "id": "JrCfYGa2zkBy",
        "outputId": "f22a5639-1022-4c46-c789-0746261ab09e"
      },
      "execution_count": null,
      "outputs": [
        {
          "output_type": "stream",
          "name": "stderr",
          "text": [
            "/usr/local/lib/python3.10/dist-packages/ipykernel/ipkernel.py:283: DeprecationWarning: `should_run_async` will not call `transform_cell` automatically in the future. Please pass the result to `transformed_cell` argument and any exception that happen during thetransform in `preprocessing_exc_tuple` in IPython 7.17 and above.\n",
            "  and should_run_async(code)\n"
          ]
        },
        {
          "output_type": "stream",
          "name": "stdout",
          "text": [
            "Coherence Score:  0.6840048071718182\n"
          ]
        }
      ]
    },
    {
      "cell_type": "markdown",
      "source": [
        "#NMF on Genism:"
      ],
      "metadata": {
        "id": "hCD_i4wF5elR"
      }
    },
    {
      "cell_type": "code",
      "source": [
        "from sklearn.decomposition import NMF\n",
        "\n",
        "# Create TF-IDF representation\n",
        "tfidf_vectorizer33 = TfidfVectorizer(max_df=0.95, min_df=2, stop_words='english')\n",
        "tfidf33 = tfidf_vectorizer33.fit_transform(final_text32)\n",
        "\n",
        "# Apply NMF\n",
        "nmf_model3 = NMF(n_components=10, random_state=1, l1_ratio=.5, init='nndsvd').fit(tfidf33)\n",
        "\n",
        "display_topics(nmf_model3, tfidf_vectorizer33)\n"
      ],
      "metadata": {
        "colab": {
          "base_uri": "https://localhost:8080/",
          "height": 423
        },
        "id": "CBBHWaam5dvL",
        "outputId": "1be42321-8d1b-4028-91a8-2bcb6aab37f3"
      },
      "execution_count": null,
      "outputs": [
        {
          "output_type": "execute_result",
          "data": {
            "text/plain": [
              "       Topic 0      Topic 1     Topic 2    Topic 3     Topic 4        Topic 5  \\\n",
              "0         want    therapist     anxiety    therapy      issues   relationship   \n",
              "1         like         feel  depression     crying  counseling        partner   \n",
              "2         talk  comfortable    symptoms   emotions      trauma      boyfriend   \n",
              "3       things        right      social     normal        help          trust   \n",
              "4         help      therapy       brain      tears     address  relationships   \n",
              "...        ...          ...         ...        ...         ...            ...   \n",
              "6592    lifted       normal        haga      needs       minds      mentioned   \n",
              "6593      lift   normalizar        says      needy    minimize          mente   \n",
              "6594   lifeyou  normalizing     hacerlo       neff  minimizing         mental   \n",
              "6595  lifetime     nosotros       hacen  negativas     minimum   menstruation   \n",
              "6596   abandon      abandon        kick       kick     abandon           kick   \n",
              "\n",
              "          Topic 6   Topic 7       Topic 8   Topic 9  \n",
              "0           child  thoughts        client    people  \n",
              "1        daughter   thought     counselor      life  \n",
              "2         parents  negative       clients      feel  \n",
              "3          parent      self    counseling    person  \n",
              "4        children  thinking      sessions      self  \n",
              "...           ...       ...           ...       ...  \n",
              "6592      frankly    punish    neglecting  pregunto  \n",
              "6593    framework  punished   negotiating      días  \n",
              "6594        frame      feel  neighborhood   premise  \n",
              "6595  predictable   feeding     neighbors  preocupa  \n",
              "6596   obtainable   abandon       abandon      útil  \n",
              "\n",
              "[6597 rows x 10 columns]"
            ],
            "text/html": [
              "\n",
              "  <div id=\"df-8de8f0b5-d706-426a-83c4-72f6696f5ad8\" class=\"colab-df-container\">\n",
              "    <div>\n",
              "<style scoped>\n",
              "    .dataframe tbody tr th:only-of-type {\n",
              "        vertical-align: middle;\n",
              "    }\n",
              "\n",
              "    .dataframe tbody tr th {\n",
              "        vertical-align: top;\n",
              "    }\n",
              "\n",
              "    .dataframe thead th {\n",
              "        text-align: right;\n",
              "    }\n",
              "</style>\n",
              "<table border=\"1\" class=\"dataframe\">\n",
              "  <thead>\n",
              "    <tr style=\"text-align: right;\">\n",
              "      <th></th>\n",
              "      <th>Topic 0</th>\n",
              "      <th>Topic 1</th>\n",
              "      <th>Topic 2</th>\n",
              "      <th>Topic 3</th>\n",
              "      <th>Topic 4</th>\n",
              "      <th>Topic 5</th>\n",
              "      <th>Topic 6</th>\n",
              "      <th>Topic 7</th>\n",
              "      <th>Topic 8</th>\n",
              "      <th>Topic 9</th>\n",
              "    </tr>\n",
              "  </thead>\n",
              "  <tbody>\n",
              "    <tr>\n",
              "      <th>0</th>\n",
              "      <td>want</td>\n",
              "      <td>therapist</td>\n",
              "      <td>anxiety</td>\n",
              "      <td>therapy</td>\n",
              "      <td>issues</td>\n",
              "      <td>relationship</td>\n",
              "      <td>child</td>\n",
              "      <td>thoughts</td>\n",
              "      <td>client</td>\n",
              "      <td>people</td>\n",
              "    </tr>\n",
              "    <tr>\n",
              "      <th>1</th>\n",
              "      <td>like</td>\n",
              "      <td>feel</td>\n",
              "      <td>depression</td>\n",
              "      <td>crying</td>\n",
              "      <td>counseling</td>\n",
              "      <td>partner</td>\n",
              "      <td>daughter</td>\n",
              "      <td>thought</td>\n",
              "      <td>counselor</td>\n",
              "      <td>life</td>\n",
              "    </tr>\n",
              "    <tr>\n",
              "      <th>2</th>\n",
              "      <td>talk</td>\n",
              "      <td>comfortable</td>\n",
              "      <td>symptoms</td>\n",
              "      <td>emotions</td>\n",
              "      <td>trauma</td>\n",
              "      <td>boyfriend</td>\n",
              "      <td>parents</td>\n",
              "      <td>negative</td>\n",
              "      <td>clients</td>\n",
              "      <td>feel</td>\n",
              "    </tr>\n",
              "    <tr>\n",
              "      <th>3</th>\n",
              "      <td>things</td>\n",
              "      <td>right</td>\n",
              "      <td>social</td>\n",
              "      <td>normal</td>\n",
              "      <td>help</td>\n",
              "      <td>trust</td>\n",
              "      <td>parent</td>\n",
              "      <td>self</td>\n",
              "      <td>counseling</td>\n",
              "      <td>person</td>\n",
              "    </tr>\n",
              "    <tr>\n",
              "      <th>4</th>\n",
              "      <td>help</td>\n",
              "      <td>therapy</td>\n",
              "      <td>brain</td>\n",
              "      <td>tears</td>\n",
              "      <td>address</td>\n",
              "      <td>relationships</td>\n",
              "      <td>children</td>\n",
              "      <td>thinking</td>\n",
              "      <td>sessions</td>\n",
              "      <td>self</td>\n",
              "    </tr>\n",
              "    <tr>\n",
              "      <th>...</th>\n",
              "      <td>...</td>\n",
              "      <td>...</td>\n",
              "      <td>...</td>\n",
              "      <td>...</td>\n",
              "      <td>...</td>\n",
              "      <td>...</td>\n",
              "      <td>...</td>\n",
              "      <td>...</td>\n",
              "      <td>...</td>\n",
              "      <td>...</td>\n",
              "    </tr>\n",
              "    <tr>\n",
              "      <th>6592</th>\n",
              "      <td>lifted</td>\n",
              "      <td>normal</td>\n",
              "      <td>haga</td>\n",
              "      <td>needs</td>\n",
              "      <td>minds</td>\n",
              "      <td>mentioned</td>\n",
              "      <td>frankly</td>\n",
              "      <td>punish</td>\n",
              "      <td>neglecting</td>\n",
              "      <td>pregunto</td>\n",
              "    </tr>\n",
              "    <tr>\n",
              "      <th>6593</th>\n",
              "      <td>lift</td>\n",
              "      <td>normalizar</td>\n",
              "      <td>says</td>\n",
              "      <td>needy</td>\n",
              "      <td>minimize</td>\n",
              "      <td>mente</td>\n",
              "      <td>framework</td>\n",
              "      <td>punished</td>\n",
              "      <td>negotiating</td>\n",
              "      <td>días</td>\n",
              "    </tr>\n",
              "    <tr>\n",
              "      <th>6594</th>\n",
              "      <td>lifeyou</td>\n",
              "      <td>normalizing</td>\n",
              "      <td>hacerlo</td>\n",
              "      <td>neff</td>\n",
              "      <td>minimizing</td>\n",
              "      <td>mental</td>\n",
              "      <td>frame</td>\n",
              "      <td>feel</td>\n",
              "      <td>neighborhood</td>\n",
              "      <td>premise</td>\n",
              "    </tr>\n",
              "    <tr>\n",
              "      <th>6595</th>\n",
              "      <td>lifetime</td>\n",
              "      <td>nosotros</td>\n",
              "      <td>hacen</td>\n",
              "      <td>negativas</td>\n",
              "      <td>minimum</td>\n",
              "      <td>menstruation</td>\n",
              "      <td>predictable</td>\n",
              "      <td>feeding</td>\n",
              "      <td>neighbors</td>\n",
              "      <td>preocupa</td>\n",
              "    </tr>\n",
              "    <tr>\n",
              "      <th>6596</th>\n",
              "      <td>abandon</td>\n",
              "      <td>abandon</td>\n",
              "      <td>kick</td>\n",
              "      <td>kick</td>\n",
              "      <td>abandon</td>\n",
              "      <td>kick</td>\n",
              "      <td>obtainable</td>\n",
              "      <td>abandon</td>\n",
              "      <td>abandon</td>\n",
              "      <td>útil</td>\n",
              "    </tr>\n",
              "  </tbody>\n",
              "</table>\n",
              "<p>6597 rows × 10 columns</p>\n",
              "</div>\n",
              "    <div class=\"colab-df-buttons\">\n",
              "\n",
              "  <div class=\"colab-df-container\">\n",
              "    <button class=\"colab-df-convert\" onclick=\"convertToInteractive('df-8de8f0b5-d706-426a-83c4-72f6696f5ad8')\"\n",
              "            title=\"Convert this dataframe to an interactive table.\"\n",
              "            style=\"display:none;\">\n",
              "\n",
              "  <svg xmlns=\"http://www.w3.org/2000/svg\" height=\"24px\" viewBox=\"0 -960 960 960\">\n",
              "    <path d=\"M120-120v-720h720v720H120Zm60-500h600v-160H180v160Zm220 220h160v-160H400v160Zm0 220h160v-160H400v160ZM180-400h160v-160H180v160Zm440 0h160v-160H620v160ZM180-180h160v-160H180v160Zm440 0h160v-160H620v160Z\"/>\n",
              "  </svg>\n",
              "    </button>\n",
              "\n",
              "  <style>\n",
              "    .colab-df-container {\n",
              "      display:flex;\n",
              "      gap: 12px;\n",
              "    }\n",
              "\n",
              "    .colab-df-convert {\n",
              "      background-color: #E8F0FE;\n",
              "      border: none;\n",
              "      border-radius: 50%;\n",
              "      cursor: pointer;\n",
              "      display: none;\n",
              "      fill: #1967D2;\n",
              "      height: 32px;\n",
              "      padding: 0 0 0 0;\n",
              "      width: 32px;\n",
              "    }\n",
              "\n",
              "    .colab-df-convert:hover {\n",
              "      background-color: #E2EBFA;\n",
              "      box-shadow: 0px 1px 2px rgba(60, 64, 67, 0.3), 0px 1px 3px 1px rgba(60, 64, 67, 0.15);\n",
              "      fill: #174EA6;\n",
              "    }\n",
              "\n",
              "    .colab-df-buttons div {\n",
              "      margin-bottom: 4px;\n",
              "    }\n",
              "\n",
              "    [theme=dark] .colab-df-convert {\n",
              "      background-color: #3B4455;\n",
              "      fill: #D2E3FC;\n",
              "    }\n",
              "\n",
              "    [theme=dark] .colab-df-convert:hover {\n",
              "      background-color: #434B5C;\n",
              "      box-shadow: 0px 1px 3px 1px rgba(0, 0, 0, 0.15);\n",
              "      filter: drop-shadow(0px 1px 2px rgba(0, 0, 0, 0.3));\n",
              "      fill: #FFFFFF;\n",
              "    }\n",
              "  </style>\n",
              "\n",
              "    <script>\n",
              "      const buttonEl =\n",
              "        document.querySelector('#df-8de8f0b5-d706-426a-83c4-72f6696f5ad8 button.colab-df-convert');\n",
              "      buttonEl.style.display =\n",
              "        google.colab.kernel.accessAllowed ? 'block' : 'none';\n",
              "\n",
              "      async function convertToInteractive(key) {\n",
              "        const element = document.querySelector('#df-8de8f0b5-d706-426a-83c4-72f6696f5ad8');\n",
              "        const dataTable =\n",
              "          await google.colab.kernel.invokeFunction('convertToInteractive',\n",
              "                                                    [key], {});\n",
              "        if (!dataTable) return;\n",
              "\n",
              "        const docLinkHtml = 'Like what you see? Visit the ' +\n",
              "          '<a target=\"_blank\" href=https://colab.research.google.com/notebooks/data_table.ipynb>data table notebook</a>'\n",
              "          + ' to learn more about interactive tables.';\n",
              "        element.innerHTML = '';\n",
              "        dataTable['output_type'] = 'display_data';\n",
              "        await google.colab.output.renderOutput(dataTable, element);\n",
              "        const docLink = document.createElement('div');\n",
              "        docLink.innerHTML = docLinkHtml;\n",
              "        element.appendChild(docLink);\n",
              "      }\n",
              "    </script>\n",
              "  </div>\n",
              "\n",
              "\n",
              "<div id=\"df-e7ce58bd-3d51-4dba-bed3-75e4a656bc4c\">\n",
              "  <button class=\"colab-df-quickchart\" onclick=\"quickchart('df-e7ce58bd-3d51-4dba-bed3-75e4a656bc4c')\"\n",
              "            title=\"Suggest charts\"\n",
              "            style=\"display:none;\">\n",
              "\n",
              "<svg xmlns=\"http://www.w3.org/2000/svg\" height=\"24px\"viewBox=\"0 0 24 24\"\n",
              "     width=\"24px\">\n",
              "    <g>\n",
              "        <path d=\"M19 3H5c-1.1 0-2 .9-2 2v14c0 1.1.9 2 2 2h14c1.1 0 2-.9 2-2V5c0-1.1-.9-2-2-2zM9 17H7v-7h2v7zm4 0h-2V7h2v10zm4 0h-2v-4h2v4z\"/>\n",
              "    </g>\n",
              "</svg>\n",
              "  </button>\n",
              "\n",
              "<style>\n",
              "  .colab-df-quickchart {\n",
              "      --bg-color: #E8F0FE;\n",
              "      --fill-color: #1967D2;\n",
              "      --hover-bg-color: #E2EBFA;\n",
              "      --hover-fill-color: #174EA6;\n",
              "      --disabled-fill-color: #AAA;\n",
              "      --disabled-bg-color: #DDD;\n",
              "  }\n",
              "\n",
              "  [theme=dark] .colab-df-quickchart {\n",
              "      --bg-color: #3B4455;\n",
              "      --fill-color: #D2E3FC;\n",
              "      --hover-bg-color: #434B5C;\n",
              "      --hover-fill-color: #FFFFFF;\n",
              "      --disabled-bg-color: #3B4455;\n",
              "      --disabled-fill-color: #666;\n",
              "  }\n",
              "\n",
              "  .colab-df-quickchart {\n",
              "    background-color: var(--bg-color);\n",
              "    border: none;\n",
              "    border-radius: 50%;\n",
              "    cursor: pointer;\n",
              "    display: none;\n",
              "    fill: var(--fill-color);\n",
              "    height: 32px;\n",
              "    padding: 0;\n",
              "    width: 32px;\n",
              "  }\n",
              "\n",
              "  .colab-df-quickchart:hover {\n",
              "    background-color: var(--hover-bg-color);\n",
              "    box-shadow: 0 1px 2px rgba(60, 64, 67, 0.3), 0 1px 3px 1px rgba(60, 64, 67, 0.15);\n",
              "    fill: var(--button-hover-fill-color);\n",
              "  }\n",
              "\n",
              "  .colab-df-quickchart-complete:disabled,\n",
              "  .colab-df-quickchart-complete:disabled:hover {\n",
              "    background-color: var(--disabled-bg-color);\n",
              "    fill: var(--disabled-fill-color);\n",
              "    box-shadow: none;\n",
              "  }\n",
              "\n",
              "  .colab-df-spinner {\n",
              "    border: 2px solid var(--fill-color);\n",
              "    border-color: transparent;\n",
              "    border-bottom-color: var(--fill-color);\n",
              "    animation:\n",
              "      spin 1s steps(1) infinite;\n",
              "  }\n",
              "\n",
              "  @keyframes spin {\n",
              "    0% {\n",
              "      border-color: transparent;\n",
              "      border-bottom-color: var(--fill-color);\n",
              "      border-left-color: var(--fill-color);\n",
              "    }\n",
              "    20% {\n",
              "      border-color: transparent;\n",
              "      border-left-color: var(--fill-color);\n",
              "      border-top-color: var(--fill-color);\n",
              "    }\n",
              "    30% {\n",
              "      border-color: transparent;\n",
              "      border-left-color: var(--fill-color);\n",
              "      border-top-color: var(--fill-color);\n",
              "      border-right-color: var(--fill-color);\n",
              "    }\n",
              "    40% {\n",
              "      border-color: transparent;\n",
              "      border-right-color: var(--fill-color);\n",
              "      border-top-color: var(--fill-color);\n",
              "    }\n",
              "    60% {\n",
              "      border-color: transparent;\n",
              "      border-right-color: var(--fill-color);\n",
              "    }\n",
              "    80% {\n",
              "      border-color: transparent;\n",
              "      border-right-color: var(--fill-color);\n",
              "      border-bottom-color: var(--fill-color);\n",
              "    }\n",
              "    90% {\n",
              "      border-color: transparent;\n",
              "      border-bottom-color: var(--fill-color);\n",
              "    }\n",
              "  }\n",
              "</style>\n",
              "\n",
              "  <script>\n",
              "    async function quickchart(key) {\n",
              "      const quickchartButtonEl =\n",
              "        document.querySelector('#' + key + ' button');\n",
              "      quickchartButtonEl.disabled = true;  // To prevent multiple clicks.\n",
              "      quickchartButtonEl.classList.add('colab-df-spinner');\n",
              "      try {\n",
              "        const charts = await google.colab.kernel.invokeFunction(\n",
              "            'suggestCharts', [key], {});\n",
              "      } catch (error) {\n",
              "        console.error('Error during call to suggestCharts:', error);\n",
              "      }\n",
              "      quickchartButtonEl.classList.remove('colab-df-spinner');\n",
              "      quickchartButtonEl.classList.add('colab-df-quickchart-complete');\n",
              "    }\n",
              "    (() => {\n",
              "      let quickchartButtonEl =\n",
              "        document.querySelector('#df-e7ce58bd-3d51-4dba-bed3-75e4a656bc4c button');\n",
              "      quickchartButtonEl.style.display =\n",
              "        google.colab.kernel.accessAllowed ? 'block' : 'none';\n",
              "    })();\n",
              "  </script>\n",
              "</div>\n",
              "\n",
              "    </div>\n",
              "  </div>\n"
            ],
            "application/vnd.google.colaboratory.intrinsic+json": {
              "type": "dataframe",
              "summary": "{\n  \"name\": \"display_topics(nmf_model3, tfidf_vectorizer33)\",\n  \"rows\": 6597,\n  \"fields\": [\n    {\n      \"column\": \"Topic 0\",\n      \"properties\": {\n        \"dtype\": \"string\",\n        \"num_unique_values\": 6597,\n        \"samples\": [\n          \"truthful\",\n          \"inexpensive\",\n          \"died\"\n        ],\n        \"semantic_type\": \"\",\n        \"description\": \"\"\n      }\n    },\n    {\n      \"column\": \"Topic 1\",\n      \"properties\": {\n        \"dtype\": \"string\",\n        \"num_unique_values\": 6597,\n        \"samples\": [\n          \"llama\",\n          \"indicating\",\n          \"anonymous\"\n        ],\n        \"semantic_type\": \"\",\n        \"description\": \"\"\n      }\n    },\n    {\n      \"column\": \"Topic 2\",\n      \"properties\": {\n        \"dtype\": \"string\",\n        \"num_unique_values\": 6597,\n        \"samples\": [\n          \"rejected\",\n          \"force\",\n          \"probono\"\n        ],\n        \"semantic_type\": \"\",\n        \"description\": \"\"\n      }\n    },\n    {\n      \"column\": \"Topic 3\",\n      \"properties\": {\n        \"dtype\": \"string\",\n        \"num_unique_values\": 6597,\n        \"samples\": [\n          \"buried\",\n          \"inappropriate\",\n          \"preocupa\"\n        ],\n        \"semantic_type\": \"\",\n        \"description\": \"\"\n      }\n    },\n    {\n      \"column\": \"Topic 4\",\n      \"properties\": {\n        \"dtype\": \"string\",\n        \"num_unique_values\": 6597,\n        \"samples\": [\n          \"superar\",\n          \"flooding\",\n          \"cloud\"\n        ],\n        \"semantic_type\": \"\",\n        \"description\": \"\"\n      }\n    },\n    {\n      \"column\": \"Topic 5\",\n      \"properties\": {\n        \"dtype\": \"string\",\n        \"num_unique_values\": 6597,\n        \"samples\": [\n          \"assess\",\n          \"frequently\",\n          \"constantly\"\n        ],\n        \"semantic_type\": \"\",\n        \"description\": \"\"\n      }\n    },\n    {\n      \"column\": \"Topic 6\",\n      \"properties\": {\n        \"dtype\": \"string\",\n        \"num_unique_values\": 6597,\n        \"samples\": [\n          \"peacefully\",\n          \"eternity\",\n          \"kolk\"\n        ],\n        \"semantic_type\": \"\",\n        \"description\": \"\"\n      }\n    },\n    {\n      \"column\": \"Topic 7\",\n      \"properties\": {\n        \"dtype\": \"string\",\n        \"num_unique_values\": 6597,\n        \"samples\": [\n          \"contemplating\",\n          \"resentful\",\n          \"constant\"\n        ],\n        \"semantic_type\": \"\",\n        \"description\": \"\"\n      }\n    },\n    {\n      \"column\": \"Topic 8\",\n      \"properties\": {\n        \"dtype\": \"string\",\n        \"num_unique_values\": 6597,\n        \"samples\": [\n          \"street\",\n          \"innocent\",\n          \"labeling\"\n        ],\n        \"semantic_type\": \"\",\n        \"description\": \"\"\n      }\n    },\n    {\n      \"column\": \"Topic 9\",\n      \"properties\": {\n        \"dtype\": \"string\",\n        \"num_unique_values\": 6597,\n        \"samples\": [\n          \"unlikely\",\n          \"hesitate\",\n          \"doubts\"\n        ],\n        \"semantic_type\": \"\",\n        \"description\": \"\"\n      }\n    }\n  ]\n}"
            }
          },
          "metadata": {},
          "execution_count": 76
        }
      ]
    },
    {
      "cell_type": "code",
      "source": [
        "import tmtoolkit\n",
        "\n",
        "vocaby = np.array(tfidf_vectorizer33.get_feature_names_out())\n",
        "\n",
        "coherence32 = tmtoolkit.topicmod.evaluate.metric_coherence_gensim(measure='c_v',\n",
        "                        top_n=10,\n",
        "                        topic_word_distrib=nmf_model3.components_,\n",
        "                        dtm=tfidf33,\n",
        "                        vocab=vocaby,\n",
        "                        texts=preprocessed_textG, return_mean=True)\n",
        "print(coherence32)"
      ],
      "metadata": {
        "id": "UOwXnDg6m31S",
        "colab": {
          "base_uri": "https://localhost:8080/"
        },
        "outputId": "04e66238-4c91-48e0-e0e9-5790ca51cf2a"
      },
      "execution_count": null,
      "outputs": [
        {
          "output_type": "stream",
          "name": "stdout",
          "text": [
            "0.5989728251343625\n"
          ]
        }
      ]
    },
    {
      "cell_type": "code",
      "source": [],
      "metadata": {
        "id": "wL_goE_EnlVR"
      },
      "execution_count": null,
      "outputs": []
    },
    {
      "cell_type": "markdown",
      "source": [
        "#Bertopic :"
      ],
      "metadata": {
        "id": "wtedmD962Ke0"
      }
    },
    {
      "cell_type": "code",
      "source": [
        "!pip install bertopic\n",
        "!pip install umap-learn"
      ],
      "metadata": {
        "colab": {
          "base_uri": "https://localhost:8080/"
        },
        "id": "d8duW5v40H5J",
        "outputId": "b3f346e6-06ab-4bda-daa1-034947c58e61"
      },
      "execution_count": null,
      "outputs": [
        {
          "output_type": "stream",
          "name": "stdout",
          "text": [
            "Requirement already satisfied: bertopic in /usr/local/lib/python3.10/dist-packages (0.16.1)\n",
            "Requirement already satisfied: numpy>=1.20.0 in /usr/local/lib/python3.10/dist-packages (from bertopic) (1.25.2)\n",
            "Requirement already satisfied: hdbscan>=0.8.29 in /usr/local/lib/python3.10/dist-packages (from bertopic) (0.8.33)\n",
            "Requirement already satisfied: umap-learn>=0.5.0 in /usr/local/lib/python3.10/dist-packages (from bertopic) (0.5.6)\n",
            "Requirement already satisfied: pandas>=1.1.5 in /usr/local/lib/python3.10/dist-packages (from bertopic) (2.0.3)\n",
            "Requirement already satisfied: scikit-learn>=0.22.2.post1 in /usr/local/lib/python3.10/dist-packages (from bertopic) (1.2.2)\n",
            "Requirement already satisfied: tqdm>=4.41.1 in /usr/local/lib/python3.10/dist-packages (from bertopic) (4.66.2)\n",
            "Requirement already satisfied: sentence-transformers>=0.4.1 in /usr/local/lib/python3.10/dist-packages (from bertopic) (2.7.0)\n",
            "Requirement already satisfied: plotly>=4.7.0 in /usr/local/lib/python3.10/dist-packages (from bertopic) (5.15.0)\n",
            "Requirement already satisfied: cython<3,>=0.27 in /usr/local/lib/python3.10/dist-packages (from hdbscan>=0.8.29->bertopic) (0.29.37)\n",
            "Requirement already satisfied: scipy>=1.0 in /usr/local/lib/python3.10/dist-packages (from hdbscan>=0.8.29->bertopic) (1.11.4)\n",
            "Requirement already satisfied: joblib>=1.0 in /usr/local/lib/python3.10/dist-packages (from hdbscan>=0.8.29->bertopic) (1.1.0)\n",
            "Requirement already satisfied: python-dateutil>=2.8.2 in /usr/local/lib/python3.10/dist-packages (from pandas>=1.1.5->bertopic) (2.8.2)\n",
            "Requirement already satisfied: pytz>=2020.1 in /usr/local/lib/python3.10/dist-packages (from pandas>=1.1.5->bertopic) (2023.4)\n",
            "Requirement already satisfied: tzdata>=2022.1 in /usr/local/lib/python3.10/dist-packages (from pandas>=1.1.5->bertopic) (2024.1)\n",
            "Requirement already satisfied: tenacity>=6.2.0 in /usr/local/lib/python3.10/dist-packages (from plotly>=4.7.0->bertopic) (8.2.3)\n",
            "Requirement already satisfied: packaging in /usr/local/lib/python3.10/dist-packages (from plotly>=4.7.0->bertopic) (24.0)\n",
            "Collecting joblib>=1.0 (from hdbscan>=0.8.29->bertopic)\n",
            "  Using cached joblib-1.4.0-py3-none-any.whl (301 kB)\n",
            "Requirement already satisfied: threadpoolctl>=2.0.0 in /usr/local/lib/python3.10/dist-packages (from scikit-learn>=0.22.2.post1->bertopic) (3.4.0)\n",
            "Requirement already satisfied: transformers<5.0.0,>=4.34.0 in /usr/local/lib/python3.10/dist-packages (from sentence-transformers>=0.4.1->bertopic) (4.40.0)\n",
            "Requirement already satisfied: torch>=1.11.0 in /usr/local/lib/python3.10/dist-packages (from sentence-transformers>=0.4.1->bertopic) (2.2.1+cu121)\n",
            "Requirement already satisfied: huggingface-hub>=0.15.1 in /usr/local/lib/python3.10/dist-packages (from sentence-transformers>=0.4.1->bertopic) (0.22.2)\n",
            "Requirement already satisfied: Pillow in /usr/local/lib/python3.10/dist-packages (from sentence-transformers>=0.4.1->bertopic) (9.4.0)\n",
            "Requirement already satisfied: numba>=0.51.2 in /usr/local/lib/python3.10/dist-packages (from umap-learn>=0.5.0->bertopic) (0.58.1)\n",
            "Requirement already satisfied: pynndescent>=0.5 in /usr/local/lib/python3.10/dist-packages (from umap-learn>=0.5.0->bertopic) (0.5.12)\n",
            "Requirement already satisfied: filelock in /usr/local/lib/python3.10/dist-packages (from huggingface-hub>=0.15.1->sentence-transformers>=0.4.1->bertopic) (3.13.4)\n",
            "Requirement already satisfied: fsspec>=2023.5.0 in /usr/local/lib/python3.10/dist-packages (from huggingface-hub>=0.15.1->sentence-transformers>=0.4.1->bertopic) (2023.6.0)\n",
            "Requirement already satisfied: pyyaml>=5.1 in /usr/local/lib/python3.10/dist-packages (from huggingface-hub>=0.15.1->sentence-transformers>=0.4.1->bertopic) (6.0.1)\n",
            "Requirement already satisfied: requests in /usr/local/lib/python3.10/dist-packages (from huggingface-hub>=0.15.1->sentence-transformers>=0.4.1->bertopic) (2.31.0)\n",
            "Requirement already satisfied: typing-extensions>=3.7.4.3 in /usr/local/lib/python3.10/dist-packages (from huggingface-hub>=0.15.1->sentence-transformers>=0.4.1->bertopic) (4.11.0)\n",
            "Requirement already satisfied: llvmlite<0.42,>=0.41.0dev0 in /usr/local/lib/python3.10/dist-packages (from numba>=0.51.2->umap-learn>=0.5.0->bertopic) (0.41.1)\n",
            "Requirement already satisfied: six>=1.5 in /usr/local/lib/python3.10/dist-packages (from python-dateutil>=2.8.2->pandas>=1.1.5->bertopic) (1.16.0)\n",
            "Requirement already satisfied: sympy in /usr/local/lib/python3.10/dist-packages (from torch>=1.11.0->sentence-transformers>=0.4.1->bertopic) (1.12)\n",
            "Requirement already satisfied: networkx in /usr/local/lib/python3.10/dist-packages (from torch>=1.11.0->sentence-transformers>=0.4.1->bertopic) (3.3)\n",
            "Requirement already satisfied: jinja2 in /usr/local/lib/python3.10/dist-packages (from torch>=1.11.0->sentence-transformers>=0.4.1->bertopic) (3.1.3)\n",
            "Requirement already satisfied: nvidia-cuda-nvrtc-cu12==12.1.105 in /usr/local/lib/python3.10/dist-packages (from torch>=1.11.0->sentence-transformers>=0.4.1->bertopic) (12.1.105)\n",
            "Requirement already satisfied: nvidia-cuda-runtime-cu12==12.1.105 in /usr/local/lib/python3.10/dist-packages (from torch>=1.11.0->sentence-transformers>=0.4.1->bertopic) (12.1.105)\n",
            "Requirement already satisfied: nvidia-cuda-cupti-cu12==12.1.105 in /usr/local/lib/python3.10/dist-packages (from torch>=1.11.0->sentence-transformers>=0.4.1->bertopic) (12.1.105)\n",
            "Requirement already satisfied: nvidia-cudnn-cu12==8.9.2.26 in /usr/local/lib/python3.10/dist-packages (from torch>=1.11.0->sentence-transformers>=0.4.1->bertopic) (8.9.2.26)\n",
            "Requirement already satisfied: nvidia-cublas-cu12==12.1.3.1 in /usr/local/lib/python3.10/dist-packages (from torch>=1.11.0->sentence-transformers>=0.4.1->bertopic) (12.1.3.1)\n",
            "Requirement already satisfied: nvidia-cufft-cu12==11.0.2.54 in /usr/local/lib/python3.10/dist-packages (from torch>=1.11.0->sentence-transformers>=0.4.1->bertopic) (11.0.2.54)\n",
            "Requirement already satisfied: nvidia-curand-cu12==10.3.2.106 in /usr/local/lib/python3.10/dist-packages (from torch>=1.11.0->sentence-transformers>=0.4.1->bertopic) (10.3.2.106)\n",
            "Requirement already satisfied: nvidia-cusolver-cu12==11.4.5.107 in /usr/local/lib/python3.10/dist-packages (from torch>=1.11.0->sentence-transformers>=0.4.1->bertopic) (11.4.5.107)\n",
            "Requirement already satisfied: nvidia-cusparse-cu12==12.1.0.106 in /usr/local/lib/python3.10/dist-packages (from torch>=1.11.0->sentence-transformers>=0.4.1->bertopic) (12.1.0.106)\n",
            "Requirement already satisfied: nvidia-nccl-cu12==2.19.3 in /usr/local/lib/python3.10/dist-packages (from torch>=1.11.0->sentence-transformers>=0.4.1->bertopic) (2.19.3)\n",
            "Requirement already satisfied: nvidia-nvtx-cu12==12.1.105 in /usr/local/lib/python3.10/dist-packages (from torch>=1.11.0->sentence-transformers>=0.4.1->bertopic) (12.1.105)\n",
            "Requirement already satisfied: triton==2.2.0 in /usr/local/lib/python3.10/dist-packages (from torch>=1.11.0->sentence-transformers>=0.4.1->bertopic) (2.2.0)\n",
            "Requirement already satisfied: nvidia-nvjitlink-cu12 in /usr/local/lib/python3.10/dist-packages (from nvidia-cusolver-cu12==11.4.5.107->torch>=1.11.0->sentence-transformers>=0.4.1->bertopic) (12.4.127)\n",
            "Requirement already satisfied: regex!=2019.12.17 in /usr/local/lib/python3.10/dist-packages (from transformers<5.0.0,>=4.34.0->sentence-transformers>=0.4.1->bertopic) (2023.12.25)\n",
            "Requirement already satisfied: tokenizers<0.20,>=0.19 in /usr/local/lib/python3.10/dist-packages (from transformers<5.0.0,>=4.34.0->sentence-transformers>=0.4.1->bertopic) (0.19.1)\n",
            "Requirement already satisfied: safetensors>=0.4.1 in /usr/local/lib/python3.10/dist-packages (from transformers<5.0.0,>=4.34.0->sentence-transformers>=0.4.1->bertopic) (0.4.3)\n",
            "Requirement already satisfied: MarkupSafe>=2.0 in /usr/local/lib/python3.10/dist-packages (from jinja2->torch>=1.11.0->sentence-transformers>=0.4.1->bertopic) (2.1.5)\n",
            "Requirement already satisfied: charset-normalizer<4,>=2 in /usr/local/lib/python3.10/dist-packages (from requests->huggingface-hub>=0.15.1->sentence-transformers>=0.4.1->bertopic) (3.3.2)\n",
            "Requirement already satisfied: idna<4,>=2.5 in /usr/local/lib/python3.10/dist-packages (from requests->huggingface-hub>=0.15.1->sentence-transformers>=0.4.1->bertopic) (3.7)\n",
            "Requirement already satisfied: urllib3<3,>=1.21.1 in /usr/local/lib/python3.10/dist-packages (from requests->huggingface-hub>=0.15.1->sentence-transformers>=0.4.1->bertopic) (2.0.7)\n",
            "Requirement already satisfied: certifi>=2017.4.17 in /usr/local/lib/python3.10/dist-packages (from requests->huggingface-hub>=0.15.1->sentence-transformers>=0.4.1->bertopic) (2024.2.2)\n",
            "Requirement already satisfied: mpmath>=0.19 in /usr/local/lib/python3.10/dist-packages (from sympy->torch>=1.11.0->sentence-transformers>=0.4.1->bertopic) (1.3.0)\n",
            "Installing collected packages: joblib\n",
            "  Attempting uninstall: joblib\n",
            "    Found existing installation: joblib 1.1.0\n",
            "    Uninstalling joblib-1.1.0:\n",
            "      Successfully uninstalled joblib-1.1.0\n",
            "Successfully installed joblib-1.4.0\n",
            "Requirement already satisfied: umap-learn in /usr/local/lib/python3.10/dist-packages (0.5.6)\n",
            "Requirement already satisfied: numpy>=1.17 in /usr/local/lib/python3.10/dist-packages (from umap-learn) (1.25.2)\n",
            "Requirement already satisfied: scipy>=1.3.1 in /usr/local/lib/python3.10/dist-packages (from umap-learn) (1.11.4)\n",
            "Requirement already satisfied: scikit-learn>=0.22 in /usr/local/lib/python3.10/dist-packages (from umap-learn) (1.2.2)\n",
            "Requirement already satisfied: numba>=0.51.2 in /usr/local/lib/python3.10/dist-packages (from umap-learn) (0.58.1)\n",
            "Requirement already satisfied: pynndescent>=0.5 in /usr/local/lib/python3.10/dist-packages (from umap-learn) (0.5.12)\n",
            "Requirement already satisfied: tqdm in /usr/local/lib/python3.10/dist-packages (from umap-learn) (4.66.2)\n",
            "Requirement already satisfied: llvmlite<0.42,>=0.41.0dev0 in /usr/local/lib/python3.10/dist-packages (from numba>=0.51.2->umap-learn) (0.41.1)\n",
            "Requirement already satisfied: joblib>=0.11 in /usr/local/lib/python3.10/dist-packages (from pynndescent>=0.5->umap-learn) (1.4.0)\n",
            "Requirement already satisfied: threadpoolctl>=2.0.0 in /usr/local/lib/python3.10/dist-packages (from scikit-learn>=0.22->umap-learn) (3.4.0)\n"
          ]
        }
      ]
    },
    {
      "cell_type": "code",
      "source": [
        "!pip install joblib==1.1.0"
      ],
      "metadata": {
        "colab": {
          "base_uri": "https://localhost:8080/"
        },
        "id": "7o3mHKrDjj3K",
        "outputId": "fc06da56-879b-4bcf-d528-ae364c89b40f"
      },
      "execution_count": null,
      "outputs": [
        {
          "output_type": "stream",
          "name": "stdout",
          "text": [
            "Collecting joblib==1.1.0\n",
            "  Using cached joblib-1.1.0-py2.py3-none-any.whl (306 kB)\n",
            "Installing collected packages: joblib\n",
            "  Attempting uninstall: joblib\n",
            "    Found existing installation: joblib 1.4.0\n",
            "    Uninstalling joblib-1.4.0:\n",
            "      Successfully uninstalled joblib-1.4.0\n",
            "\u001b[31mERROR: pip's dependency resolver does not currently take into account all the packages that are installed. This behaviour is the source of the following dependency conflicts.\n",
            "imbalanced-learn 0.10.1 requires joblib>=1.1.1, but you have joblib 1.1.0 which is incompatible.\n",
            "scikit-learn 1.2.2 requires joblib>=1.1.1, but you have joblib 1.1.0 which is incompatible.\u001b[0m\u001b[31m\n",
            "\u001b[0mSuccessfully installed joblib-1.1.0\n"
          ]
        }
      ]
    },
    {
      "cell_type": "markdown",
      "source": [
        "We will build the topic model using BERTopic.\n",
        "\n",
        "BERTopic model by default produces different results each time because of the stochasticity inherited from UMAP.\n",
        "\n",
        "To get reproducible topics, we need to pass a value to the `random_state` parameter in the `UMAP` method.\n",
        "* `n_neighbors=15` means that the local neighborhood size for UMAP is 15. This is the parameter that controls the local versus global structure in data.\n",
        " * A low value forces UMAP to focus more on local structure, and may lose insights into the big picture.\n",
        " * A high value pushes UMAP to look at broader neighborhood, and may lose details on local structure.\n",
        " * The default `n_neighbors` values for UMAP is 15.\n",
        "* `n_components=5` indicates that the target dimension from UMAP is 5. This is the dimension of data that will be passed into the clustering model.\n",
        "* `min_dist` controls how tightly UMAP is allowed to pack points together. It's the minimum distance between points in the low dimensional space.\n",
        " * Small values of `min_dist` result in clumpier embeddings, which is good for clustering. Since our goal of dimension reduction is to build clustering models, we set `min_dist` to 0.\n",
        " * Large values of `min_dist` prevent UMAP from packing points together and preserves the broad structure of data.\n",
        "* `metric='cosine'` indicates that we will use cosine to measure the distance.\n",
        "* `random_state` sets a random seed to make the UMAP results reproducible.\n",
        "\n",
        "After initiating the UMAP model, we pass it to the BERTopic model, set the language to be English, and set the `calculate_probabilities` parameter to `True`.\n",
        "\n",
        "Finally, we pass the processed review documents to the topic model and saved the results for topics and topic probabilities.\n",
        " * The values in `topics` represents the topic each document is assigned to.\n",
        " * The values in `probabilities` represents the probability of a document belongs to each of the topics."
      ],
      "metadata": {
        "id": "man9UBwa2t7D"
      }
    },
    {
      "cell_type": "code",
      "source": [
        "import numpy as np\n",
        "import matplotlib.pyplot as plt\n",
        "import umap\n",
        "import hdbscan\n",
        "from bertopic import BERTopic\n",
        "\n",
        "# Prepare embeddings\n",
        "docs = [...]  # your documents here\n",
        "embeddings = [...]  # your embeddings here\n",
        "\n",
        "# Train BERTopic\n",
        "topic_model = BERTopic().fit(docs, embeddings)\n",
        "\n",
        "# Reduce dimensionality of embeddings\n",
        "umap_model = umap.UMAP(n_neighbors=10, n_components=2, min_dist=0.0, metric='cosine')\n",
        "embeddings_2d = umap_model.fit_transform(embeddings)\n",
        "\n",
        "# Cluster embeddings\n",
        "hdbscan_model = hdbscan.HDBSCAN(min_cluster_size=5)\n",
        "clusters = hdbscan_model.fit_predict(embeddings_2d)\n",
        "\n",
        "# Plot top words for each cluster\n",
        "fig, axes = plt.subplots(1, 2, figsize=(10, 5))\n",
        "for i, ax in enumerate(axes.flatten()):\n",
        "    topic = topic_model.get_topic(i)\n",
        "    top_words = topic.replace(\"[\", \"\").replace(\"]\", \"\").split(\", \")\n",
        "    freq = [int(x.split(\":\")[1]) for x in top_words]\n",
        "    words = [x.split(\":\")[0] for x in top_words]\n",
        "    ax.barh(words, freq)\n",
        "    ax.set_title(f\"Cluster {i}\")\n",
        "plt.tight_layout()\n",
        "plt.show()"
      ],
      "metadata": {
        "id": "OYGFI0P6kjd5",
        "colab": {
          "base_uri": "https://localhost:8080/",
          "height": 438
        },
        "outputId": "ebeca432-621f-4264-c86d-6240b98d0c37"
      },
      "execution_count": null,
      "outputs": [
        {
          "output_type": "stream",
          "name": "stderr",
          "text": [
            "/usr/local/lib/python3.10/dist-packages/ipykernel/ipkernel.py:283: DeprecationWarning: `should_run_async` will not call `transform_cell` automatically in the future. Please pass the result to `transformed_cell` argument and any exception that happen during thetransform in `preprocessing_exc_tuple` in IPython 7.17 and above.\n",
            "  and should_run_async(code)\n"
          ]
        },
        {
          "output_type": "error",
          "ename": "ModuleNotFoundError",
          "evalue": "No module named 'umap'",
          "traceback": [
            "\u001b[0;31m---------------------------------------------------------------------------\u001b[0m",
            "\u001b[0;31mModuleNotFoundError\u001b[0m                       Traceback (most recent call last)",
            "\u001b[0;32m<ipython-input-38-06b1cdccfc8f>\u001b[0m in \u001b[0;36m<cell line: 3>\u001b[0;34m()\u001b[0m\n\u001b[1;32m      1\u001b[0m \u001b[0;32mimport\u001b[0m \u001b[0mnumpy\u001b[0m \u001b[0;32mas\u001b[0m \u001b[0mnp\u001b[0m\u001b[0;34m\u001b[0m\u001b[0;34m\u001b[0m\u001b[0m\n\u001b[1;32m      2\u001b[0m \u001b[0;32mimport\u001b[0m \u001b[0mmatplotlib\u001b[0m\u001b[0;34m.\u001b[0m\u001b[0mpyplot\u001b[0m \u001b[0;32mas\u001b[0m \u001b[0mplt\u001b[0m\u001b[0;34m\u001b[0m\u001b[0;34m\u001b[0m\u001b[0m\n\u001b[0;32m----> 3\u001b[0;31m \u001b[0;32mimport\u001b[0m \u001b[0mumap\u001b[0m\u001b[0;34m\u001b[0m\u001b[0;34m\u001b[0m\u001b[0m\n\u001b[0m\u001b[1;32m      4\u001b[0m \u001b[0;32mimport\u001b[0m \u001b[0mhdbscan\u001b[0m\u001b[0;34m\u001b[0m\u001b[0;34m\u001b[0m\u001b[0m\n\u001b[1;32m      5\u001b[0m \u001b[0;32mfrom\u001b[0m \u001b[0mbertopic\u001b[0m \u001b[0;32mimport\u001b[0m \u001b[0mBERTopic\u001b[0m\u001b[0;34m\u001b[0m\u001b[0;34m\u001b[0m\u001b[0m\n",
            "\u001b[0;31mModuleNotFoundError\u001b[0m: No module named 'umap'",
            "",
            "\u001b[0;31m---------------------------------------------------------------------------\u001b[0;32m\nNOTE: If your import is failing due to a missing package, you can\nmanually install dependencies using either !pip or !apt.\n\nTo view examples of installing some common dependencies, click the\n\"Open Examples\" button below.\n\u001b[0;31m---------------------------------------------------------------------------\u001b[0m\n"
          ],
          "errorDetails": {
            "actions": [
              {
                "action": "open_url",
                "actionText": "Open Examples",
                "url": "/notebooks/snippets/importing_libraries.ipynb"
              }
            ]
          }
        }
      ]
    },
    {
      "cell_type": "code",
      "source": [
        "#extracting topics :\n",
        "topic_model.get_topic_info()"
      ],
      "metadata": {
        "colab": {
          "base_uri": "https://localhost:8080/",
          "height": 158
        },
        "id": "yBRvaCoH2vOi",
        "outputId": "368b9e05-8e2d-4aaa-a4dd-963f71b7a53c"
      },
      "execution_count": null,
      "outputs": [
        {
          "output_type": "error",
          "ename": "NameError",
          "evalue": "name 'topic_model' is not defined",
          "traceback": [
            "\u001b[0;31m---------------------------------------------------------------------------\u001b[0m",
            "\u001b[0;31mNameError\u001b[0m                                 Traceback (most recent call last)",
            "\u001b[0;32m<ipython-input-14-6038aa046cc5>\u001b[0m in \u001b[0;36m<cell line: 2>\u001b[0;34m()\u001b[0m\n\u001b[1;32m      1\u001b[0m \u001b[0;31m#extracting topics :\u001b[0m\u001b[0;34m\u001b[0m\u001b[0;34m\u001b[0m\u001b[0m\n\u001b[0;32m----> 2\u001b[0;31m \u001b[0mtopic_model\u001b[0m\u001b[0;34m.\u001b[0m\u001b[0mget_topic_info\u001b[0m\u001b[0;34m(\u001b[0m\u001b[0;34m)\u001b[0m\u001b[0;34m\u001b[0m\u001b[0;34m\u001b[0m\u001b[0m\n\u001b[0m",
            "\u001b[0;31mNameError\u001b[0m: name 'topic_model' is not defined"
          ]
        }
      ]
    },
    {
      "cell_type": "code",
      "source": [
        "# to viusualize topics:\n",
        "topic_model.visualize_barchart(top_n_topics=12)"
      ],
      "metadata": {
        "id": "ySYv9Il73ldf"
      },
      "execution_count": null,
      "outputs": []
    },
    {
      "cell_type": "code",
      "source": [
        "# Visualize intertopic distance\n",
        "topic_model.visualize_topics()"
      ],
      "metadata": {
        "id": "6hfjAXrt3wKc"
      },
      "execution_count": null,
      "outputs": []
    }
  ]
}